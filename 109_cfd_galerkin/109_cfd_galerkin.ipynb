{
 "cells": [
  {
   "cell_type": "markdown",
   "metadata": {},
   "source": [
    "[![Open In Colab](https://colab.research.google.com/assets/colab-badge.svg)](https://colab.research.google.com/github/juansensio/blog/blob/master/109_cfd_galerkin/109_cfd_galerkin.ipynb)"
   ]
  },
  {
   "cell_type": "markdown",
   "metadata": {},
   "source": [
    "En los posts anteriores hemos visto como podemos resolver ecuaciones diferenciales mediante el método de volúmenes finitos. Estos métodos son potentes y sus propiedades son ideales para resolver el tipo de problemas que nos interesan, sin embargo son métodos de bajo órden lo cual implica errores de aproximación que afectan a nuestra solución (upwind es difusivo, central acumula errores).  Ésto puede aliviarse usando métodos de alto órden, pero su implementación en volúmenes finitos se incrementa (sobretodo en mallas no estructuradas) no siendo del todo útil. Para ello podemos recurrir a otra familia de métodos numéricos que combinan lo bueno de los volúmenes finitos con la posibilidad de representar la solución en cada celda mediante polinomios de alto order: los métodos de Galerkin."
   ]
  },
  {
   "cell_type": "markdown",
   "metadata": {},
   "source": [
    "https://www.youtube.com/watch?v=tK1HbAiCPuw&list=PLc4eVvgECLtptmgobxxXmVikejqPf4f8D"
   ]
  },
  {
   "cell_type": "markdown",
   "metadata": {},
   "source": [
    "## Método de Galerkin Discontinuo"
   ]
  },
  {
   "cell_type": "markdown",
   "metadata": {},
   "source": [
    "$$\n",
    "\\phi_t + f_x(\\phi) = 0\n",
    "$$"
   ]
  },
  {
   "cell_type": "markdown",
   "metadata": {},
   "source": [
    "Vamos a resolver la PDE en su forma débil\n",
    "\n",
    "$$\n",
    "\\int_{\\Omega} \\phi_t q dx + \\int_{\\Omega} f_x(\\phi) q dx = 0\n",
    "$$\n",
    "\n",
    "donde $q$ es una función de prueba (por qué esto funciona?). Para cada celda\n",
    "\n",
    "$$\n",
    "\\int_{x_1}^{x_2} \\phi_t q dx + f(\\phi_2)q_2 - f(\\phi_1)q_1 - \\int_{x_1}^{x_2} f(\\phi) q_x dx = 0\n",
    "$$\n",
    "\n",
    "Tenemos lo mismo que para FVM pero al haber añadido la función de prueba aparece un término extra al integrar el flujo por partes."
   ]
  },
  {
   "cell_type": "markdown",
   "metadata": {},
   "source": [
    "En FVM asumimos valor constante en cada celda, ahora representaremos $\\phi_i$ como un polinomio.\n",
    "\n",
    "$$\n",
    "\\tilde{\\phi}(x) = \\sum_{i=0}^M a_i \\psi_i(x)\n",
    "$$\n",
    "\n",
    "donde $a_i$ son coeficientes y $\\psi(x)$ son las funciones o vectores bases del polinomio. Si $M=0$ tendremos la misma solución que con FVM. A medida que aumentemos $M$ nos acercaremos más a la solución exacta (en toería). Vamos a ver un primer ejemplo con $M=1$ usando dos funciones bases lineales.\n",
    "\n",
    "$$\n",
    "\\tilde{\\phi}(x) = a_0(1-x) + a_1x\n",
    "$$"
   ]
  },
  {
   "cell_type": "code",
   "execution_count": 9,
   "metadata": {},
   "outputs": [
    {
     "data": {
      "text/plain": [
       "array([0., 1.])"
      ]
     },
     "execution_count": 9,
     "metadata": {},
     "output_type": "execute_result"
    }
   ],
   "source": [
    "import numpy as np \n",
    "\n",
    "x = np.linspace(0,1,2)\n",
    "x"
   ]
  },
  {
   "cell_type": "code",
   "execution_count": 10,
   "metadata": {},
   "outputs": [
    {
     "data": {
      "image/png": "[encoded data removed]",
      "text/plain": [
       "<Figure size 432x288 with 1 Axes>"
      ]
     },
     "metadata": {
      "needs_background": "light"
     },
     "output_type": "display_data"
    }
   ],
   "source": [
    "import matplotlib.pyplot as plt\n",
    "\n",
    "p1 = 1 - x \n",
    "p2 = x \n",
    "\n",
    "a0, a1 = 1.2, 2\n",
    "p = a0*p1 + a1*p2\n",
    "\n",
    "plt.plot(x, p1, \"r-\")\n",
    "plt.plot(x, p2, \"g-\")\n",
    "plt.plot(x, p, \"k-\")\n",
    "plt.grid(True)\n",
    "plt.show()"
   ]
  },
  {
   "cell_type": "markdown",
   "metadata": {},
   "source": [
    "Escogiendo $q_j = \\psi_j$ tenemos\n",
    "\n",
    "$$\n",
    "\\int_{x_1}^{x_2} \\tilde{\\phi}_t q_j dx = \\sum_{i=0}^M \\frac{da_i(t)}{dt} \\int_{x_1}^{x_2} \\psi_i(x) q_j(x) dx = M a\n",
    "$$\n",
    "\n",
    "donde $M$ se conoce como la matriz de masa. Para el ejemplo q1e estamos haciendo\n",
    "\n",
    "$$\n",
    "M = \n",
    "\\begin{bmatrix}\n",
    "\\int_{x_1}^{x_2} (1-x) (1-x) dx & \\int_{x_1}^{x_2} (1-x) x dx \\\\\n",
    "\\int_{x_1}^{x_2} x (1-x) dx & \\int_{x_1}^{x_2} x x dx\n",
    "\\end{bmatrix} = \n",
    "\\begin{bmatrix}\n",
    "\\frac{1}{3} (x_2-x_1) & \\frac{1}{6} (x_2-x_1) \\\\\n",
    "\\frac{1}{6} (x_2-x_1) & \\frac{1}{3} (x_2-x_1)\n",
    "\\end{bmatrix}\n",
    "= \n",
    "\\begin{bmatrix}\n",
    "\\frac{1}{3} & \\frac{1}{6} \\\\\n",
    "\\frac{1}{6} & \\frac{1}{3}\n",
    "\\end{bmatrix}\n",
    "$$\n",
    "\n",
    "(generado con copilot (L))\n",
    "\n",
    "Asumiendo que nuestro flujo es $f = u \\phi$ donde $u$ es contante, tenemos\n",
    "\n",
    "$$\n",
    "\\int_{x_1}^{x_2} f(\\phi) q_x dx = \\sum_{i=0}^M u a_i(t) \\int_{x_1}^{x_2} \\phi_i q'_j dx = u K a\n",
    "$$\n",
    "\n",
    "donde $K$ se conoce como la matriz de rigidez. Para el ejemplo que estamos haciendo\n",
    "\n",
    "$$\n",
    "K =\n",
    "\\begin{bmatrix}\n",
    "\\int_{x_1}^{x_2} (1-x) 1 dx & \\int_{x_1}^{x_2} x (-1) dx \\\\\n",
    "\\int_{x_1}^{x_2} (1-x) 1 dx & \\int_{x_1}^{x_2} x (1) dx\n",
    "\\end{bmatrix} =\n",
    "\\begin{bmatrix}\n",
    "- \\frac{1}{2} & -\\frac{1}{2}  \\\\\n",
    "\\frac{1}{2}  & \\frac{1}{2} \n",
    "\\end{bmatrix}\n",
    "$$\n",
    "\n",
    "El último término lo calcularemos usando nuestro esquema numérico favorito, en el caso del upwind asumiendo $u > 0$ tenemos\n",
    "\n",
    "$$\n",
    "f(\\phi_2)q_2 - f(\\phi_1)q_1 = u q_k (x_2) \\phi_j (x_2) - u q_{k-1} (x_2) \\phi_j (x_1) = f\n",
    "$$\n",
    "\n",
    "donde\n",
    "\n",
    "$$\n",
    "f = u \\begin{bmatrix}\n",
    "- q_{k-1} (x_2)  \\\\\n",
    "q_k (x_2) \n",
    "\\end{bmatrix}\n",
    "$$\n",
    "\n",
    "Poniéndolo todo junto\n",
    "\n",
    "$$\n",
    "\\int_{x_1}^{x_2} \\frac{da_i(t)}{dt} =  [u K a - f] M^{-1}\n",
    "$$\n",
    "\n",
    "que podemos integrar para obtener $a(t)$ usando nuestro método favorito (Euler, AB2, RK, ...)"
   ]
  },
  {
   "cell_type": "markdown",
   "metadata": {},
   "source": [
    "Ahora nuestras celdas están definidas por dos puntos, en este caso coincide con las caras."
   ]
  },
  {
   "cell_type": "code",
   "execution_count": 30,
   "metadata": {},
   "outputs": [
    {
     "data": {
      "image/png": "[encoded data removed]",
      "text/plain": [
       "<Figure size 576x144 with 1 Axes>"
      ]
     },
     "metadata": {
      "needs_background": "light"
     },
     "output_type": "display_data"
    }
   ],
   "source": [
    "import numpy as np \n",
    "import matplotlib.pyplot as plt\n",
    "\n",
    "def geom(N, x0=0, x1=1):\n",
    "    f = np.linspace(x0, x1, N+1)\n",
    "    # c = np.array([0.5*(f[i] + f[i+1]) for i in range(N)])\n",
    "    c = [[f[i], f[i+1]] for i in range(N)]\n",
    "    x = [[0, 1] for i in range(N)]\n",
    "    return c, x\n",
    "\n",
    "c, _ = geom(5)\n",
    "\n",
    "plt.figure(figsize=(8, 2))\n",
    "plt.plot([_c[0] for _c in c], [0 for _ in c], 'X', markersize=10)\n",
    "plt.plot([_c[1] for _c in c], [0 for _ in c], 'o')\n",
    "plt.grid(True)\n",
    "plt.show()"
   ]
  },
  {
   "cell_type": "code",
   "execution_count": 34,
   "metadata": {},
   "outputs": [
    {
     "data": {
      "image/png": "[encoded data removed]",
      "text/plain": [
       "<Figure size 432x288 with 1 Axes>"
      ]
     },
     "metadata": {
      "needs_background": "light"
     },
     "output_type": "display_data"
    }
   ],
   "source": [
    "c, x = geom(10)\n",
    "\n",
    "def smooth(c):\n",
    "    a0 = []\n",
    "    for c1, c2 in c:\n",
    "        a0.append([np.sin(2 * np.pi * c1), np.sin(2 * np.pi * c2)])\n",
    "    return np.array(a0)\n",
    "\n",
    "a0 = smooth(c)\n",
    "\n",
    "for (a1,a2), (c1,c2), (x1,x2) in zip(a0, c, x):\n",
    "    plt.plot([c1, c2], [a1*(1-x1)+a2*x1, a1*(1-x2)+a2*x2], 'X-')\n",
    "plt.xlabel('x')\n",
    "plt.ylabel('$\\phi$', rotation=0)\n",
    "plt.grid(True)\n",
    "plt.show()"
   ]
  },
  {
   "cell_type": "code",
   "execution_count": 238,
   "metadata": {},
   "outputs": [
    {
     "data": {
      "image/png": "[encoded data removed]",
      "text/plain": [
       "<Figure size 432x288 with 1 Axes>"
      ]
     },
     "metadata": {
      "needs_background": "light"
     },
     "output_type": "display_data"
    }
   ],
   "source": [
    "# parmámetros\n",
    "c, x = geom(20)\n",
    "u, dt, t, tf = 1, 0.001, 0, 1\n",
    "\n",
    "# condiciones iniciales\n",
    "a0 = smooth(c)\n",
    "R0 = np.zeros_like(a0)\n",
    "\n",
    "# matrices \n",
    "K = np.array([[-0.5, -0.5], [0.5, 0.5]])\n",
    "M = np.array([[1./3, 1./6], [1./6, 1./3]])\n",
    "Minv = np.linalg.inv(M)\n",
    "\n",
    "while t < tf:\n",
    "\t\n",
    "\t# update temporal\n",
    "\tif t + dt > tf:\n",
    "\t\tdt = tf - t\n",
    "\tt = t + dt\n",
    "\t# print(f't = {t:.2f}, dt = {dt:.2f}')\n",
    "\n",
    "\tR = np.zeros_like(a0)\n",
    "\tf = np.zeros_like(a0)\n",
    "\ta = np.zeros_like(a0)\n",
    "\tfor i in range(len(c)):\n",
    "\t\t# upwind\n",
    "\t\tif u > 0:\n",
    "\t\t\tif i == 0:\n",
    "\t\t\t\tq1 = a0[len(c)-1, 1]\n",
    "\t\t\telse:\n",
    "\t\t\t\tq1 = a0[i-1, 1]\n",
    "\t\t\tq2 = a0[i,1]\n",
    "\t\telse:\n",
    "\t\t\tq1 = a0[i,0]\n",
    "\t\t\tif i == len(c)-1:\n",
    "\t\t\t\tq2 = a0[0,0]\n",
    "\t\t\telse:\n",
    "\t\t\t\tq2 = a0[i+1,0]\n",
    "\t\t# central\n",
    "\t\t# qlr = a0[i-1, 1] if i > 0 else a0[len(c)-1, 1]\n",
    "\t\t# qrl = a0[i+1, 0] if i < len(c)-1 else a0[0, 0]\n",
    "\t\t# ql, qr = a0[i, 0], a0[i, 1]\n",
    "\t\t# q1 = 0.5*(qlr+ql)\n",
    "\t\t# q2 = 0.5*(qr+qrl)\n",
    "\t\tf[i] = u * np.array([-q1, q2])\n",
    "\t\tR[i] = np.dot(u * np.dot(K, a0[i]) - f[i], Minv) / (c[i][1] - c[i][0])\n",
    "\t\t# euler\n",
    "\t\ta[i] = a0[i] + dt*R[i]\n",
    "\t\t# abs\n",
    "\t\t# a[i] = a0[i] + 1.5*dt*R[i] - 0.5*dt*R0[i]\n",
    "\ta0 = a.copy()\n",
    "\tR0 = R.copy()\n",
    "\n",
    "a = a0.copy()\n",
    "for (a1,a2), (c1,c2), (x1,x2) in zip(a, c, x):\n",
    "    plt.plot([c1, c2], [a1*(1-x1)+a2*x1, a1*(1-x2)+a2*x2], 'X-')\n",
    "    plt.plot([c1, c2], [np.sin(2.*np.pi*(c1-u*t)), np.sin(2.*np.pi*(c2-u*t))], 'r-')\n",
    "plt.xlabel('x')\n",
    "plt.ylabel('$\\phi$', rotation=0)\n",
    "plt.title(f'L2 = {np.linalg.norm(a-np.sin(2*np.pi*(np.array(c)-u*t))):.4f}')\n",
    "plt.grid(True)\n",
    "plt.show()"
   ]
  },
  {
   "cell_type": "markdown",
   "metadata": {},
   "source": [
    "Observo que el dt tiene que ser mucho más pequeño para que haya convergencia.\n",
    "Luego, upwind y euler funcionan muy bien (no difusión numérica)"
   ]
  },
  {
   "cell_type": "markdown",
   "metadata": {},
   "source": [
    "Este ejemplo ha servido para ilustrar el método, pero podemos ir más allá (nuestra solución es lineal, queremos poder ir a un orden arbitrario). Para ello tenemos que usar otras funciones base: bases de Lagrange\n",
    "\n",
    "$$\n",
    "L_q(x) = \\prod_{p=1,p\\neq q}^{N_p} \\frac{x-x_p}{x_q-x_p}\n",
    "$$\n",
    "\n",
    "Tienen propiedades muy interesantes: vale 0 en todos los puntos de interpolación excepto en el nodo base.\n",
    "\n",
    "$$\n",
    "\\tilde{\\phi}(x) = \\sum_{i=0}^M a_i \\psi_i(x) = \\sum_{i=0}^M \\phi(x_i) L_i(x)\n",
    "$$\n",
    "\n",
    "Los puntos de interpolación que escogeremos serán las raizes de los polinomios de Legendre (permiten integración numérica exacta).\n",
    "\n",
    "![](https://upload.wikimedia.org/wikipedia/commons/thumb/c/c8/Legendrepolynomials6.svg/640px-Legendrepolynomials6.svg.png)"
   ]
  },
  {
   "cell_type": "code",
   "execution_count": 283,
   "metadata": {},
   "outputs": [
    {
     "data": {
      "text/plain": [
       "(array([0.]), array([2.]))"
      ]
     },
     "execution_count": 283,
     "metadata": {},
     "output_type": "execute_result"
    }
   ],
   "source": [
    "from scipy.special import roots_legendre, eval_legendre\n",
    "\n",
    "roots, weights = roots_legendre(1)\n",
    "\n",
    "roots, weights"
   ]
  },
  {
   "cell_type": "code",
   "execution_count": 334,
   "metadata": {},
   "outputs": [
    {
     "data": {
      "image/png": "[encoded data removed]",
      "text/plain": [
       "<Figure size 432x288 with 1 Axes>"
      ]
     },
     "metadata": {
      "needs_background": "light"
     },
     "output_type": "display_data"
    }
   ],
   "source": [
    "x = np.linspace(0,1,100)\n",
    "p0 = lambda x: np.sin(2*np.pi*x)\n",
    "plt.plot(x, [p0(_x) for _x in x])\n",
    "\n",
    "N = 5\n",
    "roots, weights = roots_legendre(N)\n",
    "L = lambda i, x: np.prod([(x-roots[j])/(roots[i]-roots[j]) for j in range(N) if j != i]) \n",
    "p = [np.sum([p0(0.5*(roots[i] + 1))*L(i, _x) for i in range(N)]) for _x in x*2-1]\n",
    "\n",
    "plt.plot(x, p)\n",
    "plt.plot((roots + 1)/2, [p0(r) for r in (roots + 1)/2], 'X')\n",
    "plt.grid(True)\n",
    "plt.show()"
   ]
  },
  {
   "cell_type": "markdown",
   "metadata": {},
   "source": [
    "Podriamos resolver el problema con una sola celda usando un polinomio de alto orden"
   ]
  },
  {
   "cell_type": "markdown",
   "metadata": {},
   "source": [
    "Integración numérica exacta"
   ]
  },
  {
   "cell_type": "code",
   "execution_count": 332,
   "metadata": {},
   "outputs": [
    {
     "data": {
      "text/plain": [
       "-1.3877787807814457e-17"
      ]
     },
     "execution_count": 332,
     "metadata": {},
     "output_type": "execute_result"
    }
   ],
   "source": [
    "x = np.linspace(0,1,100)\n",
    "p0 = lambda x: np.sin(2*np.pi*x)\n",
    "# p0 = lambda x: 1. \n",
    "# p0 = lambda x: x\n",
    "\n",
    "N = 5\n",
    "roots, weights = roots_legendre(N)\n",
    "L = lambda i, x: np.prod([(x-roots[j])/(roots[i]-roots[j]) for j in range(N) if j != i]) \n",
    "p = [np.sum([p0(0.5*(roots[i] + 1))*L(i, _x) for i in range(N)]) for _x in x*2-1]\n",
    "\n",
    "np.sum([p0(0.5*(roots[i] + 1))*weights[i] for i in range(N)]) / 2"
   ]
  },
  {
   "cell_type": "markdown",
   "metadata": {},
   "source": [
    "Discretización\n",
    "\n",
    "$$\n",
    "\\int_{x_1}^{x_2} \\tilde{\\phi}_t q_j dx = \\sum_{i=0}^M \\frac{d\\phi_i(t)}{dt} \\int_{-1}^{1} L_i(x) L_j(x) \\frac{\\Delta x}{2} dx =  \\frac{\\Delta x}{2} \\phi_j' w_j\n",
    "$$\n",
    "\n",
    "La matriz de masa es diagonal (se puede invertir fácilmente).\n",
    "\n",
    "Asumiendo que nuestro flujo es $f = u \\phi$ donde $u$ es contante, tenemos\n",
    "\n",
    "$$\n",
    "\\int_{x_1}^{x_2} f(\\phi) q_x dx = \\sum_{i=0}^M u \\phi_i(t) \\int_{-1}^{1} L_i(x) L'_j(x) dx  = \\sum_{i=0}^M u \\phi_i(t)  w_i L'_j(x_i) = u K \\phi\n",
    "$$\n",
    "\n",
    "$$\n",
    "L'_j(x) = L_j \\sum_{r=0,r\\neq j}^M \\frac{1}{x-x_r}\n",
    "$$\n",
    "\n",
    "A diferencia de antes, no tenemos puntos en las caras en los que evaluar los flujos, por los que tendremos que calcularlos cuando sea preciso.\n",
    "\n",
    "$$\n",
    "f(\\phi_2)q_2 - f(\\phi_1)q_1 = u \\phi_{jk} (x_2) L_{jk} (x_2) - u \\phi_{j,k-1} (x_1) L_{j,k-1} (x_2)  = f\n",
    "$$\n",
    "\n",
    "Todo junto\n",
    "\n",
    "$$\n",
    "\\int_{x_1}^{x_2} \\frac{d\\phi_i(t)}{dt} = \\frac{2}{w_j \\Delta x} [u K \\phi - f] \n",
    "$$"
   ]
  },
  {
   "cell_type": "code",
   "execution_count": 374,
   "metadata": {},
   "outputs": [
    {
     "data": {
      "image/png": "[encoded data removed]",
      "text/plain": [
       "<Figure size 576x144 with 1 Axes>"
      ]
     },
     "metadata": {
      "needs_background": "light"
     },
     "output_type": "display_data"
    }
   ],
   "source": [
    "import numpy as np \n",
    "import matplotlib.pyplot as plt\n",
    "from scipy.special import roots_legendre, eval_legendre\n",
    "\n",
    "def geom(N, M, x0=0, x1=1):\n",
    "    f = np.linspace(x0, x1, N+1)\n",
    "    roots, weights = roots_legendre(M)\n",
    "    c = [[f[i] + (f[i+1]-f[i])*(roots[j]+1)/2 for j in range(M)] for i in range(N)]\n",
    "    return c, f, roots, weights\n",
    "\n",
    "c, f, r, w = geom(3, 5)\n",
    "\n",
    "plt.figure(figsize=(8, 2))\n",
    "for _c in c:\n",
    "    plt.plot(_c, np.zeros_like(_c), 'X')\n",
    "plt.plot(f, np.zeros_like(f), 'ro')\n",
    "plt.grid(True)\n",
    "plt.show()"
   ]
  },
  {
   "cell_type": "code",
   "execution_count": 377,
   "metadata": {},
   "outputs": [
    {
     "data": {
      "image/png": "[encoded data removed]",
      "text/plain": [
       "<Figure size 432x288 with 1 Axes>"
      ]
     },
     "metadata": {
      "needs_background": "light"
     },
     "output_type": "display_data"
    }
   ],
   "source": [
    "c, f, r, w = geom(3, 5)\n",
    "\n",
    "def smooth(c):\n",
    "    p0 = []\n",
    "    for _c in c:\n",
    "        p0.append([np.sin(2 * np.pi * __c) for __c in _c])\n",
    "    return np.array(p0)\n",
    "\n",
    "p0 = smooth(c)\n",
    "\n",
    "for p, _c in zip(p0, c):\n",
    "    plt.plot(_c, p, 'X-')\n",
    "plt.xlabel('x')\n",
    "plt.ylabel('$\\phi$', rotation=0)\n",
    "plt.grid(True)\n",
    "plt.show()"
   ]
  },
  {
   "cell_type": "code",
   "execution_count": 386,
   "metadata": {},
   "outputs": [
    {
     "ename": "ValueError",
     "evalue": "operands could not be broadcast together with shapes (3,) (2,) ",
     "output_type": "error",
     "traceback": [
      "\u001b[0;31m---------------------------------------------------------------------------\u001b[0m",
      "\u001b[0;31mValueError\u001b[0m                                Traceback (most recent call last)",
      "\u001b[1;32m/home/juan/Desktop/blog/109_cfd_galerkin/109_cfd_galerkin.ipynb Cell 25\u001b[0m in \u001b[0;36m<cell line: 18>\u001b[0;34m()\u001b[0m\n\u001b[1;32m     <a href='vscode-notebook-cell://ssh-remote%2Bpykon/home/juan/Desktop/blog/109_cfd_galerkin/109_cfd_galerkin.ipynb#Y156sdnNjb2RlLXJlbW90ZQ%3D%3D?line=42'>43</a>\u001b[0m \u001b[39m# central\u001b[39;00m\n\u001b[1;32m     <a href='vscode-notebook-cell://ssh-remote%2Bpykon/home/juan/Desktop/blog/109_cfd_galerkin/109_cfd_galerkin.ipynb#Y156sdnNjb2RlLXJlbW90ZQ%3D%3D?line=43'>44</a>\u001b[0m \u001b[39m# qlr = a0[i-1, 1] if i > 0 else a0[len(c)-1, 1]\u001b[39;00m\n\u001b[1;32m     <a href='vscode-notebook-cell://ssh-remote%2Bpykon/home/juan/Desktop/blog/109_cfd_galerkin/109_cfd_galerkin.ipynb#Y156sdnNjb2RlLXJlbW90ZQ%3D%3D?line=44'>45</a>\u001b[0m \u001b[39m# qrl = a0[i+1, 0] if i < len(c)-1 else a0[0, 0]\u001b[39;00m\n\u001b[1;32m     <a href='vscode-notebook-cell://ssh-remote%2Bpykon/home/juan/Desktop/blog/109_cfd_galerkin/109_cfd_galerkin.ipynb#Y156sdnNjb2RlLXJlbW90ZQ%3D%3D?line=45'>46</a>\u001b[0m \u001b[39m# ql, qr = a0[i, 0], a0[i, 1]\u001b[39;00m\n\u001b[1;32m     <a href='vscode-notebook-cell://ssh-remote%2Bpykon/home/juan/Desktop/blog/109_cfd_galerkin/109_cfd_galerkin.ipynb#Y156sdnNjb2RlLXJlbW90ZQ%3D%3D?line=46'>47</a>\u001b[0m \u001b[39m# q1 = 0.5*(qlr+ql)\u001b[39;00m\n\u001b[1;32m     <a href='vscode-notebook-cell://ssh-remote%2Bpykon/home/juan/Desktop/blog/109_cfd_galerkin/109_cfd_galerkin.ipynb#Y156sdnNjb2RlLXJlbW90ZQ%3D%3D?line=47'>48</a>\u001b[0m \u001b[39m# q2 = 0.5*(qr+qrl)\u001b[39;00m\n\u001b[1;32m     <a href='vscode-notebook-cell://ssh-remote%2Bpykon/home/juan/Desktop/blog/109_cfd_galerkin/109_cfd_galerkin.ipynb#Y156sdnNjb2RlLXJlbW90ZQ%3D%3D?line=48'>49</a>\u001b[0m f[i] \u001b[39m=\u001b[39m u \u001b[39m*\u001b[39m np\u001b[39m.\u001b[39marray([\u001b[39m-\u001b[39mq1, q2])\n\u001b[0;32m---> <a href='vscode-notebook-cell://ssh-remote%2Bpykon/home/juan/Desktop/blog/109_cfd_galerkin/109_cfd_galerkin.ipynb#Y156sdnNjb2RlLXJlbW90ZQ%3D%3D?line=49'>50</a>\u001b[0m R[i] \u001b[39m=\u001b[39m u \u001b[39m*\u001b[39m (K \u001b[39m@\u001b[39;49m p0[i] \u001b[39m-\u001b[39;49m f[i])\u001b[39m*\u001b[39m\u001b[39m2.\u001b[39m \u001b[39m/\u001b[39m (w\u001b[39m*\u001b[39m(c[i][\u001b[39m1\u001b[39m] \u001b[39m-\u001b[39m c[i][\u001b[39m0\u001b[39m])\u001b[39m*\u001b[39m\u001b[39m*\u001b[39m\u001b[39m2\u001b[39m)\n\u001b[1;32m     <a href='vscode-notebook-cell://ssh-remote%2Bpykon/home/juan/Desktop/blog/109_cfd_galerkin/109_cfd_galerkin.ipynb#Y156sdnNjb2RlLXJlbW90ZQ%3D%3D?line=50'>51</a>\u001b[0m \u001b[39m# euler\u001b[39;00m\n\u001b[1;32m     <a href='vscode-notebook-cell://ssh-remote%2Bpykon/home/juan/Desktop/blog/109_cfd_galerkin/109_cfd_galerkin.ipynb#Y156sdnNjb2RlLXJlbW90ZQ%3D%3D?line=51'>52</a>\u001b[0m p[i] \u001b[39m=\u001b[39m p0[i] \u001b[39m+\u001b[39m dt\u001b[39m*\u001b[39mR[i]\n",
      "\u001b[0;31mValueError\u001b[0m: operands could not be broadcast together with shapes (3,) (2,) "
     ]
    }
   ],
   "source": [
    "# parmámetros\n",
    "N, M = 10, 3\n",
    "c, f, r, w = geom(N, M)\n",
    "u, dt, t, tf = 1, 0.001, 0, 1\n",
    "\n",
    "# condiciones iniciales\n",
    "p0 = smooth(c)\n",
    "R0 = np.zeros_like(p0)\n",
    "\n",
    "# matrices \n",
    "\n",
    "K = np.ones((M, M))\n",
    "\n",
    "L = lambda i, x: np.prod([(x-r[j])/(r[i]-r[j]) for j in range(M) if j != i]) \n",
    "dL = lambda i, x: L(i, x)*np.sum([1/(r[i]-r[j]) for j in range(M) if j != i])\n",
    "# p = [np.sum([p0(0.5*(r[i] + 1))*L(i, _x) for i in range(N)]) for _x in x*2-1]\n",
    "\n",
    "while t < tf:\n",
    "\t\n",
    "\t# update temporal\n",
    "\tif t + dt > tf:\n",
    "\t\tdt = tf - t\n",
    "\tt = t + dt\n",
    "\t# print(f't = {t:.2f}, dt = {dt:.2f}')\n",
    "\n",
    "\tR = np.zeros_like(a0)\n",
    "\tf = np.zeros_like(a0)\n",
    "\tp = np.zeros_like(p0)\n",
    "\tfor i in range(len(c)):\n",
    "\t\t# upwind\n",
    "\t\tif u > 0:\n",
    "\t\t\tif i == 0:\n",
    "\t\t\t\tq1 = np.sum([p0[len(c)-1, j]*L(j, 1) for j in range(M)])\n",
    "\t\t\telse:\n",
    "\t\t\t\tq1 = np.sum([p0[i-1, j]*L(j, 1) for j in range(M)])\n",
    "\t\t\tq2 = np.sum([p0[i, j]*L(j, 1) for j in range(M)])\n",
    "\t\telse:\n",
    "\t\t\tq1 = np.sum([p0[i, j]*L(j, 0) for j in range(M)])\n",
    "\t\t\tif i == len(c)-1:\n",
    "\t\t\t\tq2 = np.sum([p0[0, j]*L(j, 0) for j in range(M)])\n",
    "\t\t\telse:\n",
    "\t\t\t\tq2 = np.sum([p0[i + 1, j]*L(j, 0) for j in range(M)])\n",
    "\t\t# central\n",
    "\t\t# qlr = a0[i-1, 1] if i > 0 else a0[len(c)-1, 1]\n",
    "\t\t# qrl = a0[i+1, 0] if i < len(c)-1 else a0[0, 0]\n",
    "\t\t# ql, qr = a0[i, 0], a0[i, 1]\n",
    "\t\t# q1 = 0.5*(qlr+ql)\n",
    "\t\t# q2 = 0.5*(qr+qrl)\n",
    "\t\tf[i] = u * np.array([-q1, q2])\n",
    "\t\tR[i] = u * (K @ p0[i] - f[i])*2. / (w*(c[i][1] - c[i][0])**2)\n",
    "\t\t# euler\n",
    "\t\tp[i] = p0[i] + dt*R[i]\n",
    "\t\t# abs\n",
    "\t\t# a[i] = a0[i] + 1.5*dt*R[i] - 0.5*dt*R0[i]\n",
    "\tp0 = p.copy()\n",
    "\tR0 = R.copy()\n",
    "\n",
    "\tbreak\n",
    "\n",
    "p = p0.copy()\n",
    "for p, _c in zip(p0, c):\n",
    "    plt.plot(_c, p, 'X-')\n",
    "    plt.plot(_c, np.sin(2.*np.pi*(_c-u*t)), 'r-')\n",
    "plt.xlabel('x')\n",
    "plt.ylabel('$\\phi$', rotation=0)\n",
    "# plt.title(f'L2 = {np.linalg.norm(a-np.sin(2*np.pi*(np.array(c)-u*t))):.4f}')\n",
    "plt.grid(True)\n",
    "plt.show()"
   ]
  },
  {
   "cell_type": "code",
   "execution_count": 385,
   "metadata": {},
   "outputs": [
    {
     "data": {
      "text/plain": [
       "array([0.90884186, 0.90884186, 0.90884186])"
      ]
     },
     "execution_count": 385,
     "metadata": {},
     "output_type": "execute_result"
    }
   ],
   "source": [
    "K @ p0[0]"
   ]
  },
  {
   "cell_type": "code",
   "execution_count": 387,
   "metadata": {},
   "outputs": [
    {
     "data": {
      "text/plain": [
       "array([-0.00200034,  0.58968578])"
      ]
     },
     "execution_count": 387,
     "metadata": {},
     "output_type": "execute_result"
    }
   ],
   "source": [
    "f[0]"
   ]
  },
  {
   "cell_type": "code",
   "execution_count": null,
   "metadata": {},
   "outputs": [],
   "source": []
  }
 ],
 "metadata": {
  "kernelspec": {
   "display_name": "Python 3.8.12 ('base')",
   "language": "python",
   "name": "python3"
  },
  "language_info": {
   "codemirror_mode": {
    "name": "ipython",
    "version": 3
   },
   "file_extension": ".py",
   "mimetype": "text/x-python",
   "name": "python",
   "nbconvert_exporter": "python",
   "pygments_lexer": "ipython3",
   "version": "3.8.12"
  },
  "orig_nbformat": 4,
  "vscode": {
   "interpreter": {
    "hash": "74dbfc52f168b3071122cf9c0781887d6121c12f9c1b29bca56ce221bccb2a07"
   }
  }
 },
 "nbformat": 4,
 "nbformat_minor": 2
}
