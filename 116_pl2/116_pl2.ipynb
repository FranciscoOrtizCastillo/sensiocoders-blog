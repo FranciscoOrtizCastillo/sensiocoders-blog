{
 "cells": [
  {
   "attachments": {},
   "cell_type": "markdown",
   "metadata": {},
   "source": [
    "[![Open In Colab](https://colab.research.google.com/assets/colab-badge.svg)](https://colab.research.google.com/github/juansensio/blog/blob/master/116_pl2/116_pl2.ipynb)"
   ]
  },
  {
   "attachments": {},
   "cell_type": "markdown",
   "metadata": {},
   "source": [
    "# Pytorch Lightning 2.0"
   ]
  },
  {
   "attachments": {},
   "cell_type": "markdown",
   "metadata": {},
   "source": [
    "Con la llegada de `Pytorch 2.0`, de lo cual hablamos en detalle en el post anterior, llega también la versión 2.0 de `Pytorch Lightning`, la librería que simplifica y potencia el entrenamiento de redes neuronales en `Pytorch` (entre otras cualidades). Del mismo modo que hicimos en el post anterior, este servirá como introducción a la librería para aquellos que no esten familiarizados con ella. Por otro lado, si ya la conoces, aprenderás las novedades de la versión 2.0 y repasarás los conceptos básicos."
   ]
  },
  {
   "attachments": {},
   "cell_type": "markdown",
   "metadata": {},
   "source": [
    "## ¿Qué es Pytorch Lightning?"
   ]
  },
  {
   "attachments": {},
   "cell_type": "markdown",
   "metadata": {},
   "source": [
    "`Pytorch Lightning` es un framework de *Deep Learning*, construido por encima de `Pytorch`, que nos hace la vida más fácil a la hora de entrenar redes neuronales. Esto incluye la posibilidad de entrenar en múltiples GPUs e incluso TPUs sin ningun tipo de esfuerzo de implementación por nuestra parte, el uso de *callbacks* para realizar acciones durante el entrenamiento, la integración de *loggers* para el trackeado de experimentos, etc. Y todo ello de manera flexible y reproducible. Si bien `Pytoch Lightning` nació con esta librería, hoy en día forma parte de un ente mayor conocido como [`LightningAI`](https://lightning.ai/) que gestiona además otras librerías, como `Torchmetrics`, y además ofrece soluciones para desplegar modelos y ponerlos en producción.\n",
    "\n",
    "Puedes instalar `Pytorch Lightning` con el siguiente comando:\n",
    "\n",
    "```\n",
    "pip install lightning\n",
    "```"
   ]
  },
  {
   "cell_type": "code",
   "execution_count": 9,
   "metadata": {},
   "outputs": [
    {
     "data": {
      "text/plain": [
       "'2.0.0'"
      ]
     },
     "execution_count": 9,
     "metadata": {},
     "output_type": "execute_result"
    }
   ],
   "source": [
    "import lightning as L \n",
    "\n",
    "L.__version__"
   ]
  },
  {
   "attachments": {},
   "cell_type": "markdown",
   "metadata": {},
   "source": [
    "## Lightning Fabric"
   ]
  },
  {
   "attachments": {},
   "cell_type": "markdown",
   "metadata": {},
   "source": [
    "Una de las nuevas características de la versión 2.0 es la introducción de `Lightning Fabric`, un nuevo concepto que permite la adpoción progresive de `Pytoch Lightning` es nuestro código.\n",
    "\n",
    "![fabric](https://warehouse-camo.ingress.cmh1.psfhosted.org/00031ab751d5ceb361be2b79f0549c6286f2eebc/68747470733a2f2f706c2d7075626c69632d646174612e73332e616d617a6f6e6177732e636f6d2f6173736574735f6c696768746e696e672f636f6e74696e75756d2e706e67)"
   ]
  },
  {
   "attachments": {},
   "cell_type": "markdown",
   "metadata": {},
   "source": [
    "Vamos a ver como podemos aplicarlo al mismo ejemplo del post anterior, en el que entramos un `Perceptrón Multicapa` para la clasificación de dígitos manuscritos con el dataset `MNIST`.\t"
   ]
  },
  {
   "cell_type": "code",
   "execution_count": 31,
   "metadata": {},
   "outputs": [
    {
     "data": {
      "text/plain": [
       "((70000, 28, 28), (70000,))"
      ]
     },
     "execution_count": 31,
     "metadata": {},
     "output_type": "execute_result"
    }
   ],
   "source": [
    "from sklearn.datasets import fetch_openml\n",
    "import numpy as np\n",
    "import torch\n",
    "\n",
    "\n",
    "mnist = fetch_openml('mnist_784', version=1)\n",
    "X, Y = mnist[\"data\"].values.astype(float).reshape(-1, 28, 28) / 255., mnist[\"target\"].values.astype(int)\n",
    "np.savez_compressed(\"mnist.npz\", X=X, y=Y)\n",
    "\n",
    "# la descarga puede tardar un rato, así que te recomiendo comentar las líneas anteriores después\n",
    "# de ejecutarlas la primera vez y descomentar las siguientes para cargar los datos desde el disco\n",
    "\n",
    "# X, Y = np.load(\"mnist.npz\")[\"X\"], np.load(\"mnist.npz\")[\"y\"]\n",
    "\n",
    "X.shape, Y.shape"
   ]
  },
  {
   "cell_type": "code",
   "execution_count": 32,
   "metadata": {},
   "outputs": [],
   "source": [
    "class Dataset(torch.utils.data.Dataset):\n",
    "    def __init__(self, X, Y):\n",
    "        self.X = torch.tensor(X).float()\n",
    "        self.Y = torch.tensor(Y).long()\n",
    "    def __len__(self):\n",
    "        return len(self.X)\n",
    "    def __getitem__(self, ix):\n",
    "        return self.X[ix], self.Y[ix]\n",
    "    def collate_fn(self, batch):\n",
    "        x, y = [], []\n",
    "        for _x, _y in batch:\n",
    "            x.append(_x)\n",
    "            y.append(_y)\n",
    "        return torch.stack(x).view(len(batch), -1), torch.stack(y) \n",
    "    \n",
    "class Model(torch.nn.Module):\n",
    "    def __init__(self, D_in=784, H=100, D_out=10):\n",
    "        super(Model, self).__init__()\n",
    "        self.fc1 = torch.nn.Linear(D_in, H)\n",
    "        self.relu = torch.nn.ReLU()\n",
    "        self.fc2 = torch.nn.Linear(H, D_out)\n",
    "    def forward(self, x):\n",
    "        x = self.fc1(x)\n",
    "        x = self.relu(x)\n",
    "        x = self.fc2(x)\n",
    "        return x"
   ]
  },
  {
   "cell_type": "code",
   "execution_count": 33,
   "metadata": {},
   "outputs": [
    {
     "name": "stdout",
     "output_type": "stream",
     "text": [
      "epoch: 1/5\n",
      "loss: 2.3038 [  100/60000]\n",
      "loss: 0.4815 [10100/60000]\n",
      "loss: 0.4932 [20100/60000]\n",
      "loss: 0.3442 [30100/60000]\n",
      "loss: 0.2506 [40100/60000]\n",
      "loss: 0.2928 [50100/60000]\n",
      "val_loss: 0.2434 val_acc: 0.9273\n",
      "epoch: 2/5\n",
      "loss: 0.2035 [  100/60000]\n",
      "loss: 0.2550 [10100/60000]\n",
      "loss: 0.2684 [20100/60000]\n",
      "loss: 0.2125 [30100/60000]\n",
      "loss: 0.1664 [40100/60000]\n",
      "loss: 0.1772 [50100/60000]\n",
      "val_loss: 0.1749 val_acc: 0.9472\n",
      "epoch: 3/5\n",
      "loss: 0.1413 [  100/60000]\n",
      "loss: 0.1931 [10100/60000]\n",
      "loss: 0.1937 [20100/60000]\n",
      "loss: 0.1773 [30100/60000]\n",
      "loss: 0.1309 [40100/60000]\n",
      "loss: 0.1177 [50100/60000]\n",
      "val_loss: 0.1382 val_acc: 0.9594\n",
      "epoch: 4/5\n",
      "loss: 0.1170 [  100/60000]\n",
      "loss: 0.1586 [10100/60000]\n",
      "loss: 0.1580 [20100/60000]\n",
      "loss: 0.1600 [30100/60000]\n",
      "loss: 0.1095 [40100/60000]\n",
      "loss: 0.0894 [50100/60000]\n",
      "val_loss: 0.1183 val_acc: 0.9632\n",
      "epoch: 5/5\n",
      "loss: 0.1009 [  100/60000]\n",
      "loss: 0.1291 [10100/60000]\n",
      "loss: 0.1283 [20100/60000]\n",
      "loss: 0.1468 [30100/60000]\n",
      "loss: 0.0928 [40100/60000]\n",
      "loss: 0.0743 [50100/60000]\n",
      "val_loss: 0.1060 val_acc: 0.9669\n"
     ]
    }
   ],
   "source": [
    "dataset = {\n",
    "    \"train\": Dataset(X[:60000], Y[:60000]),\n",
    "    \"val\": Dataset(X[60000:], Y[60000:])\n",
    "}\n",
    "dataloader = {\n",
    "    'train': torch.utils.data.DataLoader(dataset['train'], batch_size=100, collate_fn=dataset['train'].collate_fn),\n",
    "    'val': torch.utils.data.DataLoader(dataset['val'], batch_size=100, collate_fn=dataset['val'].collate_fn)\n",
    "}\n",
    "model = Model(784, 100, 10)\n",
    "criterion = torch.nn.CrossEntropyLoss()\n",
    "optimizer = torch.optim.Adam(model.parameters())\n",
    "epochs = 5\n",
    "for e in range(1, epochs+1):\n",
    "    print(f\"epoch: {e}/{epochs}\")\n",
    "    model.train()\n",
    "    for batch_ix, (x, y) in enumerate(dataloader['train']):\n",
    "        optimizer.zero_grad()           \n",
    "        outputs = model(x)              \n",
    "        loss = criterion(outputs, y)    \n",
    "        loss.backward()                 \n",
    "        optimizer.step()                \n",
    "        if batch_ix % 100 == 0:\n",
    "            loss, current = loss.item(), (batch_ix + 1) * len(x)\n",
    "            print(f\"loss: {loss:.4f} [{current:>5d}/{len(dataset['train']):>5d}]\")\n",
    "    model.eval()                \n",
    "    val_loss, val_acc = [], []\n",
    "    with torch.no_grad():\n",
    "        for batch_ix, (x, y) in enumerate(dataloader['val']):\n",
    "            outputs = model(x)              \n",
    "            loss = criterion(outputs, y)    \n",
    "            val_loss.append(loss.item())\n",
    "            val_acc.append((outputs.argmax(1) == y).float().mean().item())\n",
    "    print(f\"val_loss: {np.mean(val_loss):.4f} val_acc: {np.mean(val_acc):.4f}\")"
   ]
  },
  {
   "attachments": {},
   "cell_type": "markdown",
   "metadata": {},
   "source": [
    "### Aceleradores"
   ]
  },
  {
   "attachments": {},
   "cell_type": "markdown",
   "metadata": {},
   "source": [
    "Lo primero que podemos hacer es ceder el control a `Fabric` sobre la infraestructura de entrenamiento. De esta manera, podremos entrenar en múltiples `GPUs` y otros aceleradores sin tener que preocuparnos por la implementación. En este post ejecturé los ejemplos en 2 `GPUs`, por lo que si no tienes acceso a este tipo de hardware, ejecuta el código en una sola `GPU` o en la `CPU`."
   ]
  },
  {
   "cell_type": "code",
   "execution_count": 34,
   "metadata": {},
   "outputs": [
    {
     "name": "stderr",
     "output_type": "stream",
     "text": [
      "/home/juan/miniconda3/envs/pt2/lib/python3.10/site-packages/lightning/fabric/connector.py:562: UserWarning: 16 is supported for historical reasons but its usage is discouraged. Please set your precision to 16-mixed instead!\n",
      "  rank_zero_warn(\n",
      "Using 16-bit Automatic Mixed Precision (AMP)\n",
      "You are using a CUDA device ('NVIDIA GeForce RTX 3090') that has Tensor Cores. To properly utilize them, you should set `torch.set_float32_matmul_precision('medium' | 'high')` which will trade-off precision for performance. For more details, read https://pytorch.org/docs/stable/generated/torch.set_float32_matmul_precision.html#torch.set_float32_matmul_precision\n"
     ]
    }
   ],
   "source": [
    "fabric = L.Fabric(accelerator=\"cuda\", devices=2, strategy='dp', precision=16) # 2 gpus con estrategia data parallel y mixed precision\n",
    "fabric.launch()"
   ]
  },
  {
   "cell_type": "code",
   "execution_count": 35,
   "metadata": {},
   "outputs": [
    {
     "name": "stderr",
     "output_type": "stream",
     "text": [
      "You are using a CUDA device ('NVIDIA GeForce RTX 3090') that has Tensor Cores. To properly utilize them, you should set `torch.set_float32_matmul_precision('medium' | 'high')` which will trade-off precision for performance. For more details, read https://pytorch.org/docs/stable/generated/torch.set_float32_matmul_precision.html#torch.set_float32_matmul_precision\n"
     ]
    },
    {
     "name": "stdout",
     "output_type": "stream",
     "text": [
      "epoch: 1/5\n",
      "loss: 2.3237 [  100/60000]\n",
      "loss: 0.4710 [10100/60000]\n",
      "loss: 0.4840 [20100/60000]\n",
      "loss: 0.3516 [30100/60000]\n",
      "loss: 0.2487 [40100/60000]\n",
      "loss: 0.2947 [50100/60000]\n",
      "val_loss: 0.2466 val_acc: 0.9292\n",
      "epoch: 2/5\n",
      "loss: 0.1948 [  100/60000]\n",
      "loss: 0.2299 [10100/60000]\n",
      "loss: 0.2572 [20100/60000]\n",
      "loss: 0.2439 [30100/60000]\n",
      "loss: 0.1690 [40100/60000]\n",
      "loss: 0.1801 [50100/60000]\n",
      "val_loss: 0.1760 val_acc: 0.9491\n",
      "epoch: 3/5\n",
      "loss: 0.1304 [  100/60000]\n",
      "loss: 0.1723 [10100/60000]\n",
      "loss: 0.1906 [20100/60000]\n",
      "loss: 0.2115 [30100/60000]\n",
      "loss: 0.1237 [40100/60000]\n",
      "loss: 0.1236 [50100/60000]\n",
      "val_loss: 0.1392 val_acc: 0.9586\n",
      "epoch: 4/5\n",
      "loss: 0.0940 [  100/60000]\n",
      "loss: 0.1295 [10100/60000]\n",
      "loss: 0.1476 [20100/60000]\n",
      "loss: 0.1931 [30100/60000]\n",
      "loss: 0.0954 [40100/60000]\n",
      "loss: 0.1033 [50100/60000]\n",
      "val_loss: 0.1195 val_acc: 0.9637\n",
      "epoch: 5/5\n",
      "loss: 0.0741 [  100/60000]\n",
      "loss: 0.1002 [10100/60000]\n",
      "loss: 0.1143 [20100/60000]\n",
      "loss: 0.1668 [30100/60000]\n",
      "loss: 0.0733 [40100/60000]\n",
      "loss: 0.0834 [50100/60000]\n",
      "val_loss: 0.1069 val_acc: 0.9668\n"
     ]
    }
   ],
   "source": [
    "dataloader = {\n",
    "    'train': fabric.setup_dataloaders(torch.utils.data.DataLoader(dataset['train'], batch_size=100, collate_fn=dataset['train'].collate_fn)),\n",
    "    'val': fabric.setup_dataloaders(torch.utils.data.DataLoader(dataset['val'], batch_size=100, collate_fn=dataset['val'].collate_fn))\n",
    "}\n",
    "model = Model(784, 100, 10)\n",
    "criterion = torch.nn.CrossEntropyLoss()\n",
    "optimizer = torch.optim.Adam(model.parameters())\n",
    "model, optimizer = fabric.setup(model, optimizer)\n",
    "epochs = 5\n",
    "for e in range(1, epochs+1):\n",
    "    print(f\"epoch: {e}/{epochs}\")\n",
    "    model.train()\n",
    "    for batch_ix, (x, y) in enumerate(dataloader['train']):\n",
    "        optimizer.zero_grad()           \n",
    "        outputs = model(x)              \n",
    "        loss = criterion(outputs, y)    \n",
    "        fabric.backward(loss)                 \n",
    "        optimizer.step()                \n",
    "        if batch_ix % 100 == 0:\n",
    "            loss, current = loss.item(), (batch_ix + 1) * len(x)\n",
    "            print(f\"loss: {loss:.4f} [{current:>5d}/{len(dataset['train']):>5d}]\")\n",
    "    model.eval()                \n",
    "    val_loss, val_acc = [], []\n",
    "    with torch.no_grad():\n",
    "        for batch_ix, (x, y) in enumerate(dataloader['val']):\n",
    "            outputs = model(x)              \n",
    "            loss = criterion(outputs, y)    \n",
    "            val_loss.append(loss.item())\n",
    "            val_acc.append((outputs.argmax(1) == y).float().mean().item())\n",
    "    print(f\"val_loss: {np.mean(val_loss):.4f} val_acc: {np.mean(val_acc):.4f}\")"
   ]
  },
  {
   "attachments": {},
   "cell_type": "markdown",
   "metadata": {},
   "source": [
    "### El `LightningModule`"
   ]
  },
  {
   "attachments": {},
   "cell_type": "markdown",
   "metadata": {},
   "source": [
    "El siguiente paso para sacar todavía más partido a `Fabric` es utilizar `LightningModule` como base para nuestros modelos. "
   ]
  },
  {
   "cell_type": "code",
   "execution_count": 37,
   "metadata": {},
   "outputs": [],
   "source": [
    "class LitModel(L.LightningModule):\n",
    "    def __init__(self, D_in=784, H=100, D_out=10):\n",
    "        super().__init__()\n",
    "        self.model = Model(D_in, H, D_out)\n",
    "        self.loss = torch.nn.CrossEntropyLoss()\n",
    "        self.accuracy = lambda y_hat, y: (y_hat.argmax(1) == y).float().mean()\n",
    "\n",
    "    def training_step(self, batch, batch_idx):\n",
    "        x, y = batch\n",
    "        y_hat = self.model(x)\n",
    "        loss = self.loss(y_hat, y)\n",
    "        return loss\n",
    "    \n",
    "    def validation_step(self, batch, batch_idx):\n",
    "        x, y = batch\n",
    "        y_hat = self.model(x)\n",
    "        loss = self.loss(y_hat, y)\n",
    "        acc = self.accuracy(y_hat, y)\n",
    "        return loss, acc\n",
    "\n",
    "    def configure_optimizers(self):\n",
    "        return torch.optim.Adam(self.parameters())\n",
    "\n",
    "    def train_dataloader(self):\n",
    "        return torch.utils.data.DataLoader(dataset['train'], batch_size=100, collate_fn=dataset['train'].collate_fn)\n",
    "    \n",
    "    def val_dataloader(self):\n",
    "        return torch.utils.data.DataLoader(dataset['val'], batch_size=100, collate_fn=dataset['val'].collate_fn)\n",
    "\n",
    "    def log(self, batch_ix, loss, x, dataset): # mi propio hook para loggear\n",
    "        if batch_ix % 100 == 0:\n",
    "            loss, current = loss.item(), (batch_ix + 1) * len(x)\n",
    "            print(f\"loss: {loss:.4f} [{current:>5d}/{len(dataset):>5d}]\")"
   ]
  },
  {
   "cell_type": "code",
   "execution_count": 38,
   "metadata": {},
   "outputs": [
    {
     "name": "stderr",
     "output_type": "stream",
     "text": [
      "Using 16-bit Automatic Mixed Precision (AMP)\n",
      "You are using a CUDA device ('NVIDIA GeForce RTX 3090') that has Tensor Cores. To properly utilize them, you should set `torch.set_float32_matmul_precision('medium' | 'high')` which will trade-off precision for performance. For more details, read https://pytorch.org/docs/stable/generated/torch.set_float32_matmul_precision.html#torch.set_float32_matmul_precision\n"
     ]
    },
    {
     "name": "stdout",
     "output_type": "stream",
     "text": [
      "epoch: 1/5\n",
      "loss: 2.3080 [  100/60000]\n",
      "loss: 0.4725 [10100/60000]\n",
      "loss: 0.4746 [20100/60000]\n",
      "loss: 0.3385 [30100/60000]\n",
      "loss: 0.2410 [40100/60000]\n",
      "loss: 0.2691 [50100/60000]\n",
      "val_loss: 0.2357 val_acc: 0.9305\n",
      "epoch: 2/5\n",
      "loss: 0.1951 [  100/60000]\n",
      "loss: 0.2358 [10100/60000]\n",
      "loss: 0.2593 [20100/60000]\n",
      "loss: 0.2098 [30100/60000]\n",
      "loss: 0.1540 [40100/60000]\n",
      "loss: 0.1684 [50100/60000]\n",
      "val_loss: 0.1694 val_acc: 0.9502\n",
      "epoch: 3/5\n",
      "loss: 0.1334 [  100/60000]\n",
      "loss: 0.1808 [10100/60000]\n",
      "loss: 0.1952 [20100/60000]\n",
      "loss: 0.1757 [30100/60000]\n",
      "loss: 0.1148 [40100/60000]\n",
      "loss: 0.1155 [50100/60000]\n",
      "val_loss: 0.1366 val_acc: 0.9606\n",
      "epoch: 4/5\n",
      "loss: 0.1027 [  100/60000]\n",
      "loss: 0.1459 [10100/60000]\n",
      "loss: 0.1529 [20100/60000]\n",
      "loss: 0.1653 [30100/60000]\n",
      "loss: 0.0928 [40100/60000]\n",
      "loss: 0.0915 [50100/60000]\n",
      "val_loss: 0.1180 val_acc: 0.9659\n",
      "epoch: 5/5\n",
      "loss: 0.0829 [  100/60000]\n",
      "loss: 0.1211 [10100/60000]\n",
      "loss: 0.1238 [20100/60000]\n",
      "loss: 0.1573 [30100/60000]\n",
      "loss: 0.0753 [40100/60000]\n",
      "loss: 0.0771 [50100/60000]\n",
      "val_loss: 0.1074 val_acc: 0.9673\n"
     ]
    }
   ],
   "source": [
    "fabric = L.Fabric(accelerator=\"cuda\", devices=2, strategy='dp', precision=16) # 2 gpus con estrategia data parallel y mixed precision\n",
    "model = LitModel(784, 100, 10)\n",
    "optimizer = model.configure_optimizers()\n",
    "model, optimizer = fabric.setup(model, optimizer)\n",
    "dataloader = {\n",
    "    'train': fabric.setup_dataloaders(model.train_dataloader()),\n",
    "    'val': fabric.setup_dataloaders(model.val_dataloader())\n",
    "}\n",
    "epochs = 5\n",
    "for e in range(1, epochs+1):\n",
    "    print(f\"epoch: {e}/{epochs}\")\n",
    "    model.train()\n",
    "    for batch_ix, batch in enumerate(dataloader['train']):\n",
    "        optimizer.zero_grad()           \n",
    "        loss = model.training_step(batch, batch_ix)   \n",
    "        fabric.backward(loss)                 \n",
    "        optimizer.step()  \n",
    "        model.log(batch_ix, loss, x, dataset['train'])              \n",
    "    model.eval()                \n",
    "    val_loss, val_acc = [], []\n",
    "    with torch.no_grad():\n",
    "        for batch_ix, batch in enumerate(dataloader['val']):\n",
    "            loss, acc = model.validation_step(batch, batch_ix)\n",
    "            val_loss.append(loss.item())\n",
    "            val_acc.append(acc.item())\n",
    "    print(f\"val_loss: {np.mean(val_loss):.4f} val_acc: {np.mean(val_acc):.4f}\")"
   ]
  },
  {
   "attachments": {},
   "cell_type": "markdown",
   "metadata": {},
   "source": [
    "De esta manera desacolpamos la lógica de entrenamiento de la lógica de la arquitectura de la red, muy apropiado si queremos probar distintos modelos en un mismo problema. Además, nos permite usar los [hooks](https://lightning.ai/docs/pytorch/stable/common/lightning_module.html#hooks) por defecto o implementar los nuestros propios. ¡Muy interesante!"
   ]
  },
  {
   "attachments": {},
   "cell_type": "markdown",
   "metadata": {},
   "source": [
    "### *Logging*"
   ]
  },
  {
   "attachments": {},
   "cell_type": "markdown",
   "metadata": {},
   "source": [
    "Una parte esencial de cualquier entrenamiento consiste en *logear* los resultados obtenidos. Esto nos permite comparar distintos experimentos y ver como evoluciona nuestro modelo. `Fabric` nos ofrece diferentes *loggers*"
   ]
  },
  {
   "cell_type": "code",
   "execution_count": 39,
   "metadata": {},
   "outputs": [
    {
     "name": "stderr",
     "output_type": "stream",
     "text": [
      "Using 16-bit Automatic Mixed Precision (AMP)\n",
      "You are using a CUDA device ('NVIDIA GeForce RTX 3090') that has Tensor Cores. To properly utilize them, you should set `torch.set_float32_matmul_precision('medium' | 'high')` which will trade-off precision for performance. For more details, read https://pytorch.org/docs/stable/generated/torch.set_float32_matmul_precision.html#torch.set_float32_matmul_precision\n",
      "loss 0.4205 val_loss: 0.2344 val_acc: 0.9303:   0%|          | 0/20 [00:01<?, ?it/s]/home/juan/miniconda3/envs/pt2/lib/python3.10/site-packages/lightning/fabric/loggers/csv_logs.py:188: UserWarning: Experiment logs directory logs/MNIST/version_0 exists and is not empty. Previous log files in this directory will be deleted when the new ones are saved!\n",
      "  rank_zero_warn(\n",
      "loss 0.0096 val_loss: 0.0958 val_acc: 0.9751: 100%|██████████| 20/20 [00:21<00:00,  1.06s/it]\n"
     ]
    }
   ],
   "source": [
    "from lightning.fabric.loggers import CSVLogger # o Tensorboard\n",
    "from tqdm import tqdm\n",
    "\n",
    "logger = CSVLogger('logs', 'MNIST', version=0)\n",
    "fabric = L.Fabric(accelerator=\"cuda\", devices=1, precision=16, loggers=logger) \n",
    "model = LitModel(784, 100, 10)\n",
    "optimizer = model.configure_optimizers()\n",
    "model, optimizer = fabric.setup(model, optimizer)\n",
    "dataloader = {\n",
    "    'train': fabric.setup_dataloaders(model.train_dataloader()),\n",
    "    'val': fabric.setup_dataloaders(model.val_dataloader())\n",
    "}\n",
    "epochs = 20\n",
    "pbar = tqdm(range(1, epochs+1))\n",
    "for e in pbar:\n",
    "    model.train()\n",
    "    train_loss = []\n",
    "    for batch_ix, batch in enumerate(dataloader['train']):\n",
    "        optimizer.zero_grad()           \n",
    "        loss = model.training_step(batch, batch_ix)   \n",
    "        fabric.backward(loss)                 \n",
    "        optimizer.step()  \n",
    "        train_loss.append(loss.item())\n",
    "    model.eval()                \n",
    "    val_loss, val_acc = [], []\n",
    "    with torch.no_grad():\n",
    "        for batch_ix, batch in enumerate(dataloader['val']):\n",
    "            loss, acc = model.validation_step(batch, batch_ix)\n",
    "            val_loss.append(loss.item())\n",
    "            val_acc.append(acc.item())\n",
    "    pbar.set_description(f\"loss {np.mean(train_loss):.4f} val_loss: {np.mean(val_loss):.4f} val_acc: {np.mean(val_acc):.4f}\")\n",
    "    fabric.log_dict({'val_loss': np.mean(val_loss), 'val_acc': np.mean(val_acc), 'epoch': e, 'train_loss': np.mean(train_loss)})\n",
    "logger.finalize(\"success\")"
   ]
  },
  {
   "cell_type": "code",
   "execution_count": 18,
   "metadata": {},
   "outputs": [
    {
     "data": {
      "image/png": "[encoded data removed]",
      "text/plain": [
       "<Figure size 800x300 with 2 Axes>"
      ]
     },
     "metadata": {},
     "output_type": "display_data"
    }
   ],
   "source": [
    "import pandas as pd \n",
    "import matplotlib.pyplot as plt\n",
    "\n",
    "def plot_logs(df):\n",
    "    fig = plt.figure(figsize=(8, 3))\n",
    "    ax = fig.add_subplot(121)\n",
    "    df.plot(x='epoch', y=['train_loss', 'val_loss'], grid=True, title='loss', ax=ax)\n",
    "    ax = fig.add_subplot(122)\n",
    "    df.plot(x='epoch', y=['val_acc'], grid=True, title='accuracy', ax=ax)\n",
    "    plt.tight_layout()\n",
    "    plt.show()\n",
    "\n",
    "df = pd.read_csv('logs/MNIST/version_0/metrics.csv')\n",
    "plot_logs(df)"
   ]
  },
  {
   "attachments": {},
   "cell_type": "markdown",
   "metadata": {},
   "source": [
    "### *Checkpoints*"
   ]
  },
  {
   "attachments": {},
   "cell_type": "markdown",
   "metadata": {},
   "source": [
    "Los checkpoints son una forma de guardar el estado de nuestro modelo en un momento determinado. Esto nos permite continuar el entrenamiento en un momento posterior, o incluso cargar el modelo para hacer inferencia. "
   ]
  },
  {
   "cell_type": "code",
   "execution_count": 19,
   "metadata": {},
   "outputs": [
    {
     "name": "stderr",
     "output_type": "stream",
     "text": [
      "/home/juan/miniconda3/envs/pt2/lib/python3.10/site-packages/lightning/fabric/connector.py:562: UserWarning: 16 is supported for historical reasons but its usage is discouraged. Please set your precision to 16-mixed instead!\n",
      "  rank_zero_warn(\n",
      "Using 16-bit Automatic Mixed Precision (AMP)\n",
      "You are using a CUDA device ('NVIDIA GeForce RTX 3090') that has Tensor Cores. To properly utilize them, you should set `torch.set_float32_matmul_precision('medium' | 'high')` which will trade-off precision for performance. For more details, read https://pytorch.org/docs/stable/generated/torch.set_float32_matmul_precision.html#torch.set_float32_matmul_precision\n",
      "loss 0.4171 val_loss: 0.2329 val_acc: 0.9326:   0%|          | 0/3 [00:01<?, ?it/s]/home/juan/miniconda3/envs/pt2/lib/python3.10/site-packages/lightning/fabric/loggers/csv_logs.py:188: UserWarning: Experiment logs directory logs/MNIST/version_0 exists and is not empty. Previous log files in this directory will be deleted when the new ones are saved!\n",
      "  rank_zero_warn(\n",
      "loss 0.1501 val_loss: 0.1354 val_acc: 0.9609: 100%|██████████| 3/3 [00:03<00:00,  1.08s/it]\n",
      "Using 16-bit Automatic Mixed Precision (AMP)\n",
      "You are using a CUDA device ('NVIDIA GeForce RTX 3090') that has Tensor Cores. To properly utilize them, you should set `torch.set_float32_matmul_precision('medium' | 'high')` which will trade-off precision for performance. For more details, read https://pytorch.org/docs/stable/generated/torch.set_float32_matmul_precision.html#torch.set_float32_matmul_precision\n",
      "loss 0.1198 val_loss: 0.1171 val_acc: 0.9650:   0%|          | 0/3 [00:01<?, ?it/s]/home/juan/miniconda3/envs/pt2/lib/python3.10/site-packages/lightning/fabric/loggers/csv_logs.py:188: UserWarning: Experiment logs directory logs/MNIST/version_1 exists and is not empty. Previous log files in this directory will be deleted when the new ones are saved!\n",
      "  rank_zero_warn(\n",
      "loss 0.0795 val_loss: 0.1012 val_acc: 0.9685: 100%|██████████| 3/3 [00:03<00:00,  1.08s/it]\n",
      "Using 16-bit Automatic Mixed Precision (AMP)\n",
      "You are using a CUDA device ('NVIDIA GeForce RTX 3090') that has Tensor Cores. To properly utilize them, you should set `torch.set_float32_matmul_precision('medium' | 'high')` which will trade-off precision for performance. For more details, read https://pytorch.org/docs/stable/generated/torch.set_float32_matmul_precision.html#torch.set_float32_matmul_precision\n",
      "loss 0.0681 val_loss: 0.0981 val_acc: 0.9690:   0%|          | 0/5 [00:01<?, ?it/s]/home/juan/miniconda3/envs/pt2/lib/python3.10/site-packages/lightning/fabric/loggers/csv_logs.py:188: UserWarning: Experiment logs directory logs/MNIST/version_2 exists and is not empty. Previous log files in this directory will be deleted when the new ones are saved!\n",
      "  rank_zero_warn(\n",
      "loss 0.0354 val_loss: 0.0869 val_acc: 0.9747: 100%|██████████| 5/5 [00:05<00:00,  1.06s/it]\n"
     ]
    }
   ],
   "source": [
    "def train(epochs=10, resume=None, load=None, version=0):\n",
    "    logger = CSVLogger('logs', 'MNIST', version=version)\n",
    "    fabric = L.Fabric(accelerator=\"cuda\", devices=1, precision=16, loggers=logger) \n",
    "    model = LitModel(784, 100, 10)\n",
    "    optimizer = model.configure_optimizers()\n",
    "    model, optimizer = fabric.setup(model, optimizer)\n",
    "    dataloader = {\n",
    "        'train': fabric.setup_dataloaders(model.train_dataloader()),\n",
    "        'val': fabric.setup_dataloaders(model.val_dataloader())\n",
    "    }\n",
    "    e0 = 1\n",
    "    if resume: # cargamos todo para seguir entrenando\n",
    "        reminder = fabric.load(resume, {'model': model, 'optimizer': optimizer})\n",
    "        e0 = reminder['epoch'] + 1\n",
    "    if load: # cargamos solo el modelo\n",
    "        reminder = fabric.load(load, {'model': model})\n",
    "    pbar = tqdm(range(e0, epochs+1))\n",
    "    for e in pbar:\n",
    "        model.train()\n",
    "        train_loss = []\n",
    "        for batch_ix, batch in enumerate(dataloader['train']):\n",
    "            optimizer.zero_grad()           \n",
    "            loss = model.training_step(batch, batch_ix)   \n",
    "            fabric.backward(loss)                 \n",
    "            optimizer.step()  \n",
    "            train_loss.append(loss.item())\n",
    "        model.eval()                \n",
    "        val_loss, val_acc = [], []\n",
    "        with torch.no_grad():\n",
    "            for batch_ix, batch in enumerate(dataloader['val']):\n",
    "                loss, acc = model.validation_step(batch, batch_ix)\n",
    "                val_loss.append(loss.item())\n",
    "                val_acc.append(acc.item())\n",
    "        pbar.set_description(f\"loss {np.mean(train_loss):.4f} val_loss: {np.mean(val_loss):.4f} val_acc: {np.mean(val_acc):.4f}\")\n",
    "        fabric.log_dict({'val_loss': np.mean(val_loss), 'val_acc': np.mean(val_acc), 'epoch': e, 'train_loss': np.mean(train_loss)})\n",
    "        fabric.save('checkpoints/MNIST.ckpt', {\n",
    "            'epoch': e,\n",
    "            'model': model,\n",
    "            'optimizer': optimizer\n",
    "        })\n",
    "    logger.finalize(\"success\")\n",
    "\n",
    "# entrenamos 3 epochs\n",
    "train(3)\n",
    "\n",
    "# cargamos el checkpoint para entrenar 3 más (util si se interrumpe el entrenamiento)\n",
    "train(6, resume='checkpoints/MNIST.ckpt', version=1)\n",
    "\n",
    "# cargamos el checkpoint para entrenar desde 0 (util para reentrenar un modelo)\n",
    "train(5, load='checkpoints/MNIST.ckpt', version=2)\n"
   ]
  },
  {
   "cell_type": "code",
   "execution_count": 20,
   "metadata": {},
   "outputs": [
    {
     "data": {
      "image/png": "[encoded data removed]",
      "text/plain": [
       "<Figure size 800x300 with 2 Axes>"
      ]
     },
     "metadata": {},
     "output_type": "display_data"
    }
   ],
   "source": [
    "df1 = pd.read_csv('logs/MNIST/version_0/metrics.csv')\n",
    "df2 = pd.read_csv('logs/MNIST/version_1/metrics.csv')\n",
    "df = pd.concat([df1, df2])\n",
    "plot_logs(df)"
   ]
  },
  {
   "cell_type": "code",
   "execution_count": 21,
   "metadata": {},
   "outputs": [
    {
     "data": {
      "image/png": "[encoded data removed]",
      "text/plain": [
       "<Figure size 800x300 with 2 Axes>"
      ]
     },
     "metadata": {},
     "output_type": "display_data"
    }
   ],
   "source": [
    "plot_logs(pd.read_csv('logs/MNIST/version_2/metrics.csv'))"
   ]
  },
  {
   "attachments": {},
   "cell_type": "markdown",
   "metadata": {},
   "source": [
    "### Plantilla de entrenamiento"
   ]
  },
  {
   "attachments": {},
   "cell_type": "markdown",
   "metadata": {},
   "source": [
    "Con toda esta funcionalidad que nos ofrece `Fabric` podemos extrapolar el código de entrenamiento a una plantilla que podemos reusar en distintos problemas. Puedes encontrarla en el siguiente [enlace](https://github.com/Lightning-AI/lightning/blob/master/examples/fabric/build_your_own_trainer/trainer.py), aunque llegado el caso quizás es mejor que te plantees usar directamente `Pytorch Lightning`, y su `Trainer`, en lugar de `Fabric`."
   ]
  },
  {
   "attachments": {},
   "cell_type": "markdown",
   "metadata": {},
   "source": [
    "## Pytorch Lightning"
   ]
  },
  {
   "attachments": {},
   "cell_type": "markdown",
   "metadata": {},
   "source": [
    "Si bien `Fabric` nos permite vitaminar nuestro código `Pytorch`, `Pytorch Lightning` nos ofrece una solución más completa. Si tienes una base de código extensa en `Pytorch` y quieres, por ejemplo, entrenar tus modelos en varias `GPUs` sin tener que implementar esta funcionalidad, `Fabric` es una solución adecuada. Si estas empezando un proyecto desde cero y tienes claro que quieres usar `Lightning`, entonces `Pytorch Lightning` es mi recomendación. \n",
    "\n",
    "El primer elemento que debes conocer es el `LightningModule`, que ya hemos visto antes. En esta clase organizaremos nuestro código para que luego sea ejecutado por el `Trainer`."
   ]
  },
  {
   "cell_type": "code",
   "execution_count": 22,
   "metadata": {},
   "outputs": [],
   "source": [
    "class LitModel(L.LightningModule):\n",
    "    def __init__(self, D_in=784, H=100, D_out=10):\n",
    "        super().__init__()\n",
    "        self.model = Model(D_in, H, D_out)\n",
    "        self.loss = torch.nn.CrossEntropyLoss()\n",
    "        self.accuracy = lambda y_hat, y: (y_hat.argmax(1) == y).float().mean()\n",
    "\n",
    "    def training_step(self, batch, batch_idx):\n",
    "        x, y = batch\n",
    "        y_hat = self.model(x)\n",
    "        loss = self.loss(y_hat, y)\n",
    "        self.log('loss', loss, prog_bar=True) # logear en la barra de progreso\n",
    "        return loss\n",
    "    \n",
    "    def validation_step(self, batch, batch_idx):\n",
    "        x, y = batch\n",
    "        y_hat = self.model(x)\n",
    "        loss = self.loss(y_hat, y)\n",
    "        acc = self.accuracy(y_hat, y)\n",
    "        self.log('val_loss', loss, prog_bar=True)\n",
    "        self.log('val_acc', acc, prog_bar=True)\n",
    "\n",
    "    def configure_optimizers(self):\n",
    "        return torch.optim.Adam(self.parameters())\n",
    "    \n",
    "    # aquí no hay dataloaders !!!"
   ]
  },
  {
   "cell_type": "code",
   "execution_count": 23,
   "metadata": {},
   "outputs": [
    {
     "name": "stderr",
     "output_type": "stream",
     "text": [
      "/home/juan/miniconda3/envs/pt2/lib/python3.10/site-packages/lightning/fabric/connector.py:562: UserWarning: 16 is supported for historical reasons but its usage is discouraged. Please set your precision to 16-mixed instead!\n",
      "  rank_zero_warn(\n",
      "Using 16bit Automatic Mixed Precision (AMP)\n",
      "GPU available: True (cuda), used: True\n",
      "TPU available: False, using: 0 TPU cores\n",
      "IPU available: False, using: 0 IPUs\n",
      "HPU available: False, using: 0 HPUs\n",
      "/home/juan/miniconda3/envs/pt2/lib/python3.10/site-packages/lightning/pytorch/trainer/connectors/logger_connector/logger_connector.py:67: UserWarning: Starting from v1.9.0, `tensorboardX` has been removed as a dependency of the `lightning.pytorch` package, due to potential conflicts with other packages in the ML ecosystem. For this reason, `logger=True` will use `CSVLogger` as the default logger, unless the `tensorboard` or `tensorboardX` packages are found. Please `pip install lightning[extra]` or one of them to enable TensorBoard support by default\n",
      "  warning_cache.warn(\n",
      "You are using a CUDA device ('NVIDIA GeForce RTX 3090') that has Tensor Cores. To properly utilize them, you should set `torch.set_float32_matmul_precision('medium' | 'high')` which will trade-off precision for performance. For more details, read https://pytorch.org/docs/stable/generated/torch.set_float32_matmul_precision.html#torch.set_float32_matmul_precision\n",
      "LOCAL_RANK: 0 - CUDA_VISIBLE_DEVICES: [0,1]\n",
      "\n",
      "  | Name  | Type             | Params\n",
      "-------------------------------------------\n",
      "0 | model | Model            | 79.5 K\n",
      "1 | loss  | CrossEntropyLoss | 0     \n",
      "-------------------------------------------\n",
      "79.5 K    Trainable params\n",
      "0         Non-trainable params\n",
      "79.5 K    Total params\n",
      "0.318     Total estimated model params size (MB)\n"
     ]
    },
    {
     "data": {
      "application/vnd.jupyter.widget-view+json": {
       "model_id": "6074c385d67245f886a21e3f1f273edf",
       "version_major": 2,
       "version_minor": 0
      },
      "text/plain": [
       "Sanity Checking: 0it [00:00, ?it/s]"
      ]
     },
     "metadata": {},
     "output_type": "display_data"
    },
    {
     "name": "stderr",
     "output_type": "stream",
     "text": [
      "/home/juan/miniconda3/envs/pt2/lib/python3.10/site-packages/lightning/pytorch/trainer/connectors/data_connector.py:430: PossibleUserWarning: The dataloader, val_dataloader, does not have many workers which may be a bottleneck. Consider increasing the value of the `num_workers` argument` (try 20 which is the number of cpus on this machine) in the `DataLoader` init to improve performance.\n",
      "  rank_zero_warn(\n",
      "/home/juan/miniconda3/envs/pt2/lib/python3.10/site-packages/lightning/pytorch/trainer/connectors/data_connector.py:430: PossibleUserWarning: The dataloader, train_dataloader, does not have many workers which may be a bottleneck. Consider increasing the value of the `num_workers` argument` (try 20 which is the number of cpus on this machine) in the `DataLoader` init to improve performance.\n",
      "  rank_zero_warn(\n"
     ]
    },
    {
     "data": {
      "application/vnd.jupyter.widget-view+json": {
       "model_id": "0c5ce004dd074e57bb8627afee14bbce",
       "version_major": 2,
       "version_minor": 0
      },
      "text/plain": [
       "Training: 0it [00:00, ?it/s]"
      ]
     },
     "metadata": {},
     "output_type": "display_data"
    },
    {
     "data": {
      "application/vnd.jupyter.widget-view+json": {
       "model_id": "18b1b10b52d24fee9d4577de6027ba29",
       "version_major": 2,
       "version_minor": 0
      },
      "text/plain": [
       "Validation: 0it [00:00, ?it/s]"
      ]
     },
     "metadata": {},
     "output_type": "display_data"
    },
    {
     "data": {
      "application/vnd.jupyter.widget-view+json": {
       "model_id": "b49eb7986e354ede8fef3423aabef77b",
       "version_major": 2,
       "version_minor": 0
      },
      "text/plain": [
       "Validation: 0it [00:00, ?it/s]"
      ]
     },
     "metadata": {},
     "output_type": "display_data"
    },
    {
     "data": {
      "application/vnd.jupyter.widget-view+json": {
       "model_id": "f585485f8ddb4a0c88e58c3a604b7f7e",
       "version_major": 2,
       "version_minor": 0
      },
      "text/plain": [
       "Validation: 0it [00:00, ?it/s]"
      ]
     },
     "metadata": {},
     "output_type": "display_data"
    },
    {
     "data": {
      "application/vnd.jupyter.widget-view+json": {
       "model_id": "7355471aa03141cdbf3dc2de8a17323a",
       "version_major": 2,
       "version_minor": 0
      },
      "text/plain": [
       "Validation: 0it [00:00, ?it/s]"
      ]
     },
     "metadata": {},
     "output_type": "display_data"
    },
    {
     "data": {
      "application/vnd.jupyter.widget-view+json": {
       "model_id": "26c4ab95ae444a658a3fdb31538704eb",
       "version_major": 2,
       "version_minor": 0
      },
      "text/plain": [
       "Validation: 0it [00:00, ?it/s]"
      ]
     },
     "metadata": {},
     "output_type": "display_data"
    },
    {
     "data": {
      "application/vnd.jupyter.widget-view+json": {
       "model_id": "46d69c3e76c441daa2a221384b93f3d8",
       "version_major": 2,
       "version_minor": 0
      },
      "text/plain": [
       "Validation: 0it [00:00, ?it/s]"
      ]
     },
     "metadata": {},
     "output_type": "display_data"
    },
    {
     "data": {
      "application/vnd.jupyter.widget-view+json": {
       "model_id": "77a1beafd1dc46c5a37c51d54ffc38aa",
       "version_major": 2,
       "version_minor": 0
      },
      "text/plain": [
       "Validation: 0it [00:00, ?it/s]"
      ]
     },
     "metadata": {},
     "output_type": "display_data"
    },
    {
     "data": {
      "application/vnd.jupyter.widget-view+json": {
       "model_id": "fd42fb07c9814efb81f31e61a7fd29b9",
       "version_major": 2,
       "version_minor": 0
      },
      "text/plain": [
       "Validation: 0it [00:00, ?it/s]"
      ]
     },
     "metadata": {},
     "output_type": "display_data"
    },
    {
     "data": {
      "application/vnd.jupyter.widget-view+json": {
       "model_id": "85c6eb06b02e46e49605da1cf2cf5a51",
       "version_major": 2,
       "version_minor": 0
      },
      "text/plain": [
       "Validation: 0it [00:00, ?it/s]"
      ]
     },
     "metadata": {},
     "output_type": "display_data"
    },
    {
     "data": {
      "application/vnd.jupyter.widget-view+json": {
       "model_id": "fe89e0faed904b88ba9a4fbbd773cdfb",
       "version_major": 2,
       "version_minor": 0
      },
      "text/plain": [
       "Validation: 0it [00:00, ?it/s]"
      ]
     },
     "metadata": {},
     "output_type": "display_data"
    },
    {
     "name": "stderr",
     "output_type": "stream",
     "text": [
      "`Trainer.fit` stopped: `max_epochs=10` reached.\n"
     ]
    }
   ],
   "source": [
    "dataset = {\n",
    "    \"train\": Dataset(X[:60000], Y[:60000]),\n",
    "    \"val\": Dataset(X[60000:], Y[60000:])\n",
    "}\n",
    "dataloader = {\n",
    "    'train': torch.utils.data.DataLoader(dataset['train'], batch_size=100, collate_fn=dataset['train'].collate_fn),\n",
    "    'val': torch.utils.data.DataLoader(dataset['val'], batch_size=100, collate_fn=dataset['val'].collate_fn)\n",
    "}\n",
    "\n",
    "modelo = LitModel()\n",
    "\n",
    "trainer = L.Trainer(\n",
    "    accelerator=\"cuda\", \n",
    "    devices=1,              # podemos usar más de 1 GPU\n",
    "    precision=16, \n",
    "    max_epochs=10\n",
    ")\n",
    "\n",
    "trainer.fit(modelo, dataloader['train'], dataloader['val'])"
   ]
  },
  {
   "attachments": {},
   "cell_type": "markdown",
   "metadata": {},
   "source": [
    "Como puedes vera, el `Trainer` nos abstrae toda la lógica de entrenamiento (que gracias a la sección anterior puedes entender lo que está haciendo por dentro) además de darnos información sobre nuestro modelo y una bonita barra de progreso. Como puedes esperar, también podremos usar la funcionalidad de `callbacks` y `loggers` que ya hemos visto anteriormente. Puedes encontrar una lista de las callbacks disponibles [aquí](https://lightning.ai/docs/pytorch/stable/api_references.html#callbacks), mientras que los loggers los encontrarás [aquí](https://lightning.ai/docs/pytorch/stable/api_references.html#loggers)."
   ]
  },
  {
   "cell_type": "code",
   "execution_count": 24,
   "metadata": {},
   "outputs": [
    {
     "name": "stderr",
     "output_type": "stream",
     "text": [
      "/home/juan/miniconda3/envs/pt2/lib/python3.10/site-packages/lightning/fabric/connector.py:562: UserWarning: 16 is supported for historical reasons but its usage is discouraged. Please set your precision to 16-mixed instead!\n",
      "  rank_zero_warn(\n",
      "Using 16bit Automatic Mixed Precision (AMP)\n",
      "GPU available: True (cuda), used: True\n",
      "TPU available: False, using: 0 TPU cores\n",
      "IPU available: False, using: 0 IPUs\n",
      "HPU available: False, using: 0 HPUs\n",
      "You are using a CUDA device ('NVIDIA GeForce RTX 3090') that has Tensor Cores. To properly utilize them, you should set `torch.set_float32_matmul_precision('medium' | 'high')` which will trade-off precision for performance. For more details, read https://pytorch.org/docs/stable/generated/torch.set_float32_matmul_precision.html#torch.set_float32_matmul_precision\n",
      "/home/juan/miniconda3/envs/pt2/lib/python3.10/site-packages/lightning/pytorch/callbacks/model_checkpoint.py:612: UserWarning: Checkpoint directory /home/juan/Desktop/blog/116_pl2/checkpoints exists and is not empty.\n",
      "  rank_zero_warn(f\"Checkpoint directory {dirpath} exists and is not empty.\")\n",
      "LOCAL_RANK: 0 - CUDA_VISIBLE_DEVICES: [0,1]\n",
      "\n",
      "  | Name  | Type             | Params\n",
      "-------------------------------------------\n",
      "0 | model | Model            | 79.5 K\n",
      "1 | loss  | CrossEntropyLoss | 0     \n",
      "-------------------------------------------\n",
      "79.5 K    Trainable params\n",
      "0         Non-trainable params\n",
      "79.5 K    Total params\n",
      "0.318     Total estimated model params size (MB)\n",
      "/home/juan/miniconda3/envs/pt2/lib/python3.10/site-packages/lightning/fabric/loggers/csv_logs.py:188: UserWarning: Experiment logs directory logs/MNIST/version_3 exists and is not empty. Previous log files in this directory will be deleted when the new ones are saved!\n",
      "  rank_zero_warn(\n"
     ]
    },
    {
     "data": {
      "application/vnd.jupyter.widget-view+json": {
       "model_id": "ce722b6a336b4433bb4280228eeb61ed",
       "version_major": 2,
       "version_minor": 0
      },
      "text/plain": [
       "Sanity Checking: 0it [00:00, ?it/s]"
      ]
     },
     "metadata": {},
     "output_type": "display_data"
    },
    {
     "data": {
      "application/vnd.jupyter.widget-view+json": {
       "model_id": "e5d03f6331234b98b339e72750721633",
       "version_major": 2,
       "version_minor": 0
      },
      "text/plain": [
       "Training: 0it [00:00, ?it/s]"
      ]
     },
     "metadata": {},
     "output_type": "display_data"
    },
    {
     "data": {
      "application/vnd.jupyter.widget-view+json": {
       "model_id": "1d850bb8f75e4f34855fc88882bfc4ba",
       "version_major": 2,
       "version_minor": 0
      },
      "text/plain": [
       "Validation: 0it [00:00, ?it/s]"
      ]
     },
     "metadata": {},
     "output_type": "display_data"
    },
    {
     "data": {
      "application/vnd.jupyter.widget-view+json": {
       "model_id": "06788c0c041d40ac9f380103ede92752",
       "version_major": 2,
       "version_minor": 0
      },
      "text/plain": [
       "Validation: 0it [00:00, ?it/s]"
      ]
     },
     "metadata": {},
     "output_type": "display_data"
    },
    {
     "data": {
      "application/vnd.jupyter.widget-view+json": {
       "model_id": "693468d2718247f1a214868b19231565",
       "version_major": 2,
       "version_minor": 0
      },
      "text/plain": [
       "Validation: 0it [00:00, ?it/s]"
      ]
     },
     "metadata": {},
     "output_type": "display_data"
    },
    {
     "data": {
      "application/vnd.jupyter.widget-view+json": {
       "model_id": "fbd86ecd5e794a86901d76c7d7493518",
       "version_major": 2,
       "version_minor": 0
      },
      "text/plain": [
       "Validation: 0it [00:00, ?it/s]"
      ]
     },
     "metadata": {},
     "output_type": "display_data"
    },
    {
     "data": {
      "application/vnd.jupyter.widget-view+json": {
       "model_id": "4fed193245fc4b53b147fb2f3a301e7d",
       "version_major": 2,
       "version_minor": 0
      },
      "text/plain": [
       "Validation: 0it [00:00, ?it/s]"
      ]
     },
     "metadata": {},
     "output_type": "display_data"
    },
    {
     "data": {
      "application/vnd.jupyter.widget-view+json": {
       "model_id": "26e2726921a4422c8914ca4506597b94",
       "version_major": 2,
       "version_minor": 0
      },
      "text/plain": [
       "Validation: 0it [00:00, ?it/s]"
      ]
     },
     "metadata": {},
     "output_type": "display_data"
    },
    {
     "data": {
      "application/vnd.jupyter.widget-view+json": {
       "model_id": "cf674efb726c4188b40adc56b36fa598",
       "version_major": 2,
       "version_minor": 0
      },
      "text/plain": [
       "Validation: 0it [00:00, ?it/s]"
      ]
     },
     "metadata": {},
     "output_type": "display_data"
    },
    {
     "data": {
      "application/vnd.jupyter.widget-view+json": {
       "model_id": "8c99e146d69f4ef0ae287fccdd52b24a",
       "version_major": 2,
       "version_minor": 0
      },
      "text/plain": [
       "Validation: 0it [00:00, ?it/s]"
      ]
     },
     "metadata": {},
     "output_type": "display_data"
    },
    {
     "data": {
      "application/vnd.jupyter.widget-view+json": {
       "model_id": "f013198e1c0a4038a9f356e420adddd9",
       "version_major": 2,
       "version_minor": 0
      },
      "text/plain": [
       "Validation: 0it [00:00, ?it/s]"
      ]
     },
     "metadata": {},
     "output_type": "display_data"
    },
    {
     "data": {
      "application/vnd.jupyter.widget-view+json": {
       "model_id": "9e00630125924bf893488f03432dbf0e",
       "version_major": 2,
       "version_minor": 0
      },
      "text/plain": [
       "Validation: 0it [00:00, ?it/s]"
      ]
     },
     "metadata": {},
     "output_type": "display_data"
    },
    {
     "name": "stderr",
     "output_type": "stream",
     "text": [
      "`Trainer.fit` stopped: `max_epochs=10` reached.\n"
     ]
    }
   ],
   "source": [
    "from lightning.pytorch.callbacks import ModelCheckpoint\n",
    "from lightning.pytorch.loggers import CSVLogger\n",
    "\n",
    "modelo = LitModel()\n",
    "\n",
    "trainer = L.Trainer(\n",
    "    accelerator=\"cuda\", \n",
    "    devices=1,  \n",
    "    precision=16, \n",
    "    max_epochs=10,\n",
    "    logger=CSVLogger('logs', 'MNIST', version=3),\n",
    "    callbacks=[ModelCheckpoint('checkpoints', 'MNIST', save_top_k=1, monitor='val_acc', mode='max')]\n",
    ")\n",
    "\n",
    "trainer.fit(modelo, dataloader['train'], dataloader['val'])"
   ]
  },
  {
   "attachments": {},
   "cell_type": "markdown",
   "metadata": {},
   "source": [
    "Otra caracterísitca interesante es la de poder llevar a cabo entrenamientos reproducibles (es decir, que siempre nos darán el mismo resultado siempre y cuando no cambiemos ningún parámetro). "
   ]
  },
  {
   "cell_type": "code",
   "execution_count": 25,
   "metadata": {},
   "outputs": [],
   "source": [
    "from lightning import seed_everything\n",
    "\n",
    "seed_everything(42, workers=True)\n",
    "\n",
    "trainer = L.Trainer(\n",
    "    accelerator=\"cuda\", \n",
    "    devices=1, \n",
    "    precision=16, \n",
    "    max_epochs=10,\n",
    "    deterministic=True,\n",
    "    logger=CSVLogger('logs', 'MNIST', version=3),\n",
    "    callbacks=[ModelCheckpoint('checkpoints', 'MNIST', save_top_k=1, monitor='val_acc', mode='max')]\n",
    ")\n",
    "\n",
    "trainer.fit(modelo, dataloader['train'], dataloader['val'])"
   ]
  },
  {
   "attachments": {},
   "cell_type": "markdown",
   "metadata": {},
   "source": [
    "Te animo a explorar todas las diferentes opciones del `Trainer` en la [documentación](https://lightning.ai/docs/pytorch/stable/common/trainer.html#trainer-flags).\n",
    "\n",
    "Otro concepto interesante es el del `LightningDataModule`, que nos permite encapsular la lógica de carga de datos. Esto nos permite reutilizar el mismo módulo para distintos problemas."
   ]
  },
  {
   "cell_type": "code",
   "execution_count": 26,
   "metadata": {},
   "outputs": [],
   "source": [
    "import torchvision\n",
    "from torchmetrics import Accuracy\n",
    "\n",
    "class MNISTDataModule(L.LightningDataModule):\n",
    "    def __init__(self, path = '../data', batch_size = 64):\n",
    "        super().__init__()\n",
    "        self.path = path\n",
    "        self.batch_size = batch_size\n",
    "\n",
    "    def setup(self, stage=None):\n",
    "        self.mnist_train = torchvision.datasets.MNIST(\n",
    "            self.path, train=True, download=True, transform=torchvision.transforms.Compose([\n",
    "                torchvision.transforms.ToTensor(),\n",
    "                torchvision.transforms.Normalize((0.1307,), (0.3081,))\n",
    "                ])\n",
    "          )\n",
    "        self.mnist_val = torchvision.datasets.MNIST(\n",
    "            self.path, train=False, download=True, transform=torchvision.transforms.Compose([\n",
    "                torchvision.transforms.ToTensor(),\n",
    "                torchvision.transforms.Normalize((0.1307,), (0.3081,))\n",
    "                ])\n",
    "          )\n",
    "        \n",
    "    def train_dataloader(self):\n",
    "        return torch.utils.data.DataLoader(self.mnist_train, batch_size=self.batch_size, shuffle=True, num_workers=4, pin_memory=True)\n",
    "\n",
    "    def val_dataloader(self):\n",
    "        return torch.utils.data.DataLoader(self.mnist_val, batch_size=self.batch_size, num_workers=4, pin_memory=True)\n",
    "    \n",
    "class MNISTModel(L.LightningModule):\n",
    "    def __init__(self, D_in=784, H=100, D_out=10):\n",
    "        super().__init__()\n",
    "        self.save_hyperparameters()\n",
    "        self.model = torch.nn.Sequential(\n",
    "            torch.nn.Flatten(),\n",
    "            torch.nn.Linear(D_in, H),\n",
    "            torch.nn.ReLU(),\n",
    "            torch.nn.Linear(H, D_out)\n",
    "        )\n",
    "        self.loss = torch.nn.CrossEntropyLoss()\n",
    "        self.accuracy = Accuracy(task='multiclass', num_classes=D_out)\n",
    "\n",
    "    def training_step(self, batch, batch_idx):\n",
    "        x, y = batch\n",
    "        y_hat = self.model(x)\n",
    "        loss = self.loss(y_hat, y)\n",
    "        self.log('loss', loss, prog_bar=True) \n",
    "        return loss\n",
    "    \n",
    "    def validation_step(self, batch, batch_idx):\n",
    "        x, y = batch\n",
    "        y_hat = self.model(x)\n",
    "        loss = self.loss(y_hat, y)\n",
    "        acc = self.accuracy(y_hat, y)\n",
    "        self.log('val_loss', loss, prog_bar=True)\n",
    "        self.log('val_acc', acc, prog_bar=True)\n",
    "\n",
    "    def configure_optimizers(self):\n",
    "        return torch.optim.Adam(self.parameters())"
   ]
  },
  {
   "cell_type": "code",
   "execution_count": 27,
   "metadata": {},
   "outputs": [
    {
     "name": "stderr",
     "output_type": "stream",
     "text": [
      "Using 16bit Automatic Mixed Precision (AMP)\n",
      "GPU available: True (cuda), used: True\n",
      "TPU available: False, using: 0 TPU cores\n",
      "IPU available: False, using: 0 IPUs\n",
      "HPU available: False, using: 0 HPUs\n",
      "You are using a CUDA device ('NVIDIA GeForce RTX 3090') that has Tensor Cores. To properly utilize them, you should set `torch.set_float32_matmul_precision('medium' | 'high')` which will trade-off precision for performance. For more details, read https://pytorch.org/docs/stable/generated/torch.set_float32_matmul_precision.html#torch.set_float32_matmul_precision\n",
      "LOCAL_RANK: 0 - CUDA_VISIBLE_DEVICES: [0,1]\n",
      "\n",
      "  | Name     | Type               | Params\n",
      "------------------------------------------------\n",
      "0 | model    | Sequential         | 79.5 K\n",
      "1 | loss     | CrossEntropyLoss   | 0     \n",
      "2 | accuracy | MulticlassAccuracy | 0     \n",
      "------------------------------------------------\n",
      "79.5 K    Trainable params\n",
      "0         Non-trainable params\n",
      "79.5 K    Total params\n",
      "0.318     Total estimated model params size (MB)\n"
     ]
    },
    {
     "data": {
      "application/vnd.jupyter.widget-view+json": {
       "model_id": "2b98961a31c240d7a244d18995717075",
       "version_major": 2,
       "version_minor": 0
      },
      "text/plain": [
       "Sanity Checking: 0it [00:00, ?it/s]"
      ]
     },
     "metadata": {},
     "output_type": "display_data"
    },
    {
     "data": {
      "application/vnd.jupyter.widget-view+json": {
       "model_id": "aac37336ad7e4c7e82e1796bcf61f3a9",
       "version_major": 2,
       "version_minor": 0
      },
      "text/plain": [
       "Training: 0it [00:00, ?it/s]"
      ]
     },
     "metadata": {},
     "output_type": "display_data"
    },
    {
     "data": {
      "application/vnd.jupyter.widget-view+json": {
       "model_id": "acbc9f9bc0284e3db465e7ae0cef1d7e",
       "version_major": 2,
       "version_minor": 0
      },
      "text/plain": [
       "Validation: 0it [00:00, ?it/s]"
      ]
     },
     "metadata": {},
     "output_type": "display_data"
    },
    {
     "data": {
      "application/vnd.jupyter.widget-view+json": {
       "model_id": "1aafa5291a9945eea74a57f38714224f",
       "version_major": 2,
       "version_minor": 0
      },
      "text/plain": [
       "Validation: 0it [00:00, ?it/s]"
      ]
     },
     "metadata": {},
     "output_type": "display_data"
    },
    {
     "data": {
      "application/vnd.jupyter.widget-view+json": {
       "model_id": "072688501bb64e68ab0013806d08861a",
       "version_major": 2,
       "version_minor": 0
      },
      "text/plain": [
       "Validation: 0it [00:00, ?it/s]"
      ]
     },
     "metadata": {},
     "output_type": "display_data"
    },
    {
     "data": {
      "application/vnd.jupyter.widget-view+json": {
       "model_id": "bf2e7a22e2b64c8a8b5138843ba0caa5",
       "version_major": 2,
       "version_minor": 0
      },
      "text/plain": [
       "Validation: 0it [00:00, ?it/s]"
      ]
     },
     "metadata": {},
     "output_type": "display_data"
    },
    {
     "data": {
      "application/vnd.jupyter.widget-view+json": {
       "model_id": "df1288e8e75a4851b97280ef57c77688",
       "version_major": 2,
       "version_minor": 0
      },
      "text/plain": [
       "Validation: 0it [00:00, ?it/s]"
      ]
     },
     "metadata": {},
     "output_type": "display_data"
    },
    {
     "data": {
      "application/vnd.jupyter.widget-view+json": {
       "model_id": "787a22d31e744f0aa7eede32773fad34",
       "version_major": 2,
       "version_minor": 0
      },
      "text/plain": [
       "Validation: 0it [00:00, ?it/s]"
      ]
     },
     "metadata": {},
     "output_type": "display_data"
    },
    {
     "data": {
      "application/vnd.jupyter.widget-view+json": {
       "model_id": "a29eb9c9a6304934b8bf81892ff00c41",
       "version_major": 2,
       "version_minor": 0
      },
      "text/plain": [
       "Validation: 0it [00:00, ?it/s]"
      ]
     },
     "metadata": {},
     "output_type": "display_data"
    },
    {
     "data": {
      "application/vnd.jupyter.widget-view+json": {
       "model_id": "7dd42dd58cc041099977b5938c608555",
       "version_major": 2,
       "version_minor": 0
      },
      "text/plain": [
       "Validation: 0it [00:00, ?it/s]"
      ]
     },
     "metadata": {},
     "output_type": "display_data"
    },
    {
     "data": {
      "application/vnd.jupyter.widget-view+json": {
       "model_id": "97551e447b774e30a6e2fdb21d666892",
       "version_major": 2,
       "version_minor": 0
      },
      "text/plain": [
       "Validation: 0it [00:00, ?it/s]"
      ]
     },
     "metadata": {},
     "output_type": "display_data"
    },
    {
     "data": {
      "application/vnd.jupyter.widget-view+json": {
       "model_id": "02f9685348a4435b9dc43f1b73f4bed5",
       "version_major": 2,
       "version_minor": 0
      },
      "text/plain": [
       "Validation: 0it [00:00, ?it/s]"
      ]
     },
     "metadata": {},
     "output_type": "display_data"
    },
    {
     "name": "stderr",
     "output_type": "stream",
     "text": [
      "`Trainer.fit` stopped: `max_epochs=10` reached.\n"
     ]
    }
   ],
   "source": [
    "datamodule = MNISTDataModule(batch_size=1000)\n",
    "modelo = MNISTModel()\n",
    "\n",
    "trainer = L.Trainer(\n",
    "    accelerator=\"cuda\", \n",
    "    devices=1,              \n",
    "    precision=16, \n",
    "    max_epochs=10,\n",
    "    callbacks=[ModelCheckpoint('checkpoints', 'MNISTModel', save_top_k=1, monitor='val_acc', mode='max')]\n",
    ")\n",
    "\n",
    "trainer.fit(modelo, datamodule)"
   ]
  },
  {
   "attachments": {},
   "cell_type": "markdown",
   "metadata": {},
   "source": [
    "Por último, puedes cargar los modelos exportados de la siguiente manera."
   ]
  },
  {
   "cell_type": "code",
   "execution_count": 28,
   "metadata": {},
   "outputs": [
    {
     "data": {
      "text/plain": [
       "MNISTModel(\n",
       "  (model): Sequential(\n",
       "    (0): Flatten(start_dim=1, end_dim=-1)\n",
       "    (1): Linear(in_features=784, out_features=100, bias=True)\n",
       "    (2): ReLU()\n",
       "    (3): Linear(in_features=100, out_features=10, bias=True)\n",
       "  )\n",
       "  (loss): CrossEntropyLoss()\n",
       "  (accuracy): MulticlassAccuracy()\n",
       ")"
      ]
     },
     "execution_count": 28,
     "metadata": {},
     "output_type": "execute_result"
    }
   ],
   "source": [
    "modelo = MNISTModel.load_from_checkpoint(checkpoint_path=\"checkpoints/MNISTModel.ckpt\")\n",
    "modelo"
   ]
  },
  {
   "cell_type": "code",
   "execution_count": 30,
   "metadata": {},
   "outputs": [
    {
     "data": {
      "text/plain": [
       "\"D_in\":  784\n",
       "\"D_out\": 10\n",
       "\"H\":     100"
      ]
     },
     "execution_count": 30,
     "metadata": {},
     "output_type": "execute_result"
    }
   ],
   "source": [
    "modelo.hparams"
   ]
  },
  {
   "attachments": {},
   "cell_type": "markdown",
   "metadata": {},
   "source": [
    "## Resumen"
   ]
  },
  {
   "attachments": {},
   "cell_type": "markdown",
   "metadata": {},
   "source": [
    "En este post hemos aprendido a trabajar con `Pytorch Lightning` en su nueva versión 2.0 que, además de estar preparada para `Pytorch 2.0`, incluye una nueva funcionalidad llamada `Fabric`. Esta librería nos permite vitaminar nuestro código en `Pytorch` poco a poco para ir añadiendo funcionalidades sin tener que preocuparnos por su implementación, como por ejemplo el entrenamiento distribuido en múltiples `GPUs` o `TPUs`, o el uso de *callbacks* y *loggers*. Por otro lado, `Pytorch Lightning` nos ofrece una solución más completa, que nos permite estructurar nuestro código de manera más ordenada y reproducible, a la vez que nos ofrece una gran flexibilidad y potencia a la hora de entrenar nuestros modelos. Si bien la funcionalidad presentada aquí cubre la mayoría de casos, te recomiendo que inviertas un poco de tiempo en explorar todas las posibilidades que ofrece https://github.com/Lightning-AI/lightning."
   ]
  }
 ],
 "metadata": {
  "kernelspec": {
   "display_name": "pt2",
   "language": "python",
   "name": "python3"
  },
  "language_info": {
   "codemirror_mode": {
    "name": "ipython",
    "version": 3
   },
   "file_extension": ".py",
   "mimetype": "text/x-python",
   "name": "python",
   "nbconvert_exporter": "python",
   "pygments_lexer": "ipython3",
   "version": "3.10.9"
  },
  "orig_nbformat": 4
 },
 "nbformat": 4,
 "nbformat_minor": 2
}
