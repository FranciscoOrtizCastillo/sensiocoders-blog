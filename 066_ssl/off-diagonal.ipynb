{
 "cells": [
  {
   "cell_type": "code",
   "execution_count": 52,
   "id": "prospective-professional",
   "metadata": {
    "ExecuteTime": {
     "end_time": "2021-05-12T11:02:12.157999Z",
     "start_time": "2021-05-12T11:02:12.141000Z"
    }
   },
   "outputs": [
    {
     "data": {
      "text/plain": [
       "tensor([[-1.2181, -0.5025,  0.7069, -0.2412, -0.3596],\n",
       "        [ 0.2326,  0.1516,  1.5307,  0.8522,  0.1109],\n",
       "        [ 1.5385, -0.5968, -0.8763, -0.5009,  1.4932],\n",
       "        [-0.7519,  0.5347,  2.2006,  0.1938,  1.0991],\n",
       "        [ 1.4369,  0.4218, -0.8014,  0.5473,  0.2167]])"
      ]
     },
     "execution_count": 52,
     "metadata": {},
     "output_type": "execute_result"
    }
   ],
   "source": [
    "import torch \n",
    "\n",
    "shape = (5, 5)\n",
    "A = torch.randn(shape)\n",
    "A"
   ]
  },
  {
   "cell_type": "code",
   "execution_count": 53,
   "id": "competitive-geography",
   "metadata": {
    "ExecuteTime": {
     "end_time": "2021-05-12T11:02:12.284999Z",
     "start_time": "2021-05-12T11:02:12.279001Z"
    }
   },
   "outputs": [
    {
     "data": {
      "text/plain": [
       "tensor([[ True, False, False, False, False],\n",
       "        [False,  True, False, False, False],\n",
       "        [False, False,  True, False, False],\n",
       "        [False, False, False,  True, False],\n",
       "        [False, False, False, False,  True]])"
      ]
     },
     "execution_count": 53,
     "metadata": {},
     "output_type": "execute_result"
    }
   ],
   "source": [
    "d = torch.eye(5, dtype=bool)\n",
    "d"
   ]
  },
  {
   "cell_type": "code",
   "execution_count": 59,
   "id": "several-caution",
   "metadata": {
    "ExecuteTime": {
     "end_time": "2021-05-12T11:02:15.380606Z",
     "start_time": "2021-05-12T11:02:15.364608Z"
    }
   },
   "outputs": [
    {
     "data": {
      "text/plain": [
       "tensor([[-1.2181e+00, -5.0254e-07,  7.0689e-07, -2.4117e-07, -3.5963e-07],\n",
       "        [ 2.3258e-07,  1.5161e-01,  1.5307e-06,  8.5219e-07,  1.1090e-07],\n",
       "        [ 1.5385e-06, -5.9677e-07, -8.7627e-01, -5.0090e-07,  1.4932e-06],\n",
       "        [-7.5190e-07,  5.3475e-07,  2.2006e-06,  1.9384e-01,  1.0991e-06],\n",
       "        [ 1.4369e-06,  4.2177e-07, -8.0135e-07,  5.4735e-07,  2.1669e-01]])"
      ]
     },
     "execution_count": 59,
     "metadata": {},
     "output_type": "execute_result"
    }
   ],
   "source": [
    "A[~d] *= 0.1\n",
    "A"
   ]
  },
  {
   "cell_type": "code",
   "execution_count": null,
   "id": "abstract-banking",
   "metadata": {},
   "outputs": [],
   "source": []
  },
  {
   "cell_type": "code",
   "execution_count": null,
   "id": "fifty-coaching",
   "metadata": {},
   "outputs": [],
   "source": []
  }
 ],
 "metadata": {
  "kernelspec": {
   "display_name": "Python 3",
   "language": "python",
   "name": "python3"
  },
  "language_info": {
   "codemirror_mode": {
    "name": "ipython",
    "version": 3
   },
   "file_extension": ".py",
   "mimetype": "text/x-python",
   "name": "python",
   "nbconvert_exporter": "python",
   "pygments_lexer": "ipython3",
   "version": "3.7.6"
  },
  "toc": {
   "base_numbering": 1,
   "nav_menu": {},
   "number_sections": true,
   "sideBar": true,
   "skip_h1_title": false,
   "title_cell": "Table of Contents",
   "title_sidebar": "Contents",
   "toc_cell": false,
   "toc_position": {},
   "toc_section_display": true,
   "toc_window_display": false
  }
 },
 "nbformat": 4,
 "nbformat_minor": 5
}
