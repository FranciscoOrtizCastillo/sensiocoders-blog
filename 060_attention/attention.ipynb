{
 "cells": [
  {
   "cell_type": "markdown",
   "id": "horizontal-composite",
   "metadata": {},
   "source": [
    "[![Open In Colab](https://colab.research.google.com/assets/colab-badge.svg)](https://colab.research.google.com/github/juansensio/blog/blob/master/060_attention/attention.ipynb)"
   ]
  },
  {
   "cell_type": "markdown",
   "id": "diagnostic-gibraltar",
   "metadata": {},
   "source": [
    "# Transformers - Atención"
   ]
  },
  {
   "cell_type": "markdown",
   "id": "educational-dollar",
   "metadata": {},
   "source": [
    "Si hay un tema candente en el mundo del *Deep Learning* a día de hoy, ese es in duda el de los *Transformers*. Desde que esta arquitectura de redes neuronales fue introducida en 2017 en el artículo [*Attention is all you need*](https://arxiv.org/abs/1706.03762) nuevas aplicaciones aparecen cada día en diferentes campos, mejorando el *state of the art*. Si bien el mayor impacto de los *Transformers* se ha visto en el campo del procesado de lenguaje natural, su aplicación en otros dominios (como el de la visión artificial) no hace más que crecer. Es debido a esta situación en la que me pregunto, ¿pero qué es un *Transformer*?, ¿cómo funiona?, ¿en qué se diferencia de otras arquitecturas como redes convolucionales o recurrentes? Con el objetivo de dar respuesta a estas preguntas, y muchas otras que surgirán por el camino, inicio una serie de posts y así entender si realmente es oro todo lo que reluce."
   ]
  },
  {
   "cell_type": "markdown",
   "id": "upper-breast",
   "metadata": {},
   "source": [
    "## *Attention is all you need*"
   ]
  },
  {
   "cell_type": "markdown",
   "id": "determined-papua",
   "metadata": {},
   "source": [
    "Como comentaba en el párrafo anterior, la arquitectura *Transformer* hizo su aparición a escena en 2017 gracias al artículo [*Attention is all you need*](https://arxiv.org/abs/1706.03762). El *paper* empieza así...\n",
    "\n",
    "> *The dominant sequence transduction models are based on complex recurrent or\n",
    "convolutional neural networks that include an encoder and a decoder. The best\n",
    "performing models also connect the encoder and decoder through an attention\n",
    "mechanism. We propose a new simple network architecture, the Transformer,\n",
    "based solely on attention mechanisms, dispensing with recurrence and convolutions\n",
    "entirely.*\n",
    "\n",
    "lo que traducido sería algo así como...\n",
    "\n",
    "> *Los modelos secuenciales de transducción dominantes están basados en redes neuronales recurrentes o convolucionales complejas, las cuales incluyen un codificador y un decodificador. Los mejores modelos, además, conectan el codificador y el decodificador mediante un mecanismo de atención. Proponemos una nueva arquitectura simple, el Transformer, basado solamente en mecanismos de atención, haciendo innecesario el uso de recurrencia o convoluciones*\n",
    "\n",
    "A grandes rasgos, podemos ver que efectivamente se trata de una nueva arquitectura basada en algo llamado `mecanismos de atención`, y que no utiliza ni convoluciones ni recurrencia. En [este](https://sensioai.com/blog/041_attention) post ya hablamos sobre este tema, sin embargo vamos ahora a entrar en detalle sobre lo que significa `atención` y como se implementa."
   ]
  },
  {
   "cell_type": "markdown",
   "id": "stopped-catering",
   "metadata": {},
   "source": [
    "## ¿Qué es la atención?"
   ]
  },
  {
   "cell_type": "markdown",
   "id": "final-donna",
   "metadata": {},
   "source": [
    "Un mecanismo de atención, en el contexto de las redes neuronales, consiste en una operación matemática que recibirá como *inputs* un conjunto de vectores (que ya sabemos que pueden representar texto, imágenes o cualquier tipo de datos con el que trabajemos) y nos dará como resultado otro conjunto de vectores. Este resultado dependerá, obviamente, del tipo de mecanismo de atención que utilizemos. Vamos a ver algunos ejemplos."
   ]
  },
  {
   "cell_type": "markdown",
   "id": "decreased-providence",
   "metadata": {},
   "source": [
    "### *Hard attention*"
   ]
  },
  {
   "cell_type": "markdown",
   "id": "provincial-injury",
   "metadata": {},
   "source": [
    "El mecanismo de atención más sencillo de entender es el conocido como *hard attention mechanism*. En este tipo de atención generaremos un número de vectores a la salida igual a los de la entrada (de ahora en adelante asumiremos que este es siempre el caso a no ser que se indique lo contrario) en el que cada *output* atenderá únicamente a su correspondiente vector a la entrada. O dicho de otra forma, este mecanismo de atención no produce nada nuevo, produce a la salida lo mismo que recibe a la entrada. Considera el conjunto de vectores siguiente."
   ]
  },
  {
   "cell_type": "code",
   "execution_count": 5,
   "id": "allied-laundry",
   "metadata": {
    "ExecuteTime": {
     "end_time": "2021-03-12T19:07:26.190530Z",
     "start_time": "2021-03-12T19:07:26.187804Z"
    }
   },
   "outputs": [],
   "source": [
    "import numpy as np\n",
    "import torch\n",
    "import matplotlib.pyplot as plt\n",
    "import numpy as np"
   ]
  },
  {
   "cell_type": "code",
   "execution_count": 6,
   "id": "modular-civilian",
   "metadata": {
    "ExecuteTime": {
     "end_time": "2021-03-12T19:07:26.338037Z",
     "start_time": "2021-03-12T19:07:26.331337Z"
    }
   },
   "outputs": [
    {
     "data": {
      "text/plain": [
       "tensor([[ 1.0000,  0.0000],\n",
       "        [ 0.0000,  1.0000],\n",
       "        [-0.5000, -0.5000]])"
      ]
     },
     "execution_count": 6,
     "metadata": {},
     "output_type": "execute_result"
    }
   ],
   "source": [
    "X = torch.tensor([[1, 0],[0, 1], [-0.5, -0.5]])\n",
    "X"
   ]
  },
  {
   "cell_type": "code",
   "execution_count": 34,
   "id": "cognitive-livestock",
   "metadata": {
    "ExecuteTime": {
     "end_time": "2021-03-12T19:13:53.670473Z",
     "start_time": "2021-03-12T19:13:53.583838Z"
    }
   },
   "outputs": [
    {
     "data": {
      "image/png": "[encoded data removed]",
      "text/plain": [
       "<Figure size 576x504 with 1 Axes>"
      ]
     },
     "metadata": {},
     "output_type": "display_data"
    }
   ],
   "source": [
    "def plot_vectors(X, y=None):\n",
    "    ax = plt.axes()\n",
    "    plt.grid()\n",
    "    for x in X:\n",
    "        ax.arrow(0, 0, x[0], x[1], head_width=0.1, head_length=0.1, color=\"white\")\n",
    "    if y is not None:\n",
    "        for _y in y:\n",
    "            if _y.sum() != 0:\n",
    "                ax.arrow(0, 0, _y[0], _y[1], head_width=0.1, head_length=0.1, color='red')\n",
    "    plt.xlim(-1,1.5)\n",
    "    plt.ylim(-1,1.5)\n",
    "    plt.show()\n",
    "\n",
    "plot_vectors(X)"
   ]
  },
  {
   "cell_type": "markdown",
   "id": "hybrid-newfoundland",
   "metadata": {},
   "source": [
    "Un mecaniso de *hard attention* presatará atención 😉 a un único vector. Podemos representarlo como un vector en el que, en cada posición, tenemos el peso relativo de cada vector a la entrada. En este caso, todos los valores serán 0 excepto el que se encuentre en la mismo posición del vector al que queremos prestar atención."
   ]
  },
  {
   "cell_type": "code",
   "execution_count": 71,
   "id": "collaborative-venezuela",
   "metadata": {
    "ExecuteTime": {
     "end_time": "2021-03-12T19:17:38.734978Z",
     "start_time": "2021-03-12T19:17:38.728814Z"
    }
   },
   "outputs": [
    {
     "data": {
      "text/plain": [
       "tensor([1, 0, 0])"
      ]
     },
     "execution_count": 71,
     "metadata": {},
     "output_type": "execute_result"
    }
   ],
   "source": [
    "# hard attention (a es one hot)\n",
    "# atendemos al primer vector \n",
    "a = torch.tensor([1, 0, 0])\n",
    "a"
   ]
  },
  {
   "cell_type": "markdown",
   "id": "premier-graphics",
   "metadata": {},
   "source": [
    "Para aplicar nuestro mecanismo de atención, simplemente multiplicamos nuestro conjunto de vectores por el vector de atención."
   ]
  },
  {
   "cell_type": "code",
   "execution_count": 72,
   "id": "warming-narrow",
   "metadata": {
    "ExecuteTime": {
     "end_time": "2021-03-12T19:17:38.836020Z",
     "start_time": "2021-03-12T19:17:38.830750Z"
    }
   },
   "outputs": [
    {
     "data": {
      "text/plain": [
       "tensor([[1., 0.],\n",
       "        [0., 0.],\n",
       "        [-0., -0.]])"
      ]
     },
     "execution_count": 72,
     "metadata": {},
     "output_type": "execute_result"
    }
   ],
   "source": [
    "# todos los vectores en la salida son 0, excepto al que hemos prestado atención\n",
    "\n",
    "y = a.unsqueeze(1) * X\n",
    "y"
   ]
  },
  {
   "cell_type": "markdown",
   "id": "analyzed-filling",
   "metadata": {},
   "source": [
    "Podemos ver en rojo la salida de nuestro mecanismo de atención fuerte cuando atendemos al primer vector (es, efectivamente, igual al primer vector). Hemos prestado atención únicamente a un elemento del conjunto, deshechando el resto."
   ]
  },
  {
   "cell_type": "code",
   "execution_count": 73,
   "id": "advisory-jerusalem",
   "metadata": {
    "ExecuteTime": {
     "end_time": "2021-03-12T19:17:48.605449Z",
     "start_time": "2021-03-12T19:17:48.521273Z"
    }
   },
   "outputs": [
    {
     "data": {
      "image/png": "[encoded data removed]",
      "text/plain": [
       "<Figure size 576x504 with 1 Axes>"
      ]
     },
     "metadata": {},
     "output_type": "display_data"
    }
   ],
   "source": [
    "plot_vectors(X, y)"
   ]
  },
  {
   "cell_type": "markdown",
   "id": "enhanced-winner",
   "metadata": {},
   "source": [
    "Podemos aplicar este mecanismo en una sola operación a todos los vectores generando una matriz de atención. En el caso de *hard attention*, esta matriz es la identidad."
   ]
  },
  {
   "cell_type": "code",
   "execution_count": 75,
   "id": "spare-yesterday",
   "metadata": {
    "ExecuteTime": {
     "end_time": "2021-03-12T19:19:28.775100Z",
     "start_time": "2021-03-12T19:19:28.770321Z"
    }
   },
   "outputs": [
    {
     "data": {
      "text/plain": [
       "tensor([[1., 0., 0.],\n",
       "        [0., 1., 0.],\n",
       "        [0., 0., 1.]])"
      ]
     },
     "execution_count": 75,
     "metadata": {},
     "output_type": "execute_result"
    }
   ],
   "source": [
    "A = torch.eye(3)\n",
    "A"
   ]
  },
  {
   "cell_type": "markdown",
   "id": "extended-begin",
   "metadata": {},
   "source": [
    "Multiplicando nuestra matriz de atención por la matriz que contiene todos los vectores de entrada, obtenemos los vectores de salida. En este caso, repetimos, obtendremos exactamente el mismo conjunto de vectores ya que cada vector a la salida atiene únicamente a un vector a la entrada, aquel que está en su misma posición. "
   ]
  },
  {
   "cell_type": "code",
   "execution_count": 77,
   "id": "occupied-leader",
   "metadata": {
    "ExecuteTime": {
     "end_time": "2021-03-12T19:20:55.509600Z",
     "start_time": "2021-03-12T19:20:55.503336Z"
    }
   },
   "outputs": [
    {
     "data": {
      "text/plain": [
       "tensor([[ 1.0000,  0.0000],\n",
       "        [ 0.0000,  1.0000],\n",
       "        [-0.5000, -0.5000]])"
      ]
     },
     "execution_count": 77,
     "metadata": {},
     "output_type": "execute_result"
    }
   ],
   "source": [
    "Y = A @ X\n",
    "Y"
   ]
  },
  {
   "cell_type": "code",
   "execution_count": 81,
   "id": "conditional-accommodation",
   "metadata": {
    "ExecuteTime": {
     "end_time": "2021-03-12T19:21:35.124329Z",
     "start_time": "2021-03-12T19:21:35.112711Z"
    }
   },
   "outputs": [],
   "source": [
    "def plot(X, Y):\n",
    "    fig = plt.figure(figsize=(15,4))\n",
    "    for i, (x, y) in enumerate(zip(X, Y)):\n",
    "      ax = plt.subplot(1, 3, i + 1)\n",
    "      for x in X:\n",
    "          ax.arrow(0, 0, x[0], x[1], head_width=0.1, color=\"white\", head_length=0.1)\n",
    "      ax.arrow(0, 0, y[0], y[1], head_width=0.1, head_length=0.1, color='red')\n",
    "      ax.set_xlim(-1,1.5)\n",
    "      ax.set_ylim(-1,1.5)\n",
    "      ax.grid(True)\n",
    "      ax.set_title(f\"Atiende a {X[i].tolist()}\")\n",
    "    plt.tight_layout()\n",
    "    plt.show()"
   ]
  },
  {
   "cell_type": "code",
   "execution_count": 82,
   "id": "blessed-number",
   "metadata": {
    "ExecuteTime": {
     "end_time": "2021-03-12T19:21:36.315545Z",
     "start_time": "2021-03-12T19:21:36.162142Z"
    }
   },
   "outputs": [
    {
     "data": {
      "image/png": "[encoded data removed]",
      "text/plain": [
       "<Figure size 1080x288 with 3 Axes>"
      ]
     },
     "metadata": {},
     "output_type": "display_data"
    }
   ],
   "source": [
    "plot(X, Y)"
   ]
  },
  {
   "cell_type": "markdown",
   "id": "neural-basin",
   "metadata": {},
   "source": [
    "## *Soft attention*"
   ]
  },
  {
   "cell_type": "markdown",
   "id": "golden-astronomy",
   "metadata": {},
   "source": [
    "Ahora que hemos explicado qué es un mecanismo de atención y visto un ejemplo sencillo, vamos a ver otro tipo de mecanismo un poco más flexible. Si en el caso de la atención fuerte, cada vector generado presta atención simplemente a un único vector en la entrada, en el caso de la atención débil vamos a permitir prestar atención a todos los vectores a la entrada. Así pues, cada vector generado será una combinación de los *inputs*. En el siguiente ejemplo, cada vector generado presta un 80% de atención al vector en la entrada en su misma posición y un 10% al resto."
   ]
  },
  {
   "cell_type": "code",
   "execution_count": 88,
   "id": "equivalent-chamber",
   "metadata": {
    "ExecuteTime": {
     "end_time": "2021-03-12T19:29:56.083065Z",
     "start_time": "2021-03-12T19:29:56.077867Z"
    }
   },
   "outputs": [
    {
     "data": {
      "text/plain": [
       "tensor([[0.8000, 0.1000, 0.1000],\n",
       "        [0.1000, 0.8000, 0.1000],\n",
       "        [0.1000, 0.1000, 0.8000]])"
      ]
     },
     "execution_count": 88,
     "metadata": {},
     "output_type": "execute_result"
    }
   ],
   "source": [
    "# soft attention (cada fila suma 1)\n",
    "\n",
    "A = torch.ones((3, 3))*0.1\n",
    "A.fill_diagonal_(0.8)\n",
    "A"
   ]
  },
  {
   "cell_type": "code",
   "execution_count": 89,
   "id": "talented-producer",
   "metadata": {
    "ExecuteTime": {
     "end_time": "2021-03-12T19:30:04.627101Z",
     "start_time": "2021-03-12T19:30:04.619822Z"
    }
   },
   "outputs": [
    {
     "data": {
      "text/plain": [
       "tensor([[ 0.7500,  0.0500],\n",
       "        [ 0.0500,  0.7500],\n",
       "        [-0.3000, -0.3000]])"
      ]
     },
     "execution_count": 89,
     "metadata": {},
     "output_type": "execute_result"
    }
   ],
   "source": [
    "Y = A @ X\n",
    "Y"
   ]
  },
  {
   "cell_type": "code",
   "execution_count": 93,
   "id": "cognitive-green",
   "metadata": {
    "ExecuteTime": {
     "end_time": "2021-03-12T19:30:46.065971Z",
     "start_time": "2021-03-12T19:30:46.053676Z"
    },
    "code_folding": [
     0
    ]
   },
   "outputs": [],
   "source": [
    "def plot(X, Y):\n",
    "    fig = plt.figure(figsize=(15,4))\n",
    "    for i, (x, y) in enumerate(zip(X, Y)):\n",
    "      ax = plt.subplot(1, 3, i + 1)\n",
    "      for x in X:\n",
    "          ax.arrow(0, 0, x[0], x[1], color=\"white\", head_width=0.1, head_length=0.1)\n",
    "      Z = A[i].unsqueeze(1) * X\n",
    "      for z in Z:\n",
    "        ax.arrow(0, 0, z[0], z[1], head_width=0.1, head_length=0.1, color='green')\n",
    "      ax.arrow(0, 0, y[0], y[1], head_width=0.1, head_length=0.1, color='red')\n",
    "      ax.set_xlim(-1,1.5)\n",
    "      ax.set_ylim(-1,1.5)\n",
    "      ax.grid(True)\n",
    "      ax.set_title(f\"Atiende a {X[i].tolist()}\")\n",
    "    plt.tight_layout()\n",
    "    plt.show()"
   ]
  },
  {
   "cell_type": "code",
   "execution_count": 94,
   "id": "disabled-hollow",
   "metadata": {
    "ExecuteTime": {
     "end_time": "2021-03-12T19:30:46.326232Z",
     "start_time": "2021-03-12T19:30:46.168012Z"
    }
   },
   "outputs": [
    {
     "data": {
      "image/png": "[encoded data removed]",
      "text/plain": [
       "<Figure size 1080x288 with 3 Axes>"
      ]
     },
     "metadata": {},
     "output_type": "display_data"
    }
   ],
   "source": [
    "plot(X, Y)"
   ]
  },
  {
   "cell_type": "markdown",
   "id": "divided-grave",
   "metadata": {},
   "source": [
    "En verde puedes ver la contribución de cada vector al resultado, mientras que en rojo puedes ver los vectores generados por nuestro mecanismo de atención. En este caso, son muy similares a los originales ya que estamos prestando mucha atención a éstos mismo. Sin embargo, el resto de vectores pueden influir en el resultado. Vamos ahora a prestar igual atención a todos los vectores."
   ]
  },
  {
   "cell_type": "code",
   "execution_count": 95,
   "id": "specific-copyright",
   "metadata": {
    "ExecuteTime": {
     "end_time": "2021-03-12T19:32:47.843726Z",
     "start_time": "2021-03-12T19:32:47.837410Z"
    }
   },
   "outputs": [
    {
     "data": {
      "text/plain": [
       "tensor([[0.3333, 0.3333, 0.3333],\n",
       "        [0.3333, 0.3333, 0.3333],\n",
       "        [0.3333, 0.3333, 0.3333]])"
      ]
     },
     "execution_count": 95,
     "metadata": {},
     "output_type": "execute_result"
    }
   ],
   "source": [
    "A = torch.ones((3, 3))*(1./3.)\n",
    "A"
   ]
  },
  {
   "cell_type": "code",
   "execution_count": 96,
   "id": "handy-tower",
   "metadata": {
    "ExecuteTime": {
     "end_time": "2021-03-12T19:32:53.109540Z",
     "start_time": "2021-03-12T19:32:53.104909Z"
    }
   },
   "outputs": [
    {
     "data": {
      "text/plain": [
       "tensor([[0.1667, 0.1667],\n",
       "        [0.1667, 0.1667],\n",
       "        [0.1667, 0.1667]])"
      ]
     },
     "execution_count": 96,
     "metadata": {},
     "output_type": "execute_result"
    }
   ],
   "source": [
    "Y = A @ X\n",
    "Y"
   ]
  },
  {
   "cell_type": "code",
   "execution_count": 97,
   "id": "sharp-montreal",
   "metadata": {
    "ExecuteTime": {
     "end_time": "2021-03-12T19:32:57.751642Z",
     "start_time": "2021-03-12T19:32:57.593673Z"
    }
   },
   "outputs": [
    {
     "data": {
      "image/png": "[encoded data removed]",
      "text/plain": [
       "<Figure size 1080x288 with 3 Axes>"
      ]
     },
     "metadata": {},
     "output_type": "display_data"
    }
   ],
   "source": [
    "plot(X, Y)"
   ]
  },
  {
   "cell_type": "markdown",
   "id": "knowing-torture",
   "metadata": {},
   "source": [
    "En este caso, todos los vectores generados son iguales. La pregunta ahora es, ¿cuánta atención debe un vector prestar al resto? La respuesta es sencilla...*Self attention* !"
   ]
  },
  {
   "cell_type": "markdown",
   "id": "frequent-study",
   "metadata": {},
   "source": [
    "### *Self attention*"
   ]
  },
  {
   "cell_type": "markdown",
   "id": "precise-stockholm",
   "metadata": {},
   "source": [
    "En este último mecanismo de atención que veremos, cada vector es responsable de decidir por si misma cuánta atención prestar al resto. Para ello calcularemos la similitud entre vectores. Cuanto más parecidos sean dos vectores, más atención habrá entre ellos y viceversa. En una tarea de traducción de texto, por ejemplo, a la hora de generar una palabra un mecanismo de *self attention* permitiría prestar más atención a aquellas palabras más relacionadas a la entrada, y no desperdiciar computación con aquellas que no tienen importancia."
   ]
  },
  {
   "cell_type": "code",
   "execution_count": 98,
   "id": "united-microphone",
   "metadata": {
    "ExecuteTime": {
     "end_time": "2021-03-12T19:37:07.124355Z",
     "start_time": "2021-03-12T19:37:07.113703Z"
    }
   },
   "outputs": [
    {
     "data": {
      "text/plain": [
       "tensor([[0.6285, 0.2312, 0.1402],\n",
       "        [0.2312, 0.6285, 0.1402],\n",
       "        [0.2119, 0.2119, 0.5761]])"
      ]
     },
     "execution_count": 98,
     "metadata": {},
     "output_type": "execute_result"
    }
   ],
   "source": [
    "# self attention -> similitud de cada vector con el resto\n",
    "\n",
    "A = torch.softmax(X @ X.T, 1)\n",
    "A"
   ]
  },
  {
   "cell_type": "code",
   "execution_count": 99,
   "id": "further-hawaiian",
   "metadata": {
    "ExecuteTime": {
     "end_time": "2021-03-12T19:37:22.410803Z",
     "start_time": "2021-03-12T19:37:22.405860Z"
    }
   },
   "outputs": [
    {
     "data": {
      "text/plain": [
       "tensor([[ 0.5584,  0.1611],\n",
       "        [ 0.1611,  0.5584],\n",
       "        [-0.0761, -0.0761]])"
      ]
     },
     "execution_count": 99,
     "metadata": {},
     "output_type": "execute_result"
    }
   ],
   "source": [
    "Y = A @ X\n",
    "Y"
   ]
  },
  {
   "cell_type": "code",
   "execution_count": 100,
   "id": "neural-phoenix",
   "metadata": {
    "ExecuteTime": {
     "end_time": "2021-03-12T19:37:29.805071Z",
     "start_time": "2021-03-12T19:37:29.640850Z"
    }
   },
   "outputs": [
    {
     "data": {
      "image/png": "[encoded data removed]",
      "text/plain": [
       "<Figure size 1080x288 with 3 Axes>"
      ]
     },
     "metadata": {},
     "output_type": "display_data"
    }
   ],
   "source": [
    "plot(X, Y)"
   ]
  },
  {
   "cell_type": "markdown",
   "id": "ceramic-diesel",
   "metadata": {},
   "source": [
    "## Resumen"
   ]
  },
  {
   "cell_type": "markdown",
   "id": "baking-fifteen",
   "metadata": {},
   "source": [
    "En este post hemos visto uno de los principales conceptos a la hora de trabajar con *Transoformers*: los mecanismos de atención. Hemos aprendido que estos mecanismos reciben conjuntos de vectores a su entrada y son responsables de generar otro a su salida. Este resultado dependerá del mecanismo. En *hard attention*, cada vector generado presta atención únicamente a un vector (aquel que se encuentra en su misma posición a la entrada). En *soft attention* generamos vectores que son combinaciones de todos los vectores a la entrada. Por último, un mecanismo de *self attention* no es más que un mecanismo de *soft attention* en el que la importancia de cada vector a la entrada depende de la similitud entre este y el resto de *inputs*. En los posts siguientes seguiremos adentrándonos en el mundo de los *Transformers*, viendo otros conceptos importantes y sus implementaciones en Pytorch."
   ]
  }
 ],
 "metadata": {
  "kernelspec": {
   "display_name": "Python 3",
   "language": "python",
   "name": "python3"
  },
  "language_info": {
   "codemirror_mode": {
    "name": "ipython",
    "version": 3
   },
   "file_extension": ".py",
   "mimetype": "text/x-python",
   "name": "python",
   "nbconvert_exporter": "python",
   "pygments_lexer": "ipython3",
   "version": "3.8.2"
  },
  "toc": {
   "base_numbering": 1,
   "nav_menu": {},
   "number_sections": true,
   "sideBar": true,
   "skip_h1_title": false,
   "title_cell": "Table of Contents",
   "title_sidebar": "Contents",
   "toc_cell": false,
   "toc_position": {},
   "toc_section_display": true,
   "toc_window_display": false
  }
 },
 "nbformat": 4,
 "nbformat_minor": 5
}
