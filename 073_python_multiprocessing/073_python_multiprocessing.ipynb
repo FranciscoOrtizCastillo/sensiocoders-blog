{
 "cells": [
  {
   "cell_type": "markdown",
   "source": [
    "[![Open In Colab](https://colab.research.google.com/assets/colab-badge.svg)](https://colab.research.google.com/github/juansensio/blog/blob/master/073_python_multiprocessing/073_python_multiprocessing.ipynb)"
   ],
   "metadata": {}
  },
  {
   "cell_type": "markdown",
   "source": [
    "# Python Multprocessing"
   ],
   "metadata": {}
  },
  {
   "cell_type": "markdown",
   "source": [
    "En este post vamos a aprender a ejectuar nuestro código en `Python` uando todos los `cores` de nuestra `CPU`. De esta manera, tareas que normalmente ejecutaríamos de manera secuencial y podrían llevar mucho tiempo las podremos paralelizar consiguiendo una gran mejora.\r\n",
    "\r\n",
    "Empezaremos ilustrando la gran potencia de este método en un ejemplo sencillo que consiste en leer un conjunto de imágenes de satélite de una carpeta, convertirlas a `PNG` usando las bandas `RGB` y guardar el resultado en otra carpeta. Para ello usaremos las imágenes del dataset [EuroSAT](https://github.com/phelber/eurosat), usado en los posts anteriores."
   ],
   "metadata": {}
  },
  {
   "cell_type": "code",
   "execution_count": 1,
   "source": [
    "import glob \r\n",
    "\r\n",
    "path = './data'\r\n",
    "\r\n",
    "images = glob.glob(f'{path}/*/*.tif')\r\n",
    "\r\n",
    "len(images)"
   ],
   "outputs": [
    {
     "output_type": "execute_result",
     "data": {
      "text/plain": [
       "27000"
      ]
     },
     "metadata": {},
     "execution_count": 1
    }
   ],
   "metadata": {}
  },
  {
   "cell_type": "code",
   "execution_count": 25,
   "source": [
    "import skimage.io as io\r\n",
    "import numpy as np\r\n",
    "\r\n",
    "def read_ms(img):\r\n",
    "    ms = io.imread(img)\r\n",
    "    # las imágenes originales tienen 13 bandas\r\n",
    "    assert ms.shape[2] == 13\r\n",
    "    return ms\r\n",
    "\r\n",
    "def get_rgb(ms):\r\n",
    "    # nos quedamos con 3 bandas (RGB) y normalizamos\r\n",
    "    return (255 * (ms[...,(3,2,1)] / 4000).clip(0,1)).astype(np.uint8)\r\n",
    "\r\n",
    "dest_folder = f'{path}/results'\r\n",
    "def save_png(name, img, sep=\"\\\\\"):\r\n",
    "    img_name = name.split(sep)[-1][:-4]\r\n",
    "    file_path = f'{dest_folder}/{img_name}.png'\r\n",
    "    io.imsave(file_path, img)\r\n",
    "    return file_path"
   ],
   "outputs": [],
   "metadata": {}
  },
  {
   "cell_type": "code",
   "execution_count": 26,
   "source": [
    "from tqdm import tqdm \r\n",
    "import warnings \r\n",
    "\r\n",
    "warnings.simplefilter(\"ignore\") # se queja que hay imágenes con bajo contraste\r\n"
   ],
   "outputs": [],
   "metadata": {}
  },
  {
   "cell_type": "markdown",
   "source": [
    "De la siguiente manera llevamos a cabo nuestro procesado simple de manera secuenciual."
   ],
   "metadata": {}
  },
  {
   "cell_type": "code",
   "execution_count": 27,
   "source": [
    "for img in tqdm(images):\r\n",
    "    ms = read_ms(img)\r\n",
    "    rgb = get_rgb(ms)\r\n",
    "    save_png(img, rgb)"
   ],
   "outputs": [
    {
     "output_type": "stream",
     "name": "stderr",
     "text": [
      "100%|██████████| 27000/27000 [01:12<00:00, 370.25it/s]\n"
     ]
    }
   ],
   "metadata": {}
  },
  {
   "cell_type": "markdown",
   "source": [
    "Como puedes ver llevar a cabo esta tarea tarda un poco más de un minuto, y eso que las imágenes son relativamente pequeñas y pocas. Vamos a acelerar el procesado !"
   ],
   "metadata": {}
  },
  {
   "cell_type": "markdown",
   "source": [
    "# El módulo `concurrent.futures`\r\n",
    "\r\n",
    "En el módulo [`concurrent futures`](https://docs.python.org/3/library/concurrent.futures.html) encontramos la funcionalidad que ofrece `Python` para el procesado en paralelo. Básicamente tenemos dos alternativas: usar el objeto `ThreadPoolExecutor` o `ProcessPoolExecutor`. En el primer caso, `Python` intentará ejectuar nuestro código en diferentes `threads` mientras que en el segundo usará los `cores` físicos de nuestra `CPU`. En función de la aplicación, una alternativa puede ser más ventajosa sobre la otra dependiendo de si el cuello de botella se encuentra en el procesado en sí o en el `I/O`."
   ],
   "metadata": {}
  },
  {
   "cell_type": "code",
   "execution_count": 4,
   "source": [
    "def generate_rgb(img):    \r\n",
    "    ms = read_ms(img)\r\n",
    "    rgb = get_rgb(ms)\r\n",
    "    save_png(img, rgb)"
   ],
   "outputs": [],
   "metadata": {}
  },
  {
   "cell_type": "markdown",
   "source": [
    "El siguiente código es capaz de llevar a cabo el mismo procesado pero de forma paralela. Pudes cambiar el `Executor` para comparar las diferentes alternativas."
   ],
   "metadata": {}
  },
  {
   "cell_type": "code",
   "execution_count": 28,
   "source": [
    "from concurrent.futures import ThreadPoolExecutor\r\n",
    "\r\n",
    "with ThreadPoolExecutor() as executor:\r\n",
    "    executor.map(generate_rgb, images)"
   ],
   "outputs": [],
   "metadata": {}
  },
  {
   "cell_type": "markdown",
   "source": [
    "El mismo procesado ahora ha terminado en 30 segundos, más de la mitad ! En algunos casos puede ser interesante añadir también una barra de progreso."
   ],
   "metadata": {}
  },
  {
   "cell_type": "code",
   "execution_count": 29,
   "source": [
    "import multiprocessing\r\n",
    "from concurrent.futures import ProcessPoolExecutor\r\n",
    "\r\n",
    "num_cores = multiprocessing.cpu_count()\r\n",
    "with ThreadPoolExecutor(max_workers=num_cores) as pool:\r\n",
    "    with tqdm(total=len(images)) as progress:\r\n",
    "        futures = []\r\n",
    "\r\n",
    "        for img in images:\r\n",
    "            future = pool.submit(generate_rgb, img)\r\n",
    "            future.add_done_callback(lambda p: progress.update())\r\n",
    "            futures.append(future)\r\n",
    "\r\n",
    "        for future in futures:\r\n",
    "            future.result()"
   ],
   "outputs": [
    {
     "output_type": "stream",
     "name": "stderr",
     "text": [
      "100%|██████████| 27000/27000 [00:31<00:00, 861.86it/s]\n"
     ]
    }
   ],
   "metadata": {}
  },
  {
   "cell_type": "markdown",
   "source": [
    "Es posbile recuperar los resultados devueltos por nuestra función de la siguiente manera."
   ],
   "metadata": {}
  },
  {
   "cell_type": "code",
   "execution_count": 40,
   "source": [
    "def generate_rgb2(img):    \r\n",
    "    ms = read_ms(img)\r\n",
    "    rgb = get_rgb(ms)\r\n",
    "    # ahora la función devuelve el path de la nueva imágen creada\r\n",
    "    return save_png(img, rgb)"
   ],
   "outputs": [],
   "metadata": {}
  },
  {
   "cell_type": "code",
   "execution_count": 41,
   "source": [
    "with ThreadPoolExecutor(max_workers=num_cores) as pool:\r\n",
    "    with tqdm(total=len(images)) as progress:\r\n",
    "        futures = []\r\n",
    "\r\n",
    "        for img in images:\r\n",
    "            future = pool.submit(generate_rgb2, img)\r\n",
    "            future.add_done_callback(lambda p: progress.update())\r\n",
    "            futures.append(future)\r\n",
    "\r\n",
    "        # guardamos los resultados\r\n",
    "        results = []\r\n",
    "        for future in futures:\r\n",
    "            result = future.result()\r\n",
    "            results.append(result)"
   ],
   "outputs": [
    {
     "output_type": "stream",
     "name": "stderr",
     "text": [
      " 12%|█▏        | 3229/27000 [00:03<00:29, 813.88it/s]"
     ]
    }
   ],
   "metadata": {}
  },
  {
   "cell_type": "code",
   "execution_count": null,
   "source": [
    "len(results)"
   ],
   "outputs": [
    {
     "output_type": "execute_result",
     "data": {
      "text/plain": [
       "27000"
      ]
     },
     "metadata": {},
     "execution_count": 38
    }
   ],
   "metadata": {}
  },
  {
   "cell_type": "code",
   "execution_count": null,
   "source": [
    "results[:3]"
   ],
   "outputs": [
    {
     "output_type": "execute_result",
     "data": {
      "text/plain": [
       "[('./data/results/AnnualCrop_1.png', 'hola'),\n",
       " ('./data/results/AnnualCrop_10.png', 'hola'),\n",
       " ('./data/results/AnnualCrop_100.png', 'hola')]"
      ]
     },
     "metadata": {},
     "execution_count": 39
    }
   ],
   "metadata": {}
  },
  {
   "cell_type": "markdown",
   "source": [
    "Y por último vamos a ver un ejemplo de como podemos enviar varios argumentos a nuestra función. Para ello crearemos una lista en la que cada elemento será una tupla con todos los argumentos necesarios para llevar a cabo la función. En el cuerpo de la función, recuperamos los argumentos individuales de la tupla como puedes ver a continuación."
   ],
   "metadata": {}
  },
  {
   "cell_type": "code",
   "execution_count": 34,
   "source": [
    "def generate_rgb3(args):    \r\n",
    "    img, a, b, c = args # sacamos los argumentos de la tupla\r\n",
    "    ms = read_ms(img)\r\n",
    "    rgb = get_rgb(ms)\r\n",
    "    return save_png(img, rgb)"
   ],
   "outputs": [],
   "metadata": {}
  },
  {
   "cell_type": "code",
   "execution_count": 35,
   "source": [
    "args = [(img, 1, 2, 3) for img in images] # lista de tuplas con argumentos\r\n",
    "\r\n",
    "with ThreadPoolExecutor(max_workers=num_cores) as pool:\r\n",
    "    with tqdm(total=len(images)) as progress:\r\n",
    "        futures = []\r\n",
    "\r\n",
    "        for arg in args:\r\n",
    "            future = pool.submit(generate_rgb3, arg) # enviamos la tupla de argumentos\r\n",
    "            future.add_done_callback(lambda p: progress.update())\r\n",
    "            futures.append(future)\r\n",
    "\r\n",
    "        results = []\r\n",
    "        for future in futures:\r\n",
    "            result = future.result()\r\n",
    "            results.append(result)"
   ],
   "outputs": [
    {
     "output_type": "stream",
     "name": "stderr",
     "text": [
      "100%|██████████| 27000/27000 [00:31<00:00, 867.57it/s]\n"
     ]
    }
   ],
   "metadata": {}
  },
  {
   "cell_type": "markdown",
   "source": [
    "## Resumen"
   ],
   "metadata": {}
  },
  {
   "cell_type": "markdown",
   "source": [
    "En este post hemos aprendido a usar las herramientas disponibles en `Python` para acelerar nuestro código ejecutando tareas en paralelo. La próxima vez que te encuentres llevando a cabo operaciones de manera secuencial y ésto te lleve mucho tiempo, si es posible considera paralelizar las tareas para sacar el máximo partido a tu `CPU`. Casos de uso ideales son el procesado imágenes, comprimir o descomprimir archivos, etc."
   ],
   "metadata": {}
  }
 ],
 "metadata": {
  "orig_nbformat": 4,
  "language_info": {
   "name": "python",
   "version": "3.9.5",
   "mimetype": "text/x-python",
   "codemirror_mode": {
    "name": "ipython",
    "version": 3
   },
   "pygments_lexer": "ipython3",
   "nbconvert_exporter": "python",
   "file_extension": ".py"
  },
  "kernelspec": {
   "name": "python3",
   "display_name": "Python 3.9.5 64-bit ('base': conda)"
  },
  "interpreter": {
   "hash": "bb9f406c0f70fca9801e60f2cbb7cd1ccff2ae2f74c58f513340bcf6cae5ecd0"
  }
 },
 "nbformat": 4,
 "nbformat_minor": 2
}