{
 "cells": [
  {
   "cell_type": "markdown",
   "metadata": {},
   "source": [
    "[![Open In Colab](https://colab.research.google.com/assets/colab-badge.svg)](https://colab.research.google.com/github/juansensio/blog/blob/master/102_cfd_intro/102_cfd_intro.ipynb)"
   ]
  },
  {
   "cell_type": "markdown",
   "metadata": {},
   "source": [
    "# *Computation Fluid Dynamics* "
   ]
  },
  {
   "cell_type": "markdown",
   "metadata": {},
   "source": [
    "Con este post arrancamos una nueva serie en la que nos alejaremos (por un breve periodo de tiempo) de la Inteligencia Artificial para adentrarnos en el mundo de la simulación de fluidos, o *Computational Fluid Dynamics* (CFD a partir de ahora). Este campo es de interés personal para mí, ya que elaboré mi tesis doctoral en el desarrollo de métodos numéricos para la simulación de fluidos compresibles turbulentos (ya veremos que significa todo esto). Si bien en posts anteriores ya hablamos acerca de este campo y el uso de redes neuronales para la resolución de ecuaciones diferenciales (una aplicación de la IA que también me apasiona y que probablemente sigamos investigando en el futuro), en estos posts nos centraremos en la resolución de las ecuaciones que describen el comportamiento de fluidos mediante técnicas tradicionales. Espero que encuentres interesante este pequeño desvío y aprendas muchas cosas por el camino :)"
   ]
  },
  {
   "cell_type": "markdown",
   "metadata": {},
   "source": [
    "## ¿Qué es el CFD?"
   ]
  },
  {
   "cell_type": "markdown",
   "metadata": {},
   "source": [
    "Dentro del gran abanico de aplicaciones de la física computacional, la mecánica de fluidos computacional se encarga del estudio del comportamiento de fluidos, principalmente mediante la resolución de las ecuaciones de [Navier-Stokes](https://es.wikipedia.org/wiki/Ecuaciones_de_Navier-Stokes). Esto tiene un uso muy importante en el diseño de aeronaves, coches (muy importante en coches eléctricos), previsión meteorológica y análisis de la evolución de contaminantes, etc. \n",
    "\n",
    "![](https://upload.wikimedia.org/wikipedia/commons/thumb/5/55/X-43A_%28Hyper_-_X%29_Mach_7_computational_fluid_dynamic_%28CFD%29.jpg/1024px-X-43A_%28Hyper_-_X%29_Mach_7_computational_fluid_dynamic_%28CFD%29.jpg)\n",
    "\n",
    "Resolver estas ecuaciones de manera analítica es imposible en la gran mayoría de ocasiones, por lo que se suele recurrir a su resolución numérica. Esto, sin embargo, require de grandes recursos computacionales (superordenadores calculando durante meses). En el caso del sector aeronáutico, la alternativa es el uso de túneles de viento, lo cual es todavía más caro y lento. Poder diseñar vehículos con software de diseño 3d por ordenador, simular su comportamiento en varias condiciones e iterar su diseño hasta encontrar la geometría óptima en entornos virtuales es una gran ventaja. \n",
    "\n",
    "> Esta serie de posts estará basada en gran parte en mi [tesis doctoral](https://www.tesisenred.net/handle/10803/667041#page=1), por lo que te recomiendo que le eches un vistazo si te interesa 🤗"
   ]
  },
  {
   "cell_type": "markdown",
   "metadata": {},
   "source": [
    "## ¿Qué haremos en esta serie?"
   ]
  },
  {
   "cell_type": "markdown",
   "metadata": {},
   "source": [
    "Es posible que el contenido de esta serie vaya variando en el tiempo, a medida que lo vaya confeccionando, pero estos son los principales temas de los que hablaremos:\n",
    "\n",
    "- Introducción: leyes de consevación, métodos numéricos, ecuaciones de convección y convección-difusión.\n",
    "- Resolución de las ecuaciones de Navier Stokes incompresibles: ecuaciones de Navier Stokes, driven cavity, flujo externo alrededor de superficies (cuadrado, cilindro, perfiles aerodinámicos).\n",
    "- Resolución de las ecuaciones de Navier Stokes compresibles: shock tube, flujos híbridos, ecuaciones de Euler, condiciones de contorno, flujos transónicos y supersónicos alrededor de superficies (cilindro, perfiles aerodinámicos), ...\n",
    "- Turbulencia: Taylor-Green vortex, perfiles aerodinámicos, modelización de turbulencia (RANS, LES, modelos de pared), channel flow, difusores transónicos, ...\n",
    "\n",
    "Otros temas interesantes de los que quizás hablamos son: flujos multi-componente (combustión), mallas adaptativas, etc.\n",
    "\n",
    "Los posts irán combinando secciones teóricas, con el desarrollo de los conceptos matemáticos necesarios, con mucho código y ejemplos de aplicación para que sea más entretenido. Es mi intención la de ir desarrollando, paso a paso y junto a vosotros, un framework completo para simulación de fluidos en Python (con aceleración por GPU, obviamente 🔥) con el que podrás generar visualizaciones increíbles a la par que físicamente correctas y precisas."
   ]
  },
  {
   "cell_type": "markdown",
   "metadata": {},
   "source": [
    "## Referencias\n",
    "\n",
    "Aquí tienes una lista de algunas de las referencias que iré usando durante la serie, por si quieres adelantarte al contenido por tu cuenta y riesgo:\n",
    "\n",
    "- [On the numerical simulation of compressible flows](https://www.tesisenred.net/handle/10803/667041#page=1)\n",
    "- [Finite-Volume Methods for Hyperbolic Problems](http://www.tevza.org/home/course/modelling-II_2016/books/Leveque%20-%20Finite%20Volume%20Methods%20for%20Hyperbolic%20Equations.pdf)\n",
    "- [An introduction to Discontinuous Galerkin Methods](https://www.youtube.com/watch?v=tK1HbAiCPuw&list=PLc4eVvgECLtptmgobxxXmVikejqPf4f8D&index=1&t=0s)\n",
    "\n",
    "> Iré poniendo más referencias a medida que las vaya usando, y también las pondré en los posts correspondientes por conveniencia."
   ]
  },
  {
   "cell_type": "markdown",
   "metadata": {},
   "source": []
  }
 ],
 "metadata": {
  "kernelspec": {
   "display_name": "Python 3.9.13 64-bit",
   "language": "python",
   "name": "python3"
  },
  "language_info": {
   "name": "python",
   "version": "3.9.13"
  },
  "orig_nbformat": 4,
  "vscode": {
   "interpreter": {
    "hash": "397704579725e15f5c7cb49fe5f0341eb7531c82d19f2c29d197e8b64ab5776b"
   }
  }
 },
 "nbformat": 4,
 "nbformat_minor": 2
}
