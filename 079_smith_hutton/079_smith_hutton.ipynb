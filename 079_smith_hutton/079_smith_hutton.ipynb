{
 "cells": [
  {
   "cell_type": "markdown",
   "metadata": {},
   "source": [
    "[![Open In Colab](https://colab.research.google.com/assets/colab-badge.svg)](https://colab.research.google.com/github/juansensio/blog/blob/master/079_smith_hutton/079_smith_hutton.ipynb)"
   ]
  },
  {
   "cell_type": "markdown",
   "metadata": {},
   "source": [
    "# Smith-Hutton Problem\n",
    "\n",
    "En este post vamos a resolver el problema conocido como Smith-Hutton, en el que resolveremos la ecuación de convección 2D que ya conocemos del post anterior (en este caso nos interesa la solución estática final, sin evolución temporal).\n",
    "\n",
    "$$\n",
    "u \\phi_x + v \\phi_y = 0\n",
    "$$\n",
    "\n",
    "\n",
    "![](./sh.png)\n",
    "\n",
    "Se trata de un dominio rectangular en el cual tenemos una entrada por la parte inferior izquierda y una salida por la parte inferior derecha. El campo inicial de $\\phi$ estará a cero, por lo que el valor indicado a la entrada viajará hasta la salida debido al campo de velocidad circular definido. Ya que no hay viscosidad, deberíamos encontrar a la salida exactamente el mismo perfil que a la entrada. Este problem es muy útil para evaluar diferentes esquemas numéricos y sus propiedades."
   ]
  },
  {
   "cell_type": "code",
   "execution_count": 1,
   "metadata": {
    "ExecuteTime": {
     "end_time": "2021-10-04T10:25:25.166825Z",
     "start_time": "2021-10-04T10:25:25.160051Z"
    }
   },
   "outputs": [],
   "source": [
    "import numpy as np\n",
    "import math \n",
    "\n",
    "# condición inicial\n",
    "\n",
    "Lx, Ly, Nx, Ny = 2., 1., 5, 5\n",
    "dx, dy = Lx / Nx, Ly / Ny\n",
    "\n",
    "x = np.linspace(-1+0.5*dx,1-0.5*dx,Nx) \n",
    "y = np.linspace(0.5*dy,1-0.5*dy,Ny) \n",
    "xx, yy = np.meshgrid(x, y)\n",
    "\n",
    "p0 = np.zeros(Nx*Ny)"
   ]
  },
  {
   "cell_type": "code",
   "execution_count": 2,
   "metadata": {
    "ExecuteTime": {
     "end_time": "2021-10-04T10:25:31.782888Z",
     "start_time": "2021-10-04T10:25:31.778943Z"
    }
   },
   "outputs": [],
   "source": [
    "def velocity(x, y):\n",
    "    return 2.*y*(1.-x**2.), -2.*x*(1.-y**2.)"
   ]
  },
  {
   "cell_type": "code",
   "execution_count": 3,
   "metadata": {
    "ExecuteTime": {
     "end_time": "2021-10-04T10:25:38.034088Z",
     "start_time": "2021-10-04T10:25:37.949623Z"
    }
   },
   "outputs": [
    {
     "data": {
      "image/png": "[encoded data removed]",
      "text/plain": [
       "<Figure size 432x288 with 1 Axes>"
      ]
     },
     "metadata": {
      "needs_background": "light"
     },
     "output_type": "display_data"
    }
   ],
   "source": [
    "import matplotlib.pyplot as plt\n",
    "\n",
    "u, v = velocity(xx, yy)\n",
    "\n",
    "fig, ax = plt.subplots()\n",
    "ax.quiver(xx,yy,u,v)\n",
    "ax.set_aspect('equal')\n",
    "plt.show()"
   ]
  },
  {
   "cell_type": "code",
   "execution_count": 4,
   "metadata": {
    "ExecuteTime": {
     "end_time": "2021-10-04T11:20:18.377272Z",
     "start_time": "2021-10-04T11:20:18.369120Z"
    }
   },
   "outputs": [],
   "source": [
    "import torch\n",
    "import torch.nn as nn\n",
    "\n",
    "class Sine(nn.Module):\n",
    "    def __init__(self):\n",
    "        super().__init__()\n",
    "    def forward(self, x):\n",
    "        return torch.sin(x)\n",
    "\n",
    "mlp = nn.Sequential(\n",
    "    nn.Linear(2, 100),\n",
    "    Sine(), \n",
    "    nn.Linear(100, 100), \n",
    "    Sine(),\n",
    "    nn.Linear(100, 100), \n",
    "    Sine(),\n",
    "    nn.Linear(100, 100), \n",
    "    Sine(),\n",
    "    nn.Linear(100, 1)\n",
    ")"
   ]
  },
  {
   "cell_type": "code",
   "execution_count": 5,
   "metadata": {
    "ExecuteTime": {
     "end_time": "2021-10-04T11:21:10.597711Z",
     "start_time": "2021-10-04T11:20:18.516615Z"
    },
    "code_folding": [
     14,
     19,
     33,
     41,
     50,
     68
    ]
   },
   "outputs": [
    {
     "data": {
      "text/html": [
       "\n",
       "    <div>\n",
       "        <style>\n",
       "            /* Turns off some styling */\n",
       "            progress {\n",
       "                /* gets rid of default border in Firefox and Opera. */\n",
       "                border: none;\n",
       "                /* Needs to be in here for Safari polyfill so background images work as expected. */\n",
       "                background-size: auto;\n",
       "            }\n",
       "            .progress-bar-interrupted, .progress-bar-interrupted::-webkit-progress-bar {\n",
       "                background: #F44336;\n",
       "            }\n",
       "        </style>\n",
       "      <progress value='10000' class='' max='10000' style='width:300px; height:20px; vertical-align: middle;'></progress>\n",
       "      100.00% [10000/10000 01:14<00:00 pde_loss 0.00039 bound_loss 0.00045]\n",
       "    </div>\n",
       "    "
      ],
      "text/plain": [
       "<IPython.core.display.HTML object>"
      ]
     },
     "metadata": {},
     "output_type": "display_data"
    },
    {
     "name": "stderr",
     "output_type": "stream",
     "text": [
      "C:\\Users\\sensio\\miniconda3\\lib\\site-packages\\torch\\nn\\modules\\loss.py:520: UserWarning: Using a target size (torch.Size([100, 1])) that is different to the input size (torch.Size([100])). This will likely lead to incorrect results due to broadcasting. Please ensure they have the same size.\n",
      "  return F.mse_loss(input, target, reduction=self.reduction)\n"
     ]
    }
   ],
   "source": [
    "from fastprogress.fastprogress import master_bar, progress_bar\n",
    "import math \n",
    "\n",
    "N_STEPS = 10000\n",
    "N_SAMPLES = 200\n",
    "N_SAMPLES_0 = 100\n",
    "\n",
    "optimizer = torch.optim.Adam(mlp.parameters())\n",
    "criterion = torch.nn.MSELoss()\n",
    "mlp.train()\n",
    "a = 10\n",
    "\n",
    "mb = progress_bar(range(1, N_STEPS+1))\n",
    "\n",
    "for step in mb:\n",
    "\n",
    "    # optimize for PDE\n",
    "    x = torch.rand(N_SAMPLES)*2. - 1.\n",
    "    y = torch.rand(N_SAMPLES)\n",
    "    X = torch.stack([  \n",
    "        x, \n",
    "        y,\n",
    "    ], axis=-1)\n",
    "    X.requires_grad = True\n",
    "    y_hat = mlp(X) # N, P \n",
    "    grads, = torch.autograd.grad(y_hat, X, grad_outputs=y_hat.data.new(y_hat.shape).fill_(1), create_graph=True, only_inputs=True)\n",
    "    dpdx, dpdy = grads[:,0], grads[:,1]\n",
    "    u, v = velocity(X[:,0], X[:,1])\n",
    "    pde_loss = criterion(u*dpdx, - v*dpdy) \n",
    "    \n",
    "    # optimize for boundary conditions\n",
    "    # left\n",
    "    y = torch.rand(N_SAMPLES_0)\n",
    "    Y0 = torch.stack([  \n",
    "        torch.zeros(N_SAMPLES_0) - 1., \n",
    "        y,\n",
    "    ], axis=-1)\n",
    "    p_y0 = 1. - torch.ones(len(Y0))*math.tanh(a)\n",
    "    y_y0 = mlp(Y0) \n",
    "    y0_loss = criterion(y_y0, p_y0.unsqueeze(1))\n",
    "    # right\n",
    "    Y1 = torch.stack([  \n",
    "        torch.ones(N_SAMPLES_0), \n",
    "        y,\n",
    "    ], axis=-1)\n",
    "    p_y1 = 1. - torch.ones(len(Y1))*math.tanh(a)\n",
    "    y_y1 = mlp(Y1) \n",
    "    y1_loss = criterion(y_y1, p_y1.unsqueeze(1))\n",
    "    # top\n",
    "    x = torch.rand(N_SAMPLES_0)*2. - 1.\n",
    "    X1 = torch.stack([  \n",
    "        x, \n",
    "        torch.ones(N_SAMPLES_0),\n",
    "    ], axis=-1)\n",
    "    p_x1 = 1. - torch.ones(len(X1))*math.tanh(a)\n",
    "    y_x1 = mlp(X1) \n",
    "    x1_loss = criterion(y_x1, p_x1.unsqueeze(1))\n",
    "    # bottom (left)\n",
    "    x = torch.rand(N_SAMPLES_0) - 1.\n",
    "    X00 = torch.stack([  \n",
    "        x, \n",
    "        torch.zeros(N_SAMPLES_0),\n",
    "    ], axis=-1)\n",
    "    p_x00 = 1. + torch.tanh(a*(2.*x + 1.))\n",
    "    y_x00 = mlp(X00) \n",
    "    x00_loss = criterion(y_x00, p_x00.unsqueeze(1))\n",
    "    # bottom (right)\n",
    "    x = torch.rand(N_SAMPLES_0)\n",
    "    X01 = torch.stack([  \n",
    "        x, \n",
    "        torch.zeros(N_SAMPLES_0),\n",
    "    ], axis=-1)\n",
    "    X01.requires_grad = True\n",
    "    y_x01 = mlp(X01) \n",
    "    grads, = torch.autograd.grad(y_x01, X01, grad_outputs=y_x01.data.new(y_x01.shape).fill_(1), create_graph=True, only_inputs=True)\n",
    "    dpdy = grads[:,1]\n",
    "    x01_loss = criterion(dpdy, torch.zeros(len(dpdy), 1))  \n",
    "\n",
    "    bound_loss = x00_loss + y0_loss + y1_loss + x1_loss + x01_loss\n",
    "    \n",
    "    # update\n",
    "    optimizer.zero_grad()\n",
    "    loss = pde_loss + bound_loss\n",
    "    loss.backward()\n",
    "    optimizer.step()\n",
    "    \n",
    "    mb.comment = f'pde_loss {pde_loss.item():.5f} bound_loss {bound_loss.item():.5f}'\n"
   ]
  },
  {
   "cell_type": "code",
   "execution_count": 6,
   "metadata": {
    "ExecuteTime": {
     "end_time": "2021-10-04T11:21:10.601427Z",
     "start_time": "2021-10-04T11:21:10.598831Z"
    }
   },
   "outputs": [],
   "source": [
    "def run_mlp(Nx, Ny):\n",
    "    x = np.linspace(-1,1,Nx)\n",
    "    y = np.linspace(0,1,Ny)\n",
    "    X = np.stack(np.meshgrid(x,y), -1).reshape(-1, 2)\n",
    "    X = torch.from_numpy(X).float()\n",
    "    mlp.eval()\n",
    "    with torch.no_grad():\n",
    "        p = mlp(X)\n",
    "    return p, x"
   ]
  },
  {
   "cell_type": "code",
   "execution_count": 7,
   "metadata": {
    "ExecuteTime": {
     "end_time": "2021-10-04T11:21:10.745432Z",
     "start_time": "2021-10-04T11:21:10.602410Z"
    }
   },
   "outputs": [
    {
     "data": {
      "image/png": "[encoded data removed]",
      "text/plain": [
       "<Figure size 600x400 with 2 Axes>"
      ]
     },
     "metadata": {
      "needs_background": "light"
     },
     "output_type": "display_data"
    }
   ],
   "source": [
    "Nx, Ny = 100, 50\n",
    "p, x = run_mlp(Nx, Ny)\n",
    "\n",
    "plt.figure(dpi=100)\n",
    "plt.imshow(p.reshape(Ny,Nx), vmin=p.min(), vmax=p.max(), origin='lower',\n",
    "           extent=[x.min(), x.max(), y.min(), y.max()])\n",
    "plt.xlabel('x')\n",
    "plt.ylabel('y    ', rotation=math.pi)\n",
    "plt.colorbar()\n",
    "plt.show()"
   ]
  },
  {
   "cell_type": "code",
   "execution_count": 8,
   "metadata": {
    "ExecuteTime": {
     "end_time": "2021-10-04T11:27:27.537517Z",
     "start_time": "2021-10-04T11:27:27.292258Z"
    }
   },
   "outputs": [
    {
     "data": {
      "image/png": "[encoded data removed]",
      "text/plain": [
       "<Figure size 600x400 with 1 Axes>"
      ]
     },
     "metadata": {
      "needs_background": "light"
     },
     "output_type": "display_data"
    }
   ],
   "source": [
    "plt.figure(dpi=100)\n",
    "\n",
    "x0 = x[x <= 0]\n",
    "gt = 1. + np.tanh(a*(2*x0+1))\n",
    "\n",
    "plt.plot(x0, gt)\n",
    "plt.plot(x0 + 1., np.flip(gt))\n",
    "plt.plot(x, p[:Nx], 'k')\n",
    "\n",
    "plt.xlabel('x')\n",
    "plt.ylabel('$\\phi    $', rotation=math.pi)\n",
    "plt.grid(True)\n",
    "plt.show()"
   ]
  },
  {
   "cell_type": "markdown",
   "metadata": {},
   "source": [
    "## Añadiendo viscosidad\n",
    "\n",
    "Otro benchmark interesante para evaluar métodos numéricos en la resolución de ecuaciones diferenciales consiste en resolver el mismo problema pero añadiendo `viscosidad`. La constante $\\Gamma$ controlará cuánta viscosidad queremos en el problema. Además, ahora tenemos derivadas segundas. Gracias a `Pytorch`, calcular estas derivadas es muy sencillo.\n",
    "\n",
    "$$\n",
    "u \\phi_x + v \\phi_y = \\Gamma (\\phi_{xx} + \\phi_{yy})\n",
    "$$"
   ]
  },
  {
   "cell_type": "code",
   "execution_count": 9,
   "metadata": {
    "ExecuteTime": {
     "end_time": "2021-10-04T11:25:59.814441Z",
     "start_time": "2021-10-04T11:25:59.806913Z"
    }
   },
   "outputs": [],
   "source": [
    "mlp = nn.Sequential(\n",
    "    nn.Linear(2, 100),\n",
    "    Sine(), \n",
    "    nn.Linear(100, 100), \n",
    "    Sine(),\n",
    "    nn.Linear(100, 100), \n",
    "    Sine(),\n",
    "    nn.Linear(100, 100), \n",
    "    Sine(),\n",
    "    nn.Linear(100, 1)\n",
    ")"
   ]
  },
  {
   "cell_type": "code",
   "execution_count": 10,
   "metadata": {
    "ExecuteTime": {
     "end_time": "2021-10-04T11:27:27.059379Z",
     "start_time": "2021-10-04T11:25:59.919120Z"
    },
    "code_folding": [
     12
    ]
   },
   "outputs": [
    {
     "data": {
      "text/html": [
       "\n",
       "    <div>\n",
       "        <style>\n",
       "            /* Turns off some styling */\n",
       "            progress {\n",
       "                /* gets rid of default border in Firefox and Opera. */\n",
       "                border: none;\n",
       "                /* Needs to be in here for Safari polyfill so background images work as expected. */\n",
       "                background-size: auto;\n",
       "            }\n",
       "            .progress-bar-interrupted, .progress-bar-interrupted::-webkit-progress-bar {\n",
       "                background: #F44336;\n",
       "            }\n",
       "        </style>\n",
       "      <progress value='10000' class='' max='10000' style='width:300px; height:20px; vertical-align: middle;'></progress>\n",
       "      100.00% [10000/10000 02:17<00:00 pde_loss 0.01053 bound_loss 0.00590]\n",
       "    </div>\n",
       "    "
      ],
      "text/plain": [
       "<IPython.core.display.HTML object>"
      ]
     },
     "metadata": {},
     "output_type": "display_data"
    },
    {
     "name": "stderr",
     "output_type": "stream",
     "text": [
      "C:\\Users\\sensio\\miniconda3\\lib\\site-packages\\torch\\nn\\modules\\loss.py:520: UserWarning: Using a target size (torch.Size([100, 1])) that is different to the input size (torch.Size([100])). This will likely lead to incorrect results due to broadcasting. Please ensure they have the same size.\n",
      "  return F.mse_loss(input, target, reduction=self.reduction)\n"
     ]
    }
   ],
   "source": [
    "N_STEPS = 10000\n",
    "N_SAMPLES = 200\n",
    "N_SAMPLES_0 = 100\n",
    "\n",
    "optimizer = torch.optim.Adam(mlp.parameters())\n",
    "criterion = torch.nn.MSELoss()\n",
    "mlp.train()\n",
    "a = 10\n",
    "g = 0.1\n",
    "\n",
    "mb = progress_bar(range(1, N_STEPS+1))\n",
    "\n",
    "for step in mb:\n",
    "\n",
    "    # optimize for PDE\n",
    "    x = torch.rand(N_SAMPLES)*2. - 1.\n",
    "    y = torch.rand(N_SAMPLES)\n",
    "    X = torch.stack([  \n",
    "        x, \n",
    "        y,\n",
    "    ], axis=-1)\n",
    "    X.requires_grad = True\n",
    "    y_hat = mlp(X) # N, P \n",
    "    grads, = torch.autograd.grad(y_hat, X, grad_outputs=y_hat.data.new(y_hat.shape).fill_(1), create_graph=True, only_inputs=True)\n",
    "    dpdx, dpdy = grads[:,0], grads[:,1]\n",
    "    u, v = velocity(X[:,0], X[:,1])\n",
    "    grads2, = torch.autograd.grad(dpdx, X, grad_outputs=dpdx.data.new(dpdx.shape).fill_(1), create_graph=True, only_inputs=True)\n",
    "    dp2dx2 = grads2[:,0]\n",
    "    grads2, = torch.autograd.grad(dpdy, X, grad_outputs=dpdy.data.new(dpdy.shape).fill_(1), create_graph=True, only_inputs=True)\n",
    "    dp2dy2 = grads2[:,1]\n",
    "    pde_loss = criterion(u*dpdx + v*dpdy, g*(dp2dx2 + dp2dy2)) \n",
    "    \n",
    "    # optimize for boundary conditions\n",
    "    # left\n",
    "    y = torch.rand(N_SAMPLES_0)\n",
    "    Y0 = torch.stack([  \n",
    "        torch.zeros(N_SAMPLES_0) - 1., \n",
    "        y,\n",
    "    ], axis=-1)\n",
    "    p_y0 = 1. - torch.ones(len(Y0))*math.tanh(a)\n",
    "    y_y0 = mlp(Y0) \n",
    "    y0_loss = criterion(y_y0, p_y0.unsqueeze(1))\n",
    "    # right\n",
    "    Y1 = torch.stack([  \n",
    "        torch.ones(N_SAMPLES_0), \n",
    "        y,\n",
    "    ], axis=-1)\n",
    "    p_y1 = 1. - torch.ones(len(Y1))*math.tanh(a)\n",
    "    y_y1 = mlp(Y1) \n",
    "    y1_loss = criterion(y_y1, p_y1.unsqueeze(1))\n",
    "    # top\n",
    "    x = torch.rand(N_SAMPLES_0)*2. - 1.\n",
    "    X1 = torch.stack([  \n",
    "        x, \n",
    "        torch.ones(N_SAMPLES_0),\n",
    "    ], axis=-1)\n",
    "    p_x1 = 1. - torch.ones(len(X1))*math.tanh(a)\n",
    "    y_x1 = mlp(X1) \n",
    "    x1_loss = criterion(y_x1, p_x1.unsqueeze(1))\n",
    "    # bottom (left)\n",
    "    x = torch.rand(N_SAMPLES_0) - 1.\n",
    "    X00 = torch.stack([  \n",
    "        x, \n",
    "        torch.zeros(N_SAMPLES_0),\n",
    "    ], axis=-1)\n",
    "    p_x00 = 1. + torch.tanh(a*(2.*x + 1.))\n",
    "    y_x00 = mlp(X00) \n",
    "    x00_loss = criterion(y_x00, p_x00.unsqueeze(1))\n",
    "    # bottom (right)\n",
    "    x = torch.rand(N_SAMPLES_0)\n",
    "    X01 = torch.stack([  \n",
    "        x, \n",
    "        torch.zeros(N_SAMPLES_0),\n",
    "    ], axis=-1)\n",
    "    X01.requires_grad = True\n",
    "    y_x01 = mlp(X01) \n",
    "    grads, = torch.autograd.grad(y_x01, X01, grad_outputs=y_x01.data.new(y_x01.shape).fill_(1), create_graph=True, only_inputs=True)\n",
    "    dpdy = grads[:,1]\n",
    "    x01_loss = criterion(dpdy, torch.zeros(len(dpdy), 1))  \n",
    "\n",
    "    bound_loss = x00_loss + y0_loss + y1_loss + x1_loss + x01_loss\n",
    "    \n",
    "    # update\n",
    "    optimizer.zero_grad()\n",
    "    loss = pde_loss + bound_loss\n",
    "    loss.backward()\n",
    "    optimizer.step()\n",
    "    \n",
    "    mb.comment = f'pde_loss {pde_loss.item():.5f} bound_loss {bound_loss.item():.5f}'"
   ]
  },
  {
   "cell_type": "code",
   "execution_count": 11,
   "metadata": {
    "ExecuteTime": {
     "end_time": "2021-10-04T11:27:27.205796Z",
     "start_time": "2021-10-04T11:27:27.060659Z"
    }
   },
   "outputs": [
    {
     "data": {
      "image/png": "[encoded data removed]",
      "text/plain": [
       "<Figure size 600x400 with 2 Axes>"
      ]
     },
     "metadata": {
      "needs_background": "light"
     },
     "output_type": "display_data"
    }
   ],
   "source": [
    "Nx, Ny = 100, 50\n",
    "p, x = run_mlp(Nx, Ny)\n",
    "\n",
    "plt.figure(dpi=100)\n",
    "plt.imshow(p.reshape(Ny,Nx), vmin=p.min(), vmax=p.max(), origin='lower',\n",
    "           extent=[x.min(), x.max(), y.min(), y.max()])\n",
    "plt.xlabel('x')\n",
    "plt.ylabel('y    ', rotation=math.pi)\n",
    "plt.colorbar()\n",
    "plt.show()"
   ]
  },
  {
   "cell_type": "code",
   "execution_count": 12,
   "metadata": {
    "ExecuteTime": {
     "end_time": "2021-10-04T11:27:27.291481Z",
     "start_time": "2021-10-04T11:27:27.288954Z"
    }
   },
   "outputs": [],
   "source": [
    "# experimental results\n",
    "\n",
    "exp = {\n",
    "    'x': [0.0, 0.1, 0.2, 0.3, 0.4, 0.5, 0.6, 0.7, 0.8, 0.9, 1.0],\n",
    "    'g_0.1': [1.989,1.402,1.146,0.946,0.775,0.621,0.480,0.349,0.227,0.111,0.0],\n",
    "    'g_0.001': [2.0000,1.9990,1.9997,1.985,1.841,0.951,0.154,0.001,0.0,0.0,0.0],\n",
    "    'g_0.000001': [2.0000,2.0,2.0,1.999,1.964,1.0,0.036,0.001,0.0,0.0,0.0]\n",
    "}"
   ]
  },
  {
   "cell_type": "code",
   "execution_count": 13,
   "metadata": {
    "ExecuteTime": {
     "end_time": "2021-10-04T11:29:18.616250Z",
     "start_time": "2021-10-04T11:29:18.504503Z"
    }
   },
   "outputs": [
    {
     "data": {
      "image/png": "[encoded data removed]",
      "text/plain": [
       "<Figure size 600x400 with 1 Axes>"
      ]
     },
     "metadata": {
      "needs_background": "light"
     },
     "output_type": "display_data"
    }
   ],
   "source": [
    "plt.figure(dpi=100)\n",
    "\n",
    "x0 = x[x <= 0]\n",
    "gt = 1. + np.tanh(a*(2*x0+1))\n",
    "\n",
    "plt.plot(x0, gt)\n",
    "plt.plot(x, p[:Nx], 'k')\n",
    "plt.plot(exp['x'], exp['g_0.1'], '.r')\n",
    "\n",
    "plt.xlabel('x')\n",
    "plt.ylabel('$\\phi$    ', rotation=math.pi)\n",
    "plt.grid(True)\n",
    "plt.legend(['inflow', 'numerical', 'experimental'])\n",
    "plt.show()"
   ]
  },
  {
   "cell_type": "markdown",
   "metadata": {},
   "source": [
    "El hecho de usar una Red Neuronal como solución del problema nos permitiría incluso añadir el factor de viscosidad como `input` resolviendo un gran rango de casos a la vez, acelerando el proceso de optimización."
   ]
  }
 ],
 "metadata": {
  "interpreter": {
   "hash": "dd3c0ff7553675f8399160a12fbc0c6054e9524c8e841ec60a211865d03cacc2"
  },
  "kernelspec": {
   "display_name": "Python 3 (ipykernel)",
   "language": "python",
   "name": "python3"
  },
  "language_info": {
   "codemirror_mode": {
    "name": "ipython",
    "version": 3
   },
   "file_extension": ".py",
   "mimetype": "text/x-python",
   "name": "python",
   "nbconvert_exporter": "python",
   "pygments_lexer": "ipython3",
   "version": "3.9.5"
  },
  "toc": {
   "base_numbering": 1,
   "nav_menu": {},
   "number_sections": true,
   "sideBar": true,
   "skip_h1_title": false,
   "title_cell": "Table of Contents",
   "title_sidebar": "Contents",
   "toc_cell": false,
   "toc_position": {},
   "toc_section_display": true,
   "toc_window_display": false
  }
 },
 "nbformat": 4,
 "nbformat_minor": 2
}
