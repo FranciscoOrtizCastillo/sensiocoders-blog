{
 "cells": [
  {
   "attachments": {},
   "cell_type": "markdown",
   "metadata": {},
   "source": [
    "[![Open In Colab](https://colab.research.google.com/assets/colab-badge.svg)](https://colab.research.google.com/github/juansensio/blog/blob/master/113_sd_scratch_2/113_sd_scratch_2.ipynb)"
   ]
  },
  {
   "attachments": {},
   "cell_type": "markdown",
   "metadata": {},
   "source": [
    "# Stable Diffusion desde cero - Parte 2"
   ]
  },
  {
   "attachments": {},
   "cell_type": "markdown",
   "metadata": {},
   "source": [
    "En el post anterior vimos una introducción a los modelos de difusión, implementando Stable Diffusion desde cero para generación de imágenes. Sin embargo las imágenes generadas por el modelo eran aleatorias, si bien se parecen a imágenes del dataset MNIST (el cual usamos para entrenar el modelo). En este post vamos a mejorar nuestra implementación añadiendo la capacidad de controlar la imagen generada, de la misma forma que con Stable Diffusion podemos describir el contenido de la imagen mediante texto.\n",
    "\n",
    "![](https://images.squarespace-cdn.com/content/v1/628be1d26f9ad648b2e202b1/43a38f92-eb67-4218-8789-55250e4b8827/txt2img.png)\n",
    "\n",
    "Seguimos usando el mismo dataset."
   ]
  },
  {
   "cell_type": "code",
   "execution_count": 1,
   "metadata": {},
   "outputs": [
    {
     "data": {
      "text/plain": [
       "((70000, 28, 28), (70000,))"
      ]
     },
     "execution_count": 1,
     "metadata": {},
     "output_type": "execute_result"
    }
   ],
   "source": [
    "from sklearn.datasets import fetch_openml\n",
    "import numpy as np\n",
    "\n",
    "\n",
    "# mnist = fetch_openml('mnist_784', version=1)\n",
    "# # importante que las imágenes estén en el rango -1, 1\n",
    "# X, y = 2. * (mnist[\"data\"].values.astype(float).reshape(-1, 28, 28) / 255.) - 1., mnist[\"target\"].values.astype(int)\n",
    "# np.savez_compressed(\"mnist.npz\", X=X, y=y)\n",
    "\n",
    "# la descarga puede tardar un rato, así que te recomiendo comentar las líneas anteriores después \n",
    "# de ejecutarlas la primera vez y descomentar las siguientes para cargar los datos desde el disco\n",
    "\n",
    "X, y = np.load(\"mnist.npz\")[\"X\"], np.load(\"mnist.npz\")[\"y\"]\n",
    "\n",
    "X.shape, y.shape"
   ]
  },
  {
   "cell_type": "code",
   "execution_count": 2,
   "metadata": {},
   "outputs": [
    {
     "data": {
      "image/png": "[encoded data removed]",
      "text/plain": [
       "<Figure size 720x432 with 15 Axes>"
      ]
     },
     "metadata": {
      "needs_background": "light"
     },
     "output_type": "display_data"
    }
   ],
   "source": [
    "import matplotlib as mpl\n",
    "import matplotlib.pyplot as plt\n",
    "import random \n",
    "\n",
    "r, c = 3, 5\n",
    "fig = plt.figure(figsize=(2*c, 2*r))\n",
    "for _r in range(r):\n",
    "    for _c in range(c):\n",
    "        plt.subplot(r, c, _r*c + _c + 1)\n",
    "        ix = random.randint(0, len(X)-1)\n",
    "        plt.imshow(X[ix], cmap='gray')\n",
    "        plt.axis(\"off\")\n",
    "        plt.title(y[ix])\n",
    "plt.tight_layout()\n",
    "plt.show()"
   ]
  },
  {
   "attachments": {},
   "cell_type": "markdown",
   "metadata": {},
   "source": [
    "## Añadiendo información sobre la imagen a generar"
   ]
  },
  {
   "attachments": {},
   "cell_type": "markdown",
   "metadata": {},
   "source": [
    "Lo más sencillo que podemos hacer si queremos controlar el comportamiento de nuestro modelo para generar la imagen que queramos es añadir la etiqueta de la que disponemos. Para ello usaremos la misma aproximación que vimos en el post anterior para añadir al modelo información sobre el `step` del `noise scheduler`. En nuestro caso, introduciremos la etiqueta en formato `one-hot encoding`, la proyectaremos a la misma dimensión que el embedding del `step` y los sumaremos."
   ]
  },
  {
   "cell_type": "code",
   "execution_count": 6,
   "metadata": {},
   "outputs": [
    {
     "data": {
      "text/plain": [
       "torch.Size([10, 1, 28, 28])"
      ]
     },
     "execution_count": 6,
     "metadata": {},
     "output_type": "execute_result"
    }
   ],
   "source": [
    "from unet import UNet, SinusoidalPositionEmbeddings\n",
    "import math\n",
    "import torch\n",
    "\n",
    "class ConditionalDiffusionModel(torch.nn.Module):\n",
    "\tdef __init__(self, embed_dim=32):\n",
    "\t\tsuper().__init__()\n",
    "\t\tself.time_embed = SinusoidalPositionEmbeddings(embed_dim)\n",
    "\t\tself.label_embed = torch.nn.Linear(10, embed_dim)\n",
    "\t\tself.unet = UNet(in_ch=1 + embed_dim, n_classes=1)\n",
    "\n",
    "\tdef forward(self, x, t, y):\n",
    "\t\tB, C, H, W = x.shape\n",
    "\t\tt = self.time_embed(t)\n",
    "\t\tt = t[:, :, None, None].repeat(1, 1, H, W)\n",
    "\t\ty = torch.nn.functional.one_hot(y, 10).float()\n",
    "\t\ty = self.label_embed(y)\n",
    "\t\ty = y[:, :, None, None].repeat(1, 1, H, W)\n",
    "\t\tt = t + y\n",
    "\t\tx = torch.cat((x, t), dim=1)\n",
    "\t\treturn self.unet(x)\n",
    "\n",
    "model = ConditionalDiffusionModel()\n",
    "output = model(torch.randn(10, 1, 28, 28), torch.randint(0, 1000, (10,)), torch.randint(0, 10, (10,)))\n",
    "output.shape"
   ]
  },
  {
   "attachments": {},
   "cell_type": "markdown",
   "metadata": {},
   "source": [
    "A este modelo se le llama `Conditional` ya que está *condicionado* por la información extra que le pasamos (en este caso la etiqueta de la imagen)."
   ]
  },
  {
   "attachments": {},
   "cell_type": "markdown",
   "metadata": {},
   "source": [
    "## Entrenamiento del modelo"
   ]
  },
  {
   "attachments": {},
   "cell_type": "markdown",
   "metadata": {},
   "source": [
    "Pues con este simple cambio ya tenemos nuestro modelo listo para entrenar. Primero, vamos a actualizar nuestro Dataset."
   ]
  },
  {
   "cell_type": "code",
   "execution_count": 7,
   "metadata": {},
   "outputs": [],
   "source": [
    "import numpy as np \n",
    "\n",
    "def noise_scheduler(start=1e-4, end=0.02, steps=1000):\n",
    "\tbetas = torch.linspace(start, end, steps)\n",
    "\talphas = 1. - betas\n",
    "\talphas_hat = torch.cumprod(alphas, axis=0)\n",
    "\treturn betas, alphas, alphas_hat\n",
    "\n",
    "class Dataset(torch.utils.data.Dataset):\n",
    "\tdef __init__(self, X, y, T=1000):\n",
    "\t\tself.X = X\n",
    "\t\tself.y = y\n",
    "\t\tself.T = T\n",
    "\t\tself.betas, self.alphas, self.alphas_hat = noise_scheduler(steps=T)\n",
    "\n",
    "\tdef __len__(self):\n",
    "\t\treturn len(self.X)\n",
    "\n",
    "\tdef __getitem__(self, ix):\n",
    "\t\tim = torch.from_numpy(self.X[ix]) # imagen original\n",
    "\t\tt = torch.randint(0, self.T, (1,))\n",
    "\t\tnoise = torch.randn_like(im) # ruido\n",
    "\t\tx = noise * torch.sqrt(1 - self.alphas_hat[t]) + im * torch.sqrt(self.alphas_hat[t]) # imagen con ruido\n",
    "\t\treturn x.unsqueeze(0).float(), noise.unsqueeze(0).float(), t, self.y[ix]"
   ]
  },
  {
   "attachments": {},
   "cell_type": "markdown",
   "metadata": {},
   "source": [
    "Y ya podemos entrenar el modelo"
   ]
  },
  {
   "cell_type": "code",
   "execution_count": 9,
   "metadata": {},
   "outputs": [
    {
     "name": "stderr",
     "output_type": "stream",
     "text": [
      "  0%|          | 0/2188 [00:00<?, ?it/s]\n"
     ]
    },
    {
     "ename": "RuntimeError",
     "evalue": "Caught RuntimeError in DataLoader worker process 0.\nOriginal Traceback (most recent call last):\n  File \"/home/juan/miniconda3/lib/python3.8/site-packages/torch/utils/data/_utils/worker.py\", line 287, in _worker_loop\n    data = fetcher.fetch(index)\n  File \"/home/juan/miniconda3/lib/python3.8/site-packages/torch/utils/data/_utils/fetch.py\", line 49, in fetch\n    data = [self.dataset[idx] for idx in possibly_batched_index]\n  File \"/home/juan/miniconda3/lib/python3.8/site-packages/torch/utils/data/_utils/fetch.py\", line 49, in <listcomp>\n    data = [self.dataset[idx] for idx in possibly_batched_index]\n  File \"/tmp/ipykernel_198756/3542234047.py\", line 24, in __getitem__\n    return x.unsqueeze(0).float(), noise.unsqueeze(0).float(), t, self.y[ix]\nRuntimeError: CUDA error: initialization error\nCUDA kernel errors might be asynchronously reported at some other API call,so the stacktrace below might be incorrect.\nFor debugging consider passing CUDA_LAUNCH_BLOCKING=1.\n",
     "output_type": "error",
     "traceback": [
      "\u001b[0;31m---------------------------------------------------------------------------\u001b[0m",
      "\u001b[0;31mRuntimeError\u001b[0m                              Traceback (most recent call last)",
      "\u001b[1;32m/home/juan/Desktop/blog/113_sd_scratch_2/113_sd_scratch_2.ipynb Cell 14\u001b[0m in \u001b[0;36m<cell line: 12>\u001b[0;34m()\u001b[0m\n\u001b[1;32m     <a href='vscode-notebook-cell://ssh-remote%2Bharley/home/juan/Desktop/blog/113_sd_scratch_2/113_sd_scratch_2.ipynb#X33sdnNjb2RlLXJlbW90ZQ%3D%3D?line=12'>13</a>\u001b[0m losses \u001b[39m=\u001b[39m []\n\u001b[1;32m     <a href='vscode-notebook-cell://ssh-remote%2Bharley/home/juan/Desktop/blog/113_sd_scratch_2/113_sd_scratch_2.ipynb#X33sdnNjb2RlLXJlbW90ZQ%3D%3D?line=13'>14</a>\u001b[0m pb \u001b[39m=\u001b[39m tqdm\u001b[39m.\u001b[39mtqdm(dl)\n\u001b[0;32m---> <a href='vscode-notebook-cell://ssh-remote%2Bharley/home/juan/Desktop/blog/113_sd_scratch_2/113_sd_scratch_2.ipynb#X33sdnNjb2RlLXJlbW90ZQ%3D%3D?line=14'>15</a>\u001b[0m \u001b[39mfor\u001b[39;00m im, noise, t, y \u001b[39min\u001b[39;00m pb:\n\u001b[1;32m     <a href='vscode-notebook-cell://ssh-remote%2Bharley/home/juan/Desktop/blog/113_sd_scratch_2/113_sd_scratch_2.ipynb#X33sdnNjb2RlLXJlbW90ZQ%3D%3D?line=15'>16</a>\u001b[0m \tim, noise, t, y \u001b[39m=\u001b[39m im\u001b[39m.\u001b[39mcuda(), noise\u001b[39m.\u001b[39mcuda(), t\u001b[39m.\u001b[39mcuda()\u001b[39m.\u001b[39msqueeze(\u001b[39m-\u001b[39m\u001b[39m1\u001b[39m), y\u001b[39m.\u001b[39mcuda()\n\u001b[1;32m     <a href='vscode-notebook-cell://ssh-remote%2Bharley/home/juan/Desktop/blog/113_sd_scratch_2/113_sd_scratch_2.ipynb#X33sdnNjb2RlLXJlbW90ZQ%3D%3D?line=16'>17</a>\u001b[0m \toutput \u001b[39m=\u001b[39m model(im, t, y)\n",
      "File \u001b[0;32m~/miniconda3/lib/python3.8/site-packages/tqdm/std.py:1185\u001b[0m, in \u001b[0;36mtqdm.__iter__\u001b[0;34m(self)\u001b[0m\n\u001b[1;32m   1182\u001b[0m time \u001b[39m=\u001b[39m \u001b[39mself\u001b[39m\u001b[39m.\u001b[39m_time\n\u001b[1;32m   1184\u001b[0m \u001b[39mtry\u001b[39;00m:\n\u001b[0;32m-> 1185\u001b[0m     \u001b[39mfor\u001b[39;00m obj \u001b[39min\u001b[39;00m iterable:\n\u001b[1;32m   1186\u001b[0m         \u001b[39myield\u001b[39;00m obj\n\u001b[1;32m   1187\u001b[0m         \u001b[39m# Update and possibly print the progressbar.\u001b[39;00m\n\u001b[1;32m   1188\u001b[0m         \u001b[39m# Note: does not call self.update(1) for speed optimisation.\u001b[39;00m\n",
      "File \u001b[0;32m~/miniconda3/lib/python3.8/site-packages/torch/utils/data/dataloader.py:530\u001b[0m, in \u001b[0;36m_BaseDataLoaderIter.__next__\u001b[0;34m(self)\u001b[0m\n\u001b[1;32m    528\u001b[0m \u001b[39mif\u001b[39;00m \u001b[39mself\u001b[39m\u001b[39m.\u001b[39m_sampler_iter \u001b[39mis\u001b[39;00m \u001b[39mNone\u001b[39;00m:\n\u001b[1;32m    529\u001b[0m     \u001b[39mself\u001b[39m\u001b[39m.\u001b[39m_reset()\n\u001b[0;32m--> 530\u001b[0m data \u001b[39m=\u001b[39m \u001b[39mself\u001b[39;49m\u001b[39m.\u001b[39;49m_next_data()\n\u001b[1;32m    531\u001b[0m \u001b[39mself\u001b[39m\u001b[39m.\u001b[39m_num_yielded \u001b[39m+\u001b[39m\u001b[39m=\u001b[39m \u001b[39m1\u001b[39m\n\u001b[1;32m    532\u001b[0m \u001b[39mif\u001b[39;00m \u001b[39mself\u001b[39m\u001b[39m.\u001b[39m_dataset_kind \u001b[39m==\u001b[39m _DatasetKind\u001b[39m.\u001b[39mIterable \u001b[39mand\u001b[39;00m \\\n\u001b[1;32m    533\u001b[0m         \u001b[39mself\u001b[39m\u001b[39m.\u001b[39m_IterableDataset_len_called \u001b[39mis\u001b[39;00m \u001b[39mnot\u001b[39;00m \u001b[39mNone\u001b[39;00m \u001b[39mand\u001b[39;00m \\\n\u001b[1;32m    534\u001b[0m         \u001b[39mself\u001b[39m\u001b[39m.\u001b[39m_num_yielded \u001b[39m>\u001b[39m \u001b[39mself\u001b[39m\u001b[39m.\u001b[39m_IterableDataset_len_called:\n",
      "File \u001b[0;32m~/miniconda3/lib/python3.8/site-packages/torch/utils/data/dataloader.py:1224\u001b[0m, in \u001b[0;36m_MultiProcessingDataLoaderIter._next_data\u001b[0;34m(self)\u001b[0m\n\u001b[1;32m   1222\u001b[0m \u001b[39melse\u001b[39;00m:\n\u001b[1;32m   1223\u001b[0m     \u001b[39mdel\u001b[39;00m \u001b[39mself\u001b[39m\u001b[39m.\u001b[39m_task_info[idx]\n\u001b[0;32m-> 1224\u001b[0m     \u001b[39mreturn\u001b[39;00m \u001b[39mself\u001b[39;49m\u001b[39m.\u001b[39;49m_process_data(data)\n",
      "File \u001b[0;32m~/miniconda3/lib/python3.8/site-packages/torch/utils/data/dataloader.py:1250\u001b[0m, in \u001b[0;36m_MultiProcessingDataLoaderIter._process_data\u001b[0;34m(self, data)\u001b[0m\n\u001b[1;32m   1248\u001b[0m \u001b[39mself\u001b[39m\u001b[39m.\u001b[39m_try_put_index()\n\u001b[1;32m   1249\u001b[0m \u001b[39mif\u001b[39;00m \u001b[39misinstance\u001b[39m(data, ExceptionWrapper):\n\u001b[0;32m-> 1250\u001b[0m     data\u001b[39m.\u001b[39;49mreraise()\n\u001b[1;32m   1251\u001b[0m \u001b[39mreturn\u001b[39;00m data\n",
      "File \u001b[0;32m~/miniconda3/lib/python3.8/site-packages/torch/_utils.py:457\u001b[0m, in \u001b[0;36mExceptionWrapper.reraise\u001b[0;34m(self)\u001b[0m\n\u001b[1;32m    453\u001b[0m \u001b[39mexcept\u001b[39;00m \u001b[39mTypeError\u001b[39;00m:\n\u001b[1;32m    454\u001b[0m     \u001b[39m# If the exception takes multiple arguments, don't try to\u001b[39;00m\n\u001b[1;32m    455\u001b[0m     \u001b[39m# instantiate since we don't know how to\u001b[39;00m\n\u001b[1;32m    456\u001b[0m     \u001b[39mraise\u001b[39;00m \u001b[39mRuntimeError\u001b[39;00m(msg) \u001b[39mfrom\u001b[39;00m \u001b[39mNone\u001b[39m\n\u001b[0;32m--> 457\u001b[0m \u001b[39mraise\u001b[39;00m exception\n",
      "\u001b[0;31mRuntimeError\u001b[0m: Caught RuntimeError in DataLoader worker process 0.\nOriginal Traceback (most recent call last):\n  File \"/home/juan/miniconda3/lib/python3.8/site-packages/torch/utils/data/_utils/worker.py\", line 287, in _worker_loop\n    data = fetcher.fetch(index)\n  File \"/home/juan/miniconda3/lib/python3.8/site-packages/torch/utils/data/_utils/fetch.py\", line 49, in fetch\n    data = [self.dataset[idx] for idx in possibly_batched_index]\n  File \"/home/juan/miniconda3/lib/python3.8/site-packages/torch/utils/data/_utils/fetch.py\", line 49, in <listcomp>\n    data = [self.dataset[idx] for idx in possibly_batched_index]\n  File \"/tmp/ipykernel_198756/3542234047.py\", line 24, in __getitem__\n    return x.unsqueeze(0).float(), noise.unsqueeze(0).float(), t, self.y[ix]\nRuntimeError: CUDA error: initialization error\nCUDA kernel errors might be asynchronously reported at some other API call,so the stacktrace below might be incorrect.\nFor debugging consider passing CUDA_LAUNCH_BLOCKING=1.\n"
     ]
    }
   ],
   "source": [
    "import tqdm\n",
    "\n",
    "EPOCHS = 10\n",
    "BATCH_SIZE = 32\n",
    "\n",
    "ds = Dataset(X, y) \n",
    "dl = torch.utils.data.DataLoader(ds, batch_size=BATCH_SIZE, shuffle=True, num_workers=4, pin_memory=True)\n",
    "model = ConditionalDiffusionModel().cuda()\n",
    "optimizer = torch.optim.Adam(model.parameters(), lr=1e-3)\n",
    "\n",
    "model.train()\n",
    "for epoch in range(1, EPOCHS+1):\n",
    "\tlosses = []\n",
    "\tpb = tqdm.tqdm(dl)\n",
    "\tfor im, noise, t, y in pb:\n",
    "\t\tim, noise, t, y = im.cuda(), noise.cuda(), t.cuda().squeeze(-1), y.cuda()\n",
    "\t\toutput = model(im, t, y)\n",
    "\t\tloss = torch.nn.functional.mse_loss(output, noise)\n",
    "\t\tloss.backward()\n",
    "\t\toptimizer.step()\n",
    "\t\toptimizer.zero_grad()\n",
    "\t\tlosses.append(loss.item())\n",
    "\t\tpb.set_description(f'Epoch {epoch}/{EPOCHS} loss {np.mean(losses):.5f}')"
   ]
  },
  {
   "cell_type": "code",
   "execution_count": null,
   "metadata": {},
   "outputs": [],
   "source": []
  }
 ],
 "metadata": {
  "kernelspec": {
   "display_name": "base",
   "language": "python",
   "name": "python3"
  },
  "language_info": {
   "codemirror_mode": {
    "name": "ipython",
    "version": 3
   },
   "file_extension": ".py",
   "mimetype": "text/x-python",
   "name": "python",
   "nbconvert_exporter": "python",
   "pygments_lexer": "ipython3",
   "version": "3.8.10"
  },
  "orig_nbformat": 4,
  "vscode": {
   "interpreter": {
    "hash": "74dbfc52f168b3071122cf9c0781887d6121c12f9c1b29bca56ce221bccb2a07"
   }
  }
 },
 "nbformat": 4,
 "nbformat_minor": 2
}
