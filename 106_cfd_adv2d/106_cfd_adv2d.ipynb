{
 "cells": [
  {
   "cell_type": "markdown",
   "metadata": {},
   "source": [
    "[![Open In Colab](https://colab.research.google.com/assets/colab-badge.svg)](https://colab.research.google.com/github/juansensio/blog/blob/master/106_cfd_adv2d/106_cfd_adv2d.ipynb)"
   ]
  },
  {
   "cell_type": "code",
   "execution_count": 119,
   "metadata": {},
   "outputs": [],
   "source": [
    "from dataclasses import dataclass, field\n",
    "import numpy as np \n",
    "import matplotlib.pyplot as plt\n",
    "\n",
    "@dataclass\n",
    "class Point:\n",
    "\tx: float\n",
    "\ty: float\n",
    "\n",
    "@dataclass\n",
    "class Vertex:\n",
    "\tp: Point\n",
    "\n",
    "@dataclass\n",
    "class Face:\n",
    "\tv: list[Vertex]\n",
    "\tc: Point\n",
    "\n",
    "\tdef __post_init__(self):\n",
    "\t\tassert len(self.v) == 2\n",
    "\n",
    "\tdef area(self) -> float:\n",
    "\t\treturn ((self.v[1].p.x - self.v[0].p.x)**2 + (self.v[1].p.y - self.v[0].p.y)**2)**0.5\n",
    "\n",
    "@dataclass\n",
    "class Cell:\n",
    "\tf: list[Face]\n",
    "\tc: Point\n",
    "\n",
    "\tdef __post_init__(self):\n",
    "\t\tassert len(self.f) == 4\n",
    "\n",
    "\tdef volume(self) -> float:\n",
    "\t\treturn self.f[0].area() * self.f[1].area() \n",
    "\n",
    "@dataclass\n",
    "class Mesh:\n",
    "\tNx: int\n",
    "\tNy: int\n",
    "\tLx: list[float] \n",
    "\tLy: list[float] \n",
    "\n",
    "\tv: list[Vertex] = field(init=False)\n",
    "\tf: list[Face] = field(init=False)\n",
    "\tc: list[Cell] = field(init=False)\n",
    "\n",
    "\tdef __post_init__(self):\n",
    "\t\tvx = np.linspace(self.Lx[0], self.Lx[1], self.Nx+1)\n",
    "\t\tvy = np.linspace(self.Ly[0], self.Ly[1], self.Ny+1)\n",
    "\t\tself.v = [Vertex(Point(x, y)) for y in vy for x in vx]\n",
    "\t\tfh = [Face([self.v[i + (self.Nx+1)*j], self.v[i+1+ (self.Nx+1)*j]], Point((vx[i]+vx[i+1])/2, vy[j])) for j in range(self.Ny+1) for i in range(self.Nx)]\n",
    "\t\tfv = [Face([self.v[i + j*(self.Nx+1)], self.v[i+ (self.Nx+1)+j*(self.Nx+1)]], Point(vx[i], (vy[j]+vy[j+1])/2)) for j in range(self.Ny) for i in range(self.Nx+1)]\n",
    "\t\tself.f = fh + fv\n",
    "\t\tself.c = [Cell([fv[i], fh[j+1], fv[i+1], fh[j]], Point((vx[i]+vx[i+1])/2, (vy[j]+vy[j+1])/2)) for j in range(self.Ny) for i in range(self.Nx)]\n",
    "\n",
    "\tdef plot(self):\n",
    "\t\tplt.scatter([v.p.x for v in self.v], [v.p.y for v in self.v])\n",
    "\t\tfor f in self.f:\n",
    "\t\t\tplt.plot([v.p.x for v in f.v], [v.p.y for v in f.v], 'r-')\n",
    "\t\t\tplt.plot(f.c.x, f.c.y, 'Xr')\n",
    "\t\tfor c in self.c:\n",
    "\t\t\tplt.plot(c.c.x, c.c.y, '^g')\n",
    "\t\tplt.show()\t\t"
   ]
  },
  {
   "cell_type": "code",
   "execution_count": 120,
   "metadata": {},
   "outputs": [
    {
     "data": {
      "image/png": "[encoded data removed]",
      "text/plain": [
       "<Figure size 576x504 with 1 Axes>"
      ]
     },
     "metadata": {},
     "output_type": "display_data"
    }
   ],
   "source": [
    "mesh = Mesh(1, 2, [0, 1], [0, 1])\n",
    "mesh.plot()\n"
   ]
  },
  {
   "cell_type": "code",
   "execution_count": null,
   "metadata": {},
   "outputs": [],
   "source": []
  }
 ],
 "metadata": {
  "kernelspec": {
   "display_name": "Python 3.9.13 64-bit",
   "language": "python",
   "name": "python3"
  },
  "language_info": {
   "codemirror_mode": {
    "name": "ipython",
    "version": 3
   },
   "file_extension": ".py",
   "mimetype": "text/x-python",
   "name": "python",
   "nbconvert_exporter": "python",
   "pygments_lexer": "ipython3",
   "version": "3.9.13"
  },
  "orig_nbformat": 4,
  "vscode": {
   "interpreter": {
    "hash": "397704579725e15f5c7cb49fe5f0341eb7531c82d19f2c29d197e8b64ab5776b"
   }
  }
 },
 "nbformat": 4,
 "nbformat_minor": 2
}
