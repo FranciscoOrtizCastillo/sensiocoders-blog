{
 "cells": [
  {
   "attachments": {},
   "cell_type": "markdown",
   "metadata": {},
   "source": [
    "[![Open In Colab](https://colab.research.google.com/assets/colab-badge.svg)](https://colab.research.google.com/github/juansensio/blog/blob/master/116_pl2/116_pl2.ipynb)"
   ]
  },
  {
   "attachments": {},
   "cell_type": "markdown",
   "metadata": {},
   "source": [
    "# Pytorch Lightning 2.0"
   ]
  },
  {
   "attachments": {},
   "cell_type": "markdown",
   "metadata": {},
   "source": [
    "Con la llegada de `Pytorch 2.0`, de lo cual hablamos en detalle en el post anterior, llega también la versión 2.0 de `Pytorch Lightning`, la librería que simplifica y potencia el entrenamiento de redes neuronales en `Pytorch` (entre otras cualidades). Del mismo modo que hicimos en el post anterior, este servirá como introducción a la librería para aquellos que no esten familiarizados con ella. Por otro lado, si ya la conoces, aprenderás las novedades de la versión 2.0 y repasarás los conceptos básicos."
   ]
  },
  {
   "attachments": {},
   "cell_type": "markdown",
   "metadata": {},
   "source": [
    "## ¿Qué es Pytorch Lightning?"
   ]
  },
  {
   "attachments": {},
   "cell_type": "markdown",
   "metadata": {},
   "source": [
    "`Pytorch Lightning` es un framework de *Deep Learning*, construido por encima de `Pytorch`, que nos hace la vida más fácil a la hora de entrenar redes neuronales. Esto incluye la posibilidad de entrenar en múltiples GPUs e incluso TPUs sin ningun tipo de esfuerzo de implementación por nuestra parte, el uso de *callbacks* para realizar acciones durante el entrenamiento, la integración de *loggers* para el trackeado de experimentos, etc. Y todo ello de manera flexible y reproducible. Si bien `Pytoch Lightning` nació con esta librería, hoy en día forma parte de un ente mayor conocido como [`LightningAI`](https://lightning.ai/) que gestiona además otras librerías, como `Torchmetrics`, y además ofrece soluciones para desplegar modelos y ponerlos en producción.\n",
    "\n",
    "Puedes instalar `Pytorch Lightning` con el siguiente comando:\n",
    "\n",
    "```\n",
    "pip install lightning\n",
    "```"
   ]
  },
  {
   "cell_type": "code",
   "execution_count": 7,
   "metadata": {},
   "outputs": [
    {
     "data": {
      "text/plain": [
       "'2.0.0'"
      ]
     },
     "execution_count": 7,
     "metadata": {},
     "output_type": "execute_result"
    }
   ],
   "source": [
    "import lightning as L \n",
    "\n",
    "L.__version__"
   ]
  },
  {
   "attachments": {},
   "cell_type": "markdown",
   "metadata": {},
   "source": [
    "## Lightning Fabric"
   ]
  },
  {
   "attachments": {},
   "cell_type": "markdown",
   "metadata": {},
   "source": [
    "Una de las nuevas características de la versión 2.0 es la introducción de `Lightning Fabric`, un nuevo concepto que permite la adpoción progresive de `Pytoch Lightning` es nuestro código.\n",
    "\n",
    "![fabric](https://warehouse-camo.ingress.cmh1.psfhosted.org/00031ab751d5ceb361be2b79f0549c6286f2eebc/68747470733a2f2f706c2d7075626c69632d646174612e73332e616d617a6f6e6177732e636f6d2f6173736574735f6c696768746e696e672f636f6e74696e75756d2e706e67)"
   ]
  },
  {
   "attachments": {},
   "cell_type": "markdown",
   "metadata": {},
   "source": [
    "Vamos a ver como podemos aplicarlo al mismo ejemplo del post anterior, en el que entramos un `Perceptrón Multicapa` para la clasificación de dígitos manuscritos con el dataset `MNIST`.\t"
   ]
  },
  {
   "cell_type": "code",
   "execution_count": 2,
   "metadata": {},
   "outputs": [
    {
     "data": {
      "text/plain": [
       "((70000, 28, 28), (70000,))"
      ]
     },
     "execution_count": 2,
     "metadata": {},
     "output_type": "execute_result"
    }
   ],
   "source": [
    "from sklearn.datasets import fetch_openml\n",
    "import numpy as np\n",
    "import torch\n",
    "\n",
    "\n",
    "# mnist = fetch_openml('mnist_784', version=1)\n",
    "# X, Y = mnist[\"data\"].values.astype(float).reshape(-1, 28, 28) / 255., mnist[\"target\"].values.astype(int)\n",
    "# np.savez_compressed(\"mnist.npz\", X=X, y=Y)\n",
    "\n",
    "# la descarga puede tardar un rato, así que te recomiendo comentar las líneas anteriores después\n",
    "# de ejecutarlas la primera vez y descomentar las siguientes para cargar los datos desde el disco\n",
    "\n",
    "X, Y = np.load(\"mnist.npz\")[\"X\"], np.load(\"mnist.npz\")[\"y\"]\n",
    "\n",
    "X.shape, Y.shape"
   ]
  },
  {
   "cell_type": "code",
   "execution_count": 3,
   "metadata": {},
   "outputs": [],
   "source": [
    "class Dataset(torch.utils.data.Dataset):\n",
    "    def __init__(self, X, Y):\n",
    "        self.X = torch.tensor(X).float()\n",
    "        self.Y = torch.tensor(Y).long()\n",
    "    def __len__(self):\n",
    "        return len(self.X)\n",
    "    def __getitem__(self, ix):\n",
    "        return self.X[ix], self.Y[ix]\n",
    "    def collate_fn(self, batch):\n",
    "        x, y = [], []\n",
    "        for _x, _y in batch:\n",
    "            x.append(_x)\n",
    "            y.append(_y)\n",
    "        return torch.stack(x).view(len(batch), -1), torch.stack(y) \n",
    "    \n",
    "class Model(torch.nn.Module):\n",
    "    def __init__(self, D_in=784, H=100, D_out=10):\n",
    "        super(Model, self).__init__()\n",
    "        self.fc1 = torch.nn.Linear(D_in, H)\n",
    "        self.relu = torch.nn.ReLU()\n",
    "        self.fc2 = torch.nn.Linear(H, D_out)\n",
    "    def forward(self, x):\n",
    "        x = self.fc1(x)\n",
    "        x = self.relu(x)\n",
    "        x = self.fc2(x)\n",
    "        return x"
   ]
  },
  {
   "cell_type": "code",
   "execution_count": 4,
   "metadata": {},
   "outputs": [
    {
     "name": "stdout",
     "output_type": "stream",
     "text": [
      "epoch: 1/5\n",
      "loss: 2.2954 [  100/60000]\n",
      "loss: 0.4793 [10100/60000]\n",
      "loss: 0.4799 [20100/60000]\n",
      "loss: 0.3402 [30100/60000]\n",
      "loss: 0.2535 [40100/60000]\n",
      "loss: 0.2809 [50100/60000]\n",
      "val_loss: 0.2398 val_acc: 0.9279\n",
      "epoch: 2/5\n",
      "loss: 0.1961 [  100/60000]\n",
      "loss: 0.2457 [10100/60000]\n",
      "loss: 0.2592 [20100/60000]\n",
      "loss: 0.2194 [30100/60000]\n",
      "loss: 0.1613 [40100/60000]\n",
      "loss: 0.1630 [50100/60000]\n",
      "val_loss: 0.1689 val_acc: 0.9492\n",
      "epoch: 3/5\n",
      "loss: 0.1329 [  100/60000]\n",
      "loss: 0.1834 [10100/60000]\n",
      "loss: 0.1938 [20100/60000]\n",
      "loss: 0.1862 [30100/60000]\n",
      "loss: 0.1216 [40100/60000]\n",
      "loss: 0.1034 [50100/60000]\n",
      "val_loss: 0.1372 val_acc: 0.9593\n",
      "epoch: 4/5\n",
      "loss: 0.1079 [  100/60000]\n",
      "loss: 0.1417 [10100/60000]\n",
      "loss: 0.1558 [20100/60000]\n",
      "loss: 0.1591 [30100/60000]\n",
      "loss: 0.1014 [40100/60000]\n",
      "loss: 0.0776 [50100/60000]\n",
      "val_loss: 0.1192 val_acc: 0.9644\n",
      "epoch: 5/5\n",
      "loss: 0.0897 [  100/60000]\n",
      "loss: 0.1178 [10100/60000]\n",
      "loss: 0.1317 [20100/60000]\n",
      "loss: 0.1314 [30100/60000]\n",
      "loss: 0.0863 [40100/60000]\n",
      "loss: 0.0625 [50100/60000]\n",
      "val_loss: 0.1065 val_acc: 0.9683\n"
     ]
    }
   ],
   "source": [
    "dataset = {\n",
    "    \"train\": Dataset(X[:60000], Y[:60000]),\n",
    "    \"val\": Dataset(X[60000:], Y[60000:])\n",
    "}\n",
    "dataloader = {\n",
    "    'train': torch.utils.data.DataLoader(dataset['train'], batch_size=100, collate_fn=dataset['train'].collate_fn),\n",
    "    'val': torch.utils.data.DataLoader(dataset['val'], batch_size=100, collate_fn=dataset['val'].collate_fn)\n",
    "}\n",
    "model = Model(784, 100, 10)\n",
    "criterion = torch.nn.CrossEntropyLoss()\n",
    "optimizer = torch.optim.Adam(model.parameters())\n",
    "epochs = 5\n",
    "for e in range(1, epochs+1):\n",
    "    print(f\"epoch: {e}/{epochs}\")\n",
    "    model.train()\n",
    "    for batch_ix, (x, y) in enumerate(dataloader['train']):\n",
    "        optimizer.zero_grad()           \n",
    "        outputs = model(x)              \n",
    "        loss = criterion(outputs, y)    \n",
    "        loss.backward()                 \n",
    "        optimizer.step()                \n",
    "        if batch_ix % 100 == 0:\n",
    "            loss, current = loss.item(), (batch_ix + 1) * len(x)\n",
    "            print(f\"loss: {loss:.4f} [{current:>5d}/{len(dataset['train']):>5d}]\")\n",
    "    model.eval()                \n",
    "    val_loss, val_acc = [], []\n",
    "    with torch.no_grad():\n",
    "        for batch_ix, (x, y) in enumerate(dataloader['val']):\n",
    "            outputs = model(x)              \n",
    "            loss = criterion(outputs, y)    \n",
    "            val_loss.append(loss.item())\n",
    "            val_acc.append((outputs.argmax(1) == y).float().mean().item())\n",
    "    print(f\"val_loss: {np.mean(val_loss):.4f} val_acc: {np.mean(val_acc):.4f}\")"
   ]
  },
  {
   "attachments": {},
   "cell_type": "markdown",
   "metadata": {},
   "source": [
    "### Aceleradores"
   ]
  },
  {
   "attachments": {},
   "cell_type": "markdown",
   "metadata": {},
   "source": [
    "Lo primero que podemos hacer es ceder el control a `Fabric` sobre la infraestructura de entrenamiento. De esta manera, podremos entrenar en múltiples `GPUs` y otros aceleradores sin tener que preocuparnos por la implementación. En este post ejecturé los ejemplos en 2 `GPUs`, por lo que si no tienes acceso a este tipo de hardware, ejecuta el código en una sola `GPU` o en la `CPU`."
   ]
  },
  {
   "cell_type": "code",
   "execution_count": 20,
   "metadata": {},
   "outputs": [
    {
     "name": "stderr",
     "output_type": "stream",
     "text": [
      "Using 16-bit Automatic Mixed Precision (AMP)\n",
      "You are using a CUDA device ('NVIDIA GeForce RTX 3090') that has Tensor Cores. To properly utilize them, you should set `torch.set_float32_matmul_precision('medium' | 'high')` which will trade-off precision for performance. For more details, read https://pytorch.org/docs/stable/generated/torch.set_float32_matmul_precision.html#torch.set_float32_matmul_precision\n"
     ]
    }
   ],
   "source": [
    "fabric = L.Fabric(accelerator=\"cuda\", devices=2, strategy='dp', precision=16) # 2 gpus con estrategia data parallel y mixed precision\n",
    "fabric.launch()"
   ]
  },
  {
   "cell_type": "code",
   "execution_count": 21,
   "metadata": {},
   "outputs": [
    {
     "name": "stderr",
     "output_type": "stream",
     "text": [
      "You are using a CUDA device ('NVIDIA GeForce RTX 3090') that has Tensor Cores. To properly utilize them, you should set `torch.set_float32_matmul_precision('medium' | 'high')` which will trade-off precision for performance. For more details, read https://pytorch.org/docs/stable/generated/torch.set_float32_matmul_precision.html#torch.set_float32_matmul_precision\n"
     ]
    },
    {
     "name": "stdout",
     "output_type": "stream",
     "text": [
      "epoch: 1/5\n",
      "loss: 2.3244 [  100/60000]\n",
      "loss: 0.4593 [10100/60000]\n",
      "loss: 0.4683 [20100/60000]\n",
      "loss: 0.3326 [30100/60000]\n",
      "loss: 0.2442 [40100/60000]\n",
      "loss: 0.2686 [50100/60000]\n",
      "val_loss: 0.2336 val_acc: 0.9313\n",
      "epoch: 2/5\n",
      "loss: 0.1946 [  100/60000]\n",
      "loss: 0.2204 [10100/60000]\n",
      "loss: 0.2522 [20100/60000]\n",
      "loss: 0.2161 [30100/60000]\n",
      "loss: 0.1605 [40100/60000]\n",
      "loss: 0.1673 [50100/60000]\n",
      "val_loss: 0.1659 val_acc: 0.9509\n",
      "epoch: 3/5\n",
      "loss: 0.1358 [  100/60000]\n",
      "loss: 0.1720 [10100/60000]\n",
      "loss: 0.2004 [20100/60000]\n",
      "loss: 0.1922 [30100/60000]\n",
      "loss: 0.1207 [40100/60000]\n",
      "loss: 0.1273 [50100/60000]\n",
      "val_loss: 0.1328 val_acc: 0.9604\n",
      "epoch: 4/5\n",
      "loss: 0.1050 [  100/60000]\n",
      "loss: 0.1318 [10100/60000]\n",
      "loss: 0.1613 [20100/60000]\n",
      "loss: 0.1783 [30100/60000]\n",
      "loss: 0.0953 [40100/60000]\n",
      "loss: 0.1141 [50100/60000]\n",
      "val_loss: 0.1143 val_acc: 0.9658\n",
      "epoch: 5/5\n",
      "loss: 0.0854 [  100/60000]\n",
      "loss: 0.1077 [10100/60000]\n",
      "loss: 0.1338 [20100/60000]\n",
      "loss: 0.1668 [30100/60000]\n",
      "loss: 0.0802 [40100/60000]\n",
      "loss: 0.1014 [50100/60000]\n",
      "val_loss: 0.1028 val_acc: 0.9688\n"
     ]
    }
   ],
   "source": [
    "dataloader = {\n",
    "    'train': fabric.setup_dataloaders(torch.utils.data.DataLoader(dataset['train'], batch_size=100, collate_fn=dataset['train'].collate_fn)),\n",
    "    'val': fabric.setup_dataloaders(torch.utils.data.DataLoader(dataset['val'], batch_size=100, collate_fn=dataset['val'].collate_fn))\n",
    "}\n",
    "model = Model(784, 100, 10)\n",
    "criterion = torch.nn.CrossEntropyLoss()\n",
    "optimizer = torch.optim.Adam(model.parameters())\n",
    "model, optimizer = fabric.setup(model, optimizer)\n",
    "epochs = 5\n",
    "for e in range(1, epochs+1):\n",
    "    print(f\"epoch: {e}/{epochs}\")\n",
    "    model.train()\n",
    "    for batch_ix, (x, y) in enumerate(dataloader['train']):\n",
    "        optimizer.zero_grad()           \n",
    "        outputs = model(x)              \n",
    "        loss = criterion(outputs, y)    \n",
    "        fabric.backward(loss)                 \n",
    "        optimizer.step()                \n",
    "        if batch_ix % 100 == 0:\n",
    "            loss, current = loss.item(), (batch_ix + 1) * len(x)\n",
    "            print(f\"loss: {loss:.4f} [{current:>5d}/{len(dataset['train']):>5d}]\")\n",
    "    model.eval()                \n",
    "    val_loss, val_acc = [], []\n",
    "    with torch.no_grad():\n",
    "        for batch_ix, (x, y) in enumerate(dataloader['val']):\n",
    "            outputs = model(x)              \n",
    "            loss = criterion(outputs, y)    \n",
    "            val_loss.append(loss.item())\n",
    "            val_acc.append((outputs.argmax(1) == y).float().mean().item())\n",
    "    print(f\"val_loss: {np.mean(val_loss):.4f} val_acc: {np.mean(val_acc):.4f}\")"
   ]
  },
  {
   "attachments": {},
   "cell_type": "markdown",
   "metadata": {},
   "source": [
    "### El `LightningModule`"
   ]
  },
  {
   "attachments": {},
   "cell_type": "markdown",
   "metadata": {},
   "source": [
    "El siguiente paso para sacar todavía más partido a `Fabric` es utilizar `LightningModule` como base para nuestros modelos. "
   ]
  },
  {
   "cell_type": "code",
   "execution_count": 26,
   "metadata": {},
   "outputs": [],
   "source": [
    "class LitModel(L.LightningModule):\n",
    "    def __init__(self, D_in=784, H=100, D_out=10):\n",
    "        super().__init__()\n",
    "        self.model = Model(D_in, H, D_out)\n",
    "        self.loss = torch.nn.CrossEntropyLoss()\n",
    "        self.accuracy = lambda y_hat, y: (y_hat.argmax(1) == y).float().mean()\n",
    "\n",
    "    def training_step(self, batch, batch_idx):\n",
    "        x, y = batch\n",
    "        y_hat = self.model(x)\n",
    "        loss = self.loss(y_hat, y)\n",
    "        return loss\n",
    "    \n",
    "    def validation_step(self, batch, batch_idx):\n",
    "        x, y = batch\n",
    "        y_hat = self.model(x)\n",
    "        loss = self.loss(y_hat, y)\n",
    "        acc = self.accuracy(y_hat, y)\n",
    "        return loss, acc\n",
    "\n",
    "    def configure_optimizers(self):\n",
    "        return torch.optim.Adam(self.parameters())\n",
    "\n",
    "    def train_dataloader(self):\n",
    "        return torch.utils.data.DataLoader(dataset['train'], batch_size=100, collate_fn=dataset['train'].collate_fn)\n",
    "    \n",
    "    def val_dataloader(self):\n",
    "        return torch.utils.data.DataLoader(dataset['val'], batch_size=100, collate_fn=dataset['val'].collate_fn)\n",
    "\n",
    "    def log(self, batch_ix, loss, x, dataset): # mi propio hook para loggear\n",
    "        if batch_ix % 100 == 0:\n",
    "            loss, current = loss.item(), (batch_ix + 1) * len(x)\n",
    "            print(f\"loss: {loss:.4f} [{current:>5d}/{len(dataset):>5d}]\")"
   ]
  },
  {
   "cell_type": "code",
   "execution_count": 31,
   "metadata": {},
   "outputs": [
    {
     "name": "stderr",
     "output_type": "stream",
     "text": [
      "/home/juan/miniconda3/envs/pt2/lib/python3.10/site-packages/lightning/fabric/connector.py:562: UserWarning: 16 is supported for historical reasons but its usage is discouraged. Please set your precision to 16-mixed instead!\n",
      "  rank_zero_warn(\n",
      "Using 16-bit Automatic Mixed Precision (AMP)\n",
      "You are using a CUDA device ('NVIDIA GeForce RTX 3090') that has Tensor Cores. To properly utilize them, you should set `torch.set_float32_matmul_precision('medium' | 'high')` which will trade-off precision for performance. For more details, read https://pytorch.org/docs/stable/generated/torch.set_float32_matmul_precision.html#torch.set_float32_matmul_precision\n"
     ]
    },
    {
     "name": "stdout",
     "output_type": "stream",
     "text": [
      "epoch: 1/5\n",
      "loss: 2.3130 [  100/60000]\n",
      "loss: 0.4688 [10100/60000]\n",
      "loss: 0.4964 [20100/60000]\n",
      "loss: 0.3415 [30100/60000]\n",
      "loss: 0.2553 [40100/60000]\n",
      "loss: 0.2702 [50100/60000]\n",
      "val_loss: 0.2400 val_acc: 0.1100\n",
      "epoch: 2/5\n",
      "loss: 0.2138 [  100/60000]\n",
      "loss: 0.2246 [10100/60000]\n",
      "loss: 0.2785 [20100/60000]\n",
      "loss: 0.2219 [30100/60000]\n",
      "loss: 0.1643 [40100/60000]\n",
      "loss: 0.1474 [50100/60000]\n",
      "val_loss: 0.1746 val_acc: 0.1100\n",
      "epoch: 3/5\n",
      "loss: 0.1484 [  100/60000]\n",
      "loss: 0.1834 [10100/60000]\n",
      "loss: 0.2060 [20100/60000]\n",
      "loss: 0.1783 [30100/60000]\n",
      "loss: 0.1213 [40100/60000]\n",
      "loss: 0.1023 [50100/60000]\n",
      "val_loss: 0.1406 val_acc: 0.1100\n",
      "epoch: 4/5\n",
      "loss: 0.1179 [  100/60000]\n",
      "loss: 0.1536 [10100/60000]\n",
      "loss: 0.1682 [20100/60000]\n",
      "loss: 0.1597 [30100/60000]\n",
      "loss: 0.0920 [40100/60000]\n",
      "loss: 0.0769 [50100/60000]\n",
      "val_loss: 0.1225 val_acc: 0.1100\n",
      "epoch: 5/5\n",
      "loss: 0.0984 [  100/60000]\n",
      "loss: 0.1231 [10100/60000]\n",
      "loss: 0.1368 [20100/60000]\n",
      "loss: 0.1501 [30100/60000]\n",
      "loss: 0.0751 [40100/60000]\n",
      "loss: 0.0608 [50100/60000]\n",
      "val_loss: 0.1101 val_acc: 0.1100\n"
     ]
    }
   ],
   "source": [
    "fabric = L.Fabric(accelerator=\"cuda\", devices=2, strategy='dp', precision=16) # 2 gpus con estrategia data parallel y mixed precision\n",
    "model = LitModel(784, 100, 10)\n",
    "optimizer = model.configure_optimizers()\n",
    "model, optimizer = fabric.setup(model, optimizer)\n",
    "dataloader = {\n",
    "    'train': fabric.setup_dataloaders(model.train_dataloader()),\n",
    "    'val': fabric.setup_dataloaders(model.val_dataloader())\n",
    "}\n",
    "epochs = 5\n",
    "for e in range(1, epochs+1):\n",
    "    print(f\"epoch: {e}/{epochs}\")\n",
    "    model.train()\n",
    "    for batch_ix, batch in enumerate(dataloader['train']):\n",
    "        optimizer.zero_grad()           \n",
    "        loss = model.training_step(batch, batch_ix)   \n",
    "        fabric.backward(loss)                 \n",
    "        optimizer.step()  \n",
    "        model.log(batch_ix, loss, x, dataset['train'])              \n",
    "    model.eval()                \n",
    "    val_loss, val_acc = [], []\n",
    "    with torch.no_grad():\n",
    "        for batch_ix, batch in enumerate(dataloader['val']):\n",
    "            loss, acc = model.validation_step(batch, batch_ix)\n",
    "            val_loss.append(loss.item())\n",
    "            val_acc.append(acc)\n",
    "    print(f\"val_loss: {np.mean(val_loss):.4f} val_acc: {np.mean(val_acc):.4f}\")"
   ]
  },
  {
   "attachments": {},
   "cell_type": "markdown",
   "metadata": {},
   "source": [
    "De esta manera desacolpamos la lógica de entrenamiento de la lógica de la arquitectura de la red, muy apropiado si queremos probar distintos modelos en un mismo problema. Además, nos permite usar los [hooks](https://lightning.ai/docs/pytorch/stable/common/lightning_module.html#hooks) por defecto o implementar los nuestros propios. !Muy interesante!"
   ]
  },
  {
   "attachments": {},
   "cell_type": "markdown",
   "metadata": {},
   "source": [
    "### *Logging*"
   ]
  },
  {
   "attachments": {},
   "cell_type": "markdown",
   "metadata": {},
   "source": [
    "Una parte esencial de cualquier entrenamiento consiste en *logear* los resultados obtenidos. Esto nos permite comparar distintos experimentos y ver como evoluciona nuestro modelo. `Fabric` nos ofrece diferentes *loggers*"
   ]
  },
  {
   "cell_type": "code",
   "execution_count": 56,
   "metadata": {},
   "outputs": [
    {
     "name": "stderr",
     "output_type": "stream",
     "text": [
      "/home/juan/miniconda3/envs/pt2/lib/python3.10/site-packages/lightning/fabric/connector.py:562: UserWarning: 16 is supported for historical reasons but its usage is discouraged. Please set your precision to 16-mixed instead!\n",
      "  rank_zero_warn(\n",
      "Using 16-bit Automatic Mixed Precision (AMP)\n",
      "You are using a CUDA device ('NVIDIA GeForce RTX 3090') that has Tensor Cores. To properly utilize them, you should set `torch.set_float32_matmul_precision('medium' | 'high')` which will trade-off precision for performance. For more details, read https://pytorch.org/docs/stable/generated/torch.set_float32_matmul_precision.html#torch.set_float32_matmul_precision\n",
      "loss 0.4244 val_loss: 0.2434 val_acc: 0.9292:   0%|          | 0/20 [00:01<?, ?it/s]/home/juan/miniconda3/envs/pt2/lib/python3.10/site-packages/lightning/fabric/loggers/csv_logs.py:188: UserWarning: Experiment logs directory logs/MNIST/version_0 exists and is not empty. Previous log files in this directory will be deleted when the new ones are saved!\n",
      "  rank_zero_warn(\n",
      "loss 0.0085 val_loss: 0.1027 val_acc: 0.9754: 100%|██████████| 20/20 [00:21<00:00,  1.07s/it]\n"
     ]
    }
   ],
   "source": [
    "from lightning.fabric.loggers import CSVLogger # o Tensorboard\n",
    "from tqdm import tqdm\n",
    "\n",
    "logger = CSVLogger('logs', 'MNIST', version=0)\n",
    "fabric = L.Fabric(accelerator=\"cuda\", devices=1, precision=16, loggers=logger) \n",
    "model = LitModel(784, 100, 10)\n",
    "optimizer = model.configure_optimizers()\n",
    "model, optimizer = fabric.setup(model, optimizer)\n",
    "dataloader = {\n",
    "    'train': fabric.setup_dataloaders(model.train_dataloader()),\n",
    "    'val': fabric.setup_dataloaders(model.val_dataloader())\n",
    "}\n",
    "epochs = 20\n",
    "pbar = tqdm(range(1, epochs+1))\n",
    "for e in pbar:\n",
    "    model.train()\n",
    "    train_loss = []\n",
    "    for batch_ix, batch in enumerate(dataloader['train']):\n",
    "        optimizer.zero_grad()           \n",
    "        loss = model.training_step(batch, batch_ix)   \n",
    "        fabric.backward(loss)                 \n",
    "        optimizer.step()  \n",
    "        train_loss.append(loss.item())\n",
    "    model.eval()                \n",
    "    val_loss, val_acc = [], []\n",
    "    with torch.no_grad():\n",
    "        for batch_ix, batch in enumerate(dataloader['val']):\n",
    "            loss, acc = model.validation_step(batch, batch_ix)\n",
    "            val_loss.append(loss.item())\n",
    "            val_acc.append(acc.item())\n",
    "    pbar.set_description(f\"loss {np.mean(train_loss):.4f} val_loss: {np.mean(val_loss):.4f} val_acc: {np.mean(val_acc):.4f}\")\n",
    "    fabric.log_dict({'val_loss': np.mean(val_loss), 'val_acc': np.mean(val_acc), 'epoch': e, 'train_loss': np.mean(train_loss)})\n",
    "logger.finalize(\"success\")"
   ]
  },
  {
   "cell_type": "code",
   "execution_count": 87,
   "metadata": {},
   "outputs": [
    {
     "data": {
      "image/png": "[encoded data removed]",
      "text/plain": [
       "<Figure size 800x300 with 2 Axes>"
      ]
     },
     "metadata": {},
     "output_type": "display_data"
    }
   ],
   "source": [
    "import pandas as pd \n",
    "import matplotlib.pyplot as plt\n",
    "\n",
    "def plot_logs(df):\n",
    "    fig = plt.figure(figsize=(8, 3))\n",
    "    ax = fig.add_subplot(121)\n",
    "    df.plot(x='epoch', y=['train_loss', 'val_loss'], grid=True, title='loss', ax=ax)\n",
    "    ax = fig.add_subplot(122)\n",
    "    df.plot(x='epoch', y=['val_acc'], grid=True, title='accuracy', ax=ax)\n",
    "    plt.tight_layout()\n",
    "    plt.show()\n",
    "\n",
    "df = pd.read_csv('logs/MNIST/version_0/metrics.csv')\n",
    "plot_logs(df)"
   ]
  },
  {
   "attachments": {},
   "cell_type": "markdown",
   "metadata": {},
   "source": [
    "### *Checkpoints*"
   ]
  },
  {
   "attachments": {},
   "cell_type": "markdown",
   "metadata": {},
   "source": [
    "Los checkpoints son una forma de guardar el estado de nuestro modelo en un momento determinado. Esto nos permite continuar el entrenamiento en un momento posterior, o incluso cargar el modelo para hacer inferencia. "
   ]
  },
  {
   "cell_type": "code",
   "execution_count": 83,
   "metadata": {},
   "outputs": [
    {
     "name": "stderr",
     "output_type": "stream",
     "text": [
      "Using 16-bit Automatic Mixed Precision (AMP)\n",
      "You are using a CUDA device ('NVIDIA GeForce RTX 3090') that has Tensor Cores. To properly utilize them, you should set `torch.set_float32_matmul_precision('medium' | 'high')` which will trade-off precision for performance. For more details, read https://pytorch.org/docs/stable/generated/torch.set_float32_matmul_precision.html#torch.set_float32_matmul_precision\n",
      "loss 0.1513 val_loss: 0.1359 val_acc: 0.9588: 100%|██████████| 3/3 [00:03<00:00,  1.05s/it]\n",
      "Using 16-bit Automatic Mixed Precision (AMP)\n",
      "You are using a CUDA device ('NVIDIA GeForce RTX 3090') that has Tensor Cores. To properly utilize them, you should set `torch.set_float32_matmul_precision('medium' | 'high')` which will trade-off precision for performance. For more details, read https://pytorch.org/docs/stable/generated/torch.set_float32_matmul_precision.html#torch.set_float32_matmul_precision\n",
      "loss 0.0755 val_loss: 0.0964 val_acc: 0.9703: 100%|██████████| 3/3 [00:03<00:00,  1.08s/it]\n",
      "Using 16-bit Automatic Mixed Precision (AMP)\n",
      "You are using a CUDA device ('NVIDIA GeForce RTX 3090') that has Tensor Cores. To properly utilize them, you should set `torch.set_float32_matmul_precision('medium' | 'high')` which will trade-off precision for performance. For more details, read https://pytorch.org/docs/stable/generated/torch.set_float32_matmul_precision.html#torch.set_float32_matmul_precision\n",
      "loss 0.0321 val_loss: 0.0900 val_acc: 0.9727: 100%|██████████| 5/5 [00:05<00:00,  1.05s/it]\n"
     ]
    }
   ],
   "source": [
    "def train(epochs=10, resume=None, load=None, version=0):\n",
    "    logger = CSVLogger('logs', 'MNIST', version=version)\n",
    "    fabric = L.Fabric(accelerator=\"cuda\", devices=1, precision=16, loggers=logger) \n",
    "    model = LitModel(784, 100, 10)\n",
    "    optimizer = model.configure_optimizers()\n",
    "    model, optimizer = fabric.setup(model, optimizer)\n",
    "    dataloader = {\n",
    "        'train': fabric.setup_dataloaders(model.train_dataloader()),\n",
    "        'val': fabric.setup_dataloaders(model.val_dataloader())\n",
    "    }\n",
    "    e0 = 1\n",
    "    if resume: # cargamos todo para seguir entrenando\n",
    "        reminder = fabric.load(resume, {'model': model, 'optimizer': optimizer})\n",
    "        e0 = reminder['epoch'] + 1\n",
    "    if load: # cargamos solo el modelo\n",
    "        reminder = fabric.load(load, {'model': model})\n",
    "    pbar = tqdm(range(e0, epochs+1))\n",
    "    for e in pbar:\n",
    "        model.train()\n",
    "        train_loss = []\n",
    "        for batch_ix, batch in enumerate(dataloader['train']):\n",
    "            optimizer.zero_grad()           \n",
    "            loss = model.training_step(batch, batch_ix)   \n",
    "            fabric.backward(loss)                 \n",
    "            optimizer.step()  \n",
    "            train_loss.append(loss.item())\n",
    "        model.eval()                \n",
    "        val_loss, val_acc = [], []\n",
    "        with torch.no_grad():\n",
    "            for batch_ix, batch in enumerate(dataloader['val']):\n",
    "                loss, acc = model.validation_step(batch, batch_ix)\n",
    "                val_loss.append(loss.item())\n",
    "                val_acc.append(acc.item())\n",
    "        pbar.set_description(f\"loss {np.mean(train_loss):.4f} val_loss: {np.mean(val_loss):.4f} val_acc: {np.mean(val_acc):.4f}\")\n",
    "        fabric.log_dict({'val_loss': np.mean(val_loss), 'val_acc': np.mean(val_acc), 'epoch': e, 'train_loss': np.mean(train_loss)})\n",
    "        fabric.save('checkpoints/MNIST.ckpt', {\n",
    "            'epoch': e,\n",
    "            'model': model,\n",
    "            'optimizer': optimizer\n",
    "        })\n",
    "    logger.finalize(\"success\")\n",
    "\n",
    "# entrenamos 3 epochs\n",
    "train(3)\n",
    "\n",
    "# cargamos el checkpoint para entrenar 3 más (util si se interrumpe el entrenamiento)\n",
    "train(6, resume='checkpoints/MNIST.ckpt', version=1)\n",
    "\n",
    "# cargamos el checkpoint para entrenar desde 0 (util para reentrenar un modelo)\n",
    "train(5, load='checkpoints/MNIST.ckpt', version=2)\n"
   ]
  },
  {
   "cell_type": "code",
   "execution_count": 88,
   "metadata": {},
   "outputs": [
    {
     "data": {
      "image/png": "[encoded data removed]",
      "text/plain": [
       "<Figure size 800x300 with 2 Axes>"
      ]
     },
     "metadata": {},
     "output_type": "display_data"
    }
   ],
   "source": [
    "df1 = pd.read_csv('logs/MNIST/version_0/metrics.csv')\n",
    "df2 = pd.read_csv('logs/MNIST/version_1/metrics.csv')\n",
    "df = pd.concat([df1, df2])\n",
    "plot_logs(df)"
   ]
  },
  {
   "cell_type": "code",
   "execution_count": 90,
   "metadata": {},
   "outputs": [
    {
     "data": {
      "image/png": "[encoded data removed]",
      "text/plain": [
       "<Figure size 800x300 with 2 Axes>"
      ]
     },
     "metadata": {},
     "output_type": "display_data"
    }
   ],
   "source": [
    "plot_logs(pd.read_csv('logs/MNIST/version_2/metrics.csv'))"
   ]
  },
  {
   "attachments": {},
   "cell_type": "markdown",
   "metadata": {},
   "source": [
    "### Plantilla de entrenamiento"
   ]
  },
  {
   "attachments": {},
   "cell_type": "markdown",
   "metadata": {},
   "source": [
    "Con toda esta funcionalidad que nos ofrece `Fabric` podemos simplificar el código de entrenamiento a una plantilla que podemos reusar en distintos problemas. Puedes encontrarla en el siguiente [enlace](https://github.com/Lightning-AI/lightning/blob/master/examples/fabric/build_your_own_trainer/trainer.py), aunque llegado el caso quizás es mejor que te plantees usar directamente `Pytorch Lightning`, y su `Trainer`, en lugar de `Fabric`."
   ]
  },
  {
   "attachments": {},
   "cell_type": "markdown",
   "metadata": {},
   "source": [
    "## Pytorch Lightning"
   ]
  },
  {
   "attachments": {},
   "cell_type": "markdown",
   "metadata": {},
   "source": [
    "Si bien `Fabric` nos permite vitaminar nuestro código `Pytorch`, `Pytorch Lightning` nos ofrece una solución más completa. Si tienes una base de código extensa en `Pytorch` y quieres, por ejemplo, entrenar tus modelos en varias `GPUs` sin tener que implementar esta funcionalidad, `Fabric` es una solución adecuada. Si estas empezando un proyecto desde cero y tienes claro que quieres usar `Lightning`, entonces `Pytorch Lightning` es mi recomendación. \n",
    "\n",
    "El primer elemento que debes conocer es el `LightningModule`, que ya hemos visto antes. En esta clase organizaremos nuestro código para que luego sea ejecutado por el `Trainer`."
   ]
  },
  {
   "cell_type": "code",
   "execution_count": 103,
   "metadata": {},
   "outputs": [],
   "source": [
    "class LitModel(L.LightningModule):\n",
    "    def __init__(self, D_in=784, H=100, D_out=10):\n",
    "        super().__init__()\n",
    "        self.model = Model(D_in, H, D_out)\n",
    "        self.loss = torch.nn.CrossEntropyLoss()\n",
    "        self.accuracy = lambda y_hat, y: (y_hat.argmax(1) == y).float().mean()\n",
    "\n",
    "    def training_step(self, batch, batch_idx):\n",
    "        x, y = batch\n",
    "        y_hat = self.model(x)\n",
    "        loss = self.loss(y_hat, y)\n",
    "        self.log('loss', loss, prog_bar=True) # logear en la barra de progreso\n",
    "        return loss\n",
    "    \n",
    "    def validation_step(self, batch, batch_idx):\n",
    "        x, y = batch\n",
    "        y_hat = self.model(x)\n",
    "        loss = self.loss(y_hat, y)\n",
    "        acc = self.accuracy(y_hat, y)\n",
    "        self.log('val_loss', loss, prog_bar=True)\n",
    "        self.log('val_acc', acc, prog_bar=True)\n",
    "\n",
    "    def configure_optimizers(self):\n",
    "        return torch.optim.Adam(self.parameters())\n",
    "    \n",
    "    # aquí no hay dataloaders !!!"
   ]
  },
  {
   "cell_type": "code",
   "execution_count": 102,
   "metadata": {},
   "outputs": [
    {
     "name": "stderr",
     "output_type": "stream",
     "text": [
      "Using 16bit Automatic Mixed Precision (AMP)\n",
      "GPU available: True (cuda), used: True\n",
      "TPU available: False, using: 0 TPU cores\n",
      "IPU available: False, using: 0 IPUs\n",
      "HPU available: False, using: 0 HPUs\n",
      "You are using a CUDA device ('NVIDIA GeForce RTX 3090') that has Tensor Cores. To properly utilize them, you should set `torch.set_float32_matmul_precision('medium' | 'high')` which will trade-off precision for performance. For more details, read https://pytorch.org/docs/stable/generated/torch.set_float32_matmul_precision.html#torch.set_float32_matmul_precision\n",
      "LOCAL_RANK: 0 - CUDA_VISIBLE_DEVICES: [0,1]\n",
      "\n",
      "  | Name  | Type             | Params\n",
      "-------------------------------------------\n",
      "0 | model | Model            | 79.5 K\n",
      "1 | loss  | CrossEntropyLoss | 0     \n",
      "-------------------------------------------\n",
      "79.5 K    Trainable params\n",
      "0         Non-trainable params\n",
      "79.5 K    Total params\n",
      "0.318     Total estimated model params size (MB)\n"
     ]
    },
    {
     "data": {
      "application/vnd.jupyter.widget-view+json": {
       "model_id": "33fee288a0954a0fbbbb3d3c7c743bde",
       "version_major": 2,
       "version_minor": 0
      },
      "text/plain": [
       "Sanity Checking: 0it [00:00, ?it/s]"
      ]
     },
     "metadata": {},
     "output_type": "display_data"
    },
    {
     "data": {
      "application/vnd.jupyter.widget-view+json": {
       "model_id": "30f749f6c8af4233b7fd1434be8fbaa9",
       "version_major": 2,
       "version_minor": 0
      },
      "text/plain": [
       "Training: 0it [00:00, ?it/s]"
      ]
     },
     "metadata": {},
     "output_type": "display_data"
    },
    {
     "data": {
      "application/vnd.jupyter.widget-view+json": {
       "model_id": "eb11a6e0dbbd4065934437255640c774",
       "version_major": 2,
       "version_minor": 0
      },
      "text/plain": [
       "Validation: 0it [00:00, ?it/s]"
      ]
     },
     "metadata": {},
     "output_type": "display_data"
    },
    {
     "data": {
      "application/vnd.jupyter.widget-view+json": {
       "model_id": "38f21397eec9489fbefc542074c458cc",
       "version_major": 2,
       "version_minor": 0
      },
      "text/plain": [
       "Validation: 0it [00:00, ?it/s]"
      ]
     },
     "metadata": {},
     "output_type": "display_data"
    },
    {
     "data": {
      "application/vnd.jupyter.widget-view+json": {
       "model_id": "024b9b954eeb4be7a53159ef5d89a6f5",
       "version_major": 2,
       "version_minor": 0
      },
      "text/plain": [
       "Validation: 0it [00:00, ?it/s]"
      ]
     },
     "metadata": {},
     "output_type": "display_data"
    },
    {
     "data": {
      "application/vnd.jupyter.widget-view+json": {
       "model_id": "7aa12da3a9b74106be8ce0ae809f7049",
       "version_major": 2,
       "version_minor": 0
      },
      "text/plain": [
       "Validation: 0it [00:00, ?it/s]"
      ]
     },
     "metadata": {},
     "output_type": "display_data"
    },
    {
     "data": {
      "application/vnd.jupyter.widget-view+json": {
       "model_id": "51344c1c7133478886a92d9d43c884be",
       "version_major": 2,
       "version_minor": 0
      },
      "text/plain": [
       "Validation: 0it [00:00, ?it/s]"
      ]
     },
     "metadata": {},
     "output_type": "display_data"
    },
    {
     "data": {
      "application/vnd.jupyter.widget-view+json": {
       "model_id": "c5fbf5302ce840c5af1baeff291a8bd7",
       "version_major": 2,
       "version_minor": 0
      },
      "text/plain": [
       "Validation: 0it [00:00, ?it/s]"
      ]
     },
     "metadata": {},
     "output_type": "display_data"
    },
    {
     "data": {
      "application/vnd.jupyter.widget-view+json": {
       "model_id": "9a7585f25db54ec0858b04378de5c9d3",
       "version_major": 2,
       "version_minor": 0
      },
      "text/plain": [
       "Validation: 0it [00:00, ?it/s]"
      ]
     },
     "metadata": {},
     "output_type": "display_data"
    },
    {
     "data": {
      "application/vnd.jupyter.widget-view+json": {
       "model_id": "75217a8f153144a2bd06720909736371",
       "version_major": 2,
       "version_minor": 0
      },
      "text/plain": [
       "Validation: 0it [00:00, ?it/s]"
      ]
     },
     "metadata": {},
     "output_type": "display_data"
    },
    {
     "data": {
      "application/vnd.jupyter.widget-view+json": {
       "model_id": "4d8f8cd453b94e50be0bd922bf387583",
       "version_major": 2,
       "version_minor": 0
      },
      "text/plain": [
       "Validation: 0it [00:00, ?it/s]"
      ]
     },
     "metadata": {},
     "output_type": "display_data"
    },
    {
     "data": {
      "application/vnd.jupyter.widget-view+json": {
       "model_id": "f0bb452fb7844a8d978c38752ac95a9c",
       "version_major": 2,
       "version_minor": 0
      },
      "text/plain": [
       "Validation: 0it [00:00, ?it/s]"
      ]
     },
     "metadata": {},
     "output_type": "display_data"
    },
    {
     "name": "stderr",
     "output_type": "stream",
     "text": [
      "`Trainer.fit` stopped: `max_epochs=10` reached.\n"
     ]
    }
   ],
   "source": [
    "dataset = {\n",
    "    \"train\": Dataset(X[:60000], Y[:60000]),\n",
    "    \"val\": Dataset(X[60000:], Y[60000:])\n",
    "}\n",
    "dataloader = {\n",
    "    'train': torch.utils.data.DataLoader(dataset['train'], batch_size=100, collate_fn=dataset['train'].collate_fn),\n",
    "    'val': torch.utils.data.DataLoader(dataset['val'], batch_size=100, collate_fn=dataset['val'].collate_fn)\n",
    "}\n",
    "\n",
    "modelo = LitModel()\n",
    "\n",
    "trainer = L.Trainer(\n",
    "    accelerator=\"cuda\", \n",
    "    devices=1,              # podemos usar más de 1 GPU\n",
    "    precision=16, \n",
    "    max_epochs=10\n",
    ")\n",
    "\n",
    "trainer.fit(modelo, dataloader['train'], dataloader['val'])"
   ]
  },
  {
   "attachments": {},
   "cell_type": "markdown",
   "metadata": {},
   "source": [
    "Como puedes vera, el `Trainer` nos abstrae toda la lógica de entrenamiento (que gracias a la sección anterior puedes entender lo que está haciendo por dentro) además de darnos información sobre nuestro modelo y una bonita barra de progreso. Como puedes esperar, también podremos usar la funcionalidad de `callbacks` y `loggers` que ya hemos visto anteriormente."
   ]
  },
  {
   "cell_type": "code",
   "execution_count": null,
   "metadata": {},
   "outputs": [],
   "source": [
    "from L.checkpoint import ModelCheckpoint\n",
    "\n",
    "modelo = LitModel()\n",
    "\n",
    "trainer = L.Trainer(\n",
    "    accelerator=\"cuda\", \n",
    "    devices=1,  \n",
    "    precision=16, \n",
    "    max_epochs=10,\n",
    "    logger=CSVLogger('logs', 'MNIST', version=3),\n",
    "    checkpoint_callback=ModelCheckpoint('checkpoints', 'MNIST', save_top_k=1, verbose=True, monitor='val_acc', mode='max')\n",
    ")\n",
    "\n",
    "trainer.fit(modelo, dataloader['train'], dataloader['val'])"
   ]
  },
  {
   "attachments": {},
   "cell_type": "markdown",
   "metadata": {},
   "source": [
    "Otra caracterísitca interesante es la de poder llevar a cabo entrenamientos reproducibles (es decir, que siempre nos darán el mismo resultado siempre y cuando no cambiemos ningún parámetro). "
   ]
  },
  {
   "cell_type": "code",
   "execution_count": null,
   "metadata": {},
   "outputs": [],
   "source": [
    "from lightning import seed_everything\n",
    "\n",
    "seed_everything(42, workers=True)\n",
    "\n",
    "trainer = L.Trainer(\n",
    "    accelerator=\"cuda\", \n",
    "    devices=1, \n",
    "    precision=16, \n",
    "    max_epochs=10,\n",
    "    deterministic=True,\n",
    "    logger=CSVLogger('logs', 'MNIST', version=3),\n",
    "    checkpoint_callback=ModelCheckpoint('checkpoints', 'MNIST', save_top_k=1, verbose=True, monitor='val_acc', mode='max')\n",
    ")\n",
    "\n",
    "trainer.fit(modelo, dataloader['train'], dataloader['val'])"
   ]
  },
  {
   "attachments": {},
   "cell_type": "markdown",
   "metadata": {},
   "source": [
    "Te animo a explorar todas las diferentes opciones del `Trainer` en la [documentación](https://lightning.ai/docs/pytorch/stable/common/trainer.html#trainer-flags).\n",
    "\n",
    "Otro concepto interesante es el del `LightningDataModule`, que nos permite encapsular la lógica de carga de datos. Esto nos permite reutilizar el mismo módulo para distintos problemas."
   ]
  },
  {
   "cell_type": "code",
   "execution_count": 115,
   "metadata": {},
   "outputs": [],
   "source": [
    "import torchvision\n",
    "from torchmetrics import Accuracy\n",
    "\n",
    "class MNISTDataModule(L.LightningDataModule):\n",
    "    def __init__(self, path = '../data', batch_size = 64):\n",
    "        super().__init__()\n",
    "        self.path = path\n",
    "        self.batch_size = batch_size\n",
    "\n",
    "    def setup(self, stage=None):\n",
    "        self.mnist_train = torchvision.datasets.MNIST(\n",
    "            self.path, train=True, download=True, transform=torchvision.transforms.Compose([\n",
    "                torchvision.transforms.ToTensor(),\n",
    "                torchvision.transforms.Normalize((0.1307,), (0.3081,))\n",
    "                ])\n",
    "          )\n",
    "        self.mnist_val = torchvision.datasets.MNIST(\n",
    "            self.path, train=False, download=True, transform=torchvision.transforms.Compose([\n",
    "                torchvision.transforms.ToTensor(),\n",
    "                torchvision.transforms.Normalize((0.1307,), (0.3081,))\n",
    "                ])\n",
    "          )\n",
    "        \n",
    "    def train_dataloader(self):\n",
    "        return torch.utils.data.DataLoader(self.mnist_train, batch_size=self.batch_size, shuffle=True, num_workers=4, pin_memory=True)\n",
    "\n",
    "    def val_dataloader(self):\n",
    "        return torch.utils.data.DataLoader(self.mnist_val, batch_size=self.batch_size, num_workers=4, pin_memory=True)\n",
    "    \n",
    "class MNISTModel(L.LightningModule):\n",
    "    def __init__(self, D_in=784, H=100, D_out=10):\n",
    "        super().__init__()\n",
    "        self.model = torch.nn.Sequential(\n",
    "            torch.nn.Flatten(),\n",
    "            torch.nn.Linear(D_in, H),\n",
    "            torch.nn.ReLU(),\n",
    "            torch.nn.Linear(H, D_out)\n",
    "        )\n",
    "        self.loss = torch.nn.CrossEntropyLoss()\n",
    "        self.accuracy = Accuracy(task='multiclass', num_classes=D_out)\n",
    "\n",
    "    def training_step(self, batch, batch_idx):\n",
    "        x, y = batch\n",
    "        y_hat = self.model(x)\n",
    "        loss = self.loss(y_hat, y)\n",
    "        self.log('loss', loss, prog_bar=True) \n",
    "        return loss\n",
    "    \n",
    "    def validation_step(self, batch, batch_idx):\n",
    "        x, y = batch\n",
    "        y_hat = self.model(x)\n",
    "        loss = self.loss(y_hat, y)\n",
    "        acc = self.accuracy(y_hat, y)\n",
    "        self.log('val_loss', loss, prog_bar=True)\n",
    "        self.log('val_acc', acc, prog_bar=True)\n",
    "\n",
    "    def configure_optimizers(self):\n",
    "        return torch.optim.Adam(self.parameters())"
   ]
  },
  {
   "cell_type": "code",
   "execution_count": 116,
   "metadata": {},
   "outputs": [
    {
     "name": "stderr",
     "output_type": "stream",
     "text": [
      "/home/juan/miniconda3/envs/pt2/lib/python3.10/site-packages/lightning/fabric/connector.py:562: UserWarning: 16 is supported for historical reasons but its usage is discouraged. Please set your precision to 16-mixed instead!\n",
      "  rank_zero_warn(\n",
      "Using 16bit Automatic Mixed Precision (AMP)\n",
      "GPU available: True (cuda), used: True\n",
      "TPU available: False, using: 0 TPU cores\n",
      "IPU available: False, using: 0 IPUs\n",
      "HPU available: False, using: 0 HPUs\n",
      "You are using a CUDA device ('NVIDIA GeForce RTX 3090') that has Tensor Cores. To properly utilize them, you should set `torch.set_float32_matmul_precision('medium' | 'high')` which will trade-off precision for performance. For more details, read https://pytorch.org/docs/stable/generated/torch.set_float32_matmul_precision.html#torch.set_float32_matmul_precision\n",
      "LOCAL_RANK: 0 - CUDA_VISIBLE_DEVICES: [0,1]\n",
      "\n",
      "  | Name     | Type               | Params\n",
      "------------------------------------------------\n",
      "0 | model    | Sequential         | 79.5 K\n",
      "1 | loss     | CrossEntropyLoss   | 0     \n",
      "2 | accuracy | MulticlassAccuracy | 0     \n",
      "------------------------------------------------\n",
      "79.5 K    Trainable params\n",
      "0         Non-trainable params\n",
      "79.5 K    Total params\n",
      "0.318     Total estimated model params size (MB)\n"
     ]
    },
    {
     "data": {
      "application/vnd.jupyter.widget-view+json": {
       "model_id": "2636e31ddb394575a685a76f09a83b27",
       "version_major": 2,
       "version_minor": 0
      },
      "text/plain": [
       "Sanity Checking: 0it [00:00, ?it/s]"
      ]
     },
     "metadata": {},
     "output_type": "display_data"
    },
    {
     "data": {
      "application/vnd.jupyter.widget-view+json": {
       "model_id": "f8fa8234142b42c2be488433fd6b1f56",
       "version_major": 2,
       "version_minor": 0
      },
      "text/plain": [
       "Training: 0it [00:00, ?it/s]"
      ]
     },
     "metadata": {},
     "output_type": "display_data"
    },
    {
     "data": {
      "application/vnd.jupyter.widget-view+json": {
       "model_id": "6e22471c28c24ff5b2c5af833a465eb3",
       "version_major": 2,
       "version_minor": 0
      },
      "text/plain": [
       "Validation: 0it [00:00, ?it/s]"
      ]
     },
     "metadata": {},
     "output_type": "display_data"
    },
    {
     "data": {
      "application/vnd.jupyter.widget-view+json": {
       "model_id": "4ec8f6726cb44b508a838c7276aafb67",
       "version_major": 2,
       "version_minor": 0
      },
      "text/plain": [
       "Validation: 0it [00:00, ?it/s]"
      ]
     },
     "metadata": {},
     "output_type": "display_data"
    },
    {
     "data": {
      "application/vnd.jupyter.widget-view+json": {
       "model_id": "bad9d463947345cbbc9e9caa7432a605",
       "version_major": 2,
       "version_minor": 0
      },
      "text/plain": [
       "Validation: 0it [00:00, ?it/s]"
      ]
     },
     "metadata": {},
     "output_type": "display_data"
    },
    {
     "data": {
      "application/vnd.jupyter.widget-view+json": {
       "model_id": "12f90c8bcc6243329c3d6b1b530ab283",
       "version_major": 2,
       "version_minor": 0
      },
      "text/plain": [
       "Validation: 0it [00:00, ?it/s]"
      ]
     },
     "metadata": {},
     "output_type": "display_data"
    },
    {
     "data": {
      "application/vnd.jupyter.widget-view+json": {
       "model_id": "d2d631fd86fe4a2c92aa3ca3d0a9c495",
       "version_major": 2,
       "version_minor": 0
      },
      "text/plain": [
       "Validation: 0it [00:00, ?it/s]"
      ]
     },
     "metadata": {},
     "output_type": "display_data"
    },
    {
     "data": {
      "application/vnd.jupyter.widget-view+json": {
       "model_id": "483f960d8bb24d8b9c468800c877b161",
       "version_major": 2,
       "version_minor": 0
      },
      "text/plain": [
       "Validation: 0it [00:00, ?it/s]"
      ]
     },
     "metadata": {},
     "output_type": "display_data"
    },
    {
     "data": {
      "application/vnd.jupyter.widget-view+json": {
       "model_id": "a158b365c41a4b36aabce6a88771dc54",
       "version_major": 2,
       "version_minor": 0
      },
      "text/plain": [
       "Validation: 0it [00:00, ?it/s]"
      ]
     },
     "metadata": {},
     "output_type": "display_data"
    },
    {
     "data": {
      "application/vnd.jupyter.widget-view+json": {
       "model_id": "fa8784e4298645839722b6a6c798cbe0",
       "version_major": 2,
       "version_minor": 0
      },
      "text/plain": [
       "Validation: 0it [00:00, ?it/s]"
      ]
     },
     "metadata": {},
     "output_type": "display_data"
    },
    {
     "data": {
      "application/vnd.jupyter.widget-view+json": {
       "model_id": "77a7b09c52124b7fbe531bc882265928",
       "version_major": 2,
       "version_minor": 0
      },
      "text/plain": [
       "Validation: 0it [00:00, ?it/s]"
      ]
     },
     "metadata": {},
     "output_type": "display_data"
    },
    {
     "data": {
      "application/vnd.jupyter.widget-view+json": {
       "model_id": "403abe592b8d43e1a4b840c7b423a330",
       "version_major": 2,
       "version_minor": 0
      },
      "text/plain": [
       "Validation: 0it [00:00, ?it/s]"
      ]
     },
     "metadata": {},
     "output_type": "display_data"
    },
    {
     "name": "stderr",
     "output_type": "stream",
     "text": [
      "`Trainer.fit` stopped: `max_epochs=10` reached.\n"
     ]
    }
   ],
   "source": [
    "datamodule = MNISTDataModule(batch_size=1000)\n",
    "modelo = MNISTModel()\n",
    "\n",
    "trainer = L.Trainer(\n",
    "    accelerator=\"cuda\", \n",
    "    devices=1,              \n",
    "    precision=16, \n",
    "    max_epochs=10\n",
    ")\n",
    "\n",
    "trainer.fit(modelo, datamodule)"
   ]
  },
  {
   "cell_type": "code",
   "execution_count": null,
   "metadata": {},
   "outputs": [],
   "source": []
  }
 ],
 "metadata": {
  "kernelspec": {
   "display_name": "pt2",
   "language": "python",
   "name": "python3"
  },
  "language_info": {
   "codemirror_mode": {
    "name": "ipython",
    "version": 3
   },
   "file_extension": ".py",
   "mimetype": "text/x-python",
   "name": "python",
   "nbconvert_exporter": "python",
   "pygments_lexer": "ipython3",
   "version": "3.10.9"
  },
  "orig_nbformat": 4
 },
 "nbformat": 4,
 "nbformat_minor": 2
}
