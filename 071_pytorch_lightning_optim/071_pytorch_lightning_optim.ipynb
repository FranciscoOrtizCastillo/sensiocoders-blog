{
 "cells": [
  {
   "cell_type": "markdown",
   "id": "eff2464c",
   "metadata": {},
   "source": [
    "[![Open In Colab](https://colab.research.google.com/assets/colab-badge.svg)](https://colab.research.google.com/github/juansensio/blog/blob/master/074_pytorch_lightning_optim/074_pytorch_lightning_optim.ipynb)"
   ]
  },
  {
   "cell_type": "markdown",
   "id": "e829199e",
   "metadata": {},
   "source": [
    "# Pytorch Lightning - Optimización"
   ]
  },
  {
   "cell_type": "markdown",
   "id": "ea38e64b",
   "metadata": {},
   "source": [
    "Seguimos hablando sobre optimizar nuestro código en Pytorch. Hemos visto ya muchas técnicas que podemos usar, por suerte la mayoría de ellas ya están implementadas en `Pytorch Lightning`, por lo que no tenemos que comernos mucho la cabeza."
   ]
  },
  {
   "cell_type": "code",
   "execution_count": 1,
   "id": "20817bce",
   "metadata": {
    "ExecuteTime": {
     "end_time": "2021-07-07T14:56:05.420882Z",
     "start_time": "2021-07-07T14:56:04.122420Z"
    },
    "code_folding": [
     7,
     21
    ]
   },
   "outputs": [],
   "source": [
    "import os\n",
    "from sklearn.model_selection import train_test_split\n",
    "import pytorch_lightning as pl\n",
    "import torch\n",
    "from skimage import io \n",
    "from torch.utils.data import DataLoader\n",
    "\n",
    "class Dataset(torch.utils.data.Dataset):\n",
    "    def __init__(self, images, labels):\n",
    "        self.images = images\n",
    "        self.labels = labels\n",
    "\n",
    "    def __len__(self):\n",
    "        return len(self.images)\n",
    "\n",
    "    def __getitem__(self, ix):\n",
    "        img = io.imread(self.images[ix])[...,(3,2,1)]\n",
    "        img = torch.tensor(img / 4000, dtype=torch.float).clip(0,1).permute(2,0,1)  \n",
    "        label = torch.tensor(self.labels[ix], dtype=torch.long)        \n",
    "        return img, label\n",
    "    \n",
    "class DataModule(pl.LightningDataModule):\n",
    "\n",
    "    def __init__(self, path='./data', batch_size=1024, num_workers=20, test_size=0.2, random_state=42):\n",
    "        super().__init__()\n",
    "        self.path = path\n",
    "        self.batch_size = batch_size\n",
    "        self.num_workers = num_workers\n",
    "        self.test_size = test_size \n",
    "        self.random_state = random_state\n",
    "        \n",
    "        \n",
    "    def setup(self, stage=None):\n",
    "\n",
    "        self.classes = sorted(os.listdir(self.path))\n",
    "\n",
    "        print(\"Generating images and labels ...\")\n",
    "        images, encoded = [], []\n",
    "        for ix, label in enumerate(self.classes):\n",
    "            _images = os.listdir(f'{self.path}/{label}')\n",
    "            images += [f'{self.path}/{label}/{img}' for img in _images]\n",
    "            encoded += [ix]*len(_images)\n",
    "        print(f'Number of images: {len(images)}')\n",
    "\n",
    "         # train / val split\n",
    "        print(\"Generating train / val splits ...\")\n",
    "        train_images, val_images, train_labels, val_labels = train_test_split(\n",
    "            images,\n",
    "            encoded,\n",
    "            stratify=encoded,\n",
    "            test_size=self.test_size,\n",
    "            random_state=self.random_state\n",
    "        )\n",
    "\n",
    "        print(\"Training samples: \", len(train_labels))\n",
    "        print(\"Validation samples: \", len(val_labels))\n",
    "        \n",
    "        self.train_ds = Dataset(train_images, train_labels)\n",
    "        self.val_ds = Dataset(val_images, val_labels)\n",
    "\n",
    "    def train_dataloader(self):\n",
    "        return DataLoader(\n",
    "            self.train_ds,\n",
    "            batch_size=self.batch_size,\n",
    "            num_workers=self.num_workers,\n",
    "            shuffle=True,\n",
    "            pin_memory=True\n",
    "        )\n",
    "\n",
    "    def val_dataloader(self):\n",
    "        return DataLoader(\n",
    "            self.val_ds,\n",
    "            batch_size=self.batch_size,\n",
    "            num_workers=self.num_workers,\n",
    "            shuffle=False,\n",
    "            pin_memory=True\n",
    "        )"
   ]
  },
  {
   "cell_type": "code",
   "execution_count": 2,
   "id": "94311af4",
   "metadata": {
    "ExecuteTime": {
     "end_time": "2021-07-07T14:56:09.037612Z",
     "start_time": "2021-07-07T14:56:05.423426Z"
    }
   },
   "outputs": [
    {
     "name": "stdout",
     "output_type": "stream",
     "text": [
      "Generating images and labels ...\n",
      "Number of images: 27000\n",
      "Generating train / val splits ...\n",
      "Training samples:  21600\n",
      "Validation samples:  5400\n"
     ]
    },
    {
     "data": {
      "text/plain": [
       "(torch.Size([1024, 3, 64, 64]), torch.Size([1024]))"
      ]
     },
     "execution_count": 2,
     "metadata": {},
     "output_type": "execute_result"
    }
   ],
   "source": [
    "dm = DataModule()\n",
    "dm.setup()\n",
    "\n",
    "imgs, labels = next(iter(dm.train_dataloader()))\n",
    "imgs.shape, labels.shape"
   ]
  },
  {
   "cell_type": "code",
   "execution_count": 3,
   "id": "da9a3e19",
   "metadata": {
    "ExecuteTime": {
     "end_time": "2021-07-07T14:56:09.106308Z",
     "start_time": "2021-07-07T14:56:09.038792Z"
    },
    "code_folding": []
   },
   "outputs": [],
   "source": [
    "import torch.nn.functional as F\n",
    "import timm\n",
    "\n",
    "class Model(pl.LightningModule):\n",
    "\n",
    "    def __init__(self, n_outputs=10, prof=None):\n",
    "        super().__init__()\n",
    "        self.model = timm.create_model('tf_efficientnet_b5', pretrained=True, num_classes=n_outputs)\n",
    "        self.prof = prof\n",
    "\n",
    "    def forward(self, x):\n",
    "        return self.model(x)\n",
    "    \n",
    "    def training_step(self, batch, batch_idx):\n",
    "        loss, acc = self.shared_step(batch)\n",
    "        self.log('loss', loss)\n",
    "        self.log('acc', acc, prog_bar=True)\n",
    "        if self.prof is not None:\n",
    "            self.prof.step()\n",
    "        return loss\n",
    "\n",
    "    def validation_step(self, batch, batch_idx):\n",
    "        loss, acc = self.shared_step(batch)\n",
    "        self.log('val_loss', loss, prog_bar=True)\n",
    "        self.log('val_acc', acc, prog_bar=True)\n",
    "\n",
    "    def shared_step(self, batch):\n",
    "        x, y = batch\n",
    "        y_hat = self(x)\n",
    "        loss = F.cross_entropy(y_hat, y)\n",
    "        acc = (torch.argmax(y_hat, axis=1) == y).sum().item() / y.size(0)\n",
    "        return loss, acc\n",
    "\n",
    "    def configure_optimizers(self):\n",
    "        return torch.optim.Adam(self.parameters())"
   ]
  },
  {
   "cell_type": "code",
   "execution_count": 4,
   "id": "eb3a0699",
   "metadata": {
    "ExecuteTime": {
     "end_time": "2021-07-07T14:54:41.263650Z",
     "start_time": "2021-07-07T14:53:58.165964Z"
    }
   },
   "outputs": [
    {
     "name": "stderr",
     "output_type": "stream",
     "text": [
      "GPU available: True, used: True\n",
      "TPU available: False, using: 0 TPU cores\n",
      "Using native 16bit precision.\n",
      "LOCAL_RANK: 0 - CUDA_VISIBLE_DEVICES: [0,1]\n",
      "\n",
      "  | Name  | Type         | Params\n",
      "---------------------------------------\n",
      "0 | model | EfficientNet | 28.4 M\n",
      "---------------------------------------\n",
      "28.4 M    Trainable params\n",
      "0         Non-trainable params\n",
      "28.4 M    Total params\n",
      "113.445   Total estimated model params size (MB)\n"
     ]
    },
    {
     "name": "stdout",
     "output_type": "stream",
     "text": [
      "Generating images and labels ...\n",
      "Number of images: 27000\n",
      "Generating train / val splits ...\n",
      "Training samples:  21600\n",
      "Validation samples:  5400\n"
     ]
    },
    {
     "data": {
      "application/vnd.jupyter.widget-view+json": {
       "model_id": "",
       "version_major": 2,
       "version_minor": 0
      },
      "text/plain": [
       "HBox(children=(HTML(value='Validation sanity check'), FloatProgress(value=1.0, bar_style='info', layout=Layout…"
      ]
     },
     "metadata": {},
     "output_type": "display_data"
    },
    {
     "data": {
      "application/vnd.jupyter.widget-view+json": {
       "model_id": "fcb15b7675c149b08a56bc5cfcb6be03",
       "version_major": 2,
       "version_minor": 0
      },
      "text/plain": [
       "HBox(children=(HTML(value='Training'), FloatProgress(value=1.0, bar_style='info', layout=Layout(flex='2'), max…"
      ]
     },
     "metadata": {},
     "output_type": "display_data"
    },
    {
     "data": {
      "application/vnd.jupyter.widget-view+json": {
       "model_id": "",
       "version_major": 2,
       "version_minor": 0
      },
      "text/plain": [
       "HBox(children=(HTML(value='Validating'), FloatProgress(value=1.0, bar_style='info', layout=Layout(flex='2'), m…"
      ]
     },
     "metadata": {},
     "output_type": "display_data"
    },
    {
     "name": "stderr",
     "output_type": "stream",
     "text": [
      "/home/juan/miniconda3/lib/python3.9/site-packages/pytorch_lightning/callbacks/model_checkpoint.py:610: LightningDeprecationWarning: Relying on `self.log('val_loss', ...)` to set the ModelCheckpoint monitor is deprecated in v1.2 and will be removed in v1.4. Please, create your own `mc = ModelCheckpoint(monitor='your_monitor')` and use it as `Trainer(callbacks=[mc])`.\n",
      "  warning_cache.deprecation(\n"
     ]
    },
    {
     "data": {
      "application/vnd.jupyter.widget-view+json": {
       "model_id": "",
       "version_major": 2,
       "version_minor": 0
      },
      "text/plain": [
       "HBox(children=(HTML(value='Validating'), FloatProgress(value=1.0, bar_style='info', layout=Layout(flex='2'), m…"
      ]
     },
     "metadata": {},
     "output_type": "display_data"
    },
    {
     "data": {
      "application/vnd.jupyter.widget-view+json": {
       "model_id": "",
       "version_major": 2,
       "version_minor": 0
      },
      "text/plain": [
       "HBox(children=(HTML(value='Validating'), FloatProgress(value=1.0, bar_style='info', layout=Layout(flex='2'), m…"
      ]
     },
     "metadata": {},
     "output_type": "display_data"
    },
    {
     "name": "stdout",
     "output_type": "stream",
     "text": [
      "\n"
     ]
    }
   ],
   "source": [
    "model = Model()\n",
    "dm = DataModule()\n",
    "\n",
    "trainer = pl.Trainer(gpus=1, precision=16, max_epochs=3)\n",
    "trainer.fit(model, dm)"
   ]
  },
  {
   "cell_type": "markdown",
   "id": "7af0c5b0",
   "metadata": {},
   "source": [
    "Podemos usar una estrategia distribuida a través del parámetro `accelerator`. En este caso usaremos el valor `dp` para una estrategia `Data Parallel`. Puedes ver el resto de estrategias [aquí](https://pytorch-lightning.readthedocs.io/en/stable/advanced/multi_gpu.html)."
   ]
  },
  {
   "cell_type": "code",
   "execution_count": 5,
   "id": "a1a6c1f4",
   "metadata": {
    "ExecuteTime": {
     "end_time": "2021-07-07T14:55:17.574643Z",
     "start_time": "2021-07-07T14:54:41.264889Z"
    }
   },
   "outputs": [
    {
     "name": "stderr",
     "output_type": "stream",
     "text": [
      "GPU available: True, used: True\n",
      "TPU available: False, using: 0 TPU cores\n",
      "Using native 16bit precision.\n",
      "LOCAL_RANK: 0 - CUDA_VISIBLE_DEVICES: [0,1]\n",
      "\n",
      "  | Name  | Type         | Params\n",
      "---------------------------------------\n",
      "0 | model | EfficientNet | 28.4 M\n",
      "---------------------------------------\n",
      "28.4 M    Trainable params\n",
      "0         Non-trainable params\n",
      "28.4 M    Total params\n",
      "113.445   Total estimated model params size (MB)\n"
     ]
    },
    {
     "name": "stdout",
     "output_type": "stream",
     "text": [
      "Generating images and labels ...\n",
      "Number of images: 27000\n",
      "Generating train / val splits ...\n",
      "Training samples:  21600\n",
      "Validation samples:  5400\n"
     ]
    },
    {
     "data": {
      "application/vnd.jupyter.widget-view+json": {
       "model_id": "",
       "version_major": 2,
       "version_minor": 0
      },
      "text/plain": [
       "HBox(children=(HTML(value='Validation sanity check'), FloatProgress(value=1.0, bar_style='info', layout=Layout…"
      ]
     },
     "metadata": {},
     "output_type": "display_data"
    },
    {
     "data": {
      "application/vnd.jupyter.widget-view+json": {
       "model_id": "c3ea3c75775f49fdb43e8326bf53a4c4",
       "version_major": 2,
       "version_minor": 0
      },
      "text/plain": [
       "HBox(children=(HTML(value='Training'), FloatProgress(value=1.0, bar_style='info', layout=Layout(flex='2'), max…"
      ]
     },
     "metadata": {},
     "output_type": "display_data"
    },
    {
     "data": {
      "application/vnd.jupyter.widget-view+json": {
       "model_id": "",
       "version_major": 2,
       "version_minor": 0
      },
      "text/plain": [
       "HBox(children=(HTML(value='Validating'), FloatProgress(value=1.0, bar_style='info', layout=Layout(flex='2'), m…"
      ]
     },
     "metadata": {},
     "output_type": "display_data"
    },
    {
     "data": {
      "application/vnd.jupyter.widget-view+json": {
       "model_id": "",
       "version_major": 2,
       "version_minor": 0
      },
      "text/plain": [
       "HBox(children=(HTML(value='Validating'), FloatProgress(value=1.0, bar_style='info', layout=Layout(flex='2'), m…"
      ]
     },
     "metadata": {},
     "output_type": "display_data"
    },
    {
     "data": {
      "application/vnd.jupyter.widget-view+json": {
       "model_id": "",
       "version_major": 2,
       "version_minor": 0
      },
      "text/plain": [
       "HBox(children=(HTML(value='Validating'), FloatProgress(value=1.0, bar_style='info', layout=Layout(flex='2'), m…"
      ]
     },
     "metadata": {},
     "output_type": "display_data"
    },
    {
     "name": "stdout",
     "output_type": "stream",
     "text": [
      "\n"
     ]
    }
   ],
   "source": [
    "model = Model()\n",
    "dm = DataModule(batch_size=2048)\n",
    "trainer = pl.Trainer(gpus=2, accelerator='dp', precision=16, max_epochs=3)\n",
    "trainer.fit(model, dm)"
   ]
  },
  {
   "cell_type": "markdown",
   "id": "d891cefb",
   "metadata": {},
   "source": [
    "Si bien el entrenamiento es ligeramente más lento que comparado con el código en `Pytorch` puro, la flexibilidad y funcionalidad que nos aporta `Pytorch Lightning` puede valer la pena en la mayoría de casos. Puedes ver un ejemplo usando `Distributed Data Parallel`[aquí](https://github.com/juansensio/blog/blob/master/071_pytorch_lightning_optim/ddp.py)."
   ]
  },
  {
   "cell_type": "markdown",
   "id": "408530a5",
   "metadata": {},
   "source": [
    "## Profiling"
   ]
  },
  {
   "cell_type": "markdown",
   "id": "479ef35e",
   "metadata": {},
   "source": [
    "`Pytorch Lightning` también nos ofrece alternativas a la hora de *tracker* nuestro código en la búsqueda de cuellos de botella."
   ]
  },
  {
   "cell_type": "code",
   "execution_count": 6,
   "id": "0dca342d",
   "metadata": {
    "ExecuteTime": {
     "end_time": "2021-07-07T14:55:34.089185Z",
     "start_time": "2021-07-07T14:55:17.575607Z"
    }
   },
   "outputs": [
    {
     "name": "stderr",
     "output_type": "stream",
     "text": [
      "GPU available: True, used: True\n",
      "TPU available: False, using: 0 TPU cores\n",
      "Using native 16bit precision.\n",
      "LOCAL_RANK: 0 - CUDA_VISIBLE_DEVICES: [0,1]\n",
      "\n",
      "  | Name  | Type         | Params\n",
      "---------------------------------------\n",
      "0 | model | EfficientNet | 28.4 M\n",
      "---------------------------------------\n",
      "28.4 M    Trainable params\n",
      "0         Non-trainable params\n",
      "28.4 M    Total params\n",
      "113.445   Total estimated model params size (MB)\n"
     ]
    },
    {
     "name": "stdout",
     "output_type": "stream",
     "text": [
      "Generating images and labels ...\n",
      "Number of images: 27000\n",
      "Generating train / val splits ...\n",
      "Training samples:  21600\n",
      "Validation samples:  5400\n"
     ]
    },
    {
     "data": {
      "application/vnd.jupyter.widget-view+json": {
       "model_id": "",
       "version_major": 2,
       "version_minor": 0
      },
      "text/plain": [
       "HBox(children=(HTML(value='Validation sanity check'), FloatProgress(value=1.0, bar_style='info', layout=Layout…"
      ]
     },
     "metadata": {},
     "output_type": "display_data"
    },
    {
     "data": {
      "application/vnd.jupyter.widget-view+json": {
       "model_id": "fa9dc3deec0e4425a52cda30de20c9be",
       "version_major": 2,
       "version_minor": 0
      },
      "text/plain": [
       "HBox(children=(HTML(value='Training'), FloatProgress(value=1.0, bar_style='info', layout=Layout(flex='2'), max…"
      ]
     },
     "metadata": {},
     "output_type": "display_data"
    },
    {
     "data": {
      "application/vnd.jupyter.widget-view+json": {
       "model_id": "",
       "version_major": 2,
       "version_minor": 0
      },
      "text/plain": [
       "HBox(children=(HTML(value='Validating'), FloatProgress(value=1.0, bar_style='info', layout=Layout(flex='2'), m…"
      ]
     },
     "metadata": {},
     "output_type": "display_data"
    },
    {
     "name": "stderr",
     "output_type": "stream",
     "text": [
      "FIT Profiler Report\n",
      "\n",
      "Action                             \t|  Mean duration (s)\t|Num calls      \t|  Total time (s) \t|  Percentage %   \t|\n",
      "--------------------------------------------------------------------------------------------------------------------------------------\n",
      "Total                              \t|  -              \t|_              \t|  15.719         \t|  100 %          \t|\n",
      "--------------------------------------------------------------------------------------------------------------------------------------\n",
      "run_training_epoch                 \t|  13.826         \t|1              \t|  13.826         \t|  87.956         \t|\n",
      "run_training_batch                 \t|  0.41584        \t|22             \t|  9.1485         \t|  58.2           \t|\n",
      "optimizer_step_and_closure_0       \t|  0.41555        \t|22             \t|  9.1421         \t|  58.16          \t|\n",
      "training_step_and_backward         \t|  0.24678        \t|22             \t|  5.4291         \t|  34.538         \t|\n",
      "backward                           \t|  0.14637        \t|22             \t|  3.2202         \t|  20.486         \t|\n",
      "model_forward                      \t|  0.097416       \t|22             \t|  2.1432         \t|  13.634         \t|\n",
      "training_step                      \t|  0.097244       \t|22             \t|  2.1394         \t|  13.61          \t|\n",
      "get_train_batch                    \t|  0.087274       \t|22             \t|  1.92           \t|  12.215         \t|\n",
      "evaluation_step_and_end            \t|  0.12911        \t|8              \t|  1.0329         \t|  6.5708         \t|\n",
      "validation_step                    \t|  0.12895        \t|8              \t|  1.0316         \t|  6.563          \t|\n",
      "on_validation_end                  \t|  0.26859        \t|2              \t|  0.53718        \t|  3.4174         \t|\n",
      "on_train_start                     \t|  0.038434       \t|1              \t|  0.038434       \t|  0.2445         \t|\n",
      "on_train_batch_end                 \t|  0.0016715      \t|22             \t|  0.036773       \t|  0.23394        \t|\n",
      "on_validation_start                \t|  0.0087554      \t|2              \t|  0.017511       \t|  0.1114         \t|\n",
      "on_validation_batch_end            \t|  0.0012855      \t|8              \t|  0.010284       \t|  0.065422       \t|\n",
      "cache_result                       \t|  1.3535e-05     \t|135            \t|  0.0018272      \t|  0.011624       \t|\n",
      "on_train_epoch_start               \t|  0.001372       \t|1              \t|  0.001372       \t|  0.008728       \t|\n",
      "on_train_end                       \t|  0.0011929      \t|1              \t|  0.0011929      \t|  0.0075887      \t|\n",
      "on_batch_start                     \t|  2.2384e-05     \t|22             \t|  0.00049245     \t|  0.0031328      \t|\n",
      "on_after_backward                  \t|  1.7712e-05     \t|22             \t|  0.00038966     \t|  0.0024789      \t|\n",
      "on_validation_batch_start          \t|  3.5063e-05     \t|8              \t|  0.00028051     \t|  0.0017845      \t|\n",
      "on_train_batch_start               \t|  1.1261e-05     \t|22             \t|  0.00024775     \t|  0.0015761      \t|\n",
      "on_before_zero_grad                \t|  1.0351e-05     \t|22             \t|  0.00022771     \t|  0.0014486      \t|\n",
      "on_batch_end                       \t|  1.0082e-05     \t|22             \t|  0.00022181     \t|  0.0014111      \t|\n",
      "training_step_end                  \t|  7.1055e-06     \t|22             \t|  0.00015632     \t|  0.00099447     \t|\n",
      "on_train_epoch_end                 \t|  0.00014509     \t|1              \t|  0.00014509     \t|  0.000923       \t|\n",
      "validation_step_end                \t|  9.4492e-06     \t|8              \t|  7.5594e-05     \t|  0.00048091     \t|\n",
      "on_epoch_end                       \t|  1.1085e-05     \t|3              \t|  3.3254e-05     \t|  0.00021155     \t|\n",
      "on_validation_epoch_end            \t|  1.5438e-05     \t|2              \t|  3.0875e-05     \t|  0.00019642     \t|\n",
      "on_epoch_start                     \t|  9.9017e-06     \t|3              \t|  2.9705e-05     \t|  0.00018897     \t|\n",
      "on_fit_start                       \t|  1.8213e-05     \t|1              \t|  1.8213e-05     \t|  0.00011587     \t|\n",
      "on_validation_epoch_start          \t|  6.951e-06      \t|2              \t|  1.3902e-05     \t|  8.8441e-05     \t|\n",
      "on_train_dataloader                \t|  1.0995e-05     \t|1              \t|  1.0995e-05     \t|  6.9947e-05     \t|\n",
      "on_before_accelerator_backend_setup\t|  7.469e-06      \t|1              \t|  7.469e-06      \t|  4.7516e-05     \t|\n",
      "on_val_dataloader                  \t|  7.282e-06      \t|1              \t|  7.282e-06      \t|  4.6326e-05     \t|\n",
      "\n"
     ]
    },
    {
     "name": "stdout",
     "output_type": "stream",
     "text": [
      "\n"
     ]
    }
   ],
   "source": [
    "model = Model()\n",
    "dm = DataModule()\n",
    "\n",
    "trainer = pl.Trainer(gpus=1, precision=16, max_epochs=1, profiler='simple')\n",
    "trainer.fit(model, dm)"
   ]
  },
  {
   "cell_type": "markdown",
   "id": "86361059",
   "metadata": {},
   "source": [
    "Puedes ver más opciones [aquí](https://pytorch-lightning.readthedocs.io/en/stable/advanced/profiler.html)."
   ]
  },
  {
   "cell_type": "markdown",
   "id": "0dc85be3",
   "metadata": {},
   "source": [
    "## Resumen"
   ]
  },
  {
   "cell_type": "markdown",
   "id": "07b17506",
   "metadata": {},
   "source": [
    "Optimizar nuestro código en `Pytorch` es muy importante, y para ello tenemos muchas herramientas y técnicas a nuestro alcance para exprimir al máximo nuestras redes. `Pytorch Lightning` nos facilita mucho la vida a la hora de utilizar estas técnicas de manera transparente sin necesidad de hacer grandes cambios en nuestro código, mientras que en `Pytorch` tendremos que bucear en la documentación y ejemplos para poder aprovechar todo lo que hemos ido viendo en los últimos posts (dando como resultado un código muy largo y difícil de entender). A través del objeto `Trainer` podermos definir diferentes estrategias de entrenamiento distribuido de manera sencilla, y las opciones de `profiling` nos ayudarán a encontrar los puntos débiles de nuestro código para poder corregirlos."
   ]
  }
 ],
 "metadata": {
  "kernelspec": {
   "display_name": "Python 3",
   "language": "python",
   "name": "python3"
  },
  "language_info": {
   "codemirror_mode": {
    "name": "ipython",
    "version": 3
   },
   "file_extension": ".py",
   "mimetype": "text/x-python",
   "name": "python",
   "nbconvert_exporter": "python",
   "pygments_lexer": "ipython3",
   "version": "3.9.1"
  },
  "toc": {
   "base_numbering": 1,
   "nav_menu": {},
   "number_sections": true,
   "sideBar": true,
   "skip_h1_title": false,
   "title_cell": "Table of Contents",
   "title_sidebar": "Contents",
   "toc_cell": false,
   "toc_position": {},
   "toc_section_display": true,
   "toc_window_display": false
  }
 },
 "nbformat": 4,
 "nbformat_minor": 5
}
