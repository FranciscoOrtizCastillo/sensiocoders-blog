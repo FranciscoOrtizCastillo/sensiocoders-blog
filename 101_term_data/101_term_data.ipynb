{
 "cells": [
  {
   "cell_type": "markdown",
   "metadata": {},
   "source": [
    "[![Open In Colab](https://colab.research.google.com/assets/colab-badge.svg)](https://colab.research.google.com/github/juansensio/blog/blob/master/101_term_data/101_term_data.ipynb)"
   ]
  },
  {
   "cell_type": "markdown",
   "metadata": {},
   "source": [
    "# La Terminal - Manejo de Datos"
   ]
  },
  {
   "cell_type": "markdown",
   "metadata": {},
   "source": [
    "Este post estará enfocado en el manejo de datos a través de la terminal. Esto significa convertir cualquier conjunto de datos (imágenes, texto, etc) de un formato a otro (no sólo convertir una imagen de jpg a png, por ejemplo, sino también extraer información de fuentes de datos, estadísticos, etc). En posts anteriores ya vimos algún ejemplo de manejo de datos, al usar el operador `|` para usar la salida de un programa como entrada de otro y así procesar los datos de manera consecutiva para obtener el resultado deseado. "
   ]
  },
  {
   "cell_type": "markdown",
   "metadata": {},
   "source": [
    "## Fuente de datos"
   ]
  },
  {
   "cell_type": "markdown",
   "metadata": {},
   "source": [
    "Lo primero que necesitamos para empezar es una fuente de datos, que puede ser texto, imágenes o cualquier otro tipo de datos binario. En nuestro caso, usaré el registro del sistema, o *system log*, de un servidor remoto al cual puedo acceder con el comando `ssh harley journalctl`. El comando `ssh` permite conectarse a servidores remotos, `harley` es el nombre de mi servidor (cuyas credenciales de acceso tengo configuradas en mi ordenador) y `journalctl` es el comando para recuperar el registro del sistema. Si ejecutas este comando obtendrás un error, ya que no tienes acceso a este servidor. Si quieres seguir el ejemplo puedes usar otra fuente de datos diferente.\n",
    "\n",
    "> Este blog está basado en `jupyter notebook` y, cómo ya vimos en posts anteriores, podemos ejecutar comandos en *notebooks* usando el prefijo `!`. Si quieres probar estos comandos en tu terminal, recuerda quitar este símbolo del principio de cada línea."
   ]
  },
  {
   "cell_type": "code",
   "execution_count": 1,
   "metadata": {},
   "outputs": [
    {
     "name": "stdout",
     "output_type": "stream",
     "text": [
      "-- Logs begin at Mon 2022-05-02 13:20:52 CEST, end at Wed 2022-08-31 12:09:41 CEST. --\n",
      "May 02 13:20:52 harley systemd[2243]: Started Pending report trigger for Ubuntu Report.\n",
      "May 02 13:20:52 harley systemd[2243]: Reached target Paths.\n",
      "May 02 13:20:52 harley systemd[2243]: Reached target Timers.\n",
      "May 02 13:20:52 harley systemd[2243]: Starting D-Bus User Message Bus Socket.\n",
      "May 02 13:20:52 harley systemd[2243]: Listening on GnuPG network certificate management daemon.\n",
      "May 02 13:20:52 harley systemd[2243]: Listening on GnuPG cryptographic agent and passphrase cache (access for web browsers).\n",
      "May 02 13:20:52 harley systemd[2243]: Listening on GnuPG cryptographic agent and passphrase cache (restricted).\n",
      "May 02 13:20:52 harley systemd[2243]: Listening on GnuPG cryptographic agent (ssh-agent emulation).\n",
      "May 02 13:20:52 harley systemd[2243]: Listening on GnuPG cryptographic agent and passphrase cache.\n"
     ]
    }
   ],
   "source": [
    "!ssh harley journalctl | head -n10"
   ]
  },
  {
   "cell_type": "markdown",
   "metadata": {},
   "source": [
    "## Manejo de datos"
   ]
  },
  {
   "cell_type": "markdown",
   "metadata": {},
   "source": [
    "En nuestro ejemplo vamos a analizar el uso del servidor: cuántos usuarios se han conectado, con qué frecuencia, etc. Para ello vamos a utilizar varios comandos muy interesantes que deberías conocer para poder aplicar a tus casos de usos. ¡Empecemos!\n",
    "\n",
    "Primero, vamos a filtrar el registro del sistema para quedarnos con todas aquellas líneas que correspondan a conexiones al servidor. Esto lo conseguimos conectando el comando anterior al programa `grep` (que ya vimos en posts anteriores) de la manera siguiente: "
   ]
  },
  {
   "cell_type": "code",
   "execution_count": 2,
   "metadata": {},
   "outputs": [
    {
     "name": "stdout",
     "output_type": "stream",
     "text": [
      "May 02 13:20:52 harley systemd[2243]: Listening on GnuPG cryptographic agent (ssh-agent emulation).\n",
      "May 02 13:22:53 harley sshd[2442]: Received disconnect from 192.168.0.10 port 58506:11: disconnected by user\n",
      "May 02 13:22:53 harley sshd[2442]: Disconnected from user juan 192.168.0.10 port 58506\n",
      "May 02 13:23:03 harley systemd[2243]: gpg-agent-ssh.socket: Succeeded.\n",
      "May 02 13:23:03 harley systemd[2243]: Closed GnuPG cryptographic agent (ssh-agent emulation).\n",
      "May 02 13:30:34 harley systemd[3115]: Listening on GnuPG cryptographic agent (ssh-agent emulation).\n",
      "May 02 13:31:27 harley sshd[3222]: Received disconnect from 192.168.0.10 port 59396:11: disconnected by user\n",
      "May 02 13:31:27 harley sshd[3222]: Disconnected from user juan 192.168.0.10 port 59396\n",
      "May 02 13:31:38 harley systemd[3115]: gpg-agent-ssh.socket: Succeeded.\n",
      "May 02 13:31:38 harley systemd[3115]: Closed GnuPG cryptographic agent (ssh-agent emulation).\n",
      "^C\n"
     ]
    }
   ],
   "source": [
    "!ssh harley journalctl | grep ssh | head -n10"
   ]
  },
  {
   "cell_type": "markdown",
   "metadata": {},
   "source": [
    "En el ejemplo anterior, el servidor está enviándonos toda la información que luego procesamos en local. En ocasiones esto puede ser costoso, por lo que es recomendable ejecutar directamente en el servidor los comandos para el manejo de datos y devolver directamente los resultados."
   ]
  },
  {
   "cell_type": "code",
   "execution_count": 3,
   "metadata": {},
   "outputs": [
    {
     "name": "stdout",
     "output_type": "stream",
     "text": [
      "May 02 13:20:52 harley systemd[2243]: Listening on GnuPG cryptographic agent (ssh-agent emulation).\n",
      "May 02 13:22:53 harley sshd[2442]: Received disconnect from 192.168.0.10 port 58506:11: disconnected by user\n",
      "May 02 13:22:53 harley sshd[2442]: Disconnected from user juan 192.168.0.10 port 58506\n",
      "May 02 13:23:03 harley systemd[2243]: gpg-agent-ssh.socket: Succeeded.\n",
      "May 02 13:23:03 harley systemd[2243]: Closed GnuPG cryptographic agent (ssh-agent emulation).\n",
      "May 02 13:30:34 harley systemd[3115]: Listening on GnuPG cryptographic agent (ssh-agent emulation).\n",
      "May 02 13:31:27 harley sshd[3222]: Received disconnect from 192.168.0.10 port 59396:11: disconnected by user\n",
      "May 02 13:31:27 harley sshd[3222]: Disconnected from user juan 192.168.0.10 port 59396\n",
      "May 02 13:31:38 harley systemd[3115]: gpg-agent-ssh.socket: Succeeded.\n",
      "May 02 13:31:38 harley systemd[3115]: Closed GnuPG cryptographic agent (ssh-agent emulation).\n"
     ]
    }
   ],
   "source": [
    "!ssh harley 'journalctl | grep ssh ' | head -n10 "
   ]
  },
  {
   "cell_type": "markdown",
   "metadata": {},
   "source": [
    "Alternativamente, puedes copiarte el registro en tu máquina para posteriores procesados (en este caso, con solo aquellas líneas correspondientes a conexiones de usuarios)."
   ]
  },
  {
   "cell_type": "code",
   "execution_count": 5,
   "metadata": {},
   "outputs": [],
   "source": [
    "!ssh harley 'journalctl | grep ssh | grep \"Disconnected from\"' > ssh.log"
   ]
  },
  {
   "cell_type": "code",
   "execution_count": 4,
   "metadata": {},
   "outputs": [
    {
     "name": "stdout",
     "output_type": "stream",
     "text": [
      "May 02 13:22:53 harley sshd[2442]: Disconnected from user juan 192.168.0.10 port 58506\n",
      "May 02 13:31:27 harley sshd[3222]: Disconnected from user juan 192.168.0.10 port 59396\n",
      "May 02 13:36:01 harley sshd[3930]: Disconnected from user juan 192.168.0.10 port 59869\n",
      "May 02 15:36:56 harley sshd[6807]: Disconnected from user juan 192.168.0.10 port 54340\n",
      "May 02 15:36:58 harley sshd[6862]: Disconnected from user juan 192.168.0.10 port 54343\n",
      "May 02 15:37:01 harley sshd[6917]: Disconnected from user juan 192.168.0.10 port 54350\n",
      "May 02 15:37:01 harley sshd[6971]: Disconnected from user juan 192.168.0.10 port 54353\n",
      "May 02 15:37:02 harley sshd[7025]: Disconnected from user juan 192.168.0.10 port 54354\n",
      "May 02 15:37:15 harley sshd[7080]: Disconnected from user juan 192.168.0.10 port 54357\n",
      "May 02 15:44:25 harley sshd[3467]: Disconnected from user juan 192.168.0.10 port 55038\n",
      "cat: stdout: Broken pipe\n"
     ]
    }
   ],
   "source": [
    "!cat ssh.log | head -n10"
   ]
  },
  {
   "cell_type": "markdown",
   "metadata": {},
   "source": [
    "Como puedes ver tenemos el nombre de los usuarios, fechas de conexión y demás información en el registro. ¿Cómo podemos extraer esta información para su uso? La respuesta es el comando `sed` (*stream editor*) que nos permite editar el contenido del archivo."
   ]
  },
  {
   "cell_type": "code",
   "execution_count": 5,
   "metadata": {},
   "outputs": [
    {
     "name": "stdout",
     "output_type": "stream",
     "text": [
      "user juan 192.168.0.10 port 58506\n",
      "user juan 192.168.0.10 port 59396\n",
      "user juan 192.168.0.10 port 59869\n",
      "user juan 192.168.0.10 port 54340\n",
      "user juan 192.168.0.10 port 54343\n",
      "user juan 192.168.0.10 port 54350\n",
      "user juan 192.168.0.10 port 54353\n",
      "user juan 192.168.0.10 port 54354\n",
      "user juan 192.168.0.10 port 54357\n",
      "user juan 192.168.0.10 port 55038\n",
      "sed: stdout: Broken pipe\n",
      "cat: stdout: Broken pipe\n"
     ]
    }
   ],
   "source": [
    "!cat ssh.log | sed 's/.*Disconnected from //' | head -n10"
   ]
  },
  {
   "cell_type": "markdown",
   "metadata": {},
   "source": [
    "Lo que hemos usado como argumento al comando `sed` se conoce como *regular expression*, o *regex*, una manera muy potente para encontrar patrones concretos de texto y hacer cosas con ellos. En este caso `s/.*Disconnected from //` sustituirá el resultado de evaluar la *regex* `.*Disconnected from ` por un espacio en blanco. Esta es una herramienta muy importante a la hora de manejar datos con la terminal, por lo que vamos a aprender un poco más sobre ella."
   ]
  },
  {
   "cell_type": "markdown",
   "metadata": {},
   "source": [
    "## *Regular Expressions*"
   ]
  },
  {
   "cell_type": "markdown",
   "metadata": {},
   "source": [
    "Empezando por el *regex* anterior, `.*Disconnected from` encontrará todo el texto que empiece por 0 o más caracteres seguidos de `Disconnected from` (el símbolo `.` significa cualquier carácter y `*`significa 0 o más). Existen otros símbolos, como `+` que significa 1 o más, o `[]` que permiten encontrar uno o varios caracteres."
   ]
  },
  {
   "cell_type": "code",
   "execution_count": 6,
   "metadata": {},
   "outputs": [
    {
     "name": "stdout",
     "output_type": "stream",
     "text": [
      "bc\n"
     ]
    }
   ],
   "source": [
    "!echo abc | sed 's/[ab]//'"
   ]
  },
  {
   "cell_type": "markdown",
   "metadata": {},
   "source": [
    "Por defecto, la *regex* se usa una sola vez (el primer patrón que encuentra). Podemos usarlo para sustituir todas las ocurrencias de la manera siguiente"
   ]
  },
  {
   "cell_type": "code",
   "execution_count": 7,
   "metadata": {},
   "outputs": [
    {
     "name": "stdout",
     "output_type": "stream",
     "text": [
      "c\n"
     ]
    }
   ],
   "source": [
    "!echo abc | sed 's/[ab]//g'"
   ]
  },
  {
   "cell_type": "markdown",
   "metadata": {},
   "source": [
    "En los ejemplos anteriores, queríamos sustituir los caracteres `a` y `b`. Para sustituir la ocurrencia `ab` podemos usar `()`. Para que funcione deberemos usar la opción `-E` en `sed` que permite el uso de opciones más avanzadas con *regex*."
   ]
  },
  {
   "cell_type": "code",
   "execution_count": 8,
   "metadata": {},
   "outputs": [
    {
     "name": "stdout",
     "output_type": "stream",
     "text": [
      "bac\n"
     ]
    }
   ],
   "source": [
    "!echo babac | sed -E 's/(ab)//'"
   ]
  },
  {
   "cell_type": "markdown",
   "metadata": {},
   "source": [
    "Podemos usar modificadores para encontrar diferentes variaciones."
   ]
  },
  {
   "cell_type": "code",
   "execution_count": 9,
   "metadata": {},
   "outputs": [
    {
     "name": "stdout",
     "output_type": "stream",
     "text": [
      "b\n"
     ]
    }
   ],
   "source": [
    "!echo babac | sed -E 's/(ab|ac)//g'"
   ]
  },
  {
   "cell_type": "markdown",
   "metadata": {},
   "source": [
    "Vamos a aplicar estos conceptos para encontrar el nombre de usuario en el registro anterior. Para ello, podemos usar el siguiente comando"
   ]
  },
  {
   "cell_type": "code",
   "execution_count": 15,
   "metadata": {},
   "outputs": [
    {
     "name": "stdout",
     "output_type": "stream",
     "text": [
      " juan \n",
      " juan \n",
      " juan \n",
      " juan \n",
      " juan \n",
      " juan \n",
      " juan \n",
      " juan \n",
      " juan \n",
      " juan \n",
      "sed: stdout: Broken pipe\n",
      "cat: stdout: Broken pipe\n"
     ]
    }
   ],
   "source": [
    "!cat ssh.log | sed -E 's/^.*Disconnected from (invalid |authenticating )?(user)?(.* )?[0-9.]+ port [0-9]+( \\[preauth\\])?$/\\3/' | head -n10"
   ]
  },
  {
   "cell_type": "markdown",
   "metadata": {},
   "source": [
    "Los símbolos `^` y `$` indican que el patrón debe coincidir con el inicio o final de la línea. Los grupos `[0-9.]+` y `[0-9]+` nos permiten encontrar grupos de números. Por último, podemos sustituir la línea por el nombre de usuario usando el primer grupo de captura, `(.*)`, poniendo `\\3` en vez del valor vacío que usábamos antes (de manera similar puedes usar `\\1`, `\\2`, ..., para otros grupos de captura en tu *regex*).\n",
    "\n",
    "Como puedes ver, trabajar con *regex* se complica mucho rápidamente, por lo que es muy aconsejable probar y *testear* tus *regex* antes de usarlas en herramientas como [https://regex101.com/](https://regex101.com/)."
   ]
  },
  {
   "cell_type": "markdown",
   "metadata": {},
   "source": [
    "## Análisis de datos"
   ]
  },
  {
   "cell_type": "markdown",
   "metadata": {},
   "source": [
    "Una vez hemos procesado nuestro registro y ya hemos extraído la información que queríamos, podemos seguir con el análisis para calcular estadísticos interesantes. Podemos empezar sabiendo cuantas entradas tenemos en el registro, para ello podemos usar el comando `wc`."
   ]
  },
  {
   "cell_type": "code",
   "execution_count": 16,
   "metadata": {},
   "outputs": [
    {
     "name": "stdout",
     "output_type": "stream",
     "text": [
      "  390642\n"
     ]
    }
   ],
   "source": [
    "!cat ssh.log | sed -E 's/^.*Disconnected from (invalid |authenticating )?(user)?(.* )?[0-9.]+ port [0-9]+( \\[preauth\\])?$/\\3/' | wc -l"
   ]
  },
  {
   "cell_type": "markdown",
   "metadata": {},
   "source": [
    "Podemos también ordenar la lista de usuarios y encontrar los valores únicos con los comandos `sort` y `uniq` respectivamente."
   ]
  },
  {
   "cell_type": "code",
   "execution_count": 20,
   "metadata": {},
   "outputs": [
    {
     "name": "stdout",
     "output_type": "stream",
     "text": [
      "   1  zzidc123 \n",
      "   3  zzk \n",
      "   3  zzkr \n",
      "   1  zzq \n",
      "   1  zzstat \n",
      "   2  zzw \n",
      "  29  zzy \n",
      "  30  zzz \n",
      "   5  zzzz \n",
      "  14  ~#$%^&*(),.; \n"
     ]
    }
   ],
   "source": [
    "!cat ssh.log | sed -E 's/^.*Disconnected from (invalid |authenticating )?(user)?(.* )?[0-9.]+ port [0-9]+( \\[preauth\\])?$/\\3/' | sort | uniq -c | tail -n10"
   ]
  },
  {
   "cell_type": "markdown",
   "metadata": {},
   "source": [
    "Y ahora reordenar la lista por ocurrencias, usando de nuevo `sort` con el argumento `-nk1,1` para hacer una ordenación numérica en la primera columna."
   ]
  },
  {
   "cell_type": "code",
   "execution_count": 21,
   "metadata": {},
   "outputs": [
    {
     "name": "stdout",
     "output_type": "stream",
     "text": [
      "1210  git \n",
      "1652  ftpuser \n",
      "1675  oracle \n",
      "1824  postgres \n",
      "2628 \n",
      "2771  ubuntu \n",
      "4843  user \n",
      "5726  test \n",
      "11244  admin \n",
      "205766  root \n"
     ]
    }
   ],
   "source": [
    "!cat ssh.log | sed -E 's/^.*Disconnected from (invalid |authenticating )?(user)?(.* )?[0-9.]+ port [0-9]+( \\[preauth\\])?$/\\3/' | sort | uniq -c | sort -nk1,1 | tail -n10"
   ]
  },
  {
   "cell_type": "markdown",
   "metadata": {},
   "source": [
    "Podemos generar una lista con los 10 usuarios más activos con el comando, que podemos usar para restringir permisos o cualquier cosa."
   ]
  },
  {
   "cell_type": "code",
   "execution_count": 29,
   "metadata": {},
   "outputs": [
    {
     "name": "stdout",
     "output_type": "stream",
     "text": [
      "git,ftpuser,oracle,postgres,,ubuntu,user,test,admin,root\n"
     ]
    }
   ],
   "source": [
    "!cat ssh.log | sed -E 's/^.*Disconnected from (invalid |authenticating )?(user)?(.* )?[0-9.]+ port [0-9]+( \\[preauth\\])?$/\\3/' | sort | uniq -c | sort -nk1,1 | tail -n10 | awk '{print $2}' | paste -sd, -"
   ]
  },
  {
   "cell_type": "markdown",
   "metadata": {},
   "source": [
    "Para ello hemos usado el comando `awk`, que permite editar texto en formato tabular (similar a `sed` pero para trabajar con columnas), y el comando `paste`, que permite junta varias líneas de texto en una sola con el delimitador indicado (en este caso, la coma). `awk` es un lenguaje de programación en sí mismo, que permite llevar a cabo multitud de tareas, por lo que te recomiendo que le eches un vistazo para hacerte una idea de las cosas que puedes hacer con este potente programa.\n",
    "\n",
    "Podemos calcular el número total de conexiones sumando todos los valores de la primera columna. Para ello podemos usar el comando `bc`"
   ]
  },
  {
   "cell_type": "code",
   "execution_count": 27,
   "metadata": {},
   "outputs": [
    {
     "name": "stdout",
     "output_type": "stream",
     "text": [
      "3\n"
     ]
    }
   ],
   "source": [
    "!echo '1+2' | bc"
   ]
  },
  {
   "cell_type": "code",
   "execution_count": 30,
   "metadata": {},
   "outputs": [
    {
     "name": "stdout",
     "output_type": "stream",
     "text": [
      "1210+1652+1675+1824+2628+2771+4843+5726+11244+205766\n"
     ]
    }
   ],
   "source": [
    "!cat ssh.log | sed -E 's/^.*Disconnected from (invalid |authenticating )?(user)?(.* )?[0-9.]+ port [0-9]+( \\[preauth\\])?$/\\3/' | sort | uniq -c | sort -nk1,1 | tail -n10 | awk '{print $1}' | paste -sd+ -"
   ]
  },
  {
   "cell_type": "code",
   "execution_count": 31,
   "metadata": {},
   "outputs": [
    {
     "name": "stdout",
     "output_type": "stream",
     "text": [
      "239339\n"
     ]
    }
   ],
   "source": [
    "!cat ssh.log | sed -E 's/^.*Disconnected from (invalid |authenticating )?(user)?(.* )?[0-9.]+ port [0-9]+( \\[preauth\\])?$/\\3/' | sort | uniq -c | sort -nk1,1 | tail -n10 | awk '{print $1}' | paste -sd+ - | bc"
   ]
  },
  {
   "cell_type": "markdown",
   "metadata": {},
   "source": [
    "Y también hacer cálculos estadísticos o gráficas con programas que acepten entradas a través de la terminal, como `R` o `gnuplot` respectivamente. El siguiente comando genera el histograma de la figura: `cat ssh.log | sed -E 's/^.*Disconnected from (invalid |authenticating )?(user)?(.* )?[0-9.]+ port [0-9]+( \\[preauth\\])?$/\\3/' | sort | uniq -c | sort -nk1,1 | tail -n10 | gnuplot -p -e 'set boxwidth 0.5; plot \"-\" using 1:xtic(2) with boxes'`\n",
    "\n",
    "![pic](pic.png)"
   ]
  },
  {
   "cell_type": "markdown",
   "metadata": {},
   "source": [
    "## Resumen"
   ]
  },
  {
   "cell_type": "markdown",
   "metadata": {},
   "source": [
    "En este post hemos visto algunos de los comandos más útiles que tenemos a nuestra disposición a la hora de manejar datos y procesarlos. Por el camino también hemos aprendido sobre expresiones regulares y su potencia a la hora de encontrar patrones de texto en grandes archivos. Si bien los ejemplos que hemos visto han sido con texto, también podemos trabajar con imágenes o estructuras de texto muy utilizadas como `html`o `json`. Sin embargo, si has estado atento a mis otros posts, verás que tenemos a nuestra disposición herramientas en el ecosistema `Python` para automatizar todas estas tareas de manera más sencilla y con mucha más funcionalidad. Aun así, está bien saber que podemos usar la terminal para hacer operaciones sencillas que podemos automatizar en funciones o scripts reutilizables."
   ]
  }
 ],
 "metadata": {
  "kernelspec": {
   "display_name": "Python 3.9.13 ('base')",
   "language": "python",
   "name": "python3"
  },
  "language_info": {
   "codemirror_mode": {
    "name": "ipython",
    "version": 3
   },
   "file_extension": ".py",
   "mimetype": "text/x-python",
   "name": "python",
   "nbconvert_exporter": "python",
   "pygments_lexer": "ipython3",
   "version": "3.9.13"
  },
  "orig_nbformat": 4,
  "vscode": {
   "interpreter": {
    "hash": "39a7cb6a479708d57e02052568b721f26bb93494ca3143b798db15399f5b1e4c"
   }
  }
 },
 "nbformat": 4,
 "nbformat_minor": 2
}
