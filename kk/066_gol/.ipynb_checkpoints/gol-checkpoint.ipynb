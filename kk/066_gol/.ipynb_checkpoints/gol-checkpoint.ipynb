{
 "cells": [
  {
   "cell_type": "markdown",
   "id": "apparent-keeping",
   "metadata": {},
   "source": [
    "[![Open In Colab](https://colab.research.google.com/assets/colab-badge.svg)](https://colab.research.google.com/github/juansensio/blog/blob/master/066_gol/gol.ipynb)"
   ]
  },
  {
   "cell_type": "markdown",
   "id": "breathing-newton",
   "metadata": {},
   "source": [
    "# El Juego de la Vida (en 3 niveles de programación)"
   ]
  },
  {
   "cell_type": "markdown",
   "id": "existing-presentation",
   "metadata": {
    "ExecuteTime": {
     "end_time": "2021-04-21T07:40:42.458781Z",
     "start_time": "2021-04-21T07:40:42.383780Z"
    }
   },
   "source": [
    "El **juego de la vida** es un programa simple muy útil para aprender y asentar conceptos básicos de programación necesarios para llevar a cabo tareas más complejas. Introducido por el matemático John Horton Conway en 1970, se trata de un **autómata celular**, un mecanismo simplificado que imita un sistema biológico evolucionando en el tiempo siguiendo unas reglas muy sencillas.\n",
    "\n",
    "![](https://upload.wikimedia.org/wikipedia/commons/e/e5/Gospers_glider_gun.gif)\n",
    "\n",
    "En el juego no participan jugadores, y está formado por una cuadrícula de dimensiones determinadas en la que cada celda puede estar viva o muerta. El nacimiento y supervivencia de estos seres binarios digitales depende del número de vecinos que estén a su vez vivos o muertos.\n",
    "\n",
    "- Una célula muerta con exactamente 3 células vecinas vivas *nace* (es decir, al turno siguiente estará viva).\n",
    "- Una célula viva con 2 o 3 células vecinas vivas sigue viva, en otro caso muere (por *soledad* o *superpoblación*).\n",
    "\n",
    "Pese a estas reglas tan sencillas, los patrones que emergen a medida que el juego avanza son de lo más interesantes. En este post aprenderemos a implementar el juego de la vida en diferentes niveles, desde cómo lo haría un programador novato que está aprendiendo hasta un experto en búsqueda de la máxima *performance*. Puedes aprender más sobre el juego de la vida [aquí](https://es.wikipedia.org/wiki/Juego_de_la_vida).\n",
    "\n",
    "> El juego de la vida fue mi primer programa, cuando estaba aprendiendo a programar. Pese a su aparente sencillez los conceptos usados en su implementación y progresiva mejora se aplican en aplicaciones tan complejas como la Inteligencia Artificial o la simulación física."
   ]
  },
  {
   "cell_type": "markdown",
   "id": "extended-narrative",
   "metadata": {},
   "source": [
    "## Principiante"
   ]
  },
  {
   "cell_type": "markdown",
   "id": "unavailable-western",
   "metadata": {},
   "source": [
    "Digamos que estás aprendiendo a programar y te pones como reto implementar el juego de la vida, acabas de conocer los conceptos básico de Python y te pones manos a la obra. La forma más sencilla de representar una cuadrícula con células vivas o muertas es una lista que a su vez contenga otras listas, tantas como filas tengamos en nuestro mundo.\n",
    "\n",
    "![](./gol1.jpg)"
   ]
  },
  {
   "cell_type": "code",
   "execution_count": 1,
   "id": "further-wrist",
   "metadata": {
    "ExecuteTime": {
     "end_time": "2021-04-28T12:23:57.850319Z",
     "start_time": "2021-04-28T12:23:57.827319Z"
    }
   },
   "outputs": [
    {
     "data": {
      "text/plain": [
       "[[0, 1, 1, 0, 0],\n",
       " [0, 0, 1, 0, 1],\n",
       " [1, 1, 1, 1, 0],\n",
       " [1, 0, 0, 0, 0],\n",
       " [0, 1, 1, 1, 0]]"
      ]
     },
     "execution_count": 1,
     "metadata": {},
     "output_type": "execute_result"
    }
   ],
   "source": [
    "import random \n",
    "\n",
    "def init(Nx, Ny):\n",
    "    # creamos una lista de listas (matriz) con ceros\n",
    "    C = [[0 for j in range(Nx)] for i in range(Ny)]\n",
    "    # iteramos por cada elemento, asignando un valor aleatorio (0 ó 1)\n",
    "    for i in range(Ny):\n",
    "        for j in range(Nx):\n",
    "            C[i][j] = random.randint(0,1)\n",
    "    return C\n",
    "    \n",
    "C0 = init(5, 5)\n",
    "C0"
   ]
  },
  {
   "cell_type": "markdown",
   "id": "minor-electronics",
   "metadata": {},
   "source": [
    "Podemos interpretar nuestro mundo como una imágen en blanco y negro, en el que cada celda es un píxel de la imágen."
   ]
  },
  {
   "cell_type": "code",
   "execution_count": 2,
   "id": "engaging-teach",
   "metadata": {
    "ExecuteTime": {
     "end_time": "2021-04-28T12:23:58.153205Z",
     "start_time": "2021-04-28T12:23:58.118207Z"
    }
   },
   "outputs": [
    {
     "data": {
      "image/png": "[encoded data removed]",
      "text/plain": [
       "<Figure size 300x200 with 1 Axes>"
      ]
     },
     "metadata": {
      "needs_background": "light"
     },
     "output_type": "display_data"
    }
   ],
   "source": [
    "import matplotlib.pyplot as plt\n",
    "\n",
    "def plot(C, ax=None):\n",
    "    if ax is None:\n",
    "        fig, ax = plt.subplots(dpi=50)\n",
    "    ax.imshow(C, cmap=\"gray\")\n",
    "    ax.axis('off')\n",
    "    \n",
    "plot(C0)"
   ]
  },
  {
   "cell_type": "markdown",
   "id": "painted-sustainability",
   "metadata": {},
   "source": [
    "En la siguiente función usamos un bucle en el que en cada iteración calcularemos el número de vecinos vivos para cada célula, y en función del número generamos una nueva cuadrícula con la siguiente generación."
   ]
  },
  {
   "cell_type": "code",
   "execution_count": 3,
   "id": "chicken-spouse",
   "metadata": {
    "ExecuteTime": {
     "end_time": "2021-04-28T12:23:58.450096Z",
     "start_time": "2021-04-28T12:23:58.434207Z"
    }
   },
   "outputs": [],
   "source": [
    "def gol(C, MAX_IT):\n",
    "    count = 0\n",
    "    # iremos guardando aquí soluciones para luego hacer una animación\n",
    "    Cs = [C]\n",
    "    Ny, Nx = len(C), len(C[0])\n",
    "    while count < MAX_IT:\n",
    "        # generamos una nueva cuadrícula vacía\n",
    "        C0 = [[0 for j in range(Nx)] for i in range(Ny)]\n",
    "        # iteramos por cada célula\n",
    "        for i in range(Ny):\n",
    "            for j in range(Nx):\n",
    "                # estado actual\n",
    "                c = C[i][j]\n",
    "                # numero vecinos\n",
    "                v = C[i][j+1] + C[i][j-1] + C[i-1][j] + C[i+1][j] + \\\n",
    "                    C[i+1][j+1] + C[i+1][j-1] + C[i-1][j+1] + C[i-1][j-1]\n",
    "                # nuevo estado\n",
    "                if c == 0 and v == 3:\n",
    "                    C0[i][j] = 1\n",
    "                elif c == 1 and (v == 2 or v == 3):\n",
    "                    C0[i][j] = 1\n",
    "                else:\n",
    "                    C0[i][j] = 0\n",
    "        # guardamos solución\n",
    "        Cs.append(C0)\n",
    "        C = C0\n",
    "        count += 1\n",
    "    return Cs"
   ]
  },
  {
   "cell_type": "code",
   "execution_count": 4,
   "id": "accepted-registrar",
   "metadata": {
    "ExecuteTime": {
     "end_time": "2021-04-28T12:23:58.655366Z",
     "start_time": "2021-04-28T12:23:58.580367Z"
    }
   },
   "outputs": [
    {
     "ename": "IndexError",
     "evalue": "list index out of range",
     "output_type": "error",
     "traceback": [
      "\u001b[1;31m--------------------------------------------------------------------\u001b[0m",
      "\u001b[1;31mIndexError\u001b[0m                         Traceback (most recent call last)",
      "\u001b[1;32m<ipython-input-4-e20b54fe6c6e>\u001b[0m in \u001b[0;36m<module>\u001b[1;34m\u001b[0m\n\u001b[0;32m      1\u001b[0m \u001b[0mC\u001b[0m \u001b[1;33m=\u001b[0m \u001b[0minit\u001b[0m\u001b[1;33m(\u001b[0m\u001b[1;36m20\u001b[0m\u001b[1;33m,\u001b[0m \u001b[1;36m20\u001b[0m\u001b[1;33m)\u001b[0m\u001b[1;33m\u001b[0m\u001b[1;33m\u001b[0m\u001b[0m\n\u001b[1;32m----> 2\u001b[1;33m \u001b[0mCs\u001b[0m \u001b[1;33m=\u001b[0m \u001b[0mgol\u001b[0m\u001b[1;33m(\u001b[0m\u001b[0mC\u001b[0m\u001b[1;33m,\u001b[0m \u001b[1;36m10\u001b[0m\u001b[1;33m)\u001b[0m\u001b[1;33m\u001b[0m\u001b[1;33m\u001b[0m\u001b[0m\n\u001b[0m",
      "\u001b[1;32m<ipython-input-3-2b6fa1e93d4a>\u001b[0m in \u001b[0;36mgol\u001b[1;34m(C, MAX_IT)\u001b[0m\n\u001b[0;32m     14\u001b[0m                 \u001b[1;31m# numero vecinos\u001b[0m\u001b[1;33m\u001b[0m\u001b[1;33m\u001b[0m\u001b[1;33m\u001b[0m\u001b[0m\n\u001b[0;32m     15\u001b[0m                 \u001b[0mv\u001b[0m \u001b[1;33m=\u001b[0m \u001b[0mC\u001b[0m\u001b[1;33m[\u001b[0m\u001b[0mi\u001b[0m\u001b[1;33m]\u001b[0m\u001b[1;33m[\u001b[0m\u001b[0mj\u001b[0m\u001b[1;33m+\u001b[0m\u001b[1;36m1\u001b[0m\u001b[1;33m]\u001b[0m \u001b[1;33m+\u001b[0m \u001b[0mC\u001b[0m\u001b[1;33m[\u001b[0m\u001b[0mi\u001b[0m\u001b[1;33m]\u001b[0m\u001b[1;33m[\u001b[0m\u001b[0mj\u001b[0m\u001b[1;33m-\u001b[0m\u001b[1;36m1\u001b[0m\u001b[1;33m]\u001b[0m \u001b[1;33m+\u001b[0m \u001b[0mC\u001b[0m\u001b[1;33m[\u001b[0m\u001b[0mi\u001b[0m\u001b[1;33m-\u001b[0m\u001b[1;36m1\u001b[0m\u001b[1;33m]\u001b[0m\u001b[1;33m[\u001b[0m\u001b[0mj\u001b[0m\u001b[1;33m]\u001b[0m \u001b[1;33m+\u001b[0m \u001b[0mC\u001b[0m\u001b[1;33m[\u001b[0m\u001b[0mi\u001b[0m\u001b[1;33m+\u001b[0m\u001b[1;36m1\u001b[0m\u001b[1;33m]\u001b[0m\u001b[1;33m[\u001b[0m\u001b[0mj\u001b[0m\u001b[1;33m]\u001b[0m \u001b[1;33m+\u001b[0m\u001b[0;31m \u001b[0m\u001b[0;31m\\\u001b[0m\u001b[1;33m\u001b[0m\u001b[1;33m\u001b[0m\u001b[0m\n\u001b[1;32m---> 16\u001b[1;33m                     \u001b[0mC\u001b[0m\u001b[1;33m[\u001b[0m\u001b[0mi\u001b[0m\u001b[1;33m+\u001b[0m\u001b[1;36m1\u001b[0m\u001b[1;33m]\u001b[0m\u001b[1;33m[\u001b[0m\u001b[0mj\u001b[0m\u001b[1;33m+\u001b[0m\u001b[1;36m1\u001b[0m\u001b[1;33m]\u001b[0m \u001b[1;33m+\u001b[0m \u001b[0mC\u001b[0m\u001b[1;33m[\u001b[0m\u001b[0mi\u001b[0m\u001b[1;33m+\u001b[0m\u001b[1;36m1\u001b[0m\u001b[1;33m]\u001b[0m\u001b[1;33m[\u001b[0m\u001b[0mj\u001b[0m\u001b[1;33m-\u001b[0m\u001b[1;36m1\u001b[0m\u001b[1;33m]\u001b[0m \u001b[1;33m+\u001b[0m \u001b[0mC\u001b[0m\u001b[1;33m[\u001b[0m\u001b[0mi\u001b[0m\u001b[1;33m-\u001b[0m\u001b[1;36m1\u001b[0m\u001b[1;33m]\u001b[0m\u001b[1;33m[\u001b[0m\u001b[0mj\u001b[0m\u001b[1;33m+\u001b[0m\u001b[1;36m1\u001b[0m\u001b[1;33m]\u001b[0m \u001b[1;33m+\u001b[0m \u001b[0mC\u001b[0m\u001b[1;33m[\u001b[0m\u001b[0mi\u001b[0m\u001b[1;33m-\u001b[0m\u001b[1;36m1\u001b[0m\u001b[1;33m]\u001b[0m\u001b[1;33m[\u001b[0m\u001b[0mj\u001b[0m\u001b[1;33m-\u001b[0m\u001b[1;36m1\u001b[0m\u001b[1;33m]\u001b[0m\u001b[1;33m\u001b[0m\u001b[1;33m\u001b[0m\u001b[0m\n\u001b[0m\u001b[0;32m     17\u001b[0m                 \u001b[1;31m# nuevo estado\u001b[0m\u001b[1;33m\u001b[0m\u001b[1;33m\u001b[0m\u001b[1;33m\u001b[0m\u001b[0m\n\u001b[0;32m     18\u001b[0m                 \u001b[1;32mif\u001b[0m \u001b[0mc\u001b[0m \u001b[1;33m==\u001b[0m \u001b[1;36m0\u001b[0m \u001b[1;32mand\u001b[0m \u001b[0mv\u001b[0m \u001b[1;33m==\u001b[0m \u001b[1;36m3\u001b[0m\u001b[1;33m:\u001b[0m\u001b[1;33m\u001b[0m\u001b[1;33m\u001b[0m\u001b[0m\n",
      "\u001b[1;31mIndexError\u001b[0m: list index out of range"
     ]
    }
   ],
   "source": [
    "C = init(20, 20)\n",
    "Cs = gol(C, 10)"
   ]
  },
  {
   "cell_type": "markdown",
   "id": "current-julian",
   "metadata": {},
   "source": [
    "¡Tenemos un problema! Nuestro algoritmo simple tiene un *bug*, y es que cuando intentamos acceder a los vecinos de algunas celdas, éstos no existen. Este problema lo tendremos en todas las celdas de las primeras y últimas filas y columnas. \n",
    "\n",
    "![](gol2.jpg)\n",
    "\n",
    "Para resolver este problema tendremos que usar *condicionales* para tener en cuenta estos casos especiales."
   ]
  },
  {
   "cell_type": "code",
   "execution_count": 31,
   "id": "quiet-mixer",
   "metadata": {
    "ExecuteTime": {
     "end_time": "2021-04-28T12:25:43.336561Z",
     "start_time": "2021-04-28T12:25:43.322562Z"
    }
   },
   "outputs": [],
   "source": [
    "def gol(C, MAX_IT):\n",
    "    count = 0\n",
    "    Cs = [C]\n",
    "    Ny, Nx = len(C), len(C[0])\n",
    "    while count < MAX_IT:\n",
    "        C0 = [[0 for j in range(Nx)] for i in range(Ny)]\n",
    "        for i in range(Ny):\n",
    "            for j in range(Nx):\n",
    "                c = C[i][j]\n",
    "                v = 0\n",
    "                # la primer columna no tiene vecino a la izquierda\n",
    "                if j > 0:\n",
    "                    v += C[i][j-1]\n",
    "                # la última columna no tiene vecino a la derecha\n",
    "                if j < Nx - 1:\n",
    "                    v += C[i][j+1]\n",
    "                # la primer fila no tiene vecino arriba\n",
    "                if i > 0:\n",
    "                    v += C[i-1][j]\n",
    "                    # la primer columna no tiene vecino a la izquierda\n",
    "                    if j > 0:\n",
    "                        v += C[i-1][j-1]\n",
    "                    # la última columna no tiene vecino a la derecha\n",
    "                    if j < Nx - 1:\n",
    "                        v += C[i-1][j+1]\n",
    "                # la útlima fila no tiene vecino abajo\n",
    "                if i < Ny - 1:\n",
    "                    v += C[i+1][j]\n",
    "                    # la primer columna no tiene vecino a la izquierda\n",
    "                    if j > 0:\n",
    "                        v += C[i+1][j-1]\n",
    "                    # la última columna no tiene vecino a la derecha\n",
    "                    if j < Nx - 1:\n",
    "                        v += C[i+1][j+1]\n",
    "                # nuevo estado\n",
    "                if c == 0 and v == 3:\n",
    "                    C0[i][j] = 1\n",
    "                elif c == 1 and (v == 2 or v == 3):\n",
    "                    C0[i][j] = 1\n",
    "                else:\n",
    "                    C0[i][j] = 0\n",
    "        Cs.append(C0)\n",
    "        C = C0\n",
    "        count += 1\n",
    "    return Cs"
   ]
  },
  {
   "cell_type": "code",
   "execution_count": 32,
   "id": "imperial-fundamental",
   "metadata": {
    "ExecuteTime": {
     "end_time": "2021-04-28T12:25:43.384560Z",
     "start_time": "2021-04-28T12:25:43.337561Z"
    }
   },
   "outputs": [],
   "source": [
    "C = init(10, 10)\n",
    "Cs = gol(C, 10)"
   ]
  },
  {
   "cell_type": "code",
   "execution_count": 33,
   "id": "freelance-lounge",
   "metadata": {
    "ExecuteTime": {
     "end_time": "2021-04-28T12:25:43.464561Z",
     "start_time": "2021-04-28T12:25:43.385561Z"
    }
   },
   "outputs": [
    {
     "data": {
      "image/png": "[encoded data removed]",
      "text/plain": [
       "<Figure size 600x400 with 3 Axes>"
      ]
     },
     "metadata": {
      "needs_background": "light"
     },
     "output_type": "display_data"
    }
   ],
   "source": [
    "fig = plt.figure(dpi=100)\n",
    "ax = plt.subplot(1, 3, 1)\n",
    "plot(Cs[0], ax)\n",
    "ax = plt.subplot(1, 3, 2)\n",
    "plot(Cs[1], ax)\n",
    "ax = plt.subplot(1, 3, 3)\n",
    "plot(Cs[2], ax)\n",
    "plt.show()"
   ]
  },
  {
   "cell_type": "markdown",
   "id": "intimate-slovakia",
   "metadata": {},
   "source": [
    "Si bien nuestra implementación es correcta, no podemos decir que sea muy eficiente."
   ]
  },
  {
   "cell_type": "code",
   "execution_count": 34,
   "id": "collectible-liabilities",
   "metadata": {
    "ExecuteTime": {
     "end_time": "2021-04-28T12:25:54.676716Z",
     "start_time": "2021-04-28T12:25:43.466562Z"
    }
   },
   "outputs": [
    {
     "name": "stdout",
     "output_type": "stream",
     "text": [
      "Wall time: 11.2 s\n"
     ]
    }
   ],
   "source": [
    "C = init(200, 200)\n",
    "%time Cs = gol(C, 200)"
   ]
  },
  {
   "cell_type": "code",
   "execution_count": 35,
   "id": "royal-springfield",
   "metadata": {
    "ExecuteTime": {
     "end_time": "2021-04-28T12:26:02.258340Z",
     "start_time": "2021-04-28T12:25:54.677715Z"
    }
   },
   "outputs": [
    {
     "data": {
      "text/html": [
       "<video width=\"600\" height=\"400\" controls autoplay loop>\n",
       "  <source type=\"video/mp4\" src=\"data:video/mp4;base64,AAAAIGZ0eXBNNFYgAAACAE00ViBpc29taXNvMmF2YzEAAAAIZnJlZQAAF7FtZGF0AAACoQYF//+d\n",
       "3EXpvebZSLeWLNgg2SPu73gyNjQgLSBjb3JlIDE1OSAtIEguMjY0L01QRUctNCBBVkMgY29kZWMg\n",
       "LSBDb3B5bGVmdCAyMDAzLTIwMTkgLSBodHRwOi8vd3d3LnZpZGVvbGFuLm9yZy94MjY0Lmh0bWwg\n",
       "LSBvcHRpb25zOiBjYWJhYz0xIHJlZj0zIGRlYmxvY2s9MTowOjAgYW5hbHlzZT0weDM6MHgxMTMg\n",
       "bWU9aGV4IHN1Ym1lPTcgcHN5PTEgcHN5X3JkPTEuMDA6MC4wMCBtaXhlZF9yZWY9MSBtZV9yYW5n\n",
       "ZT0xNiBjaHJvbWFfbWU9MSB0cmVsbGlzPTEgOHg4ZGN0PTEgY3FtPTAgZGVhZHpvbmU9MjEsMTEg\n",
       "ZmFzdF9wc2tpcD0xIGNocm9tYV9xcF9vZmZzZXQ9LTIgdGhyZWFkcz0xMiBsb29rYWhlYWRfdGhy\n",
       "ZWFkcz0yIHNsaWNlZF90aHJlYWRzPTAgbnI9MCBkZWNpbWF0ZT0xIGludGVybGFjZWQ9MCBibHVy\n",
       "YXlfY29tcGF0PTAgY29uc3RyYWluZWRfaW50cmE9MCBiZnJhbWVzPTMgYl9weXJhbWlkPTIgYl9h\n",
       "ZGFwdD0xIGJfYmlhcz0wIGRpcmVjdD0xIHdlaWdodGI9MSBvcGVuX2dvcD0wIHdlaWdodHA9MiBr\n",
       "ZXlpbnQ9MjUwIGtleWludF9taW49MTAgc2NlbmVjdXQ9NDAgaW50cmFfcmVmcmVzaD0wIHJjX2xv\n",
       "b2thaGVhZD00MCByYz1jcmYgbWJ0cmVlPTEgY3JmPTIzLjAgcWNvbXA9MC42MCBxcG1pbj0wIHFw\n",
       "bWF4PTY5IHFwc3RlcD00IGlwX3JhdGlvPTEuNDAgYXE9MToxLjAwAIAAAADYZYiEADv//vdOvwKb\n",
       "RZdqA5JXCvbKpCZZuVJrAfKmAAXwUgAAAwAAOW38+kgN+PrCIAAAEHACiSipf4S+6AFzUyqIcYqn\n",
       "dYDppRHLLSLb3/kcQvtivYQq90saVy37i6XhdvB8FTUimXZmaw5RcBO2Y5CxD/BrnUYQKr6aFMKY\n",
       "WL9w9A6YKNMMLLcebcHQJPR0+7CUZCJcYi0lqtCSLdaYnUkaHYCHAAADAAADAAADABgUd5PGakAa\n",
       "dHp6hpVm3P2MUABX2X9J4zWnPs1SNRbex7bAHhAAAEPBAAAAT0GaJGxBH/61KoAEB4jR/4/85ACX\n",
       "bb/+EHqgTw/lpEP7Qe3A9jrPP+BXiXEOgYjhi+ytFJKzsp73lZJ3oQ+UafPFkldaoDVTCtvEFTL8\n",
       "zegAAABFQZ5CeId/AA+eg3KPQAlv+sBxOqGoewv34aYGy5gc2TsBip0lwUSDyZCc2Uc8D3I649jj\n",
       "JdDlwN8UfSuy8L4DYOONG07pAAAAVgGeYXRDfwAWtC29AAmY1p4FoPiD6lUadspbzUQRc3+s/iV/\n",
       "Bv/EPHzROeSLUT8pnVhWs9yVxtjtdmZ73rLoU5zCkAhz98KcTDVFZRzC6GpXMQZbQ5svAAAALAGe\n",
       "Y2pDfwAIVH/yUIufaj2V6jV06xloHExOcCgOHgbvCQJwA4HqNfOLC8cTAAAAOkGaaEmoQWiZTAgj\n",
       "//61KoABjPj5tv3sSxtIvj5yPhUdaUmXwS5ApZL4gWnbN8gQCQOtPc0n0jjmwxMAAAAiQZ6GRREs\n",
       "O/8ABgNq60Bi7ul5/9xpYaRb85Tts/ozlDb/wQAAACABnqV0Q38ACGvscNkckUOlU24VBdwiCJyk\n",
       "+kEZD1VfgQAAABMBnqdqQ38AAAMAAAktewlCtm/AAAAAF0GarEmoQWyZTAgj//61KoAAAAMAAA2o\n",
       "AAAAFUGeykUVLDv/AAADAAAGfJADFAVW/QAAABMBnul0Q38AAAMAAAkr7Jk7ZC7AAAAAEwGe62pD\n",
       "fwAAAwAACS17CUK2b8AAAAAXQZrwSahBbJlMCCP//rUqgAAAAwAADakAAAAVQZ8ORRUsO/8AAAMA\n",
       "AAZ8kAMUBVb9AAAAEwGfLXRDfwAAAwAACSvsmTtkLsEAAAATAZ8vakN/AAADAAAJLXsJQrZvwAAA\n",
       "ABdBmzRJqEFsmUwII//+tSqAAAADAAANqAAAABVBn1JFFSw7/wAAAwAABnyQAxQFVv0AAAATAZ9x\n",
       "dEN/AAADAAAJK+yZO2QuwAAAABMBn3NqQ38AAAMAAAktewlCtm/AAAAAF0GbeEmoQWyZTAgj//61\n",
       "KoAAAAMAAA2pAAAAFUGflkUVLDv/AAADAAAGfJADFAVW/AAAABMBn7V0Q38AAAMAAAkr7Jk7ZC7B\n",
       "AAAAEwGft2pDfwAAAwAACS17CUK2b8EAAAAXQZu8SahBbJlMCCP//rUqgAAAAwAADagAAAAVQZ/a\n",
       "RRUsO/8AAAMAAAZ8kAMUBVb9AAAAEwGf+XRDfwAAAwAACSvsmTtkLsAAAAATAZ/7akN/AAADAAAJ\n",
       "LXsJQrZvwQAAABdBm+BJqEFsmUwII//+tSqAAAADAAANqQAAABVBnh5FFSw7/wAAAwAABnyQAxQF\n",
       "VvwAAAATAZ49dEN/AAADAAAJK+yZO2QuwAAAABMBnj9qQ38AAAMAAAktewlCtm/BAAAAF0GaJEmo\n",
       "QWyZTAgj//61KoAAAAMAAA2oAAAAFUGeQkUVLDv/AAADAAAGfJADFAVW/QAAABMBnmF0Q38AAAMA\n",
       "AAkr7Jk7ZC7AAAAAEwGeY2pDfwAAAwAACS17CUK2b8EAAAAXQZpoSahBbJlMCCP//rUqgAAAAwAA\n",
       "DakAAAAVQZ6GRRUsO/8AAAMAAAZ8kAMUBVb9AAAAEwGepXRDfwAAAwAACSvsmTtkLsEAAAATAZ6n\n",
       "akN/AAADAAAJLXsJQrZvwAAAABdBmqxJqEFsmUwII//+tSqAAAADAAANqAAAABVBnspFFSw7/wAA\n",
       "AwAABnyQAxQFVv0AAAATAZ7pdEN/AAADAAAJK+yZO2QuwAAAABMBnutqQ38AAAMAAAktewlCtm/A\n",
       "AAAAF0Ga8EmoQWyZTAgj//61KoAAAAMAAA2pAAAAFUGfDkUVLDv/AAADAAAGfJADFAVW/QAAABMB\n",
       "ny10Q38AAAMAAAkr7Jk7ZC7BAAAAEwGfL2pDfwAAAwAACS17CUK2b8AAAAAXQZs0SahBbJlMCCP/\n",
       "/rUqgAAAAwAADagAAAAVQZ9SRRUsO/8AAAMAAAZ8kAMUBVb9AAAAEwGfcXRDfwAAAwAACSvsmTtk\n",
       "LsAAAAATAZ9zakN/AAADAAAJLXsJQrZvwAAAABdBm3hJqEFsmUwII//+tSqAAAADAAANqQAAABVB\n",
       "n5ZFFSw7/wAAAwAABnyQAxQFVvwAAAATAZ+1dEN/AAADAAAJK+yZO2QuwQAAABMBn7dqQ38AAAMA\n",
       "AAktewlCtm/BAAAAF0GbvEmoQWyZTAgj//61KoAAAAMAAA2oAAAAFUGf2kUVLDv/AAADAAAGfJAD\n",
       "FAVW/QAAABMBn/l0Q38AAAMAAAkr7Jk7ZC7AAAAAEwGf+2pDfwAAAwAACS17CUK2b8EAAAAXQZvg\n",
       "SahBbJlMCCP//rUqgAAAAwAADakAAAAVQZ4eRRUsO/8AAAMAAAZ8kAMUBVb8AAAAEwGePXRDfwAA\n",
       "AwAACSvsmTtkLsAAAAATAZ4/akN/AAADAAAJLXsJQrZvwQAAABdBmiRJqEFsmUwII//+tSqAAAAD\n",
       "AAANqAAAABVBnkJFFSw7/wAAAwAABnyQAxQFVv0AAAATAZ5hdEN/AAADAAAJK+yZO2QuwAAAABMB\n",
       "nmNqQ38AAAMAAAktewlCtm/BAAAAF0GaaEmoQWyZTAgj//61KoAAAAMAAA2pAAAAFUGehkUVLDv/\n",
       "AAADAAAGfJADFAVW/QAAABMBnqV0Q38AAAMAAAkr7Jk7ZC7BAAAAEwGep2pDfwAAAwAACS17CUK2\n",
       "b8AAAAAXQZqsSahBbJlMCCP//rUqgAAAAwAADagAAAAVQZ7KRRUsO/8AAAMAAAZ8kAMUBVb9AAAA\n",
       "EwGe6XRDfwAAAwAACSvsmTtkLsAAAAATAZ7rakN/AAADAAAJLXsJQrZvwAAAABdBmvBJqEFsmUwI\n",
       "I//+tSqAAAADAAANqQAAABVBnw5FFSw7/wAAAwAABnyQAxQFVv0AAAATAZ8tdEN/AAADAAAJK+yZ\n",
       "O2QuwQAAABMBny9qQ38AAAMAAAktewlCtm/AAAAAF0GbNEmoQWyZTAgj//61KoAAAAMAAA2oAAAA\n",
       "FUGfUkUVLDv/AAADAAAGfJADFAVW/QAAABMBn3F0Q38AAAMAAAkr7Jk7ZC7AAAAAEwGfc2pDfwAA\n",
       "AwAACS17CUK2b8AAAAAXQZt4SahBbJlMCCP//rUqgAAAAwAADakAAAAVQZ+WRRUsO/8AAAMAAAZ8\n",
       "kAMUBVb8AAAAEwGftXRDfwAAAwAACSvsmTtkLsEAAAATAZ+3akN/AAADAAAJLXsJQrZvwQAAABdB\n",
       "m7xJqEFsmUwII//+tSqAAAADAAANqAAAABVBn9pFFSw7/wAAAwAABnyQAxQFVv0AAAATAZ/5dEN/\n",
       "AAADAAAJK+yZO2QuwAAAABMBn/tqQ38AAAMAAAktewlCtm/BAAAAF0Gb4EmoQWyZTAgj//61KoAA\n",
       "AAMAAA2pAAAAFUGeHkUVLDv/AAADAAAGfJADFAVW/AAAABMBnj10Q38AAAMAAAkr7Jk7ZC7AAAAA\n",
       "EwGeP2pDfwAAAwAACS17CUK2b8EAAAAXQZokSahBbJlMCCP//rUqgAAAAwAADagAAAAVQZ5CRRUs\n",
       "O/8AAAMAAAZ8kAMUBVb9AAAAEwGeYXRDfwAAAwAACSvsmTtkLsAAAAATAZ5jakN/AAADAAAJLXsJ\n",
       "QrZvwQAAABdBmmhJqEFsmUwII//+tSqAAAADAAANqQAAABVBnoZFFSw7/wAAAwAABnyQAxQFVv0A\n",
       "AAATAZ6ldEN/AAADAAAJK+yZO2QuwQAAABMBnqdqQ38AAAMAAAktewlCtm/AAAAAF0GarEmoQWyZ\n",
       "TAgj//61KoAAAAMAAA2oAAAAFUGeykUVLDv/AAADAAAGfJADFAVW/QAAABMBnul0Q38AAAMAAAkr\n",
       "7Jk7ZC7AAAAAEwGe62pDfwAAAwAACS17CUK2b8AAAAAXQZrwSahBbJlMCCP//rUqgAAAAwAADakA\n",
       "AAAVQZ8ORRUsO/8AAAMAAAZ8kAMUBVb9AAAAEwGfLXRDfwAAAwAACSvsmTtkLsEAAAATAZ8vakN/\n",
       "AAADAAAJLXsJQrZvwAAAABdBmzRJqEFsmUwII//+tSqAAAADAAANqAAAABVBn1JFFSw7/wAAAwAA\n",
       "BnyQAxQFVv0AAAATAZ9xdEN/AAADAAAJK+yZO2QuwAAAABMBn3NqQ38AAAMAAAktewlCtm/AAAAA\n",
       "F0GbeEmoQWyZTAgj//61KoAAAAMAAA2pAAAAFUGflkUVLDv/AAADAAAGfJADFAVW/AAAABMBn7V0\n",
       "Q38AAAMAAAkr7Jk7ZC7BAAAAEwGft2pDfwAAAwAACS17CUK2b8EAAAAXQZu8SahBbJlMCCP//rUq\n",
       "gAAAAwAADagAAAAVQZ/aRRUsO/8AAAMAAAZ8kAMUBVb9AAAAEwGf+XRDfwAAAwAACSvsmTtkLsAA\n",
       "AAATAZ/7akN/AAADAAAJLXsJQrZvwQAAABdBm+BJqEFsmUwII//+tSqAAAADAAANqQAAABVBnh5F\n",
       "FSw7/wAAAwAABnyQAxQFVvwAAAATAZ49dEN/AAADAAAJK+yZO2QuwAAAABMBnj9qQ38AAAMAAAkt\n",
       "ewlCtm/BAAAAF0GaJEmoQWyZTAgj//61KoAAAAMAAA2oAAAAFUGeQkUVLDv/AAADAAAGfJADFAVW\n",
       "/QAAABMBnmF0Q38AAAMAAAkr7Jk7ZC7AAAAAEwGeY2pDfwAAAwAACS17CUK2b8EAAAAXQZpoSahB\n",
       "bJlMCCP//rUqgAAAAwAADakAAAAVQZ6GRRUsO/8AAAMAAAZ8kAMUBVb9AAAAEwGepXRDfwAAAwAA\n",
       "CSvsmTtkLsEAAAATAZ6nakN/AAADAAAJLXsJQrZvwAAAABdBmqxJqEFsmUwII//+tSqAAAADAAAN\n",
       "qAAAABVBnspFFSw7/wAAAwAABnyQAxQFVv0AAAATAZ7pdEN/AAADAAAJK+yZO2QuwAAAABMBnutq\n",
       "Q38AAAMAAAktewlCtm/AAAAAF0Ga8EmoQWyZTAgj//61KoAAAAMAAA2pAAAAFUGfDkUVLDv/AAAD\n",
       "AAAGfJADFAVW/QAAABMBny10Q38AAAMAAAkr7Jk7ZC7BAAAAEwGfL2pDfwAAAwAACS17CUK2b8AA\n",
       "AAAXQZs0SahBbJlMCCP//rUqgAAAAwAADagAAAAVQZ9SRRUsO/8AAAMAAAZ8kAMUBVb9AAAAEwGf\n",
       "cXRDfwAAAwAACSvsmTtkLsAAAAATAZ9zakN/AAADAAAJLXsJQrZvwAAAABdBm3hJqEFsmUwII//+\n",
       "tSqAAAADAAANqQAAABVBn5ZFFSw7/wAAAwAABnyQAxQFVvwAAAATAZ+1dEN/AAADAAAJK+yZO2Qu\n",
       "wQAAABMBn7dqQ38AAAMAAAktewlCtm/BAAAAF0GbvEmoQWyZTAgj//61KoAAAAMAAA2oAAAAFUGf\n",
       "2kUVLDv/AAADAAAGfJADFAVW/QAAABMBn/l0Q38AAAMAAAkr7Jk7ZC7AAAAAEwGf+2pDfwAAAwAA\n",
       "CS17CUK2b8EAAAAXQZvgSahBbJlMCCP//rUqgAAAAwAADakAAAAVQZ4eRRUsO/8AAAMAAAZ8kAMU\n",
       "BVb8AAAAEwGePXRDfwAAAwAACSvsmTtkLsAAAAATAZ4/akN/AAADAAAJLXsJQrZvwQAAABdBmiRJ\n",
       "qEFsmUwII//+tSqAAAADAAANqAAAABVBnkJFFSw7/wAAAwAABnyQAxQFVv0AAAATAZ5hdEN/AAAD\n",
       "AAAJK+yZO2QuwAAAABMBnmNqQ38AAAMAAAktewlCtm/BAAAAF0GaaEmoQWyZTAgj//61KoAAAAMA\n",
       "AA2pAAAAFUGehkUVLDv/AAADAAAGfJADFAVW/QAAABMBnqV0Q38AAAMAAAkr7Jk7ZC7BAAAAEwGe\n",
       "p2pDfwAAAwAACS17CUK2b8AAAAAXQZqsSahBbJlMCCP//rUqgAAAAwAADagAAAAVQZ7KRRUsO/8A\n",
       "AAMAAAZ8kAMUBVb9AAAAEwGe6XRDfwAAAwAACSvsmTtkLsAAAAATAZ7rakN/AAADAAAJLXsJQrZv\n",
       "wAAAABdBmvBJqEFsmUwII//+tSqAAAADAAANqQAAABVBnw5FFSw7/wAAAwAABnyQAxQFVv0AAAAT\n",
       "AZ8tdEN/AAADAAAJK+yZO2QuwQAAABMBny9qQ38AAAMAAAktewlCtm/AAAAAF0GbNEmoQWyZTAgj\n",
       "//61KoAAAAMAAA2oAAAAFUGfUkUVLDv/AAADAAAGfJADFAVW/QAAABMBn3F0Q38AAAMAAAkr7Jk7\n",
       "ZC7AAAAAEwGfc2pDfwAAAwAACS17CUK2b8AAAAAXQZt4SahBbJlMCCP//rUqgAAAAwAADakAAAAV\n",
       "QZ+WRRUsO/8AAAMAAAZ8kAMUBVb8AAAAEwGftXRDfwAAAwAACSvsmTtkLsEAAAATAZ+3akN/AAAD\n",
       "AAAJLXsJQrZvwQAAABdBm7xJqEFsmUwII//+tSqAAAADAAANqAAAABVBn9pFFSw7/wAAAwAABnyQ\n",
       "AxQFVv0AAAATAZ/5dEN/AAADAAAJK+yZO2QuwAAAABMBn/tqQ38AAAMAAAktewlCtm/BAAAAGEGb\n",
       "4EmoQWyZTAgh//6qVQAAAwAAAwAbUQAAABVBnh5FFSw7/wAAAwAABnyQAxQFVvwAAAATAZ49dEN/\n",
       "AAADAAAJK+yZO2QuwAAAABMBnj9qQ38AAAMAAAktewlCtm/BAAAAGEGaJEmoQWyZTAgh//6qVQAA\n",
       "AwAAAwAbUAAAABVBnkJFFSw7/wAAAwAABnyQAxQFVv0AAAATAZ5hdEN/AAADAAAJK+yZO2QuwAAA\n",
       "ABMBnmNqQ38AAAMAAAktewlCtm/BAAAAGEGaaEmoQWyZTAhv//6nhAAAAwAAAwDUgQAAABVBnoZF\n",
       "FSw7/wAAAwAABnyQAxQFVv0AAAATAZ6ldEN/AAADAAAJK+yZO2QuwQAAABMBnqdqQ38AAAMAAAkt\n",
       "ewlCtm/AAAAMn21vb3YAAABsbXZoZAAAAAAAAAAAAAAAAAAAA+gAAE6EAAEAAAEAAAAAAAAAAAAA\n",
       "AAABAAAAAAAAAAAAAAAAAAAAAQAAAAAAAAAAAAAAAAAAQAAAAAAAAAAAAAAAAAAAAAAAAAAAAAAA\n",
       "AAAAAAAAAAIAAAvJdHJhawAAAFx0a2hkAAAAAwAAAAAAAAAAAAAAAQAAAAAAAE6EAAAAAAAAAAAA\n",
       "AAAAAAAAAAABAAAAAAAAAAAAAAAAAAAAAQAAAAAAAAAAAAAAAAAAQAAAAAJYAAABkAAAAAAAJGVk\n",
       "dHMAAAAcZWxzdAAAAAAAAAABAABOhAAACAAAAQAAAAALQW1kaWEAAAAgbWRoZAAAAAAAAAAAAAAA\n",
       "AAAAKAAAAyQAVcQAAAAAAC1oZGxyAAAAAAAAAAB2aWRlAAAAAAAAAAAAAAAAVmlkZW9IYW5kbGVy\n",
       "AAAACuxtaW5mAAAAFHZtaGQAAAABAAAAAAAAAAAAAAAkZGluZgAAABxkcmVmAAAAAAAAAAEAAAAM\n",
       "dXJsIAAAAAEAAAqsc3RibAAAALhzdHNkAAAAAAAAAAEAAACoYXZjMQAAAAAAAAABAAAAAAAAAAAA\n",
       "AAAAAAAAAAJYAZAASAAAAEgAAAAAAAAAAQAAAAAAAAAAAAAAAAAAAAAAAAAAAAAAAAAAAAAAAAAA\n",
       "ABj//wAAADZhdmNDAWQAFv/hABlnZAAWrNlAmDPl4QAAAwABAAADABQPFi2WAQAGaOvjyyLA/fj4\n",
       "AAAAABx1dWlka2hA8l8kT8W6OaUbzwMj8wAAAAAAAAAYc3R0cwAAAAAAAAABAAAAyQAABAAAAAAU\n",
       "c3RzcwAAAAAAAAABAAAAAQAABlhjdHRzAAAAAAAAAMkAAAABAAAIAAAAAAEAABQAAAAAAQAACAAA\n",
       "AAABAAAAAAAAAAEAAAQAAAAAAQAAFAAAAAABAAAIAAAAAAEAAAAAAAAAAQAABAAAAAABAAAUAAAA\n",
       "AAEAAAgAAAAAAQAAAAAAAAABAAAEAAAAAAEAABQAAAAAAQAACAAAAAABAAAAAAAAAAEAAAQAAAAA\n",
       "AQAAFAAAAAABAAAIAAAAAAEAAAAAAAAAAQAABAAAAAABAAAUAAAAAAEAAAgAAAAAAQAAAAAAAAAB\n",
       "AAAEAAAAAAEAABQAAAAAAQAACAAAAAABAAAAAAAAAAEAAAQAAAAAAQAAFAAAAAABAAAIAAAAAAEA\n",
       "AAAAAAAAAQAABAAAAAABAAAUAAAAAAEAAAgAAAAAAQAAAAAAAAABAAAEAAAAAAEAABQAAAAAAQAA\n",
       "CAAAAAABAAAAAAAAAAEAAAQAAAAAAQAAFAAAAAABAAAIAAAAAAEAAAAAAAAAAQAABAAAAAABAAAU\n",
       "AAAAAAEAAAgAAAAAAQAAAAAAAAABAAAEAAAAAAEAABQAAAAAAQAACAAAAAABAAAAAAAAAAEAAAQA\n",
       "AAAAAQAAFAAAAAABAAAIAAAAAAEAAAAAAAAAAQAABAAAAAABAAAUAAAAAAEAAAgAAAAAAQAAAAAA\n",
       "AAABAAAEAAAAAAEAABQAAAAAAQAACAAAAAABAAAAAAAAAAEAAAQAAAAAAQAAFAAAAAABAAAIAAAA\n",
       "AAEAAAAAAAAAAQAABAAAAAABAAAUAAAAAAEAAAgAAAAAAQAAAAAAAAABAAAEAAAAAAEAABQAAAAA\n",
       "AQAACAAAAAABAAAAAAAAAAEAAAQAAAAAAQAAFAAAAAABAAAIAAAAAAEAAAAAAAAAAQAABAAAAAAB\n",
       "AAAUAAAAAAEAAAgAAAAAAQAAAAAAAAABAAAEAAAAAAEAABQAAAAAAQAACAAAAAABAAAAAAAAAAEA\n",
       "AAQAAAAAAQAAFAAAAAABAAAIAAAAAAEAAAAAAAAAAQAABAAAAAABAAAUAAAAAAEAAAgAAAAAAQAA\n",
       "AAAAAAABAAAEAAAAAAEAABQAAAAAAQAACAAAAAABAAAAAAAAAAEAAAQAAAAAAQAAFAAAAAABAAAI\n",
       "AAAAAAEAAAAAAAAAAQAABAAAAAABAAAUAAAAAAEAAAgAAAAAAQAAAAAAAAABAAAEAAAAAAEAABQA\n",
       "AAAAAQAACAAAAAABAAAAAAAAAAEAAAQAAAAAAQAAFAAAAAABAAAIAAAAAAEAAAAAAAAAAQAABAAA\n",
       "AAABAAAUAAAAAAEAAAgAAAAAAQAAAAAAAAABAAAEAAAAAAEAABQAAAAAAQAACAAAAAABAAAAAAAA\n",
       "AAEAAAQAAAAAAQAAFAAAAAABAAAIAAAAAAEAAAAAAAAAAQAABAAAAAABAAAUAAAAAAEAAAgAAAAA\n",
       "AQAAAAAAAAABAAAEAAAAAAEAABQAAAAAAQAACAAAAAABAAAAAAAAAAEAAAQAAAAAAQAAFAAAAAAB\n",
       "AAAIAAAAAAEAAAAAAAAAAQAABAAAAAABAAAUAAAAAAEAAAgAAAAAAQAAAAAAAAABAAAEAAAAAAEA\n",
       "ABQAAAAAAQAACAAAAAABAAAAAAAAAAEAAAQAAAAAAQAAFAAAAAABAAAIAAAAAAEAAAAAAAAAAQAA\n",
       "BAAAAAABAAAUAAAAAAEAAAgAAAAAAQAAAAAAAAABAAAEAAAAAAEAABQAAAAAAQAACAAAAAABAAAA\n",
       "AAAAAAEAAAQAAAAAAQAAFAAAAAABAAAIAAAAAAEAAAAAAAAAAQAABAAAAAABAAAUAAAAAAEAAAgA\n",
       "AAAAAQAAAAAAAAABAAAEAAAAAAEAABQAAAAAAQAACAAAAAABAAAAAAAAAAEAAAQAAAAAAQAAFAAA\n",
       "AAABAAAIAAAAAAEAAAAAAAAAAQAABAAAAAABAAAUAAAAAAEAAAgAAAAAAQAAAAAAAAABAAAEAAAA\n",
       "AAEAABQAAAAAAQAACAAAAAABAAAAAAAAAAEAAAQAAAAAAQAAFAAAAAABAAAIAAAAAAEAAAAAAAAA\n",
       "AQAABAAAAAABAAAUAAAAAAEAAAgAAAAAAQAAAAAAAAABAAAEAAAAAAEAABQAAAAAAQAACAAAAAAB\n",
       "AAAAAAAAAAEAAAQAAAAAAQAAFAAAAAABAAAIAAAAAAEAAAAAAAAAAQAABAAAAAAcc3RzYwAAAAAA\n",
       "AAABAAAAAQAAAMkAAAABAAADOHN0c3oAAAAAAAAAAAAAAMkAAAOBAAAAUwAAAEkAAABaAAAAMAAA\n",
       "AD4AAAAmAAAAJAAAABcAAAAbAAAAGQAAABcAAAAXAAAAGwAAABkAAAAXAAAAFwAAABsAAAAZAAAA\n",
       "FwAAABcAAAAbAAAAGQAAABcAAAAXAAAAGwAAABkAAAAXAAAAFwAAABsAAAAZAAAAFwAAABcAAAAb\n",
       "AAAAGQAAABcAAAAXAAAAGwAAABkAAAAXAAAAFwAAABsAAAAZAAAAFwAAABcAAAAbAAAAGQAAABcA\n",
       "AAAXAAAAGwAAABkAAAAXAAAAFwAAABsAAAAZAAAAFwAAABcAAAAbAAAAGQAAABcAAAAXAAAAGwAA\n",
       "ABkAAAAXAAAAFwAAABsAAAAZAAAAFwAAABcAAAAbAAAAGQAAABcAAAAXAAAAGwAAABkAAAAXAAAA\n",
       "FwAAABsAAAAZAAAAFwAAABcAAAAbAAAAGQAAABcAAAAXAAAAGwAAABkAAAAXAAAAFwAAABsAAAAZ\n",
       "AAAAFwAAABcAAAAbAAAAGQAAABcAAAAXAAAAGwAAABkAAAAXAAAAFwAAABsAAAAZAAAAFwAAABcA\n",
       "AAAbAAAAGQAAABcAAAAXAAAAGwAAABkAAAAXAAAAFwAAABsAAAAZAAAAFwAAABcAAAAbAAAAGQAA\n",
       "ABcAAAAXAAAAGwAAABkAAAAXAAAAFwAAABsAAAAZAAAAFwAAABcAAAAbAAAAGQAAABcAAAAXAAAA\n",
       "GwAAABkAAAAXAAAAFwAAABsAAAAZAAAAFwAAABcAAAAbAAAAGQAAABcAAAAXAAAAGwAAABkAAAAX\n",
       "AAAAFwAAABsAAAAZAAAAFwAAABcAAAAbAAAAGQAAABcAAAAXAAAAGwAAABkAAAAXAAAAFwAAABsA\n",
       "AAAZAAAAFwAAABcAAAAbAAAAGQAAABcAAAAXAAAAGwAAABkAAAAXAAAAFwAAABsAAAAZAAAAFwAA\n",
       "ABcAAAAbAAAAGQAAABcAAAAXAAAAGwAAABkAAAAXAAAAFwAAABsAAAAZAAAAFwAAABcAAAAcAAAA\n",
       "GQAAABcAAAAXAAAAHAAAABkAAAAXAAAAFwAAABwAAAAZAAAAFwAAABcAAAAUc3RjbwAAAAAAAAAB\n",
       "AAAAMAAAAGJ1ZHRhAAAAWm1ldGEAAAAAAAAAIWhkbHIAAAAAAAAAAG1kaXJhcHBsAAAAAAAAAAAA\n",
       "AAAALWlsc3QAAAAlqXRvbwAAAB1kYXRhAAAAAQAAAABMYXZmNTguMzkuMTAx\n",
       "\">\n",
       "  Your browser does not support the video tag.\n",
       "</video>"
      ],
      "text/plain": [
       "<matplotlib.animation.FuncAnimation at 0x2e7a91f2048>"
      ]
     },
     "execution_count": 35,
     "metadata": {},
     "output_type": "execute_result"
    }
   ],
   "source": [
    "# animación\n",
    "\n",
    "from matplotlib import animation, rc\n",
    "rc('animation', html='html5')\n",
    "\n",
    "def update(i):\n",
    "    ax.clear()\n",
    "    ax.imshow(Cs[i], cmap=\"gray\")\n",
    "    ax.axis('off')\n",
    "    return ax\n",
    "\n",
    "fig = plt.figure(dpi=100)\n",
    "ax = plt.subplot(1,1,1)\n",
    "anim = animation.FuncAnimation(fig, update, frames=len(Cs), interval=100)\n",
    "plt.close()\n",
    "\n",
    "anim"
   ]
  },
  {
   "cell_type": "markdown",
   "id": "standard-rocket",
   "metadata": {},
   "source": [
    "## Intermedio"
   ]
  },
  {
   "cell_type": "markdown",
   "id": "lined-arbor",
   "metadata": {},
   "source": [
    "Tras varios meses programando, haciendo ejercicios y resolviendo problemas, vuelves a tu juego de la vida con algunas ideas en mente, y es que ahora sabes que puedes hacerlo mejor. Para ello decides *refactorizar* tu código para que sea más eficiente y simple. Podemos simplificar nuestro bucle eliminando todos los *ifs* si añadimos dos filas y columnas extra a nuestro mundo con células que siempre estarán a cero.\n",
    "\n",
    "![](gol3.jpg)\n",
    "\n",
    "Ahora todas nuestras células tienen 8 vecinos, siempre y cuando empecemos y terminemos nuestros bucles una fila o columna hacia adentro."
   ]
  },
  {
   "cell_type": "code",
   "execution_count": 36,
   "id": "operating-manual",
   "metadata": {
    "ExecuteTime": {
     "end_time": "2021-04-28T12:26:02.274339Z",
     "start_time": "2021-04-28T12:26:02.259341Z"
    }
   },
   "outputs": [
    {
     "data": {
      "text/plain": [
       "[[0, 0, 0, 0, 0],\n",
       " [0, 0, 1, 0, 0],\n",
       " [0, 1, 0, 0, 0],\n",
       " [0, 0, 0, 1, 0],\n",
       " [0, 0, 0, 0, 0]]"
      ]
     },
     "execution_count": 36,
     "metadata": {},
     "output_type": "execute_result"
    }
   ],
   "source": [
    "def init(Nx, Ny):\n",
    "    C = [[0 for j in range(Nx+2)] for i in range(Ny+2)]\n",
    "    for i in range(1,Ny+1):\n",
    "        for j in range(1,Nx+1):\n",
    "            C[i][j] = random.randint(0,1)\n",
    "    return C\n",
    "    \n",
    "init(3, 3)"
   ]
  },
  {
   "cell_type": "code",
   "execution_count": 37,
   "id": "instant-concentrate",
   "metadata": {
    "ExecuteTime": {
     "end_time": "2021-04-28T12:26:02.290340Z",
     "start_time": "2021-04-28T12:26:02.275339Z"
    }
   },
   "outputs": [],
   "source": [
    "def gol(C, MAX_IT):\n",
    "    count = 0\n",
    "    Cs = [C]\n",
    "    Ny, Nx = len(C)-2, len(C[0])-2\n",
    "    while count < MAX_IT:\n",
    "        C0 = [[0 for j in range(Nx+2)] for i in range(Ny+2)]\n",
    "        for i in range(1, Ny+1):\n",
    "            for j in range(1, Nx+1):\n",
    "                # estado actual\n",
    "                c = C[i][j]\n",
    "                # numero vecinos\n",
    "                v = C[i][j+1] + C[i][j-1] + C[i-1][j] + C[i+1][j] + \\\n",
    "                    C[i+1][j+1] + C[i+1][j-1] + C[i-1][j+1] + C[i-1][j-1]\n",
    "                # nuevo estado\n",
    "                if c == 0 and v == 3:\n",
    "                    C0[i][j] = 1\n",
    "                elif c == 1 and (v == 2 or v == 3):\n",
    "                    C0[i][j] = 1\n",
    "                else:\n",
    "                    C0[i][j] = 0\n",
    "        Cs.append(C0)\n",
    "        C = C0\n",
    "        count += 1\n",
    "    return Cs"
   ]
  },
  {
   "cell_type": "code",
   "execution_count": 38,
   "id": "filled-intensity",
   "metadata": {
    "ExecuteTime": {
     "end_time": "2021-04-28T12:26:07.867748Z",
     "start_time": "2021-04-28T12:26:02.291341Z"
    }
   },
   "outputs": [
    {
     "name": "stdout",
     "output_type": "stream",
     "text": [
      "Wall time: 5.53 s\n"
     ]
    }
   ],
   "source": [
    "C = init(200, 200)\n",
    "%time Cs = gol(C, 200)"
   ]
  },
  {
   "cell_type": "code",
   "execution_count": 39,
   "id": "outer-ground",
   "metadata": {
    "ExecuteTime": {
     "end_time": "2021-04-28T12:26:11.309572Z",
     "start_time": "2021-04-28T12:26:07.869754Z"
    }
   },
   "outputs": [
    {
     "ename": "KeyboardInterrupt",
     "evalue": "",
     "output_type": "error",
     "traceback": [
      "\u001b[1;31m--------------------------------------------------------------------\u001b[0m",
      "\u001b[1;31mKeyboardInterrupt\u001b[0m                  Traceback (most recent call last)",
      "\u001b[1;32m<ipython-input-39-6c6303189354>\u001b[0m in \u001b[0;36m<module>\u001b[1;34m\u001b[0m\n\u001b[0;32m      4\u001b[0m \u001b[0mplt\u001b[0m\u001b[1;33m.\u001b[0m\u001b[0mclose\u001b[0m\u001b[1;33m(\u001b[0m\u001b[1;33m)\u001b[0m\u001b[1;33m\u001b[0m\u001b[1;33m\u001b[0m\u001b[0m\n\u001b[0;32m      5\u001b[0m \u001b[1;33m\u001b[0m\u001b[0m\n\u001b[1;32m----> 6\u001b[1;33m \u001b[0manim\u001b[0m\u001b[1;33m\u001b[0m\u001b[1;33m\u001b[0m\u001b[0m\n\u001b[0m",
      "\u001b[1;32m~\\miniconda3\\lib\\site-packages\\IPython\\core\\displayhook.py\u001b[0m in \u001b[0;36m__call__\u001b[1;34m(self, result)\u001b[0m\n\u001b[0;32m    260\u001b[0m             \u001b[0mself\u001b[0m\u001b[1;33m.\u001b[0m\u001b[0mstart_displayhook\u001b[0m\u001b[1;33m(\u001b[0m\u001b[1;33m)\u001b[0m\u001b[1;33m\u001b[0m\u001b[1;33m\u001b[0m\u001b[0m\n\u001b[0;32m    261\u001b[0m             \u001b[0mself\u001b[0m\u001b[1;33m.\u001b[0m\u001b[0mwrite_output_prompt\u001b[0m\u001b[1;33m(\u001b[0m\u001b[1;33m)\u001b[0m\u001b[1;33m\u001b[0m\u001b[1;33m\u001b[0m\u001b[0m\n\u001b[1;32m--> 262\u001b[1;33m             \u001b[0mformat_dict\u001b[0m\u001b[1;33m,\u001b[0m \u001b[0mmd_dict\u001b[0m \u001b[1;33m=\u001b[0m \u001b[0mself\u001b[0m\u001b[1;33m.\u001b[0m\u001b[0mcompute_format_data\u001b[0m\u001b[1;33m(\u001b[0m\u001b[0mresult\u001b[0m\u001b[1;33m)\u001b[0m\u001b[1;33m\u001b[0m\u001b[1;33m\u001b[0m\u001b[0m\n\u001b[0m\u001b[0;32m    263\u001b[0m             \u001b[0mself\u001b[0m\u001b[1;33m.\u001b[0m\u001b[0mupdate_user_ns\u001b[0m\u001b[1;33m(\u001b[0m\u001b[0mresult\u001b[0m\u001b[1;33m)\u001b[0m\u001b[1;33m\u001b[0m\u001b[1;33m\u001b[0m\u001b[0m\n\u001b[0;32m    264\u001b[0m             \u001b[0mself\u001b[0m\u001b[1;33m.\u001b[0m\u001b[0mfill_exec_result\u001b[0m\u001b[1;33m(\u001b[0m\u001b[0mresult\u001b[0m\u001b[1;33m)\u001b[0m\u001b[1;33m\u001b[0m\u001b[1;33m\u001b[0m\u001b[0m\n",
      "\u001b[1;32m~\\miniconda3\\lib\\site-packages\\IPython\\core\\displayhook.py\u001b[0m in \u001b[0;36mcompute_format_data\u001b[1;34m(self, result)\u001b[0m\n\u001b[0;32m    149\u001b[0m \u001b[1;33m\u001b[0m\u001b[0m\n\u001b[0;32m    150\u001b[0m         \"\"\"\n\u001b[1;32m--> 151\u001b[1;33m         \u001b[1;32mreturn\u001b[0m \u001b[0mself\u001b[0m\u001b[1;33m.\u001b[0m\u001b[0mshell\u001b[0m\u001b[1;33m.\u001b[0m\u001b[0mdisplay_formatter\u001b[0m\u001b[1;33m.\u001b[0m\u001b[0mformat\u001b[0m\u001b[1;33m(\u001b[0m\u001b[0mresult\u001b[0m\u001b[1;33m)\u001b[0m\u001b[1;33m\u001b[0m\u001b[1;33m\u001b[0m\u001b[0m\n\u001b[0m\u001b[0;32m    152\u001b[0m \u001b[1;33m\u001b[0m\u001b[0m\n\u001b[0;32m    153\u001b[0m     \u001b[1;31m# This can be set to True by the write_output_prompt method in a subclass\u001b[0m\u001b[1;33m\u001b[0m\u001b[1;33m\u001b[0m\u001b[1;33m\u001b[0m\u001b[0m\n",
      "\u001b[1;32m~\\miniconda3\\lib\\site-packages\\IPython\\core\\formatters.py\u001b[0m in \u001b[0;36mformat\u001b[1;34m(self, obj, include, exclude)\u001b[0m\n\u001b[0;32m    178\u001b[0m             \u001b[0mmd\u001b[0m \u001b[1;33m=\u001b[0m \u001b[1;32mNone\u001b[0m\u001b[1;33m\u001b[0m\u001b[1;33m\u001b[0m\u001b[0m\n\u001b[0;32m    179\u001b[0m             \u001b[1;32mtry\u001b[0m\u001b[1;33m:\u001b[0m\u001b[1;33m\u001b[0m\u001b[1;33m\u001b[0m\u001b[0m\n\u001b[1;32m--> 180\u001b[1;33m                 \u001b[0mdata\u001b[0m \u001b[1;33m=\u001b[0m \u001b[0mformatter\u001b[0m\u001b[1;33m(\u001b[0m\u001b[0mobj\u001b[0m\u001b[1;33m)\u001b[0m\u001b[1;33m\u001b[0m\u001b[1;33m\u001b[0m\u001b[0m\n\u001b[0m\u001b[0;32m    181\u001b[0m             \u001b[1;32mexcept\u001b[0m\u001b[1;33m:\u001b[0m\u001b[1;33m\u001b[0m\u001b[1;33m\u001b[0m\u001b[0m\n\u001b[0;32m    182\u001b[0m                 \u001b[1;31m# FIXME: log the exception\u001b[0m\u001b[1;33m\u001b[0m\u001b[1;33m\u001b[0m\u001b[1;33m\u001b[0m\u001b[0m\n",
      "\u001b[1;32m<decorator-gen-2>\u001b[0m in \u001b[0;36m__call__\u001b[1;34m(self, obj)\u001b[0m\n",
      "\u001b[1;32m~\\miniconda3\\lib\\site-packages\\IPython\\core\\formatters.py\u001b[0m in \u001b[0;36mcatch_format_error\u001b[1;34m(method, self, *args, **kwargs)\u001b[0m\n\u001b[0;32m    222\u001b[0m     \u001b[1;34m\"\"\"show traceback on failed format call\"\"\"\u001b[0m\u001b[1;33m\u001b[0m\u001b[1;33m\u001b[0m\u001b[0m\n\u001b[0;32m    223\u001b[0m     \u001b[1;32mtry\u001b[0m\u001b[1;33m:\u001b[0m\u001b[1;33m\u001b[0m\u001b[1;33m\u001b[0m\u001b[0m\n\u001b[1;32m--> 224\u001b[1;33m         \u001b[0mr\u001b[0m \u001b[1;33m=\u001b[0m \u001b[0mmethod\u001b[0m\u001b[1;33m(\u001b[0m\u001b[0mself\u001b[0m\u001b[1;33m,\u001b[0m \u001b[1;33m*\u001b[0m\u001b[0margs\u001b[0m\u001b[1;33m,\u001b[0m \u001b[1;33m**\u001b[0m\u001b[0mkwargs\u001b[0m\u001b[1;33m)\u001b[0m\u001b[1;33m\u001b[0m\u001b[1;33m\u001b[0m\u001b[0m\n\u001b[0m\u001b[0;32m    225\u001b[0m     \u001b[1;32mexcept\u001b[0m \u001b[0mNotImplementedError\u001b[0m\u001b[1;33m:\u001b[0m\u001b[1;33m\u001b[0m\u001b[1;33m\u001b[0m\u001b[0m\n\u001b[0;32m    226\u001b[0m         \u001b[1;31m# don't warn on NotImplementedErrors\u001b[0m\u001b[1;33m\u001b[0m\u001b[1;33m\u001b[0m\u001b[1;33m\u001b[0m\u001b[0m\n",
      "\u001b[1;32m~\\miniconda3\\lib\\site-packages\\IPython\\core\\formatters.py\u001b[0m in \u001b[0;36m__call__\u001b[1;34m(self, obj)\u001b[0m\n\u001b[0;32m    343\u001b[0m             \u001b[0mmethod\u001b[0m \u001b[1;33m=\u001b[0m \u001b[0mget_real_method\u001b[0m\u001b[1;33m(\u001b[0m\u001b[0mobj\u001b[0m\u001b[1;33m,\u001b[0m \u001b[0mself\u001b[0m\u001b[1;33m.\u001b[0m\u001b[0mprint_method\u001b[0m\u001b[1;33m)\u001b[0m\u001b[1;33m\u001b[0m\u001b[1;33m\u001b[0m\u001b[0m\n\u001b[0;32m    344\u001b[0m             \u001b[1;32mif\u001b[0m \u001b[0mmethod\u001b[0m \u001b[1;32mis\u001b[0m \u001b[1;32mnot\u001b[0m \u001b[1;32mNone\u001b[0m\u001b[1;33m:\u001b[0m\u001b[1;33m\u001b[0m\u001b[1;33m\u001b[0m\u001b[0m\n\u001b[1;32m--> 345\u001b[1;33m                 \u001b[1;32mreturn\u001b[0m \u001b[0mmethod\u001b[0m\u001b[1;33m(\u001b[0m\u001b[1;33m)\u001b[0m\u001b[1;33m\u001b[0m\u001b[1;33m\u001b[0m\u001b[0m\n\u001b[0m\u001b[0;32m    346\u001b[0m             \u001b[1;32mreturn\u001b[0m \u001b[1;32mNone\u001b[0m\u001b[1;33m\u001b[0m\u001b[1;33m\u001b[0m\u001b[0m\n\u001b[0;32m    347\u001b[0m         \u001b[1;32melse\u001b[0m\u001b[1;33m:\u001b[0m\u001b[1;33m\u001b[0m\u001b[1;33m\u001b[0m\u001b[0m\n",
      "\u001b[1;32m~\\miniconda3\\lib\\site-packages\\matplotlib\\animation.py\u001b[0m in \u001b[0;36m_repr_html_\u001b[1;34m(self)\u001b[0m\n\u001b[0;32m   1389\u001b[0m         \u001b[0mfmt\u001b[0m \u001b[1;33m=\u001b[0m \u001b[0mrcParams\u001b[0m\u001b[1;33m[\u001b[0m\u001b[1;34m'animation.html'\u001b[0m\u001b[1;33m]\u001b[0m\u001b[1;33m\u001b[0m\u001b[1;33m\u001b[0m\u001b[0m\n\u001b[0;32m   1390\u001b[0m         \u001b[1;32mif\u001b[0m \u001b[0mfmt\u001b[0m \u001b[1;33m==\u001b[0m \u001b[1;34m'html5'\u001b[0m\u001b[1;33m:\u001b[0m\u001b[1;33m\u001b[0m\u001b[1;33m\u001b[0m\u001b[0m\n\u001b[1;32m-> 1391\u001b[1;33m             \u001b[1;32mreturn\u001b[0m \u001b[0mself\u001b[0m\u001b[1;33m.\u001b[0m\u001b[0mto_html5_video\u001b[0m\u001b[1;33m(\u001b[0m\u001b[1;33m)\u001b[0m\u001b[1;33m\u001b[0m\u001b[1;33m\u001b[0m\u001b[0m\n\u001b[0m\u001b[0;32m   1392\u001b[0m         \u001b[1;32melif\u001b[0m \u001b[0mfmt\u001b[0m \u001b[1;33m==\u001b[0m \u001b[1;34m'jshtml'\u001b[0m\u001b[1;33m:\u001b[0m\u001b[1;33m\u001b[0m\u001b[1;33m\u001b[0m\u001b[0m\n\u001b[0;32m   1393\u001b[0m             \u001b[1;32mreturn\u001b[0m \u001b[0mself\u001b[0m\u001b[1;33m.\u001b[0m\u001b[0mto_jshtml\u001b[0m\u001b[1;33m(\u001b[0m\u001b[1;33m)\u001b[0m\u001b[1;33m\u001b[0m\u001b[1;33m\u001b[0m\u001b[0m\n",
      "\u001b[1;32m~\\miniconda3\\lib\\site-packages\\matplotlib\\animation.py\u001b[0m in \u001b[0;36mto_html5_video\u001b[1;34m(self, embed_limit)\u001b[0m\n\u001b[0;32m   1330\u001b[0m                                 \u001b[0mbitrate\u001b[0m\u001b[1;33m=\u001b[0m\u001b[0mrcParams\u001b[0m\u001b[1;33m[\u001b[0m\u001b[1;34m'animation.bitrate'\u001b[0m\u001b[1;33m]\u001b[0m\u001b[1;33m,\u001b[0m\u001b[1;33m\u001b[0m\u001b[1;33m\u001b[0m\u001b[0m\n\u001b[0;32m   1331\u001b[0m                                 fps=1000. / self._interval)\n\u001b[1;32m-> 1332\u001b[1;33m                 \u001b[0mself\u001b[0m\u001b[1;33m.\u001b[0m\u001b[0msave\u001b[0m\u001b[1;33m(\u001b[0m\u001b[0mstr\u001b[0m\u001b[1;33m(\u001b[0m\u001b[0mpath\u001b[0m\u001b[1;33m)\u001b[0m\u001b[1;33m,\u001b[0m \u001b[0mwriter\u001b[0m\u001b[1;33m=\u001b[0m\u001b[0mwriter\u001b[0m\u001b[1;33m)\u001b[0m\u001b[1;33m\u001b[0m\u001b[1;33m\u001b[0m\u001b[0m\n\u001b[0m\u001b[0;32m   1333\u001b[0m                 \u001b[1;31m# Now open and base64 encode.\u001b[0m\u001b[1;33m\u001b[0m\u001b[1;33m\u001b[0m\u001b[1;33m\u001b[0m\u001b[0m\n\u001b[0;32m   1334\u001b[0m                 \u001b[0mvid64\u001b[0m \u001b[1;33m=\u001b[0m \u001b[0mbase64\u001b[0m\u001b[1;33m.\u001b[0m\u001b[0mencodebytes\u001b[0m\u001b[1;33m(\u001b[0m\u001b[0mpath\u001b[0m\u001b[1;33m.\u001b[0m\u001b[0mread_bytes\u001b[0m\u001b[1;33m(\u001b[0m\u001b[1;33m)\u001b[0m\u001b[1;33m)\u001b[0m\u001b[1;33m\u001b[0m\u001b[1;33m\u001b[0m\u001b[0m\n",
      "\u001b[1;32m~\\miniconda3\\lib\\site-packages\\matplotlib\\animation.py\u001b[0m in \u001b[0;36msave\u001b[1;34m(self, filename, writer, fps, dpi, codec, bitrate, extra_args, metadata, extra_anim, savefig_kwargs, progress_callback)\u001b[0m\n\u001b[0;32m   1150\u001b[0m                             \u001b[0mprogress_callback\u001b[0m\u001b[1;33m(\u001b[0m\u001b[0mframe_number\u001b[0m\u001b[1;33m,\u001b[0m \u001b[0mtotal_frames\u001b[0m\u001b[1;33m)\u001b[0m\u001b[1;33m\u001b[0m\u001b[1;33m\u001b[0m\u001b[0m\n\u001b[0;32m   1151\u001b[0m                             \u001b[0mframe_number\u001b[0m \u001b[1;33m+=\u001b[0m \u001b[1;36m1\u001b[0m\u001b[1;33m\u001b[0m\u001b[1;33m\u001b[0m\u001b[0m\n\u001b[1;32m-> 1152\u001b[1;33m                     \u001b[0mwriter\u001b[0m\u001b[1;33m.\u001b[0m\u001b[0mgrab_frame\u001b[0m\u001b[1;33m(\u001b[0m\u001b[1;33m**\u001b[0m\u001b[0msavefig_kwargs\u001b[0m\u001b[1;33m)\u001b[0m\u001b[1;33m\u001b[0m\u001b[1;33m\u001b[0m\u001b[0m\n\u001b[0m\u001b[0;32m   1153\u001b[0m \u001b[1;33m\u001b[0m\u001b[0m\n\u001b[0;32m   1154\u001b[0m         \u001b[1;31m# Reconnect signal for first draw if necessary\u001b[0m\u001b[1;33m\u001b[0m\u001b[1;33m\u001b[0m\u001b[1;33m\u001b[0m\u001b[0m\n",
      "\u001b[1;32m~\\miniconda3\\lib\\site-packages\\matplotlib\\animation.py\u001b[0m in \u001b[0;36mgrab_frame\u001b[1;34m(self, **savefig_kwargs)\u001b[0m\n\u001b[0;32m    383\u001b[0m         \u001b[1;31m# frame format and dpi.\u001b[0m\u001b[1;33m\u001b[0m\u001b[1;33m\u001b[0m\u001b[1;33m\u001b[0m\u001b[0m\n\u001b[0;32m    384\u001b[0m         self.fig.savefig(self._frame_sink(), format=self.frame_format,\n\u001b[1;32m--> 385\u001b[1;33m                          dpi=self.dpi, **savefig_kwargs)\n\u001b[0m\u001b[0;32m    386\u001b[0m \u001b[1;33m\u001b[0m\u001b[0m\n\u001b[0;32m    387\u001b[0m     \u001b[1;32mdef\u001b[0m \u001b[0m_frame_sink\u001b[0m\u001b[1;33m(\u001b[0m\u001b[0mself\u001b[0m\u001b[1;33m)\u001b[0m\u001b[1;33m:\u001b[0m\u001b[1;33m\u001b[0m\u001b[1;33m\u001b[0m\u001b[0m\n",
      "\u001b[1;32m~\\miniconda3\\lib\\site-packages\\matplotlib\\figure.py\u001b[0m in \u001b[0;36msavefig\u001b[1;34m(self, fname, transparent, **kwargs)\u001b[0m\n\u001b[0;32m   2201\u001b[0m             \u001b[0mself\u001b[0m\u001b[1;33m.\u001b[0m\u001b[0mpatch\u001b[0m\u001b[1;33m.\u001b[0m\u001b[0mset_visible\u001b[0m\u001b[1;33m(\u001b[0m\u001b[0mframeon\u001b[0m\u001b[1;33m)\u001b[0m\u001b[1;33m\u001b[0m\u001b[1;33m\u001b[0m\u001b[0m\n\u001b[0;32m   2202\u001b[0m \u001b[1;33m\u001b[0m\u001b[0m\n\u001b[1;32m-> 2203\u001b[1;33m         \u001b[0mself\u001b[0m\u001b[1;33m.\u001b[0m\u001b[0mcanvas\u001b[0m\u001b[1;33m.\u001b[0m\u001b[0mprint_figure\u001b[0m\u001b[1;33m(\u001b[0m\u001b[0mfname\u001b[0m\u001b[1;33m,\u001b[0m \u001b[1;33m**\u001b[0m\u001b[0mkwargs\u001b[0m\u001b[1;33m)\u001b[0m\u001b[1;33m\u001b[0m\u001b[1;33m\u001b[0m\u001b[0m\n\u001b[0m\u001b[0;32m   2204\u001b[0m \u001b[1;33m\u001b[0m\u001b[0m\n\u001b[0;32m   2205\u001b[0m         \u001b[1;32mif\u001b[0m \u001b[0mframeon\u001b[0m\u001b[1;33m:\u001b[0m\u001b[1;33m\u001b[0m\u001b[1;33m\u001b[0m\u001b[0m\n",
      "\u001b[1;32m~\\miniconda3\\lib\\site-packages\\matplotlib\\backend_bases.py\u001b[0m in \u001b[0;36mprint_figure\u001b[1;34m(self, filename, dpi, facecolor, edgecolor, orientation, format, bbox_inches, **kwargs)\u001b[0m\n\u001b[0;32m   2124\u001b[0m                     \u001b[0morientation\u001b[0m\u001b[1;33m=\u001b[0m\u001b[0morientation\u001b[0m\u001b[1;33m,\u001b[0m\u001b[1;33m\u001b[0m\u001b[1;33m\u001b[0m\u001b[0m\n\u001b[0;32m   2125\u001b[0m                     \u001b[0mbbox_inches_restore\u001b[0m\u001b[1;33m=\u001b[0m\u001b[0m_bbox_inches_restore\u001b[0m\u001b[1;33m,\u001b[0m\u001b[1;33m\u001b[0m\u001b[1;33m\u001b[0m\u001b[0m\n\u001b[1;32m-> 2126\u001b[1;33m                     **kwargs)\n\u001b[0m\u001b[0;32m   2127\u001b[0m             \u001b[1;32mfinally\u001b[0m\u001b[1;33m:\u001b[0m\u001b[1;33m\u001b[0m\u001b[1;33m\u001b[0m\u001b[0m\n\u001b[0;32m   2128\u001b[0m                 \u001b[1;32mif\u001b[0m \u001b[0mbbox_inches\u001b[0m \u001b[1;32mand\u001b[0m \u001b[0mrestore_bbox\u001b[0m\u001b[1;33m:\u001b[0m\u001b[1;33m\u001b[0m\u001b[1;33m\u001b[0m\u001b[0m\n",
      "\u001b[1;32m~\\miniconda3\\lib\\site-packages\\matplotlib\\backends\\backend_agg.py\u001b[0m in \u001b[0;36mprint_raw\u001b[1;34m(self, filename_or_obj, *args, **kwargs)\u001b[0m\n\u001b[0;32m    445\u001b[0m \u001b[1;33m\u001b[0m\u001b[0m\n\u001b[0;32m    446\u001b[0m     \u001b[1;32mdef\u001b[0m \u001b[0mprint_raw\u001b[0m\u001b[1;33m(\u001b[0m\u001b[0mself\u001b[0m\u001b[1;33m,\u001b[0m \u001b[0mfilename_or_obj\u001b[0m\u001b[1;33m,\u001b[0m \u001b[1;33m*\u001b[0m\u001b[0margs\u001b[0m\u001b[1;33m,\u001b[0m \u001b[1;33m**\u001b[0m\u001b[0mkwargs\u001b[0m\u001b[1;33m)\u001b[0m\u001b[1;33m:\u001b[0m\u001b[1;33m\u001b[0m\u001b[1;33m\u001b[0m\u001b[0m\n\u001b[1;32m--> 447\u001b[1;33m         \u001b[0mFigureCanvasAgg\u001b[0m\u001b[1;33m.\u001b[0m\u001b[0mdraw\u001b[0m\u001b[1;33m(\u001b[0m\u001b[0mself\u001b[0m\u001b[1;33m)\u001b[0m\u001b[1;33m\u001b[0m\u001b[1;33m\u001b[0m\u001b[0m\n\u001b[0m\u001b[0;32m    448\u001b[0m         \u001b[0mrenderer\u001b[0m \u001b[1;33m=\u001b[0m \u001b[0mself\u001b[0m\u001b[1;33m.\u001b[0m\u001b[0mget_renderer\u001b[0m\u001b[1;33m(\u001b[0m\u001b[1;33m)\u001b[0m\u001b[1;33m\u001b[0m\u001b[1;33m\u001b[0m\u001b[0m\n\u001b[0;32m    449\u001b[0m         \u001b[1;32mwith\u001b[0m \u001b[0mcbook\u001b[0m\u001b[1;33m.\u001b[0m\u001b[0mopen_file_cm\u001b[0m\u001b[1;33m(\u001b[0m\u001b[0mfilename_or_obj\u001b[0m\u001b[1;33m,\u001b[0m \u001b[1;34m\"wb\"\u001b[0m\u001b[1;33m)\u001b[0m \u001b[1;32mas\u001b[0m \u001b[0mfh\u001b[0m\u001b[1;33m:\u001b[0m\u001b[1;33m\u001b[0m\u001b[1;33m\u001b[0m\u001b[0m\n",
      "\u001b[1;32m~\\miniconda3\\lib\\site-packages\\matplotlib\\backends\\backend_agg.py\u001b[0m in \u001b[0;36mdraw\u001b[1;34m(self)\u001b[0m\n\u001b[0;32m    391\u001b[0m              (self.toolbar._wait_cursor_for_draw_cm() if self.toolbar\n\u001b[0;32m    392\u001b[0m               else nullcontext()):\n\u001b[1;32m--> 393\u001b[1;33m             \u001b[0mself\u001b[0m\u001b[1;33m.\u001b[0m\u001b[0mfigure\u001b[0m\u001b[1;33m.\u001b[0m\u001b[0mdraw\u001b[0m\u001b[1;33m(\u001b[0m\u001b[0mself\u001b[0m\u001b[1;33m.\u001b[0m\u001b[0mrenderer\u001b[0m\u001b[1;33m)\u001b[0m\u001b[1;33m\u001b[0m\u001b[1;33m\u001b[0m\u001b[0m\n\u001b[0m\u001b[0;32m    394\u001b[0m             \u001b[1;31m# A GUI class may be need to update a window using this draw, so\u001b[0m\u001b[1;33m\u001b[0m\u001b[1;33m\u001b[0m\u001b[1;33m\u001b[0m\u001b[0m\n\u001b[0;32m    395\u001b[0m             \u001b[1;31m# don't forget to call the superclass.\u001b[0m\u001b[1;33m\u001b[0m\u001b[1;33m\u001b[0m\u001b[1;33m\u001b[0m\u001b[0m\n",
      "\u001b[1;32m~\\miniconda3\\lib\\site-packages\\matplotlib\\artist.py\u001b[0m in \u001b[0;36mdraw_wrapper\u001b[1;34m(artist, renderer, *args, **kwargs)\u001b[0m\n\u001b[0;32m     36\u001b[0m                 \u001b[0mrenderer\u001b[0m\u001b[1;33m.\u001b[0m\u001b[0mstart_filter\u001b[0m\u001b[1;33m(\u001b[0m\u001b[1;33m)\u001b[0m\u001b[1;33m\u001b[0m\u001b[1;33m\u001b[0m\u001b[0m\n\u001b[0;32m     37\u001b[0m \u001b[1;33m\u001b[0m\u001b[0m\n\u001b[1;32m---> 38\u001b[1;33m             \u001b[1;32mreturn\u001b[0m \u001b[0mdraw\u001b[0m\u001b[1;33m(\u001b[0m\u001b[0martist\u001b[0m\u001b[1;33m,\u001b[0m \u001b[0mrenderer\u001b[0m\u001b[1;33m,\u001b[0m \u001b[1;33m*\u001b[0m\u001b[0margs\u001b[0m\u001b[1;33m,\u001b[0m \u001b[1;33m**\u001b[0m\u001b[0mkwargs\u001b[0m\u001b[1;33m)\u001b[0m\u001b[1;33m\u001b[0m\u001b[1;33m\u001b[0m\u001b[0m\n\u001b[0m\u001b[0;32m     39\u001b[0m         \u001b[1;32mfinally\u001b[0m\u001b[1;33m:\u001b[0m\u001b[1;33m\u001b[0m\u001b[1;33m\u001b[0m\u001b[0m\n\u001b[0;32m     40\u001b[0m             \u001b[1;32mif\u001b[0m \u001b[0martist\u001b[0m\u001b[1;33m.\u001b[0m\u001b[0mget_agg_filter\u001b[0m\u001b[1;33m(\u001b[0m\u001b[1;33m)\u001b[0m \u001b[1;32mis\u001b[0m \u001b[1;32mnot\u001b[0m \u001b[1;32mNone\u001b[0m\u001b[1;33m:\u001b[0m\u001b[1;33m\u001b[0m\u001b[1;33m\u001b[0m\u001b[0m\n",
      "\u001b[1;32m~\\miniconda3\\lib\\site-packages\\matplotlib\\figure.py\u001b[0m in \u001b[0;36mdraw\u001b[1;34m(self, renderer)\u001b[0m\n\u001b[0;32m   1734\u001b[0m             \u001b[0mself\u001b[0m\u001b[1;33m.\u001b[0m\u001b[0mpatch\u001b[0m\u001b[1;33m.\u001b[0m\u001b[0mdraw\u001b[0m\u001b[1;33m(\u001b[0m\u001b[0mrenderer\u001b[0m\u001b[1;33m)\u001b[0m\u001b[1;33m\u001b[0m\u001b[1;33m\u001b[0m\u001b[0m\n\u001b[0;32m   1735\u001b[0m             mimage._draw_list_compositing_images(\n\u001b[1;32m-> 1736\u001b[1;33m                 renderer, self, artists, self.suppressComposite)\n\u001b[0m\u001b[0;32m   1737\u001b[0m \u001b[1;33m\u001b[0m\u001b[0m\n\u001b[0;32m   1738\u001b[0m             \u001b[0mrenderer\u001b[0m\u001b[1;33m.\u001b[0m\u001b[0mclose_group\u001b[0m\u001b[1;33m(\u001b[0m\u001b[1;34m'figure'\u001b[0m\u001b[1;33m)\u001b[0m\u001b[1;33m\u001b[0m\u001b[1;33m\u001b[0m\u001b[0m\n",
      "\u001b[1;32m~\\miniconda3\\lib\\site-packages\\matplotlib\\image.py\u001b[0m in \u001b[0;36m_draw_list_compositing_images\u001b[1;34m(renderer, parent, artists, suppress_composite)\u001b[0m\n\u001b[0;32m    135\u001b[0m     \u001b[1;32mif\u001b[0m \u001b[0mnot_composite\u001b[0m \u001b[1;32mor\u001b[0m \u001b[1;32mnot\u001b[0m \u001b[0mhas_images\u001b[0m\u001b[1;33m:\u001b[0m\u001b[1;33m\u001b[0m\u001b[1;33m\u001b[0m\u001b[0m\n\u001b[0;32m    136\u001b[0m         \u001b[1;32mfor\u001b[0m \u001b[0ma\u001b[0m \u001b[1;32min\u001b[0m \u001b[0martists\u001b[0m\u001b[1;33m:\u001b[0m\u001b[1;33m\u001b[0m\u001b[1;33m\u001b[0m\u001b[0m\n\u001b[1;32m--> 137\u001b[1;33m             \u001b[0ma\u001b[0m\u001b[1;33m.\u001b[0m\u001b[0mdraw\u001b[0m\u001b[1;33m(\u001b[0m\u001b[0mrenderer\u001b[0m\u001b[1;33m)\u001b[0m\u001b[1;33m\u001b[0m\u001b[1;33m\u001b[0m\u001b[0m\n\u001b[0m\u001b[0;32m    138\u001b[0m     \u001b[1;32melse\u001b[0m\u001b[1;33m:\u001b[0m\u001b[1;33m\u001b[0m\u001b[1;33m\u001b[0m\u001b[0m\n\u001b[0;32m    139\u001b[0m         \u001b[1;31m# Composite any adjacent images together\u001b[0m\u001b[1;33m\u001b[0m\u001b[1;33m\u001b[0m\u001b[1;33m\u001b[0m\u001b[0m\n",
      "\u001b[1;32m~\\miniconda3\\lib\\site-packages\\matplotlib\\artist.py\u001b[0m in \u001b[0;36mdraw_wrapper\u001b[1;34m(artist, renderer, *args, **kwargs)\u001b[0m\n\u001b[0;32m     36\u001b[0m                 \u001b[0mrenderer\u001b[0m\u001b[1;33m.\u001b[0m\u001b[0mstart_filter\u001b[0m\u001b[1;33m(\u001b[0m\u001b[1;33m)\u001b[0m\u001b[1;33m\u001b[0m\u001b[1;33m\u001b[0m\u001b[0m\n\u001b[0;32m     37\u001b[0m \u001b[1;33m\u001b[0m\u001b[0m\n\u001b[1;32m---> 38\u001b[1;33m             \u001b[1;32mreturn\u001b[0m \u001b[0mdraw\u001b[0m\u001b[1;33m(\u001b[0m\u001b[0martist\u001b[0m\u001b[1;33m,\u001b[0m \u001b[0mrenderer\u001b[0m\u001b[1;33m,\u001b[0m \u001b[1;33m*\u001b[0m\u001b[0margs\u001b[0m\u001b[1;33m,\u001b[0m \u001b[1;33m**\u001b[0m\u001b[0mkwargs\u001b[0m\u001b[1;33m)\u001b[0m\u001b[1;33m\u001b[0m\u001b[1;33m\u001b[0m\u001b[0m\n\u001b[0m\u001b[0;32m     39\u001b[0m         \u001b[1;32mfinally\u001b[0m\u001b[1;33m:\u001b[0m\u001b[1;33m\u001b[0m\u001b[1;33m\u001b[0m\u001b[0m\n\u001b[0;32m     40\u001b[0m             \u001b[1;32mif\u001b[0m \u001b[0martist\u001b[0m\u001b[1;33m.\u001b[0m\u001b[0mget_agg_filter\u001b[0m\u001b[1;33m(\u001b[0m\u001b[1;33m)\u001b[0m \u001b[1;32mis\u001b[0m \u001b[1;32mnot\u001b[0m \u001b[1;32mNone\u001b[0m\u001b[1;33m:\u001b[0m\u001b[1;33m\u001b[0m\u001b[1;33m\u001b[0m\u001b[0m\n",
      "\u001b[1;32m~\\miniconda3\\lib\\site-packages\\matplotlib\\axes\\_base.py\u001b[0m in \u001b[0;36mdraw\u001b[1;34m(self, renderer, inframe)\u001b[0m\n\u001b[0;32m   2628\u001b[0m             \u001b[0mrenderer\u001b[0m\u001b[1;33m.\u001b[0m\u001b[0mstop_rasterizing\u001b[0m\u001b[1;33m(\u001b[0m\u001b[1;33m)\u001b[0m\u001b[1;33m\u001b[0m\u001b[1;33m\u001b[0m\u001b[0m\n\u001b[0;32m   2629\u001b[0m \u001b[1;33m\u001b[0m\u001b[0m\n\u001b[1;32m-> 2630\u001b[1;33m         \u001b[0mmimage\u001b[0m\u001b[1;33m.\u001b[0m\u001b[0m_draw_list_compositing_images\u001b[0m\u001b[1;33m(\u001b[0m\u001b[0mrenderer\u001b[0m\u001b[1;33m,\u001b[0m \u001b[0mself\u001b[0m\u001b[1;33m,\u001b[0m \u001b[0martists\u001b[0m\u001b[1;33m)\u001b[0m\u001b[1;33m\u001b[0m\u001b[1;33m\u001b[0m\u001b[0m\n\u001b[0m\u001b[0;32m   2631\u001b[0m \u001b[1;33m\u001b[0m\u001b[0m\n\u001b[0;32m   2632\u001b[0m         \u001b[0mrenderer\u001b[0m\u001b[1;33m.\u001b[0m\u001b[0mclose_group\u001b[0m\u001b[1;33m(\u001b[0m\u001b[1;34m'axes'\u001b[0m\u001b[1;33m)\u001b[0m\u001b[1;33m\u001b[0m\u001b[1;33m\u001b[0m\u001b[0m\n",
      "\u001b[1;32m~\\miniconda3\\lib\\site-packages\\matplotlib\\image.py\u001b[0m in \u001b[0;36m_draw_list_compositing_images\u001b[1;34m(renderer, parent, artists, suppress_composite)\u001b[0m\n\u001b[0;32m    135\u001b[0m     \u001b[1;32mif\u001b[0m \u001b[0mnot_composite\u001b[0m \u001b[1;32mor\u001b[0m \u001b[1;32mnot\u001b[0m \u001b[0mhas_images\u001b[0m\u001b[1;33m:\u001b[0m\u001b[1;33m\u001b[0m\u001b[1;33m\u001b[0m\u001b[0m\n\u001b[0;32m    136\u001b[0m         \u001b[1;32mfor\u001b[0m \u001b[0ma\u001b[0m \u001b[1;32min\u001b[0m \u001b[0martists\u001b[0m\u001b[1;33m:\u001b[0m\u001b[1;33m\u001b[0m\u001b[1;33m\u001b[0m\u001b[0m\n\u001b[1;32m--> 137\u001b[1;33m             \u001b[0ma\u001b[0m\u001b[1;33m.\u001b[0m\u001b[0mdraw\u001b[0m\u001b[1;33m(\u001b[0m\u001b[0mrenderer\u001b[0m\u001b[1;33m)\u001b[0m\u001b[1;33m\u001b[0m\u001b[1;33m\u001b[0m\u001b[0m\n\u001b[0m\u001b[0;32m    138\u001b[0m     \u001b[1;32melse\u001b[0m\u001b[1;33m:\u001b[0m\u001b[1;33m\u001b[0m\u001b[1;33m\u001b[0m\u001b[0m\n\u001b[0;32m    139\u001b[0m         \u001b[1;31m# Composite any adjacent images together\u001b[0m\u001b[1;33m\u001b[0m\u001b[1;33m\u001b[0m\u001b[1;33m\u001b[0m\u001b[0m\n",
      "\u001b[1;32m~\\miniconda3\\lib\\site-packages\\matplotlib\\artist.py\u001b[0m in \u001b[0;36mdraw_wrapper\u001b[1;34m(artist, renderer, *args, **kwargs)\u001b[0m\n\u001b[0;32m     36\u001b[0m                 \u001b[0mrenderer\u001b[0m\u001b[1;33m.\u001b[0m\u001b[0mstart_filter\u001b[0m\u001b[1;33m(\u001b[0m\u001b[1;33m)\u001b[0m\u001b[1;33m\u001b[0m\u001b[1;33m\u001b[0m\u001b[0m\n\u001b[0;32m     37\u001b[0m \u001b[1;33m\u001b[0m\u001b[0m\n\u001b[1;32m---> 38\u001b[1;33m             \u001b[1;32mreturn\u001b[0m \u001b[0mdraw\u001b[0m\u001b[1;33m(\u001b[0m\u001b[0martist\u001b[0m\u001b[1;33m,\u001b[0m \u001b[0mrenderer\u001b[0m\u001b[1;33m,\u001b[0m \u001b[1;33m*\u001b[0m\u001b[0margs\u001b[0m\u001b[1;33m,\u001b[0m \u001b[1;33m**\u001b[0m\u001b[0mkwargs\u001b[0m\u001b[1;33m)\u001b[0m\u001b[1;33m\u001b[0m\u001b[1;33m\u001b[0m\u001b[0m\n\u001b[0m\u001b[0;32m     39\u001b[0m         \u001b[1;32mfinally\u001b[0m\u001b[1;33m:\u001b[0m\u001b[1;33m\u001b[0m\u001b[1;33m\u001b[0m\u001b[0m\n\u001b[0;32m     40\u001b[0m             \u001b[1;32mif\u001b[0m \u001b[0martist\u001b[0m\u001b[1;33m.\u001b[0m\u001b[0mget_agg_filter\u001b[0m\u001b[1;33m(\u001b[0m\u001b[1;33m)\u001b[0m \u001b[1;32mis\u001b[0m \u001b[1;32mnot\u001b[0m \u001b[1;32mNone\u001b[0m\u001b[1;33m:\u001b[0m\u001b[1;33m\u001b[0m\u001b[1;33m\u001b[0m\u001b[0m\n",
      "\u001b[1;32m~\\miniconda3\\lib\\site-packages\\matplotlib\\image.py\u001b[0m in \u001b[0;36mdraw\u001b[1;34m(self, renderer, *args, **kwargs)\u001b[0m\n\u001b[0;32m    624\u001b[0m         \u001b[1;32melse\u001b[0m\u001b[1;33m:\u001b[0m\u001b[1;33m\u001b[0m\u001b[1;33m\u001b[0m\u001b[0m\n\u001b[0;32m    625\u001b[0m             im, l, b, trans = self.make_image(\n\u001b[1;32m--> 626\u001b[1;33m                 renderer, renderer.get_image_magnification())\n\u001b[0m\u001b[0;32m    627\u001b[0m             \u001b[1;32mif\u001b[0m \u001b[0mim\u001b[0m \u001b[1;32mis\u001b[0m \u001b[1;32mnot\u001b[0m \u001b[1;32mNone\u001b[0m\u001b[1;33m:\u001b[0m\u001b[1;33m\u001b[0m\u001b[1;33m\u001b[0m\u001b[0m\n\u001b[0;32m    628\u001b[0m                 \u001b[0mrenderer\u001b[0m\u001b[1;33m.\u001b[0m\u001b[0mdraw_image\u001b[0m\u001b[1;33m(\u001b[0m\u001b[0mgc\u001b[0m\u001b[1;33m,\u001b[0m \u001b[0ml\u001b[0m\u001b[1;33m,\u001b[0m \u001b[0mb\u001b[0m\u001b[1;33m,\u001b[0m \u001b[0mim\u001b[0m\u001b[1;33m)\u001b[0m\u001b[1;33m\u001b[0m\u001b[1;33m\u001b[0m\u001b[0m\n",
      "\u001b[1;32m~\\miniconda3\\lib\\site-packages\\matplotlib\\image.py\u001b[0m in \u001b[0;36mmake_image\u001b[1;34m(self, renderer, magnification, unsampled)\u001b[0m\n\u001b[0;32m    915\u001b[0m             \u001b[0mself\u001b[0m\u001b[1;33m.\u001b[0m\u001b[0m_A\u001b[0m\u001b[1;33m,\u001b[0m \u001b[0mbbox\u001b[0m\u001b[1;33m,\u001b[0m \u001b[0mtransformed_bbox\u001b[0m\u001b[1;33m,\u001b[0m\u001b[1;33m\u001b[0m\u001b[1;33m\u001b[0m\u001b[0m\n\u001b[0;32m    916\u001b[0m             \u001b[0mself\u001b[0m\u001b[1;33m.\u001b[0m\u001b[0mget_clip_box\u001b[0m\u001b[1;33m(\u001b[0m\u001b[1;33m)\u001b[0m \u001b[1;32mor\u001b[0m \u001b[0mself\u001b[0m\u001b[1;33m.\u001b[0m\u001b[0maxes\u001b[0m\u001b[1;33m.\u001b[0m\u001b[0mbbox\u001b[0m\u001b[1;33m,\u001b[0m\u001b[1;33m\u001b[0m\u001b[1;33m\u001b[0m\u001b[0m\n\u001b[1;32m--> 917\u001b[1;33m             magnification, unsampled=unsampled)\n\u001b[0m\u001b[0;32m    918\u001b[0m \u001b[1;33m\u001b[0m\u001b[0m\n\u001b[0;32m    919\u001b[0m     \u001b[1;32mdef\u001b[0m \u001b[0m_check_unsampled_image\u001b[0m\u001b[1;33m(\u001b[0m\u001b[0mself\u001b[0m\u001b[1;33m,\u001b[0m \u001b[0mrenderer\u001b[0m\u001b[1;33m)\u001b[0m\u001b[1;33m:\u001b[0m\u001b[1;33m\u001b[0m\u001b[1;33m\u001b[0m\u001b[0m\n",
      "\u001b[1;32m~\\miniconda3\\lib\\site-packages\\matplotlib\\image.py\u001b[0m in \u001b[0;36m_make_image\u001b[1;34m(self, A, in_bbox, out_bbox, clip_bbox, magnification, unsampled, round_to_pixel_border)\u001b[0m\n\u001b[0;32m    476\u001b[0m                 \u001b[0mA_scaled\u001b[0m \u001b[1;33m+=\u001b[0m \u001b[1;36m0.1\u001b[0m\u001b[1;33m\u001b[0m\u001b[1;33m\u001b[0m\u001b[0m\n\u001b[0;32m    477\u001b[0m                 \u001b[1;31m# resample the input data to the correct resolution and shape\u001b[0m\u001b[1;33m\u001b[0m\u001b[1;33m\u001b[0m\u001b[1;33m\u001b[0m\u001b[0m\n\u001b[1;32m--> 478\u001b[1;33m                 \u001b[0mA_resampled\u001b[0m \u001b[1;33m=\u001b[0m \u001b[0m_resample\u001b[0m\u001b[1;33m(\u001b[0m\u001b[0mself\u001b[0m\u001b[1;33m,\u001b[0m \u001b[0mA_scaled\u001b[0m\u001b[1;33m,\u001b[0m \u001b[0mout_shape\u001b[0m\u001b[1;33m,\u001b[0m \u001b[0mt\u001b[0m\u001b[1;33m)\u001b[0m\u001b[1;33m\u001b[0m\u001b[1;33m\u001b[0m\u001b[0m\n\u001b[0m\u001b[0;32m    479\u001b[0m                 \u001b[1;31m# done with A_scaled now, remove from namespace to be sure!\u001b[0m\u001b[1;33m\u001b[0m\u001b[1;33m\u001b[0m\u001b[1;33m\u001b[0m\u001b[0m\n\u001b[0;32m    480\u001b[0m                 \u001b[1;32mdel\u001b[0m \u001b[0mA_scaled\u001b[0m\u001b[1;33m\u001b[0m\u001b[1;33m\u001b[0m\u001b[0m\n",
      "\u001b[1;32m~\\miniconda3\\lib\\site-packages\\matplotlib\\image.py\u001b[0m in \u001b[0;36m_resample\u001b[1;34m(image_obj, data, out_shape, transform, resample, alpha)\u001b[0m\n\u001b[0;32m    200\u001b[0m                     \u001b[0malpha\u001b[0m\u001b[1;33m,\u001b[0m\u001b[1;33m\u001b[0m\u001b[1;33m\u001b[0m\u001b[0m\n\u001b[0;32m    201\u001b[0m                     \u001b[0mimage_obj\u001b[0m\u001b[1;33m.\u001b[0m\u001b[0mget_filternorm\u001b[0m\u001b[1;33m(\u001b[0m\u001b[1;33m)\u001b[0m\u001b[1;33m,\u001b[0m\u001b[1;33m\u001b[0m\u001b[1;33m\u001b[0m\u001b[0m\n\u001b[1;32m--> 202\u001b[1;33m                     image_obj.get_filterrad())\n\u001b[0m\u001b[0;32m    203\u001b[0m     \u001b[1;32mreturn\u001b[0m \u001b[0mout\u001b[0m\u001b[1;33m\u001b[0m\u001b[1;33m\u001b[0m\u001b[0m\n\u001b[0;32m    204\u001b[0m \u001b[1;33m\u001b[0m\u001b[0m\n",
      "\u001b[1;31mKeyboardInterrupt\u001b[0m: "
     ]
    }
   ],
   "source": [
    "fig = plt.figure(dpi=100)\n",
    "ax = plt.subplot(1,1,1)\n",
    "anim = animation.FuncAnimation(fig, update, frames=len(Cs), interval=100)\n",
    "plt.close()\n",
    "\n",
    "anim"
   ]
  },
  {
   "cell_type": "markdown",
   "id": "promotional-mortality",
   "metadata": {},
   "source": [
    "## Avanzado"
   ]
  },
  {
   "cell_type": "markdown",
   "id": "independent-charge",
   "metadata": {},
   "source": [
    "Llevas varios años programando y conoces algunos trucos para hacer tu código más eficiente, por ejemplo ganando velocidad a cambio de consumir más memoria. En el caso del juego de la vida podemos pre-calcular una matriz que nos de, para cada célula, la posición de sus vecinos. Como esto no va a cambiar, podemos guardar el resultado y re-utilizarlo en nuestro bucle. Una vez tenemos esta matriz de vecinos, podemos calcular cuántos de ellos están vivos multiplicando esta matriz por el vector que representa nuestro mundo.\n",
    "\n",
    "![](gol4.jpg)\n",
    "\n",
    "Lo primero que necesitamos es representar nuestro mundo como un *array*, en vez de una matriz. A la hora de visualizarlo, simplemente haremos un *reshape*."
   ]
  },
  {
   "cell_type": "code",
   "execution_count": null,
   "id": "neural-blast",
   "metadata": {
    "ExecuteTime": {
     "end_time": "2021-04-28T12:26:11.311571Z",
     "start_time": "2021-04-28T12:24:57.425Z"
    }
   },
   "outputs": [],
   "source": [
    "import numpy as np\n",
    "\n",
    "def init(Nx, Ny):\n",
    "    C = np.random.randint(0, 2, (Ny*Nx,1))\n",
    "    #C = np.ones((Ny*Nx,))\n",
    "    return C\n",
    "\n",
    "Ny, Nx = 3, 3\n",
    "init(Ny, Nx)"
   ]
  },
  {
   "cell_type": "code",
   "execution_count": null,
   "id": "alike-invasion",
   "metadata": {
    "ExecuteTime": {
     "end_time": "2021-04-28T12:26:11.312573Z",
     "start_time": "2021-04-28T12:24:57.605Z"
    }
   },
   "outputs": [],
   "source": [
    "init(Ny, Nx).reshape(Ny, Nx)"
   ]
  },
  {
   "cell_type": "markdown",
   "id": "accessible-joshua",
   "metadata": {},
   "source": [
    "La matriz de vecinos tendrá tantas filas y columnas como células en nuestro mundo. En cada fila encontraremos los vecinos de cada célula, con un 1 indicando la posición de la célula vecina."
   ]
  },
  {
   "cell_type": "code",
   "execution_count": null,
   "id": "arbitrary-japan",
   "metadata": {
    "ExecuteTime": {
     "end_time": "2021-04-28T12:26:11.313572Z",
     "start_time": "2021-04-28T12:24:58.024Z"
    },
    "code_folding": []
   },
   "outputs": [],
   "source": [
    "def vecinos(Nx, Ny):\n",
    "    V = np.zeros((Ny*Nx, Ny*Nx))\n",
    "    for j in range(Ny*Nx):\n",
    "        if j > 0 and j % Nx:\n",
    "            V[j][j-1] = 1\n",
    "        if j < Ny*Nx - 1 and (j+1) % Nx:\n",
    "            V[j][j+1] = 1\n",
    "        if j >= Nx:\n",
    "            V[j][j-Nx] = 1\n",
    "            if (j+1) % Nx:\n",
    "                V[j][j-Nx+1] = 1\n",
    "            if j % Nx:\n",
    "                V[j][j-Nx-1] = 1\n",
    "        if j <= (Ny-1)*Nx - 1:\n",
    "            V[j][j+Nx] = 1\n",
    "            if j % Nx:\n",
    "                V[j][j+Nx-1] = 1\n",
    "            if (j+1) % Nx:\n",
    "                V[j][j+Nx+1] = 1\n",
    "    return V\n",
    "\n",
    "Nx, Ny = 3, 3\n",
    "vecinos(Nx, Ny)"
   ]
  },
  {
   "cell_type": "code",
   "execution_count": null,
   "id": "searching-mountain",
   "metadata": {
    "ExecuteTime": {
     "end_time": "2021-04-28T12:26:11.314572Z",
     "start_time": "2021-04-28T12:24:58.327Z"
    }
   },
   "outputs": [],
   "source": [
    "C = init(Nx, Ny)\n",
    "V = vecinos(Nx, Ny)\n",
    "\n",
    "# multiplicando V por C, calcularemos el número de vecinos vivos de cada célula\n",
    "N = V.dot(C)\n",
    "N.reshape(Ny, Nx)"
   ]
  },
  {
   "cell_type": "code",
   "execution_count": null,
   "id": "binding-border",
   "metadata": {
    "ExecuteTime": {
     "end_time": "2021-04-28T12:26:11.315617Z",
     "start_time": "2021-04-28T12:24:58.500Z"
    }
   },
   "outputs": [],
   "source": [
    "C.reshape(Ny, Nx)"
   ]
  },
  {
   "cell_type": "markdown",
   "id": "polished-louisiana",
   "metadata": {},
   "source": [
    "> Para asegurarte que el resultado es correcto, puedes inicializar un mundo con todas las células vivas. El resultado de `V.dot(C)` deberá dar el número de vecinos por cada célula, que será 8 siempre excepto en los casos especiales (3 en las esquinas y 5 en las primeras y últimas filas y columnas)."
   ]
  },
  {
   "cell_type": "markdown",
   "id": "endless-capacity",
   "metadata": {},
   "source": [
    "Ahora nuestro bucle se simplifica mucho. Podemos aprovechar la funcionalidad que nos ofrece `numpy` para el indexado a la hora de asignar los nuevos estados.  "
   ]
  },
  {
   "cell_type": "code",
   "execution_count": null,
   "id": "coastal-necklace",
   "metadata": {
    "ExecuteTime": {
     "end_time": "2021-04-28T12:26:11.315617Z",
     "start_time": "2021-04-28T12:24:59.104Z"
    }
   },
   "outputs": [],
   "source": [
    "def gol_np(C, V, MAX_IT):\n",
    "    count = 0\n",
    "    Cs = [C]\n",
    "    while count < MAX_IT:\n",
    "        # nuevo mundo a cero\n",
    "        C0 = np.zeros(C.shape)\n",
    "        # calcular vecinos vivos\n",
    "        N = V.dot(C)\n",
    "        # aplicamos regla 1\n",
    "        C0[(C == 0) & (N == 3)] = 1\n",
    "        # aplicamos regla 2\n",
    "        C0[(C == 1) & ((N == 2) | (N == 3))] = 1\n",
    "        # guardamos resultado para visualización\n",
    "        Cs.append(C0)\n",
    "        C = C0\n",
    "        count += 1\n",
    "    return Cs"
   ]
  },
  {
   "cell_type": "code",
   "execution_count": null,
   "id": "ethical-sally",
   "metadata": {
    "ExecuteTime": {
     "end_time": "2021-04-28T12:26:11.316572Z",
     "start_time": "2021-04-28T12:24:59.673Z"
    }
   },
   "outputs": [],
   "source": [
    "Nx, Ny = 200, 200\n",
    "\n",
    "C = init(Nx, Ny)\n",
    "V = vecinos(Nx, Ny)"
   ]
  },
  {
   "cell_type": "code",
   "execution_count": null,
   "id": "incorrect-charleston",
   "metadata": {
    "ExecuteTime": {
     "end_time": "2021-04-28T12:26:11.317572Z",
     "start_time": "2021-04-28T12:24:59.827Z"
    }
   },
   "outputs": [],
   "source": [
    "%time Cs = gol_np(C, V, 200)"
   ]
  },
  {
   "cell_type": "code",
   "execution_count": null,
   "id": "accessible-spell",
   "metadata": {
    "ExecuteTime": {
     "end_time": "2021-04-28T12:26:11.318572Z",
     "start_time": "2021-04-28T12:24:59.970Z"
    }
   },
   "outputs": [],
   "source": [
    "def update(i):\n",
    "    ax.clear()\n",
    "    ax.imshow(Cs[i].reshape((Ny,Nx)), cmap=\"gray\")\n",
    "    ax.axis('off')\n",
    "    return ax"
   ]
  },
  {
   "cell_type": "code",
   "execution_count": null,
   "id": "federal-lunch",
   "metadata": {
    "ExecuteTime": {
     "end_time": "2021-04-28T12:26:11.319572Z",
     "start_time": "2021-04-28T12:25:00.150Z"
    }
   },
   "outputs": [],
   "source": [
    "fig = plt.figure(dpi=100)\n",
    "ax = plt.subplot(1,1,1)\n",
    "anim = animation.FuncAnimation(fig, update, frames=len(Cs), interval=100)\n",
    "plt.close()\n",
    "\n",
    "anim"
   ]
  },
  {
   "cell_type": "markdown",
   "id": "cordless-breast",
   "metadata": {},
   "source": [
    "Nuestra implementación es más inteligente y simple, sin embargo el gran tamaño de las matrices con las que trabajamos (que tiene dimensiones $N_x x N_x x N_y x N_y$) requiere de más tiempo para el cómputo. Tras un tiempo investigando como resolver el problema, llegas a la conclusión de que la mayor parte de los valores en la matriz de vecinos son 0, por lo que no solo estamos guardando muchísima información innecesaria si no que además nos podríamos ahorrar muchas operaciones, ya que sabemos que cualquier valor multiplicado por 0 es 0. Podemos conseguir nuestro objetivo si nuestra matriz de vecinos es de tipo *sparse*.\n",
    "\n",
    "![](gol5.jpg)"
   ]
  },
  {
   "cell_type": "code",
   "execution_count": null,
   "id": "eastern-manner",
   "metadata": {
    "ExecuteTime": {
     "end_time": "2021-04-28T12:26:11.320572Z",
     "start_time": "2021-04-28T12:25:01.015Z"
    }
   },
   "outputs": [],
   "source": [
    "from scipy.sparse import csr_matrix\n",
    "\n",
    "def vecinos_sp(Nx, Ny):\n",
    "    data, indices, indptr = [], [], [0]\n",
    "    for i in range(Ny*Nx):\n",
    "        if i > 0 and i % Nx:\n",
    "            data.append(1)\n",
    "            indices.append(i-1)\n",
    "        if i < Ny*Nx - 1 and (i+1) % Nx:\n",
    "            data.append(1)\n",
    "            indices.append(i+1)\n",
    "        if i >= Nx:\n",
    "            data.append(1)\n",
    "            indices.append(i-Nx)\n",
    "            if (i+1) % Nx:\n",
    "                data.append(1)\n",
    "                indices.append(i-Nx+1)\n",
    "            if i % Nx:\n",
    "                data.append(1)\n",
    "                indices.append(i-Nx-1)\n",
    "        if i <= (Ny-1)*Nx - 1:\n",
    "            data.append(1)\n",
    "            indices.append(i+Nx)\n",
    "            if i % Nx:\n",
    "                data.append(1)\n",
    "                indices.append(i+Nx-1)\n",
    "            if (i+1) % Nx:\n",
    "                data.append(1)\n",
    "                indices.append(i+Nx+1)\n",
    "        indptr.append(len(indices))\n",
    "    return csr_matrix((data, indices, indptr))\n",
    "\n",
    "Nx, Ny = 3, 3\n",
    "vecinos_sp(Nx, Ny).toarray()"
   ]
  },
  {
   "cell_type": "code",
   "execution_count": null,
   "id": "asian-metropolitan",
   "metadata": {
    "ExecuteTime": {
     "end_time": "2021-04-28T12:26:11.321572Z",
     "start_time": "2021-04-28T12:25:01.120Z"
    }
   },
   "outputs": [],
   "source": [
    "Nx, Ny = 200, 200\n",
    "\n",
    "C = init(Nx, Ny)\n",
    "V = vecinos_sp(Nx, Ny)"
   ]
  },
  {
   "cell_type": "code",
   "execution_count": null,
   "id": "recorded-boards",
   "metadata": {
    "ExecuteTime": {
     "end_time": "2021-04-28T12:26:11.321572Z",
     "start_time": "2021-04-28T12:25:02.220Z"
    }
   },
   "outputs": [],
   "source": [
    "%time Cs = gol_np(C, V, 200)"
   ]
  },
  {
   "cell_type": "code",
   "execution_count": null,
   "id": "british-discrimination",
   "metadata": {
    "ExecuteTime": {
     "end_time": "2021-04-28T12:26:11.322572Z",
     "start_time": "2021-04-28T12:25:02.368Z"
    }
   },
   "outputs": [],
   "source": [
    "fig = plt.figure(dpi=100)\n",
    "ax = plt.subplot(1,1,1)\n",
    "anim = animation.FuncAnimation(fig, update, frames=len(Cs), interval=100)\n",
    "plt.close()\n",
    "\n",
    "anim"
   ]
  },
  {
   "cell_type": "code",
   "execution_count": null,
   "id": "declared-palestinian",
   "metadata": {
    "ExecuteTime": {
     "end_time": "2021-04-28T12:26:11.323572Z",
     "start_time": "2021-04-28T12:25:02.523Z"
    }
   },
   "outputs": [],
   "source": [
    "Nx, Ny = 1000, 1000\n",
    "\n",
    "C = init(Nx, Ny)\n",
    "V = vecinos_sp(Nx, Ny)"
   ]
  },
  {
   "cell_type": "code",
   "execution_count": null,
   "id": "treated-samoa",
   "metadata": {
    "ExecuteTime": {
     "end_time": "2021-04-28T12:26:11.324572Z",
     "start_time": "2021-04-28T12:25:05.298Z"
    }
   },
   "outputs": [],
   "source": [
    "%time Cs = gol_np(C, V, 100)"
   ]
  },
  {
   "cell_type": "code",
   "execution_count": null,
   "id": "widespread-belfast",
   "metadata": {
    "ExecuteTime": {
     "end_time": "2021-04-28T12:26:11.324572Z",
     "start_time": "2021-04-28T12:25:05.477Z"
    }
   },
   "outputs": [],
   "source": [
    "fig = plt.figure(dpi=100)\n",
    "ax = plt.subplot(1,1,1)\n",
    "anim = animation.FuncAnimation(fig, update, frames=len(Cs), interval=100)\n",
    "plt.close()\n",
    "\n",
    "anim"
   ]
  },
  {
   "cell_type": "markdown",
   "id": "documented-barrel",
   "metadata": {},
   "source": [
    "## Bonus: Computación paralela"
   ]
  },
  {
   "cell_type": "markdown",
   "id": "convinced-prayer",
   "metadata": {},
   "source": [
    "Podemos ir un paso más allá introduciendo la computación en paralelo. Para ello podemos dividir nuestra matriz y vectores y llevar a cabo las operaciones necesarias en las diferentes partes en diferentes núcleos o hilos de una misma CPU, múltiples CPUs e incluso GPUs. Dependiendo del tamaños de las matrices y la cantidad de datos que haya que comunicar entre procesos, podremos conseguir más o menos *speedup*. Puedes intentar implementar por ti mismo tal funcionalidad, aunque `numpy` ya lo hace de manera nativa. Para llevar a cabo estas operaciones en una GPU puedes usar librerías como `Pytorch` o `Numba`. Sin embargo, para el caso del juego de la vida la mayor eficiencia se obtiene con matrices *sparse* y este tipo de operaciones no tienen un gran soporte en GPU (al menos de momento, parece que en el futuro esto cambiará).\n",
    "\n",
    "![](gol6.jpg)"
   ]
  },
  {
   "cell_type": "markdown",
   "id": "disturbed-nepal",
   "metadata": {},
   "source": [
    "## Resumen"
   ]
  },
  {
   "cell_type": "markdown",
   "id": "distinguished-syntax",
   "metadata": {},
   "source": [
    "En este post hemos introducido el programa conocido como **juego de la vida**, simple pero a la vez muy útil para asentar conceptos básicos de programación. Hemos desarrollado este programa en varios niveles de dificultad y experiencia, desde cómo lo haría un programador que está aprendiendo hasta un experto en búsqueda de la máxima eficiencia. Durante el proceso hemos aprendido sobre estructuras de datos básicas en Python y operadores como bucles y condicionales. Hemos visto que podemos mejorar el algoritmo principal introduciendo matrices con `numpy` y como el formato de matriz *sparse* nos ayuda mucho ya que no necesitaremos malgastar memoria y cómputo con los valores que sean 0. Estos mismos conceptos se aplican en tareas más complicadas como el diseño de algoritmos de inteligencia artificial o la simulación de fluidos, en las que se usan los superordenadores más potentes del mundo y en las cuales la eficiencia es primordial."
   ]
  }
 ],
 "metadata": {
  "kernelspec": {
   "display_name": "Python 3",
   "language": "python",
   "name": "python3"
  },
  "language_info": {
   "codemirror_mode": {
    "name": "ipython",
    "version": 3
   },
   "file_extension": ".py",
   "mimetype": "text/x-python",
   "name": "python",
   "nbconvert_exporter": "python",
   "pygments_lexer": "ipython3",
   "version": "3.7.6"
  },
  "toc": {
   "base_numbering": 1,
   "nav_menu": {},
   "number_sections": true,
   "sideBar": true,
   "skip_h1_title": false,
   "title_cell": "Table of Contents",
   "title_sidebar": "Contents",
   "toc_cell": false,
   "toc_position": {
    "height": "calc(100% - 180px)",
    "left": "10px",
    "top": "150px",
    "width": "354.492px"
   },
   "toc_section_display": true,
   "toc_window_display": false
  }
 },
 "nbformat": 4,
 "nbformat_minor": 5
}
