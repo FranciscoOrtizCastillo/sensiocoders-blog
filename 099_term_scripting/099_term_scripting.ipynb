{
 "cells": [
  {
   "cell_type": "markdown",
   "metadata": {},
   "source": [
    "[![Open In Colab](https://colab.research.google.com/assets/colab-badge.svg)](https://colab.research.google.com/github/juansensio/blog/blob/master/099_term_scripting/099_term_scripting.ipynb)"
   ]
  },
  {
   "cell_type": "markdown",
   "metadata": {},
   "source": [
    "# La Terminal - *Scripting*"
   ]
  },
  {
   "cell_type": "markdown",
   "metadata": {},
   "source": [
    "Seguimos nuestro viaje aprendiendo sobre la Terminal, y en esta ocasión vamos a adentrarnos en el mundo del `scripting`. Esto nos va a permitir usar la terminal, y en especial *bash*, como un lenguaje de programación para la automatización de tareas repetitivas. !Vamos a ello!"
   ]
  },
  {
   "cell_type": "markdown",
   "metadata": {},
   "source": [
    "## Variables"
   ]
  },
  {
   "cell_type": "markdown",
   "metadata": {},
   "source": [
    "Como vimos en el post anterior, las variables de entorno nos ayudan a definir variables de manera muy similar a como la hacemos en lenguajes de programación, que pueden ser usadas por la terminal. Por defecto al abrir una terminal tendremos ya definidas algunas variables como los directorios `PATH` y `HOME`. Sin embargo, nos será de mucha utilidad ser capaces de definir nuestras propias variables. Para ellos usaremos el signo `=` podemos crear variables de manera sencilla. Para usar una variable, necesitaremos utilizar el prefijo `$`. \n",
    "\n",
    "![var1](pics/var1.png)\n",
    "\n",
    "> Es importante recalcar que en la terminal el espacio en blanco tiene importancia, ya que se usa para separar los argumentos. Es por esto que `x = hola` no funcionará. Si quieres usar una variable con espacios en blanco, recuerda usar las comillas (por ejemplo `x=\"hola que tal\"`).\n",
    "\n",
    "Es posible asignar la salida de un comando a una variable de la siguiente manera.\n",
    "\n",
    "![var1](pics/var2.png)\n"
   ]
  },
  {
   "cell_type": "markdown",
   "metadata": {},
   "source": [
    "## Funciones"
   ]
  },
  {
   "cell_type": "markdown",
   "metadata": {},
   "source": [
    "De la misma manera que podemos crear variables, también podremos definir funciones que agrupen un conjunto de operaciones que se ejecutarán de manera secuencial simplemente invocando la función desde la terminal. El siguiente ejemplo de función creará un nuevo directorio y entrará en él, permitiéndonos agrupar dos comandos (`mkdir` y `cd`) en unos solo gracias a la función.\n",
    "\n",
    "```\n",
    "mcd () {\n",
    "\tmkdir -p \"$1\"\n",
    "\tcd \"$1\"\n",
    "}\n",
    "```\n",
    "\n",
    "![func1](pics/func1.png)\n",
    "\n",
    "Para definir una función empieza por el nombre (en este caso `mcd`) espacio y paréntesis, espacio y `{`. Al dar a `ENTER` la terminal reconocerá que estás escribiendo una función y te permitirá añadir las nuevas líneas, con cada operación por separado. Para terminar, usa `}`. Como puedes ver, podemos acceder a los diferentes argumentos pasados a la función mediante las variables \"$1\", \"$2\", etc."
   ]
  },
  {
   "cell_type": "markdown",
   "metadata": {},
   "source": [
    "## *Scripts*\n",
    "\n",
    "Si bien podemos definir nuestras variables y funciones directamente en la terminal, es mucho más cómodo y común tenerlas en archivos de texto, o *scripts* que podremos ejecutar desde la terminal. \n",
    "\n",
    "![script1](pics/script1.png)\n",
    "\n",
    "> El comando `source` cargará el contenido del script en la terminal para poder ejecutar la función. \n",
    "\n",
    "> Es posible definir múltiples comandos en una sola linea usando el separador `;`.\n",
    "\n",
    "![func3](pics/func3.png)\n",
    "\n",
    "También puedes definir directamente el cuerpo de la función en el archivo y ejecutarlo de la siguiente manera.\n",
    "\n",
    "![script2](pics/script2.png)\n",
    "\n",
    "Una vez creado el script es necesario indicar que es un archivo ejecutable con el comando `chmod +x ...`, a partir de aquí ya lo podrás ejecutar sin problema.\n",
    "\n",
    "En *bash* también podemos ejecutar scripts escritos en otros lenguajes. Para ello, deberemos indicar en la primera línea el programa o intérprete del lenguaje en concreto, en el siguiente ejemplo es `Python`.\n",
    "\n",
    "![py](pics/py2.png)\n",
    "\n",
    "> Puedes usar el comando `shellcheck` para comprobar potenciales errores en tus *scripts*."
   ]
  },
  {
   "cell_type": "markdown",
   "metadata": {},
   "source": [
    "## Palabras reservadas"
   ]
  },
  {
   "cell_type": "markdown",
   "metadata": {},
   "source": [
    "Como hemos visto, podemos acceder a los argumentos pasado a una función con `$1`. Podemos acceder al resto de argumentos de manera individual con `$1` hasta `$9`, o con `$@` para acceder a todos ellos. El argumento `$0` hará referencia al nombre de la función, mientras que `$#` nos dirá el número de argumentos. Por otro lado, `$?` nos dará acceso al código de error del comando anterior y `$_` al último argumento del anterior comando.\n",
    "\n",
    "![func2](pics/func2.png)\n",
    "\n",
    "> Otro comando muy útil es `!!`, que nos permite re-ejecutar el último comando (muy útil si un comando no funciona porque no tienes suficientes permisos, puedes repetirlo fácilmente con `sudo !!`)."
   ]
  },
  {
   "cell_type": "markdown",
   "metadata": {},
   "source": [
    "## Manejo de errores"
   ]
  },
  {
   "cell_type": "markdown",
   "metadata": {},
   "source": [
    "En el post anterior vimos que podemos usar los operadores `<` y `>` para acceder a las entradas y salidas de un programa. De manera similar, podemos acceder a sus errores para indicar cuando algo no ha funcionado como era esperado.\n",
    "\n",
    "![err1](pics/err1.png)"
   ]
  },
  {
   "cell_type": "markdown",
   "metadata": {},
   "source": [
    "## Condicionales"
   ]
  },
  {
   "cell_type": "markdown",
   "metadata": {},
   "source": [
    "*Bash* ofrece la opción de usar condicionales para ejecutar comandos en función de si una condición se cumple o no. Para ello podemos usar los operadores *AND*, `&&`, y *OR*, `||`, respectivamente.\n",
    "\n",
    "![cond1](pics/cond2.png)\n",
    "\n",
    "En el caso de `&&`, si el comando a la izquierda no tiene ningún error entonces ejecutará el de la derecha. En el caso de `||`, el comando de la derecha solo se ejecutará si el de la izquierda ha devuelto un error.\n",
    "\n",
    "También podemos ejecutar varios comandos de manera condicional usando `if ... ; then`. El siguiente ejemplo comprueba el argumento y si es igual a `1` entonces añade la fecha actual al archivo indicado.\n",
    "\n",
    "![cond3](pics/cond3.png)\n",
    "\n",
    "Como puedes ver podemos *testear* diferentes argumentos para saber si son iguales o diferentes a ciertos valores, mayores o menores, etc. Puedes encontrar una lista de todas las comparaciones con el comando `man test`."
   ]
  },
  {
   "cell_type": "markdown",
   "metadata": {},
   "source": [
    "## Bucles"
   ]
  },
  {
   "cell_type": "markdown",
   "metadata": {},
   "source": [
    "Vamos a ver ahora cómo podemos ejecutar comandos de manera repetida usando bulces. El siguiente ejemplo creará varios archivos, cuyos nombres pasaremos como argumentos al script, con una línea que incluirá su fecha de creación.\n",
    "\n",
    "![bucle1](pics/bucle1.png)"
   ]
  },
  {
   "cell_type": "markdown",
   "metadata": {},
   "source": [
    "## *Globbing*\n",
    "\n",
    "*Globbing* hace referencia al manejo de múltiples archivos de manera simple. Por ejemplo, el siguiente comando sólo listará aquellos archivos con una extensión en concreto.\n",
    "\n",
    "![glob1](pics/glob1.png)\n",
    "\n",
    "Y de manera similar, de la siguiente manera podemos expandir un argumento\n",
    "\n",
    "![glob2](pics/glob2.png)\n",
    "\n",
    "Podemos usar `{}` para múltiples operaciones, por ejemplo\n",
    "\n",
    "\n",
    "![glob3](pics/glob3.png)\n",
    "\n",
    "![glob4](pics/glob4.png)\n",
    "\n"
   ]
  },
  {
   "cell_type": "markdown",
   "metadata": {},
   "source": [
    "## Resumen"
   ]
  },
  {
   "cell_type": "markdown",
   "metadata": {},
   "source": [
    "En este post hemos introducido los conceptos básicos para crear y ejecutar *scripts* en la terminal. Estos *scripts* nos permitirán automatizar tareas repetitivas usando *bash* como lenguaje de programación (aunque hemos visto que también podemos usar otros lenguajes como `Python`). Para ello tenemos a nuestra disposición la posibilidad de crear variables, funciones, bucles, condicionales y otros recursos que podemos esperar en cualquier lenguaje de programación. "
   ]
  }
 ],
 "metadata": {
  "kernelspec": {
   "display_name": "Python 3.9.13 64-bit",
   "language": "python",
   "name": "python3"
  },
  "language_info": {
   "name": "python",
   "version": "3.9.13"
  },
  "orig_nbformat": 4,
  "vscode": {
   "interpreter": {
    "hash": "397704579725e15f5c7cb49fe5f0341eb7531c82d19f2c29d197e8b64ab5776b"
   }
  }
 },
 "nbformat": 4,
 "nbformat_minor": 2
}
