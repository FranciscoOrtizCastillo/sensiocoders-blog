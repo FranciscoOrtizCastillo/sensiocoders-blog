{
 "cells": [
  {
   "cell_type": "markdown",
   "id": "excited-screen",
   "metadata": {},
   "source": [
    "[![Open In Colab](https://colab.research.google.com/assets/colab-badge.svg)](https://colab.research.google.com/github/juansensio/blog/blob/master/066_ssl/ssl.ipynb)"
   ]
  },
  {
   "cell_type": "markdown",
   "id": "lovely-relevance",
   "metadata": {},
   "source": [
    "# Aprendizaje Auto-Supervisado"
   ]
  },
  {
   "cell_type": "markdown",
   "id": "derived-advancement",
   "metadata": {},
   "source": [
    "Hasta ahora hemos visto un montón de ejemplos y aplicaciones de redes neuronales, y en todas ellas hemos utilizado el mismo algoritmo de aprendizaje: el aprendizaje supervisado. Este tipo de aprendizaje se caracteriza por el acceso a un conjunto de datos etiquetado, consistente en pares de ejemplos de entradas y salidas. Un ejemplo muy sencillo de entender es el entrenamiento de un clasificador de imágenes, por ejemplo usando el dataset MNIST, que está compuesto por un conjunto de imágenes y cada una de ellas viene acompañada por su correspondiente etiqueta. Esto nos permite comparar para cada imagen del dataset la salida de nuestra red con la etiqueta real, el *ground truth*, y ajustar los parámetros internos del modelo de manera iterativa para que, poco a poco, las salidas sean lo más parecidas a las etiquetas.\n",
    "\n",
    "Si bien este proceso es muy utilizado y ha dado muy buenos resultados en muchas aplicaciones, existen muchas otras en las que tales datasets etiquetados simplemente no existen o son escasos debido al coste y la complejidad de elaborarlos. Un ejemplo es el entrenamiento de redes neuronales para tareas de visión artificial en imágenes de satélite. Si queremos, por ejemplo, un detector de coches para calcular la ocupación de aparcamientos necesitaremos, primero, comprar imágenes de alta resolución (que pueden llegar a costar varios miles de euros cada una) y, segundo, etiquetar todos los coches que encontremos en las imágenes (lo cual puede llevar un buen rato). Es en este punto en el que nos preguntamos: ¿es posible entrenar redes neuronales sin etiquetas, solo a partir de datos? A este campo se le conoce como aprendizaje no supervisado, *unsupervised learning* en inglés, y es lo que vamos a explorar en este y los siguientes posts."
   ]
  },
  {
   "cell_type": "markdown",
   "id": "adult-suspension",
   "metadata": {},
   "source": [
    "## La analogía del pastel de *Yan Lecun*"
   ]
  },
  {
   "cell_type": "markdown",
   "id": "mexican-rogers",
   "metadata": {},
   "source": [
    "Uno de los investigadores más influyentes en el ámbito del aprendizaje no supervisado, y del mundo del aprendizaje profundo en general, es Yann Lecun. Para entender la potencia de esta forma de aprendizaje presentó una analogía en la que, si el aprendizaje fuese un pastel, el aprendizaje supervisado solo correspondería al recubrimiento, mientras que el aprendizaje no supervisado sería el interior (y el aprendizaje por refuerzo, la cereza de arriba 😝)\n",
    "\n",
    "![](https://miro.medium.com/max/4416/1*bvMhd_xpVxfJYoKXYp5hug.png)\n",
    "\n",
    "Esto nos da una idea de la importancia de ser capaces de entrenar nuestros modelos sin necesidad de un dataset etiquetado. Poder llevar a cabo este mecanismo de manera efectiva abriría la puerta a muchas aplicaciones hoy en día inconcebibles.\n",
    "\n",
    "Si bien en el campo del *machine learning* existen diferentes algoritmos no supervisados, como algoritmos de clustering (K-Means, DBSCAN, ...), estimación de probabilidad (Gaussian Mixtures) o reducción de dimensionalidad (PCA y otros), los algoritmos no supervisados para *deep learning* son a día de hoy un tema de investigación muy activa, siendo los algoritmos de aprendizaje auto-supervisado (*self-supervised learning*) los más comunes por sus buenos resultados.\n"
   ]
  },
  {
   "cell_type": "markdown",
   "id": "vietnamese-spelling",
   "metadata": {},
   "source": [
    "## Aprendizaje Auto-Supervisado"
   ]
  },
  {
   "cell_type": "markdown",
   "id": "impressed-exclusive",
   "metadata": {},
   "source": [
    "El aprendizaje auto-supervisado consiste en el entrenamiento de modelos que aprenden representaciones invariantes a distorsiones de la misma entrada. Esto significa que si un modelo es alimentado por una imagen en color y la misma imagen en blanco y negro, la representación interna (las *features* que nos daría el modelo justo antes del clasificador) debería ser igual, o lo más parecida posible. Diferentes métodos se basan en esta idea para construir, de una manera u otra, una función de pérdida que compare estas representaciones y minimize la diferencia entre pares de transformaciones que provengan de la misma imagen, mientras que maximice la diferencia entre imágenes diferentes. Algunos de los métodos más conocidos son:\n",
    "\n",
    "- Moco\n",
    "- SwAV\n",
    "- SimCLR\n",
    "\n",
    "En este post vamos a ver un ejemplo utilizando un método simple y reciente (a la hora de elaborar este post): [Barlow Twins](https://arxiv.org/abs/2103.03230). Pero antes, vamos a demostrar la necesidad de esta técnica."
   ]
  },
  {
   "cell_type": "markdown",
   "id": "textile-cisco",
   "metadata": {},
   "source": [
    "## CIFAR10"
   ]
  },
  {
   "cell_type": "markdown",
   "id": "written-cleveland",
   "metadata": {
    "ExecuteTime": {
     "end_time": "2021-05-11T10:24:47.271593Z",
     "start_time": "2021-05-11T10:24:47.267578Z"
    }
   },
   "source": [
    "Vamos a entrenar una red neuronal convolucional sencilla para la clasificación de imágenes con el dataset [CIFAR10](https://arxiv.org/abs/2103.03230)."
   ]
  },
  {
   "cell_type": "markdown",
   "id": "duplicate-poultry",
   "metadata": {},
   "source": [
    "hacerlo con pytorch a pelo"
   ]
  },
  {
   "cell_type": "code",
   "execution_count": 15,
   "id": "published-thunder",
   "metadata": {
    "ExecuteTime": {
     "end_time": "2021-05-12T11:17:01.247022Z",
     "start_time": "2021-05-12T11:17:01.230023Z"
    }
   },
   "outputs": [],
   "source": [
    "import torch\n",
    "import torchvision\n",
    "import numpy as np\n",
    "\n",
    "class Dataset(torch.utils.data.Dataset):\n",
    "    def __init__(self, train=True):\n",
    "        trainset = torchvision.datasets.CIFAR10(root='./data', train=train, download=True)\n",
    "        self.classes = ('plane', 'car', 'bird', 'cat', 'deer', 'dog', 'frog', 'horse', 'ship', 'truck')\n",
    "        self.imgs, self.labels = np.array([np.array(i[0]) for i in trainset]), np.array([i[1] for i in trainset])\n",
    "    def __len__(self):\n",
    "        return len(self.imgs)\n",
    "    def __getitem__(self, ix):\n",
    "        img = self.imgs[ix]\n",
    "        return torch.from_numpy(img / 255.).permute(2,0,1).float(), torch.tensor(self.labels[ix]).long()"
   ]
  },
  {
   "cell_type": "code",
   "execution_count": 16,
   "id": "strong-cyprus",
   "metadata": {
    "ExecuteTime": {
     "end_time": "2021-05-12T11:17:06.825028Z",
     "start_time": "2021-05-12T11:17:01.844023Z"
    }
   },
   "outputs": [
    {
     "name": "stdout",
     "output_type": "stream",
     "text": [
      "Files already downloaded and verified\n",
      "Files already downloaded and verified\n"
     ]
    },
    {
     "data": {
      "text/plain": [
       "((50000, 32, 32, 3), (10000, 32, 32, 3))"
      ]
     },
     "execution_count": 16,
     "metadata": {},
     "output_type": "execute_result"
    }
   ],
   "source": [
    "ds = {\n",
    "    'train': Dataset(),\n",
    "    'test': Dataset(train=False)\n",
    "}\n",
    "\n",
    "ds['train'].imgs.shape, ds['test'].imgs.shape, "
   ]
  },
  {
   "cell_type": "code",
   "execution_count": 17,
   "id": "ordered-richardson",
   "metadata": {
    "ExecuteTime": {
     "end_time": "2021-05-12T11:17:06.841023Z",
     "start_time": "2021-05-12T11:17:06.826025Z"
    }
   },
   "outputs": [],
   "source": [
    "batch_size = 32\n",
    "\n",
    "dl = {\n",
    "    'train': torch.utils.data.DataLoader(ds['train'], batch_size=batch_size, shuffle=True),\n",
    "    'test': torch.utils.data.DataLoader(ds['test'], batch_size=batch_size, shuffle=False)\n",
    "} "
   ]
  },
  {
   "cell_type": "code",
   "execution_count": 18,
   "id": "individual-height",
   "metadata": {
    "ExecuteTime": {
     "end_time": "2021-05-12T11:17:06.856023Z",
     "start_time": "2021-05-12T11:17:06.842023Z"
    }
   },
   "outputs": [
    {
     "data": {
      "text/plain": [
       "(torch.Size([32, 3, 32, 32]), torch.Size([32]))"
      ]
     },
     "execution_count": 18,
     "metadata": {},
     "output_type": "execute_result"
    }
   ],
   "source": [
    "imgs, labels = next(iter(dl['train']))\n",
    "imgs.shape, labels.shape"
   ]
  },
  {
   "cell_type": "code",
   "execution_count": 19,
   "id": "protecting-forward",
   "metadata": {
    "ExecuteTime": {
     "end_time": "2021-05-12T11:17:07.381022Z",
     "start_time": "2021-05-12T11:17:06.859023Z"
    }
   },
   "outputs": [
    {
     "data": {
      "image/png": "[encoded data removed]",
      "text/plain": [
       "<Figure size 1600x1400 with 24 Axes>"
      ]
     },
     "metadata": {},
     "output_type": "display_data"
    }
   ],
   "source": [
    "import matplotlib.pyplot as plt\n",
    "\n",
    "fig = plt.figure(dpi=200)\n",
    "c, r = 6, 4\n",
    "for j in range(r):\n",
    "    for i in range(c):\n",
    "        ix = j*c + i\n",
    "        ax = plt.subplot(r, c, ix + 1)\n",
    "        img, label = imgs[ix], labels[ix]\n",
    "        ax.imshow(img.permute(1,2,0))\n",
    "        ax.axis('off')\n",
    "plt.tight_layout()\n",
    "plt.show()"
   ]
  },
  {
   "cell_type": "code",
   "execution_count": 20,
   "id": "unable-michael",
   "metadata": {
    "ExecuteTime": {
     "end_time": "2021-05-12T11:17:07.397022Z",
     "start_time": "2021-05-12T11:17:07.382023Z"
    },
    "code_folding": [
     2
    ]
   },
   "outputs": [],
   "source": [
    "import torch.nn.functional as F\n",
    "\n",
    "def block(c_in, c_out, k=3, p=1, s=1, pk=2, ps=2):\n",
    "    return torch.nn.Sequential(\n",
    "        torch.nn.Conv2d(c_in, c_out, k, padding=p, stride=s),\n",
    "        torch.nn.ReLU(),\n",
    "        torch.nn.MaxPool2d(pk, stride=ps)\n",
    "    )\n",
    "\n",
    "class Model(torch.nn.Module):\n",
    "\n",
    "    def __init__(self, n_channels=3, n_outputs=10):\n",
    "        super().__init__()\n",
    "        self.backbone = torch.nn.Sequential(\n",
    "            block(n_channels, 64),\n",
    "            block(64, 128),\n",
    "            block(128, 256)\n",
    "        )\n",
    "        self.fc = torch.nn.Linear(256*4*4, n_outputs)\n",
    "\n",
    "    def forward(self, x):\n",
    "        x = self.backbone(x)\n",
    "        x = x.view(x.shape[0], -1)\n",
    "        x = self.fc(x)\n",
    "        return x"
   ]
  },
  {
   "cell_type": "code",
   "execution_count": 21,
   "id": "associate-sociology",
   "metadata": {
    "ExecuteTime": {
     "end_time": "2021-05-12T11:17:07.444021Z",
     "start_time": "2021-05-12T11:17:07.398023Z"
    }
   },
   "outputs": [
    {
     "data": {
      "text/plain": [
       "torch.Size([32, 10])"
      ]
     },
     "execution_count": 21,
     "metadata": {},
     "output_type": "execute_result"
    }
   ],
   "source": [
    "model = Model()\n",
    "output = model(torch.randn(32, 3, 32, 32))\n",
    "\n",
    "output.shape"
   ]
  },
  {
   "cell_type": "code",
   "execution_count": 22,
   "id": "loose-bernard",
   "metadata": {
    "ExecuteTime": {
     "end_time": "2021-05-12T11:17:08.701022Z",
     "start_time": "2021-05-12T11:17:08.678023Z"
    },
    "code_folding": [
     2,
     10
    ]
   },
   "outputs": [],
   "source": [
    "from tqdm import tqdm \n",
    "\n",
    "def step(model, batch, device):\n",
    "    x, y = batch\n",
    "    x, y = x.to(device), y.to(device)\n",
    "    y_hat = model(x)\n",
    "    loss = F.cross_entropy(y_hat, y)\n",
    "    acc = (torch.argmax(y_hat, axis=1) == y).sum().item() / y.size(0)\n",
    "    return loss, acc\n",
    "\n",
    "def train(model, dl, optimizer, epochs=10, device=\"cuda\"):\n",
    "    model.to(device)\n",
    "    hist = {'loss': [], 'acc': [], 'test_loss': [], 'test_acc': []}\n",
    "    for e in range(1, epochs+1):\n",
    "        # train\n",
    "        model.train()\n",
    "        l, a = [], []\n",
    "        bar = tqdm(dl['train'])\n",
    "        for batch in bar:\n",
    "            optimizer.zero_grad()\n",
    "            loss, acc = step(model, batch, device)\n",
    "            loss.backward()\n",
    "            optimizer.step()\n",
    "            l.append(loss.item())\n",
    "            a.append(acc)\n",
    "            bar.set_description(f\"training... loss {np.mean(l):.4f} acc {np.mean(a):.4f}\")\n",
    "        hist['loss'].append(np.mean(l))\n",
    "        hist['acc'].append(np.mean(a))\n",
    "        # eval\n",
    "        model.eval()\n",
    "        l, a = [], []\n",
    "        bar = tqdm(dl['test'])\n",
    "        with torch.no_grad():\n",
    "            for batch in bar:\n",
    "                loss, acc = step(model, batch, device)\n",
    "                l.append(loss.item())\n",
    "                a.append(acc)\n",
    "                bar.set_description(f\"testing... loss {np.mean(l):.4f} acc {np.mean(a):.4f}\")\n",
    "        hist['test_loss'].append(np.mean(l))\n",
    "        hist['test_acc'].append(np.mean(a))\n",
    "        # log\n",
    "        log = f'Epoch {e}/{epochs}'\n",
    "        for k, v in hist.items():\n",
    "            log += f' {k} {v[-1]:.4f}'\n",
    "        print(log)\n",
    "    return hist"
   ]
  },
  {
   "cell_type": "code",
   "execution_count": 23,
   "id": "hybrid-engineering",
   "metadata": {
    "ExecuteTime": {
     "end_time": "2021-05-12T11:17:42.189941Z",
     "start_time": "2021-05-12T11:17:12.355022Z"
    }
   },
   "outputs": [
    {
     "name": "stderr",
     "output_type": "stream",
     "text": [
      "training... loss 1.4579 acc 0.4776: 100%|██████████████████████████████████████████████| 1563/1563 [00:08<00:00, 174.07it/s]\n",
      "testing... loss 1.2094 acc 0.5742: 100%|█████████████████████████████████████████████████| 313/313 [00:00<00:00, 313.63it/s]\n",
      "training... loss 1.1332 acc 0.6104:   1%|▍                                               | 16/1563 [00:00<00:09, 158.42it/s]"
     ]
    },
    {
     "name": "stdout",
     "output_type": "stream",
     "text": [
      "Epoch 1/3 loss 1.4579 acc 0.4776 test_loss 1.2094 test_acc 0.5742\n"
     ]
    },
    {
     "name": "stderr",
     "output_type": "stream",
     "text": [
      "training... loss 1.0557 acc 0.6317: 100%|██████████████████████████████████████████████| 1563/1563 [00:08<00:00, 174.91it/s]\n",
      "testing... loss 1.0397 acc 0.6322: 100%|█████████████████████████████████████████████████| 313/313 [00:00<00:00, 313.47it/s]\n",
      "training... loss 0.9433 acc 0.6647:   1%|▍                                               | 14/1563 [00:00<00:11, 138.61it/s]"
     ]
    },
    {
     "name": "stdout",
     "output_type": "stream",
     "text": [
      "Epoch 2/3 loss 1.0557 acc 0.6317 test_loss 1.0397 test_acc 0.6322\n"
     ]
    },
    {
     "name": "stderr",
     "output_type": "stream",
     "text": [
      "training... loss 0.8906 acc 0.6910: 100%|██████████████████████████████████████████████| 1563/1563 [00:08<00:00, 175.75it/s]\n",
      "testing... loss 0.8620 acc 0.6980: 100%|█████████████████████████████████████████████████| 313/313 [00:00<00:00, 314.26it/s]"
     ]
    },
    {
     "name": "stdout",
     "output_type": "stream",
     "text": [
      "Epoch 3/3 loss 0.8906 acc 0.6910 test_loss 0.8620 test_acc 0.6980\n"
     ]
    },
    {
     "name": "stderr",
     "output_type": "stream",
     "text": [
      "\n"
     ]
    }
   ],
   "source": [
    "model = Model()\n",
    "optimizer = torch.optim.Adam(model.parameters(), lr=3e-4)\n",
    "\n",
    "hist = train(model, dl, optimizer, epochs=3)"
   ]
  },
  {
   "cell_type": "code",
   "execution_count": 25,
   "id": "hourly-express",
   "metadata": {
    "ExecuteTime": {
     "end_time": "2021-05-12T11:17:42.221961Z",
     "start_time": "2021-05-12T11:17:42.207963Z"
    },
    "code_folding": []
   },
   "outputs": [],
   "source": [
    "import pandas as pd\n",
    "\n",
    "def plot_hist(hist):\n",
    "    fig = plt.figure(figsize=(10, 3), dpi=100)\n",
    "    df = pd.DataFrame(hist)\n",
    "    ax = plt.subplot(1, 2, 1)\n",
    "    df[['loss', 'test_loss']].plot(ax=ax)\n",
    "    ax.grid(True)\n",
    "    ax = plt.subplot(1, 2, 2)\n",
    "    df[['acc', 'test_acc']].plot(ax=ax)\n",
    "    ax.grid(True)\n",
    "    plt.show()"
   ]
  },
  {
   "cell_type": "code",
   "execution_count": 26,
   "id": "infrared-brazilian",
   "metadata": {
    "ExecuteTime": {
     "end_time": "2021-05-12T11:17:42.428963Z",
     "start_time": "2021-05-12T11:17:42.223962Z"
    }
   },
   "outputs": [
    {
     "data": {
      "image/png": "[encoded data removed]",
      "text/plain": [
       "<Figure size 1000x300 with 2 Axes>"
      ]
     },
     "metadata": {},
     "output_type": "display_data"
    }
   ],
   "source": [
    "plot_hist(hist)"
   ]
  },
  {
   "cell_type": "markdown",
   "id": "adolescent-mapping",
   "metadata": {},
   "source": [
    "Llegamos al 70%, podemos hacerlo mejor ? Hemos entrenado from scratch, sabemos que el transfer learnig funciona mejor. Podríamos usar imagenet, pero las imágenes son muy diferentes. Podemos pre-entrenar la red ?"
   ]
  },
  {
   "cell_type": "markdown",
   "id": "recreational-energy",
   "metadata": {},
   "source": [
    "Que pasa si entrenamos con el 1% o 10% de las etiquetas ?"
   ]
  },
  {
   "cell_type": "code",
   "execution_count": 27,
   "id": "enabling-criterion",
   "metadata": {
    "ExecuteTime": {
     "end_time": "2021-05-12T11:17:42.444962Z",
     "start_time": "2021-05-12T11:17:42.429965Z"
    },
    "code_folding": [
     0,
     5
    ]
   },
   "outputs": [],
   "source": [
    "class Dataset(torch.utils.data.Dataset):\n",
    "    def __init__(self, train=True, pctg=1.):\n",
    "        trainset = torchvision.datasets.CIFAR10(root='./data', train=train, download=True)\n",
    "        self.classes = ('plane', 'car', 'bird', 'cat', 'deer', 'dog', 'frog', 'horse', 'ship', 'truck')\n",
    "        self.imgs, self.labels = np.array([np.array(i[0]) for i in trainset]), np.array([i[1] for i in trainset])\n",
    "        if pctg < 1.:\n",
    "            unique_labels = list(range(len(self.classes)))\n",
    "            filtered_imgs, filtered_labels = [], []\n",
    "            for lab in unique_labels:\n",
    "                ixs = (self.labels == lab)\n",
    "                lim = int(ixs.sum()*pctg)\n",
    "                filtered_imgs += self.imgs[ixs][:lim].tolist()\n",
    "                filtered_labels += self.labels[ixs][:lim].tolist()\n",
    "            self.imgs, self.labels = np.array(filtered_imgs), np.array(filtered_labels)        \n",
    "    def __len__(self):\n",
    "        return len(self.imgs)\n",
    "    def __getitem__(self, ix):\n",
    "        img = self.imgs[ix]\n",
    "        return torch.from_numpy(img / 255.).permute(2,0,1).float(), torch.tensor(self.labels[ix]).long()"
   ]
  },
  {
   "cell_type": "code",
   "execution_count": 28,
   "id": "isolated-reducing",
   "metadata": {
    "ExecuteTime": {
     "end_time": "2021-05-12T11:17:48.033840Z",
     "start_time": "2021-05-12T11:17:42.445964Z"
    }
   },
   "outputs": [
    {
     "name": "stdout",
     "output_type": "stream",
     "text": [
      "Files already downloaded and verified\n",
      "Files already downloaded and verified\n"
     ]
    }
   ],
   "source": [
    "ds = {\n",
    "    'train': Dataset(pctg=0.01),\n",
    "    'test': Dataset(train=False)\n",
    "}"
   ]
  },
  {
   "cell_type": "code",
   "execution_count": 32,
   "id": "utility-victor",
   "metadata": {
    "ExecuteTime": {
     "end_time": "2021-05-12T11:18:25.265461Z",
     "start_time": "2021-05-12T11:18:25.167461Z"
    }
   },
   "outputs": [
    {
     "data": {
      "image/png": "[encoded data removed]",
      "text/plain": [
       "<Figure size 400x350 with 1 Axes>"
      ]
     },
     "metadata": {},
     "output_type": "display_data"
    }
   ],
   "source": [
    "fig, ax = plt.subplots(dpi=50)\n",
    "ax.hist(ds['train'].labels, bins=10)\n",
    "plt.show()"
   ]
  },
  {
   "cell_type": "code",
   "execution_count": 33,
   "id": "faced-melissa",
   "metadata": {
    "ExecuteTime": {
     "end_time": "2021-05-12T11:19:30.737971Z",
     "start_time": "2021-05-12T11:18:31.410700Z"
    },
    "code_folding": []
   },
   "outputs": [
    {
     "name": "stdout",
     "output_type": "stream",
     "text": [
      "Files already downloaded and verified\n",
      "Files already downloaded and verified\n"
     ]
    },
    {
     "name": "stderr",
     "output_type": "stream",
     "text": [
      "training... loss 2.3041 acc 0.0891: 100%|██████████████████████████████████████████████████| 16/16 [00:00<00:00, 163.27it/s]\n",
      "testing... loss 2.2838 acc 0.1894: 100%|█████████████████████████████████████████████████| 313/313 [00:01<00:00, 300.10it/s]\n",
      "training... loss 2.2551 acc 0.1914: 100%|██████████████████████████████████████████████████| 16/16 [00:00<00:00, 168.39it/s]\n",
      "testing... loss 2.2132 acc 0.1931:   0%|                                                            | 0/313 [00:00<?, ?it/s]"
     ]
    },
    {
     "name": "stdout",
     "output_type": "stream",
     "text": [
      "Epoch 1/3 loss 2.3041 acc 0.0891 test_loss 2.2838 test_acc 0.1894\n"
     ]
    },
    {
     "name": "stderr",
     "output_type": "stream",
     "text": [
      "testing... loss 2.2152 acc 0.1936: 100%|█████████████████████████████████████████████████| 313/313 [00:01<00:00, 297.24it/s]\n",
      "training... loss 2.1198 acc 0.2629: 100%|██████████████████████████████████████████████████| 16/16 [00:00<00:00, 175.84it/s]\n",
      "testing... loss 2.0645 acc 0.2778:   0%|                                                            | 0/313 [00:00<?, ?it/s]"
     ]
    },
    {
     "name": "stdout",
     "output_type": "stream",
     "text": [
      "Epoch 2/3 loss 2.2551 acc 0.1914 test_loss 2.2152 test_acc 0.1936\n"
     ]
    },
    {
     "name": "stderr",
     "output_type": "stream",
     "text": [
      "testing... loss 2.0713 acc 0.2618: 100%|█████████████████████████████████████████████████| 313/313 [00:00<00:00, 315.52it/s]\n"
     ]
    },
    {
     "name": "stdout",
     "output_type": "stream",
     "text": [
      "Epoch 3/3 loss 2.1198 acc 0.2629 test_loss 2.0713 test_acc 0.2618\n",
      "Files already downloaded and verified\n",
      "Files already downloaded and verified\n"
     ]
    },
    {
     "name": "stderr",
     "output_type": "stream",
     "text": [
      "training... loss 2.0613 acc 0.2347: 100%|████████████████████████████████████████████████| 157/157 [00:00<00:00, 164.74it/s]\n",
      "testing... loss 1.8061 acc 0.3428: 100%|█████████████████████████████████████████████████| 313/313 [00:01<00:00, 298.66it/s]\n",
      "training... loss 1.8065 acc 0.3508:  11%|█████▌                                           | 18/157 [00:00<00:00, 171.43it/s]"
     ]
    },
    {
     "name": "stdout",
     "output_type": "stream",
     "text": [
      "Epoch 1/3 loss 2.0613 acc 0.2347 test_loss 1.8061 test_acc 0.3428\n"
     ]
    },
    {
     "name": "stderr",
     "output_type": "stream",
     "text": [
      "training... loss 1.7256 acc 0.3818: 100%|████████████████████████████████████████████████| 157/157 [00:00<00:00, 169.81it/s]\n",
      "testing... loss 1.7108 acc 0.3984: 100%|█████████████████████████████████████████████████| 313/313 [00:01<00:00, 305.66it/s]\n",
      "training... loss 1.5512 acc 0.4413:  12%|█████▉                                           | 19/157 [00:00<00:00, 180.96it/s]"
     ]
    },
    {
     "name": "stdout",
     "output_type": "stream",
     "text": [
      "Epoch 2/3 loss 1.7256 acc 0.3818 test_loss 1.7108 test_acc 0.3984\n"
     ]
    },
    {
     "name": "stderr",
     "output_type": "stream",
     "text": [
      "training... loss 1.5713 acc 0.4397: 100%|████████████████████████████████████████████████| 157/157 [00:00<00:00, 173.76it/s]\n",
      "testing... loss 1.5699 acc 0.4270: 100%|█████████████████████████████████████████████████| 313/313 [00:01<00:00, 307.47it/s]\n"
     ]
    },
    {
     "name": "stdout",
     "output_type": "stream",
     "text": [
      "Epoch 3/3 loss 1.5713 acc 0.4397 test_loss 1.5699 test_acc 0.4270\n",
      "Files already downloaded and verified\n",
      "Files already downloaded and verified\n"
     ]
    },
    {
     "name": "stderr",
     "output_type": "stream",
     "text": [
      "training... loss 1.4594 acc 0.4760: 100%|██████████████████████████████████████████████| 1563/1563 [00:09<00:00, 171.40it/s]\n",
      "testing... loss 1.1860 acc 0.5752: 100%|█████████████████████████████████████████████████| 313/313 [00:00<00:00, 314.41it/s]\n",
      "training... loss 1.1761 acc 0.5862:   1%|▍                                               | 16/1563 [00:00<00:09, 158.42it/s]"
     ]
    },
    {
     "name": "stdout",
     "output_type": "stream",
     "text": [
      "Epoch 1/3 loss 1.4594 acc 0.4760 test_loss 1.1860 test_acc 0.5752\n"
     ]
    },
    {
     "name": "stderr",
     "output_type": "stream",
     "text": [
      "training... loss 1.0697 acc 0.6239: 100%|██████████████████████████████████████████████| 1563/1563 [00:08<00:00, 176.16it/s]\n",
      "testing... loss 0.9859 acc 0.6579: 100%|█████████████████████████████████████████████████| 313/313 [00:00<00:00, 319.38it/s]\n",
      "training... loss 0.9277 acc 0.6835:   1%|▌                                               | 17/1563 [00:00<00:09, 161.91it/s]"
     ]
    },
    {
     "name": "stdout",
     "output_type": "stream",
     "text": [
      "Epoch 2/3 loss 1.0697 acc 0.6239 test_loss 0.9859 test_acc 0.6579\n"
     ]
    },
    {
     "name": "stderr",
     "output_type": "stream",
     "text": [
      "training... loss 0.9090 acc 0.6839: 100%|██████████████████████████████████████████████| 1563/1563 [00:08<00:00, 179.95it/s]\n",
      "testing... loss 0.8612 acc 0.7030: 100%|█████████████████████████████████████████████████| 313/313 [00:00<00:00, 321.01it/s]"
     ]
    },
    {
     "name": "stdout",
     "output_type": "stream",
     "text": [
      "Epoch 3/3 loss 0.9090 acc 0.6839 test_loss 0.8612 test_acc 0.7030\n"
     ]
    },
    {
     "name": "stderr",
     "output_type": "stream",
     "text": [
      "\n"
     ]
    }
   ],
   "source": [
    "pctgs = [0.01, 0.1, 1.]\n",
    "batch_size = 32\n",
    "epochs=3\n",
    "lr=3e-4\n",
    "hists = []\n",
    "for pctg in pctgs:\n",
    "    ds = {\n",
    "        'train': Dataset(pctg=pctg),\n",
    "        'test': Dataset(train=False)\n",
    "    }\n",
    "    dl = {\n",
    "        'train': torch.utils.data.DataLoader(ds['train'], batch_size=batch_size, shuffle=True),\n",
    "        'test': torch.utils.data.DataLoader(ds['test'], batch_size=batch_size, shuffle=False)\n",
    "    } \n",
    "    model = Model()\n",
    "    optimizer = torch.optim.Adam(model.parameters(), lr=lr)\n",
    "    hist = train(model, dl, optimizer, epochs=epochs)\n",
    "    hists.append(hist)"
   ]
  },
  {
   "cell_type": "code",
   "execution_count": 39,
   "id": "ranking-morning",
   "metadata": {
    "ExecuteTime": {
     "end_time": "2021-05-12T11:20:12.189619Z",
     "start_time": "2021-05-12T11:20:11.996616Z"
    }
   },
   "outputs": [
    {
     "data": {
      "image/png": "[encoded data removed]",
      "text/plain": [
       "<Figure size 800x300 with 2 Axes>"
      ]
     },
     "metadata": {},
     "output_type": "display_data"
    }
   ],
   "source": [
    "fig = plt.figure(figsize=(8, 3), dpi=100)\n",
    "ax = plt.subplot(1, 2, 1)\n",
    "for i, pctg in enumerate(pctgs):\n",
    "    ax.plot(hists[i]['test_loss'])\n",
    "ax.grid(True)\n",
    "ax.legend(pctgs)\n",
    "ax.set_title('loss')\n",
    "ax = plt.subplot(1, 2, 2)\n",
    "for i, pctg in enumerate(pctgs):\n",
    "    ax.plot(hists[i]['test_acc'])\n",
    "ax.grid(True)\n",
    "ax.set_title('acc')\n",
    "plt.tight_layout()\n",
    "plt.show()"
   ]
  },
  {
   "cell_type": "code",
   "execution_count": 40,
   "id": "after-excitement",
   "metadata": {
    "ExecuteTime": {
     "end_time": "2021-05-12T11:20:22.819808Z",
     "start_time": "2021-05-12T11:20:22.804810Z"
    },
    "code_folding": [
     3
    ]
   },
   "outputs": [],
   "source": [
    "import torch\n",
    "import torchvision\n",
    "\n",
    "class SSLDataset(torch.utils.data.Dataset):\n",
    "    def __init__(self, trans):\n",
    "        self.trans = trans\n",
    "        trainset = torchvision.datasets.CIFAR10(root='./data', train=True, download=True)\n",
    "        self.imgs = np.array([np.array(i[0]) for i in trainset])\n",
    "    def __len__(self):\n",
    "        return len(self.imgs)\n",
    "    def __getitem__(self, ix):\n",
    "        img = self.imgs[ix]\n",
    "        img1 = self.trans(image=img)['image']\n",
    "        img2 = self.trans(image=img)['image']\n",
    "        return torch.from_numpy(img1 / 255.).permute(2,0,1).float(), torch.from_numpy(img2 / 255.).permute(2,0,1).float()"
   ]
  },
  {
   "cell_type": "code",
   "execution_count": 41,
   "id": "successful-revision",
   "metadata": {
    "ExecuteTime": {
     "end_time": "2021-05-12T11:20:25.761867Z",
     "start_time": "2021-05-12T11:20:22.939809Z"
    }
   },
   "outputs": [
    {
     "name": "stdout",
     "output_type": "stream",
     "text": [
      "Files already downloaded and verified\n"
     ]
    }
   ],
   "source": [
    "import albumentations as A\n",
    "\n",
    "trans = A.Compose([\n",
    "    A.RandomResizedCrop(32, 32),\n",
    "    A.HorizontalFlip(),\n",
    "    A.ColorJitter(),\n",
    "    A.ToGray(),\n",
    "    A.GaussianBlur(),\n",
    "    A.Solarize()\n",
    "])\n",
    "\n",
    "ds = SSLDataset(trans)"
   ]
  },
  {
   "cell_type": "code",
   "execution_count": 98,
   "id": "future-assets",
   "metadata": {
    "ExecuteTime": {
     "end_time": "2021-05-12T11:24:52.284799Z",
     "start_time": "2021-05-12T11:24:52.230799Z"
    }
   },
   "outputs": [
    {
     "data": {
      "image/png": "[encoded data removed]",
      "text/plain": [
       "<Figure size 400x350 with 2 Axes>"
      ]
     },
     "metadata": {},
     "output_type": "display_data"
    }
   ],
   "source": [
    "import matplotlib.pyplot as plt\n",
    "import random\n",
    "\n",
    "ix = random.randint(0, len(ds))\n",
    "img1, img2 = ds[ix]\n",
    "fig = plt.figure(dpi=50)\n",
    "ax = plt.subplot(1, 2, 1)\n",
    "ax.imshow(img1.permute(1,2,0))\n",
    "ax.axis('off')\n",
    "ax = plt.subplot(1, 2, 2)\n",
    "ax.imshow(img2.permute(1,2,0))\n",
    "ax.axis('off')\n",
    "plt.tight_layout()\n",
    "plt.show()"
   ]
  },
  {
   "cell_type": "code",
   "execution_count": 99,
   "id": "naughty-interest",
   "metadata": {
    "ExecuteTime": {
     "end_time": "2021-05-12T11:25:01.226359Z",
     "start_time": "2021-05-12T11:25:01.212848Z"
    }
   },
   "outputs": [],
   "source": [
    "class SSLModel(torch.nn.Module):\n",
    "\n",
    "    def __init__(self, n_channels=3, n_outputs=10):\n",
    "        super().__init__()\n",
    "        self.backbone = torch.nn.Sequential(\n",
    "            block(n_channels, 64),\n",
    "            block(64, 128),\n",
    "            block(128, 256)\n",
    "        )\n",
    "        self.mlp = torch.nn.Sequential(\n",
    "            torch.nn.Linear(256*4*4, 1024),\n",
    "            torch.nn.BatchNorm1d(1024),\n",
    "            torch.nn.ReLU(),\n",
    "            torch.nn.Linear(1024, 1024)\n",
    "        )\n",
    "\n",
    "    def forward(self, x):\n",
    "        x = self.backbone(x)\n",
    "        x = x.view(x.shape[0], -1)\n",
    "        x = self.mlp(x)\n",
    "        return x"
   ]
  },
  {
   "cell_type": "code",
   "execution_count": 100,
   "id": "decent-committee",
   "metadata": {
    "ExecuteTime": {
     "end_time": "2021-05-12T11:25:01.418357Z",
     "start_time": "2021-05-12T11:25:01.348360Z"
    }
   },
   "outputs": [
    {
     "data": {
      "text/plain": [
       "torch.Size([32, 1024])"
      ]
     },
     "execution_count": 100,
     "metadata": {},
     "output_type": "execute_result"
    }
   ],
   "source": [
    "SSLmodel = SSLModel()\n",
    "output = SSLmodel(torch.randn(32, 3, 32, 32))\n",
    "\n",
    "output.shape"
   ]
  },
  {
   "cell_type": "code",
   "execution_count": 101,
   "id": "centered-tunisia",
   "metadata": {
    "ExecuteTime": {
     "end_time": "2021-05-12T11:25:04.699428Z",
     "start_time": "2021-05-12T11:25:04.689426Z"
    },
    "code_folding": [
     2,
     26
    ]
   },
   "outputs": [],
   "source": [
    "from tqdm import tqdm \n",
    "\n",
    "def SSLstep(model, batch, device, l=5e-3):\n",
    "    # two randomly augmented versions of x\n",
    "    x1, x2 = batch\n",
    "    x1, x2 = x1.to(device), x2.to(device)\n",
    "    \n",
    "    # compute representations\n",
    "    z1 = model(x1)\n",
    "    z2 = model(x1)\n",
    "    \n",
    "    # normalize repr. along the batch dimension\n",
    "    N, D = z1.shape\n",
    "    z1_norm = (z1 - z1.mean(0)) / z1.std(0) # NxD\n",
    "    z2_norm = (z2 - z2.mean(0)) / z2.std(0) # NxD\n",
    "    \n",
    "    # cross-correlation matrix\n",
    "    c = (z1_norm.T @ z2_norm) / N # DxD\n",
    "    \n",
    "    # loss\n",
    "    c_diff = (c - torch.eye(D, device=device)).pow(2) # DxD\n",
    "    # multiply off-diagonal elems of c_diff by lambda\n",
    "    d = torch.eye(D, dtype=bool)\n",
    "    c_diff[~d] *= l\n",
    "    return c_diff.sum()\n",
    "\n",
    "def SSLtrain(model, dl, optimizer, scheduler, epochs=10, device=\"cuda\"):\n",
    "    model.to(device)\n",
    "    hist = {'loss': []}\n",
    "    for e in range(1, epochs+1):\n",
    "        # train\n",
    "        model.train()\n",
    "        l, a = [], []\n",
    "        bar = tqdm(dl)\n",
    "        for batch in bar:\n",
    "            optimizer.zero_grad()\n",
    "            loss = SSLstep(model, batch, device)\n",
    "            loss.backward()\n",
    "            optimizer.step()\n",
    "            l.append(loss.item())\n",
    "            bar.set_description(f\"training... loss {np.mean(l):.4f}\")\n",
    "        hist['loss'].append(np.mean(l))\n",
    "        scheduler.step()\n",
    "        # log\n",
    "        log = f'Epoch {e}/{epochs}'\n",
    "        for k, v in hist.items():\n",
    "            log += f' {k} {v[-1]:.4f}'\n",
    "        print(log)\n",
    "    return hist"
   ]
  },
  {
   "cell_type": "code",
   "execution_count": 102,
   "id": "amber-utilization",
   "metadata": {
    "ExecuteTime": {
     "end_time": "2021-05-12T11:34:31.710463Z",
     "start_time": "2021-05-12T11:25:05.253451Z"
    }
   },
   "outputs": [
    {
     "name": "stderr",
     "output_type": "stream",
     "text": [
      "\r",
      "  0%|                                                                                                | 0/25 [00:00<?, ?it/s]"
     ]
    },
    {
     "name": "stdout",
     "output_type": "stream",
     "text": [
      "Adjusting learning rate of group 0 to 8.0000e-03.\n"
     ]
    },
    {
     "name": "stderr",
     "output_type": "stream",
     "text": [
      "training... loss 1962.4831: 100%|███████████████████████████████████████████████████████████| 25/25 [00:39<00:00,  1.57s/it]\n",
      "  0%|                                                                                                | 0/25 [00:00<?, ?it/s]"
     ]
    },
    {
     "name": "stdout",
     "output_type": "stream",
     "text": [
      "Adjusting learning rate of group 0 to 1.3790e-02.\n",
      "Epoch 1/100 loss 1962.4831\n"
     ]
    },
    {
     "name": "stderr",
     "output_type": "stream",
     "text": [
      "training... loss 1506.9657: 100%|███████████████████████████████████████████████████████████| 25/25 [00:39<00:00,  1.57s/it]\n",
      "  0%|                                                                                                | 0/25 [00:00<?, ?it/s]"
     ]
    },
    {
     "name": "stdout",
     "output_type": "stream",
     "text": [
      "Adjusting learning rate of group 0 to 3.0460e-02.\n",
      "Epoch 2/100 loss 1506.9657\n"
     ]
    },
    {
     "name": "stderr",
     "output_type": "stream",
     "text": [
      "training... loss 1026.5005: 100%|███████████████████████████████████████████████████████████| 25/25 [00:40<00:00,  1.61s/it]\n",
      "  0%|                                                                                                | 0/25 [00:00<?, ?it/s]"
     ]
    },
    {
     "name": "stdout",
     "output_type": "stream",
     "text": [
      "Adjusting learning rate of group 0 to 5.6000e-02.\n",
      "Epoch 3/100 loss 1026.5005\n"
     ]
    },
    {
     "name": "stderr",
     "output_type": "stream",
     "text": [
      "training... loss 811.6546: 100%|████████████████████████████████████████████████████████████| 25/25 [00:39<00:00,  1.59s/it]\n",
      "  0%|                                                                                                | 0/25 [00:00<?, ?it/s]"
     ]
    },
    {
     "name": "stdout",
     "output_type": "stream",
     "text": [
      "Adjusting learning rate of group 0 to 8.7330e-02.\n",
      "Epoch 4/100 loss 811.6546\n"
     ]
    },
    {
     "name": "stderr",
     "output_type": "stream",
     "text": [
      "training... loss 657.2221: 100%|████████████████████████████████████████████████████████████| 25/25 [00:40<00:00,  1.64s/it]\n",
      "  0%|                                                                                                | 0/25 [00:00<?, ?it/s]"
     ]
    },
    {
     "name": "stdout",
     "output_type": "stream",
     "text": [
      "Adjusting learning rate of group 0 to 1.2067e-01.\n",
      "Epoch 5/100 loss 657.2221\n"
     ]
    },
    {
     "name": "stderr",
     "output_type": "stream",
     "text": [
      "training... loss 509.1999: 100%|████████████████████████████████████████████████████████████| 25/25 [00:40<00:00,  1.63s/it]\n",
      "  0%|                                                                                                | 0/25 [00:00<?, ?it/s]"
     ]
    },
    {
     "name": "stdout",
     "output_type": "stream",
     "text": [
      "Adjusting learning rate of group 0 to 1.5200e-01.\n",
      "Epoch 6/100 loss 509.1999\n"
     ]
    },
    {
     "name": "stderr",
     "output_type": "stream",
     "text": [
      "training... loss 413.7958: 100%|████████████████████████████████████████████████████████████| 25/25 [00:40<00:00,  1.64s/it]\n",
      "  0%|                                                                                                | 0/25 [00:00<?, ?it/s]"
     ]
    },
    {
     "name": "stdout",
     "output_type": "stream",
     "text": [
      "Adjusting learning rate of group 0 to 1.7754e-01.\n",
      "Epoch 7/100 loss 413.7958\n"
     ]
    },
    {
     "name": "stderr",
     "output_type": "stream",
     "text": [
      "training... loss 306.8487: 100%|████████████████████████████████████████████████████████████| 25/25 [00:40<00:00,  1.64s/it]\n",
      "  0%|                                                                                                | 0/25 [00:00<?, ?it/s]"
     ]
    },
    {
     "name": "stdout",
     "output_type": "stream",
     "text": [
      "Adjusting learning rate of group 0 to 1.9421e-01.\n",
      "Epoch 8/100 loss 306.8487\n"
     ]
    },
    {
     "name": "stderr",
     "output_type": "stream",
     "text": [
      "training... loss 246.1601: 100%|████████████████████████████████████████████████████████████| 25/25 [00:40<00:00,  1.63s/it]\n",
      "  0%|                                                                                                | 0/25 [00:00<?, ?it/s]"
     ]
    },
    {
     "name": "stdout",
     "output_type": "stream",
     "text": [
      "Adjusting learning rate of group 0 to 2.0000e-01.\n",
      "Epoch 9/100 loss 246.1601\n"
     ]
    },
    {
     "name": "stderr",
     "output_type": "stream",
     "text": [
      "training... loss 197.7408: 100%|████████████████████████████████████████████████████████████| 25/25 [00:40<00:00,  1.61s/it]\n",
      "  0%|                                                                                                | 0/25 [00:00<?, ?it/s]"
     ]
    },
    {
     "name": "stdout",
     "output_type": "stream",
     "text": [
      "Adjusting learning rate of group 0 to 1.9994e-01.\n",
      "Epoch 10/100 loss 197.7408\n"
     ]
    },
    {
     "name": "stderr",
     "output_type": "stream",
     "text": [
      "training... loss 154.8064: 100%|████████████████████████████████████████████████████████████| 25/25 [00:38<00:00,  1.56s/it]\n",
      "  0%|                                                                                                | 0/25 [00:00<?, ?it/s]"
     ]
    },
    {
     "name": "stdout",
     "output_type": "stream",
     "text": [
      "Adjusting learning rate of group 0 to 1.9976e-01.\n",
      "Epoch 11/100 loss 154.8064\n"
     ]
    },
    {
     "name": "stderr",
     "output_type": "stream",
     "text": [
      "training... loss 125.1655: 100%|████████████████████████████████████████████████████████████| 25/25 [00:38<00:00,  1.54s/it]\n",
      "  0%|                                                                                                | 0/25 [00:00<?, ?it/s]"
     ]
    },
    {
     "name": "stdout",
     "output_type": "stream",
     "text": [
      "Adjusting learning rate of group 0 to 1.9945e-01.\n",
      "Epoch 12/100 loss 125.1655\n"
     ]
    },
    {
     "name": "stderr",
     "output_type": "stream",
     "text": [
      "training... loss 103.6689: 100%|████████████████████████████████████████████████████████████| 25/25 [00:39<00:00,  1.59s/it]\n",
      "  0%|                                                                                                | 0/25 [00:00<?, ?it/s]"
     ]
    },
    {
     "name": "stdout",
     "output_type": "stream",
     "text": [
      "Adjusting learning rate of group 0 to 1.9903e-01.\n",
      "Epoch 13/100 loss 103.6689\n"
     ]
    },
    {
     "name": "stderr",
     "output_type": "stream",
     "text": [
      "training... loss 88.6962: 100%|█████████████████████████████████████████████████████████████| 25/25 [00:39<00:00,  1.58s/it]\n",
      "  0%|                                                                                                | 0/25 [00:00<?, ?it/s]"
     ]
    },
    {
     "name": "stdout",
     "output_type": "stream",
     "text": [
      "Adjusting learning rate of group 0 to 1.9848e-01.\n",
      "Epoch 14/100 loss 88.6962\n"
     ]
    },
    {
     "name": "stderr",
     "output_type": "stream",
     "text": [
      "training... loss 81.8823:  12%|███████▍                                                      | 3/25 [00:06<00:44,  2.02s/it]\n"
     ]
    },
    {
     "ename": "KeyboardInterrupt",
     "evalue": "",
     "output_type": "error",
     "traceback": [
      "\u001b[1;31m---------------------------------------------------------------------------\u001b[0m",
      "\u001b[1;31mKeyboardInterrupt\u001b[0m                         Traceback (most recent call last)",
      "\u001b[1;32m<ipython-input-102-f6250897a8dc>\u001b[0m in \u001b[0;36m<module>\u001b[1;34m\u001b[0m\n\u001b[0;32m      4\u001b[0m \u001b[0mepochs\u001b[0m \u001b[1;33m=\u001b[0m \u001b[1;36m100\u001b[0m\u001b[1;33m\u001b[0m\u001b[1;33m\u001b[0m\u001b[0m\n\u001b[0;32m      5\u001b[0m \u001b[0mscheduler\u001b[0m \u001b[1;33m=\u001b[0m \u001b[0mtorch\u001b[0m\u001b[1;33m.\u001b[0m\u001b[0moptim\u001b[0m\u001b[1;33m.\u001b[0m\u001b[0mlr_scheduler\u001b[0m\u001b[1;33m.\u001b[0m\u001b[0mOneCycleLR\u001b[0m\u001b[1;33m(\u001b[0m\u001b[0moptimizer\u001b[0m\u001b[1;33m,\u001b[0m \u001b[0mpct_start\u001b[0m\u001b[1;33m=\u001b[0m\u001b[1;36m0.1\u001b[0m\u001b[1;33m,\u001b[0m \u001b[0mmax_lr\u001b[0m\u001b[1;33m=\u001b[0m\u001b[1;36m0.2\u001b[0m\u001b[1;33m,\u001b[0m \u001b[0mtotal_steps\u001b[0m\u001b[1;33m=\u001b[0m\u001b[0mepochs\u001b[0m\u001b[1;33m,\u001b[0m \u001b[0mverbose\u001b[0m\u001b[1;33m=\u001b[0m\u001b[1;32mTrue\u001b[0m\u001b[1;33m)\u001b[0m\u001b[1;33m\u001b[0m\u001b[1;33m\u001b[0m\u001b[0m\n\u001b[1;32m----> 6\u001b[1;33m \u001b[0mhist\u001b[0m \u001b[1;33m=\u001b[0m \u001b[0mSSLtrain\u001b[0m\u001b[1;33m(\u001b[0m\u001b[0mSSLmodel\u001b[0m\u001b[1;33m,\u001b[0m \u001b[0mdl\u001b[0m\u001b[1;33m,\u001b[0m \u001b[0moptimizer\u001b[0m\u001b[1;33m,\u001b[0m \u001b[0mscheduler\u001b[0m\u001b[1;33m,\u001b[0m \u001b[0mepochs\u001b[0m\u001b[1;33m=\u001b[0m\u001b[0mepochs\u001b[0m\u001b[1;33m)\u001b[0m\u001b[1;33m\u001b[0m\u001b[1;33m\u001b[0m\u001b[0m\n\u001b[0m",
      "\u001b[1;32m<ipython-input-101-e7015285668d>\u001b[0m in \u001b[0;36mSSLtrain\u001b[1;34m(model, dl, optimizer, scheduler, epochs, device)\u001b[0m\n\u001b[0;32m     33\u001b[0m         \u001b[0ml\u001b[0m\u001b[1;33m,\u001b[0m \u001b[0ma\u001b[0m \u001b[1;33m=\u001b[0m \u001b[1;33m[\u001b[0m\u001b[1;33m]\u001b[0m\u001b[1;33m,\u001b[0m \u001b[1;33m[\u001b[0m\u001b[1;33m]\u001b[0m\u001b[1;33m\u001b[0m\u001b[1;33m\u001b[0m\u001b[0m\n\u001b[0;32m     34\u001b[0m         \u001b[0mbar\u001b[0m \u001b[1;33m=\u001b[0m \u001b[0mtqdm\u001b[0m\u001b[1;33m(\u001b[0m\u001b[0mdl\u001b[0m\u001b[1;33m)\u001b[0m\u001b[1;33m\u001b[0m\u001b[1;33m\u001b[0m\u001b[0m\n\u001b[1;32m---> 35\u001b[1;33m         \u001b[1;32mfor\u001b[0m \u001b[0mbatch\u001b[0m \u001b[1;32min\u001b[0m \u001b[0mbar\u001b[0m\u001b[1;33m:\u001b[0m\u001b[1;33m\u001b[0m\u001b[1;33m\u001b[0m\u001b[0m\n\u001b[0m\u001b[0;32m     36\u001b[0m             \u001b[0moptimizer\u001b[0m\u001b[1;33m.\u001b[0m\u001b[0mzero_grad\u001b[0m\u001b[1;33m(\u001b[0m\u001b[1;33m)\u001b[0m\u001b[1;33m\u001b[0m\u001b[1;33m\u001b[0m\u001b[0m\n\u001b[0;32m     37\u001b[0m             \u001b[0mloss\u001b[0m \u001b[1;33m=\u001b[0m \u001b[0mSSLstep\u001b[0m\u001b[1;33m(\u001b[0m\u001b[0mmodel\u001b[0m\u001b[1;33m,\u001b[0m \u001b[0mbatch\u001b[0m\u001b[1;33m,\u001b[0m \u001b[0mdevice\u001b[0m\u001b[1;33m)\u001b[0m\u001b[1;33m\u001b[0m\u001b[1;33m\u001b[0m\u001b[0m\n",
      "\u001b[1;32m~\\miniconda3\\lib\\site-packages\\tqdm\\std.py\u001b[0m in \u001b[0;36m__iter__\u001b[1;34m(self)\u001b[0m\n\u001b[0;32m   1176\u001b[0m \u001b[1;33m\u001b[0m\u001b[0m\n\u001b[0;32m   1177\u001b[0m         \u001b[1;32mtry\u001b[0m\u001b[1;33m:\u001b[0m\u001b[1;33m\u001b[0m\u001b[1;33m\u001b[0m\u001b[0m\n\u001b[1;32m-> 1178\u001b[1;33m             \u001b[1;32mfor\u001b[0m \u001b[0mobj\u001b[0m \u001b[1;32min\u001b[0m \u001b[0miterable\u001b[0m\u001b[1;33m:\u001b[0m\u001b[1;33m\u001b[0m\u001b[1;33m\u001b[0m\u001b[0m\n\u001b[0m\u001b[0;32m   1179\u001b[0m                 \u001b[1;32myield\u001b[0m \u001b[0mobj\u001b[0m\u001b[1;33m\u001b[0m\u001b[1;33m\u001b[0m\u001b[0m\n\u001b[0;32m   1180\u001b[0m                 \u001b[1;31m# Update and possibly print the progressbar.\u001b[0m\u001b[1;33m\u001b[0m\u001b[1;33m\u001b[0m\u001b[1;33m\u001b[0m\u001b[0m\n",
      "\u001b[1;32m~\\miniconda3\\lib\\site-packages\\torch\\utils\\data\\dataloader.py\u001b[0m in \u001b[0;36m__next__\u001b[1;34m(self)\u001b[0m\n\u001b[0;32m    433\u001b[0m         \u001b[1;32mif\u001b[0m \u001b[0mself\u001b[0m\u001b[1;33m.\u001b[0m\u001b[0m_sampler_iter\u001b[0m \u001b[1;32mis\u001b[0m \u001b[1;32mNone\u001b[0m\u001b[1;33m:\u001b[0m\u001b[1;33m\u001b[0m\u001b[1;33m\u001b[0m\u001b[0m\n\u001b[0;32m    434\u001b[0m             \u001b[0mself\u001b[0m\u001b[1;33m.\u001b[0m\u001b[0m_reset\u001b[0m\u001b[1;33m(\u001b[0m\u001b[1;33m)\u001b[0m\u001b[1;33m\u001b[0m\u001b[1;33m\u001b[0m\u001b[0m\n\u001b[1;32m--> 435\u001b[1;33m         \u001b[0mdata\u001b[0m \u001b[1;33m=\u001b[0m \u001b[0mself\u001b[0m\u001b[1;33m.\u001b[0m\u001b[0m_next_data\u001b[0m\u001b[1;33m(\u001b[0m\u001b[1;33m)\u001b[0m\u001b[1;33m\u001b[0m\u001b[1;33m\u001b[0m\u001b[0m\n\u001b[0m\u001b[0;32m    436\u001b[0m         \u001b[0mself\u001b[0m\u001b[1;33m.\u001b[0m\u001b[0m_num_yielded\u001b[0m \u001b[1;33m+=\u001b[0m \u001b[1;36m1\u001b[0m\u001b[1;33m\u001b[0m\u001b[1;33m\u001b[0m\u001b[0m\n\u001b[0;32m    437\u001b[0m         \u001b[1;32mif\u001b[0m \u001b[0mself\u001b[0m\u001b[1;33m.\u001b[0m\u001b[0m_dataset_kind\u001b[0m \u001b[1;33m==\u001b[0m \u001b[0m_DatasetKind\u001b[0m\u001b[1;33m.\u001b[0m\u001b[0mIterable\u001b[0m \u001b[1;32mand\u001b[0m\u001b[0;31m \u001b[0m\u001b[0;31m\\\u001b[0m\u001b[1;33m\u001b[0m\u001b[1;33m\u001b[0m\u001b[0m\n",
      "\u001b[1;32m~\\miniconda3\\lib\\site-packages\\torch\\utils\\data\\dataloader.py\u001b[0m in \u001b[0;36m_next_data\u001b[1;34m(self)\u001b[0m\n\u001b[0;32m    473\u001b[0m     \u001b[1;32mdef\u001b[0m \u001b[0m_next_data\u001b[0m\u001b[1;33m(\u001b[0m\u001b[0mself\u001b[0m\u001b[1;33m)\u001b[0m\u001b[1;33m:\u001b[0m\u001b[1;33m\u001b[0m\u001b[1;33m\u001b[0m\u001b[0m\n\u001b[0;32m    474\u001b[0m         \u001b[0mindex\u001b[0m \u001b[1;33m=\u001b[0m \u001b[0mself\u001b[0m\u001b[1;33m.\u001b[0m\u001b[0m_next_index\u001b[0m\u001b[1;33m(\u001b[0m\u001b[1;33m)\u001b[0m  \u001b[1;31m# may raise StopIteration\u001b[0m\u001b[1;33m\u001b[0m\u001b[1;33m\u001b[0m\u001b[0m\n\u001b[1;32m--> 475\u001b[1;33m         \u001b[0mdata\u001b[0m \u001b[1;33m=\u001b[0m \u001b[0mself\u001b[0m\u001b[1;33m.\u001b[0m\u001b[0m_dataset_fetcher\u001b[0m\u001b[1;33m.\u001b[0m\u001b[0mfetch\u001b[0m\u001b[1;33m(\u001b[0m\u001b[0mindex\u001b[0m\u001b[1;33m)\u001b[0m  \u001b[1;31m# may raise StopIteration\u001b[0m\u001b[1;33m\u001b[0m\u001b[1;33m\u001b[0m\u001b[0m\n\u001b[0m\u001b[0;32m    476\u001b[0m         \u001b[1;32mif\u001b[0m \u001b[0mself\u001b[0m\u001b[1;33m.\u001b[0m\u001b[0m_pin_memory\u001b[0m\u001b[1;33m:\u001b[0m\u001b[1;33m\u001b[0m\u001b[1;33m\u001b[0m\u001b[0m\n\u001b[0;32m    477\u001b[0m             \u001b[0mdata\u001b[0m \u001b[1;33m=\u001b[0m \u001b[0m_utils\u001b[0m\u001b[1;33m.\u001b[0m\u001b[0mpin_memory\u001b[0m\u001b[1;33m.\u001b[0m\u001b[0mpin_memory\u001b[0m\u001b[1;33m(\u001b[0m\u001b[0mdata\u001b[0m\u001b[1;33m)\u001b[0m\u001b[1;33m\u001b[0m\u001b[1;33m\u001b[0m\u001b[0m\n",
      "\u001b[1;32m~\\miniconda3\\lib\\site-packages\\torch\\utils\\data\\_utils\\fetch.py\u001b[0m in \u001b[0;36mfetch\u001b[1;34m(self, possibly_batched_index)\u001b[0m\n\u001b[0;32m     42\u001b[0m     \u001b[1;32mdef\u001b[0m \u001b[0mfetch\u001b[0m\u001b[1;33m(\u001b[0m\u001b[0mself\u001b[0m\u001b[1;33m,\u001b[0m \u001b[0mpossibly_batched_index\u001b[0m\u001b[1;33m)\u001b[0m\u001b[1;33m:\u001b[0m\u001b[1;33m\u001b[0m\u001b[1;33m\u001b[0m\u001b[0m\n\u001b[0;32m     43\u001b[0m         \u001b[1;32mif\u001b[0m \u001b[0mself\u001b[0m\u001b[1;33m.\u001b[0m\u001b[0mauto_collation\u001b[0m\u001b[1;33m:\u001b[0m\u001b[1;33m\u001b[0m\u001b[1;33m\u001b[0m\u001b[0m\n\u001b[1;32m---> 44\u001b[1;33m             \u001b[0mdata\u001b[0m \u001b[1;33m=\u001b[0m \u001b[1;33m[\u001b[0m\u001b[0mself\u001b[0m\u001b[1;33m.\u001b[0m\u001b[0mdataset\u001b[0m\u001b[1;33m[\u001b[0m\u001b[0midx\u001b[0m\u001b[1;33m]\u001b[0m \u001b[1;32mfor\u001b[0m \u001b[0midx\u001b[0m \u001b[1;32min\u001b[0m \u001b[0mpossibly_batched_index\u001b[0m\u001b[1;33m]\u001b[0m\u001b[1;33m\u001b[0m\u001b[1;33m\u001b[0m\u001b[0m\n\u001b[0m\u001b[0;32m     45\u001b[0m         \u001b[1;32melse\u001b[0m\u001b[1;33m:\u001b[0m\u001b[1;33m\u001b[0m\u001b[1;33m\u001b[0m\u001b[0m\n\u001b[0;32m     46\u001b[0m             \u001b[0mdata\u001b[0m \u001b[1;33m=\u001b[0m \u001b[0mself\u001b[0m\u001b[1;33m.\u001b[0m\u001b[0mdataset\u001b[0m\u001b[1;33m[\u001b[0m\u001b[0mpossibly_batched_index\u001b[0m\u001b[1;33m]\u001b[0m\u001b[1;33m\u001b[0m\u001b[1;33m\u001b[0m\u001b[0m\n",
      "\u001b[1;32m~\\miniconda3\\lib\\site-packages\\torch\\utils\\data\\_utils\\fetch.py\u001b[0m in \u001b[0;36m<listcomp>\u001b[1;34m(.0)\u001b[0m\n\u001b[0;32m     42\u001b[0m     \u001b[1;32mdef\u001b[0m \u001b[0mfetch\u001b[0m\u001b[1;33m(\u001b[0m\u001b[0mself\u001b[0m\u001b[1;33m,\u001b[0m \u001b[0mpossibly_batched_index\u001b[0m\u001b[1;33m)\u001b[0m\u001b[1;33m:\u001b[0m\u001b[1;33m\u001b[0m\u001b[1;33m\u001b[0m\u001b[0m\n\u001b[0;32m     43\u001b[0m         \u001b[1;32mif\u001b[0m \u001b[0mself\u001b[0m\u001b[1;33m.\u001b[0m\u001b[0mauto_collation\u001b[0m\u001b[1;33m:\u001b[0m\u001b[1;33m\u001b[0m\u001b[1;33m\u001b[0m\u001b[0m\n\u001b[1;32m---> 44\u001b[1;33m             \u001b[0mdata\u001b[0m \u001b[1;33m=\u001b[0m \u001b[1;33m[\u001b[0m\u001b[0mself\u001b[0m\u001b[1;33m.\u001b[0m\u001b[0mdataset\u001b[0m\u001b[1;33m[\u001b[0m\u001b[0midx\u001b[0m\u001b[1;33m]\u001b[0m \u001b[1;32mfor\u001b[0m \u001b[0midx\u001b[0m \u001b[1;32min\u001b[0m \u001b[0mpossibly_batched_index\u001b[0m\u001b[1;33m]\u001b[0m\u001b[1;33m\u001b[0m\u001b[1;33m\u001b[0m\u001b[0m\n\u001b[0m\u001b[0;32m     45\u001b[0m         \u001b[1;32melse\u001b[0m\u001b[1;33m:\u001b[0m\u001b[1;33m\u001b[0m\u001b[1;33m\u001b[0m\u001b[0m\n\u001b[0;32m     46\u001b[0m             \u001b[0mdata\u001b[0m \u001b[1;33m=\u001b[0m \u001b[0mself\u001b[0m\u001b[1;33m.\u001b[0m\u001b[0mdataset\u001b[0m\u001b[1;33m[\u001b[0m\u001b[0mpossibly_batched_index\u001b[0m\u001b[1;33m]\u001b[0m\u001b[1;33m\u001b[0m\u001b[1;33m\u001b[0m\u001b[0m\n",
      "\u001b[1;32m<ipython-input-40-ee47e20655a4>\u001b[0m in \u001b[0;36m__getitem__\u001b[1;34m(self, ix)\u001b[0m\n\u001b[0;32m     12\u001b[0m         \u001b[0mimg\u001b[0m \u001b[1;33m=\u001b[0m \u001b[0mself\u001b[0m\u001b[1;33m.\u001b[0m\u001b[0mimgs\u001b[0m\u001b[1;33m[\u001b[0m\u001b[0mix\u001b[0m\u001b[1;33m]\u001b[0m\u001b[1;33m\u001b[0m\u001b[1;33m\u001b[0m\u001b[0m\n\u001b[0;32m     13\u001b[0m         \u001b[0mimg1\u001b[0m \u001b[1;33m=\u001b[0m \u001b[0mself\u001b[0m\u001b[1;33m.\u001b[0m\u001b[0mtrans\u001b[0m\u001b[1;33m(\u001b[0m\u001b[0mimage\u001b[0m\u001b[1;33m=\u001b[0m\u001b[0mimg\u001b[0m\u001b[1;33m)\u001b[0m\u001b[1;33m[\u001b[0m\u001b[1;34m'image'\u001b[0m\u001b[1;33m]\u001b[0m\u001b[1;33m\u001b[0m\u001b[1;33m\u001b[0m\u001b[0m\n\u001b[1;32m---> 14\u001b[1;33m         \u001b[0mimg2\u001b[0m \u001b[1;33m=\u001b[0m \u001b[0mself\u001b[0m\u001b[1;33m.\u001b[0m\u001b[0mtrans\u001b[0m\u001b[1;33m(\u001b[0m\u001b[0mimage\u001b[0m\u001b[1;33m=\u001b[0m\u001b[0mimg\u001b[0m\u001b[1;33m)\u001b[0m\u001b[1;33m[\u001b[0m\u001b[1;34m'image'\u001b[0m\u001b[1;33m]\u001b[0m\u001b[1;33m\u001b[0m\u001b[1;33m\u001b[0m\u001b[0m\n\u001b[0m\u001b[0;32m     15\u001b[0m         \u001b[1;32mreturn\u001b[0m \u001b[0mtorch\u001b[0m\u001b[1;33m.\u001b[0m\u001b[0mfrom_numpy\u001b[0m\u001b[1;33m(\u001b[0m\u001b[0mimg1\u001b[0m \u001b[1;33m/\u001b[0m \u001b[1;36m255.\u001b[0m\u001b[1;33m)\u001b[0m\u001b[1;33m.\u001b[0m\u001b[0mpermute\u001b[0m\u001b[1;33m(\u001b[0m\u001b[1;36m2\u001b[0m\u001b[1;33m,\u001b[0m\u001b[1;36m0\u001b[0m\u001b[1;33m,\u001b[0m\u001b[1;36m1\u001b[0m\u001b[1;33m)\u001b[0m\u001b[1;33m.\u001b[0m\u001b[0mfloat\u001b[0m\u001b[1;33m(\u001b[0m\u001b[1;33m)\u001b[0m\u001b[1;33m,\u001b[0m \u001b[0mtorch\u001b[0m\u001b[1;33m.\u001b[0m\u001b[0mfrom_numpy\u001b[0m\u001b[1;33m(\u001b[0m\u001b[0mimg2\u001b[0m \u001b[1;33m/\u001b[0m \u001b[1;36m255.\u001b[0m\u001b[1;33m)\u001b[0m\u001b[1;33m.\u001b[0m\u001b[0mpermute\u001b[0m\u001b[1;33m(\u001b[0m\u001b[1;36m2\u001b[0m\u001b[1;33m,\u001b[0m\u001b[1;36m0\u001b[0m\u001b[1;33m,\u001b[0m\u001b[1;36m1\u001b[0m\u001b[1;33m)\u001b[0m\u001b[1;33m.\u001b[0m\u001b[0mfloat\u001b[0m\u001b[1;33m(\u001b[0m\u001b[1;33m)\u001b[0m\u001b[1;33m\u001b[0m\u001b[1;33m\u001b[0m\u001b[0m\n",
      "\u001b[1;32m~\\AppData\\Roaming\\Python\\Python37\\site-packages\\albumentations\\core\\composition.py\u001b[0m in \u001b[0;36m__call__\u001b[1;34m(self, force_apply, *args, **data)\u001b[0m\n\u001b[0;32m    180\u001b[0m                     \u001b[0mp\u001b[0m\u001b[1;33m.\u001b[0m\u001b[0mpreprocess\u001b[0m\u001b[1;33m(\u001b[0m\u001b[0mdata\u001b[0m\u001b[1;33m)\u001b[0m\u001b[1;33m\u001b[0m\u001b[1;33m\u001b[0m\u001b[0m\n\u001b[0;32m    181\u001b[0m \u001b[1;33m\u001b[0m\u001b[0m\n\u001b[1;32m--> 182\u001b[1;33m             \u001b[0mdata\u001b[0m \u001b[1;33m=\u001b[0m \u001b[0mt\u001b[0m\u001b[1;33m(\u001b[0m\u001b[0mforce_apply\u001b[0m\u001b[1;33m=\u001b[0m\u001b[0mforce_apply\u001b[0m\u001b[1;33m,\u001b[0m \u001b[1;33m**\u001b[0m\u001b[0mdata\u001b[0m\u001b[1;33m)\u001b[0m\u001b[1;33m\u001b[0m\u001b[1;33m\u001b[0m\u001b[0m\n\u001b[0m\u001b[0;32m    183\u001b[0m \u001b[1;33m\u001b[0m\u001b[0m\n\u001b[0;32m    184\u001b[0m             \u001b[1;32mif\u001b[0m \u001b[0mdual_start_end\u001b[0m \u001b[1;32mis\u001b[0m \u001b[1;32mnot\u001b[0m \u001b[1;32mNone\u001b[0m \u001b[1;32mand\u001b[0m \u001b[0midx\u001b[0m \u001b[1;33m==\u001b[0m \u001b[0mdual_start_end\u001b[0m\u001b[1;33m[\u001b[0m\u001b[1;36m1\u001b[0m\u001b[1;33m]\u001b[0m\u001b[1;33m:\u001b[0m\u001b[1;33m\u001b[0m\u001b[1;33m\u001b[0m\u001b[0m\n",
      "\u001b[1;32m~\\AppData\\Roaming\\Python\\Python37\\site-packages\\albumentations\\core\\transforms_interface.py\u001b[0m in \u001b[0;36m__call__\u001b[1;34m(self, force_apply, *args, **kwargs)\u001b[0m\n\u001b[0;32m     87\u001b[0m                     )\n\u001b[0;32m     88\u001b[0m                 \u001b[0mkwargs\u001b[0m\u001b[1;33m[\u001b[0m\u001b[0mself\u001b[0m\u001b[1;33m.\u001b[0m\u001b[0msave_key\u001b[0m\u001b[1;33m]\u001b[0m\u001b[1;33m[\u001b[0m\u001b[0mid\u001b[0m\u001b[1;33m(\u001b[0m\u001b[0mself\u001b[0m\u001b[1;33m)\u001b[0m\u001b[1;33m]\u001b[0m \u001b[1;33m=\u001b[0m \u001b[0mdeepcopy\u001b[0m\u001b[1;33m(\u001b[0m\u001b[0mparams\u001b[0m\u001b[1;33m)\u001b[0m\u001b[1;33m\u001b[0m\u001b[1;33m\u001b[0m\u001b[0m\n\u001b[1;32m---> 89\u001b[1;33m             \u001b[1;32mreturn\u001b[0m \u001b[0mself\u001b[0m\u001b[1;33m.\u001b[0m\u001b[0mapply_with_params\u001b[0m\u001b[1;33m(\u001b[0m\u001b[0mparams\u001b[0m\u001b[1;33m,\u001b[0m \u001b[1;33m**\u001b[0m\u001b[0mkwargs\u001b[0m\u001b[1;33m)\u001b[0m\u001b[1;33m\u001b[0m\u001b[1;33m\u001b[0m\u001b[0m\n\u001b[0m\u001b[0;32m     90\u001b[0m \u001b[1;33m\u001b[0m\u001b[0m\n\u001b[0;32m     91\u001b[0m         \u001b[1;32mreturn\u001b[0m \u001b[0mkwargs\u001b[0m\u001b[1;33m\u001b[0m\u001b[1;33m\u001b[0m\u001b[0m\n",
      "\u001b[1;32m~\\AppData\\Roaming\\Python\\Python37\\site-packages\\albumentations\\core\\transforms_interface.py\u001b[0m in \u001b[0;36mapply_with_params\u001b[1;34m(self, params, force_apply, **kwargs)\u001b[0m\n\u001b[0;32m    100\u001b[0m                 \u001b[0mtarget_function\u001b[0m \u001b[1;33m=\u001b[0m \u001b[0mself\u001b[0m\u001b[1;33m.\u001b[0m\u001b[0m_get_target_function\u001b[0m\u001b[1;33m(\u001b[0m\u001b[0mkey\u001b[0m\u001b[1;33m)\u001b[0m\u001b[1;33m\u001b[0m\u001b[1;33m\u001b[0m\u001b[0m\n\u001b[0;32m    101\u001b[0m                 \u001b[0mtarget_dependencies\u001b[0m \u001b[1;33m=\u001b[0m \u001b[1;33m{\u001b[0m\u001b[0mk\u001b[0m\u001b[1;33m:\u001b[0m \u001b[0mkwargs\u001b[0m\u001b[1;33m[\u001b[0m\u001b[0mk\u001b[0m\u001b[1;33m]\u001b[0m \u001b[1;32mfor\u001b[0m \u001b[0mk\u001b[0m \u001b[1;32min\u001b[0m \u001b[0mself\u001b[0m\u001b[1;33m.\u001b[0m\u001b[0mtarget_dependence\u001b[0m\u001b[1;33m.\u001b[0m\u001b[0mget\u001b[0m\u001b[1;33m(\u001b[0m\u001b[0mkey\u001b[0m\u001b[1;33m,\u001b[0m \u001b[1;33m[\u001b[0m\u001b[1;33m]\u001b[0m\u001b[1;33m)\u001b[0m\u001b[1;33m}\u001b[0m\u001b[1;33m\u001b[0m\u001b[1;33m\u001b[0m\u001b[0m\n\u001b[1;32m--> 102\u001b[1;33m                 \u001b[0mres\u001b[0m\u001b[1;33m[\u001b[0m\u001b[0mkey\u001b[0m\u001b[1;33m]\u001b[0m \u001b[1;33m=\u001b[0m \u001b[0mtarget_function\u001b[0m\u001b[1;33m(\u001b[0m\u001b[0marg\u001b[0m\u001b[1;33m,\u001b[0m \u001b[1;33m**\u001b[0m\u001b[0mdict\u001b[0m\u001b[1;33m(\u001b[0m\u001b[0mparams\u001b[0m\u001b[1;33m,\u001b[0m \u001b[1;33m**\u001b[0m\u001b[0mtarget_dependencies\u001b[0m\u001b[1;33m)\u001b[0m\u001b[1;33m)\u001b[0m\u001b[1;33m\u001b[0m\u001b[1;33m\u001b[0m\u001b[0m\n\u001b[0m\u001b[0;32m    103\u001b[0m             \u001b[1;32melse\u001b[0m\u001b[1;33m:\u001b[0m\u001b[1;33m\u001b[0m\u001b[1;33m\u001b[0m\u001b[0m\n\u001b[0;32m    104\u001b[0m                 \u001b[0mres\u001b[0m\u001b[1;33m[\u001b[0m\u001b[0mkey\u001b[0m\u001b[1;33m]\u001b[0m \u001b[1;33m=\u001b[0m \u001b[1;32mNone\u001b[0m\u001b[1;33m\u001b[0m\u001b[1;33m\u001b[0m\u001b[0m\n",
      "\u001b[1;32m~\\AppData\\Roaming\\Python\\Python37\\site-packages\\albumentations\\augmentations\\transforms.py\u001b[0m in \u001b[0;36mapply\u001b[1;34m(self, img, crop_height, crop_width, h_start, w_start, interpolation, **params)\u001b[0m\n\u001b[0;32m    856\u001b[0m     \u001b[1;32mdef\u001b[0m \u001b[0mapply\u001b[0m\u001b[1;33m(\u001b[0m\u001b[0mself\u001b[0m\u001b[1;33m,\u001b[0m \u001b[0mimg\u001b[0m\u001b[1;33m,\u001b[0m \u001b[0mcrop_height\u001b[0m\u001b[1;33m=\u001b[0m\u001b[1;36m0\u001b[0m\u001b[1;33m,\u001b[0m \u001b[0mcrop_width\u001b[0m\u001b[1;33m=\u001b[0m\u001b[1;36m0\u001b[0m\u001b[1;33m,\u001b[0m \u001b[0mh_start\u001b[0m\u001b[1;33m=\u001b[0m\u001b[1;36m0\u001b[0m\u001b[1;33m,\u001b[0m \u001b[0mw_start\u001b[0m\u001b[1;33m=\u001b[0m\u001b[1;36m0\u001b[0m\u001b[1;33m,\u001b[0m \u001b[0minterpolation\u001b[0m\u001b[1;33m=\u001b[0m\u001b[0mcv2\u001b[0m\u001b[1;33m.\u001b[0m\u001b[0mINTER_LINEAR\u001b[0m\u001b[1;33m,\u001b[0m \u001b[1;33m**\u001b[0m\u001b[0mparams\u001b[0m\u001b[1;33m)\u001b[0m\u001b[1;33m:\u001b[0m\u001b[1;33m\u001b[0m\u001b[1;33m\u001b[0m\u001b[0m\n\u001b[0;32m    857\u001b[0m         \u001b[0mcrop\u001b[0m \u001b[1;33m=\u001b[0m \u001b[0mF\u001b[0m\u001b[1;33m.\u001b[0m\u001b[0mrandom_crop\u001b[0m\u001b[1;33m(\u001b[0m\u001b[0mimg\u001b[0m\u001b[1;33m,\u001b[0m \u001b[0mcrop_height\u001b[0m\u001b[1;33m,\u001b[0m \u001b[0mcrop_width\u001b[0m\u001b[1;33m,\u001b[0m \u001b[0mh_start\u001b[0m\u001b[1;33m,\u001b[0m \u001b[0mw_start\u001b[0m\u001b[1;33m)\u001b[0m\u001b[1;33m\u001b[0m\u001b[1;33m\u001b[0m\u001b[0m\n\u001b[1;32m--> 858\u001b[1;33m         \u001b[1;32mreturn\u001b[0m \u001b[0mF\u001b[0m\u001b[1;33m.\u001b[0m\u001b[0mresize\u001b[0m\u001b[1;33m(\u001b[0m\u001b[0mcrop\u001b[0m\u001b[1;33m,\u001b[0m \u001b[0mself\u001b[0m\u001b[1;33m.\u001b[0m\u001b[0mheight\u001b[0m\u001b[1;33m,\u001b[0m \u001b[0mself\u001b[0m\u001b[1;33m.\u001b[0m\u001b[0mwidth\u001b[0m\u001b[1;33m,\u001b[0m \u001b[0minterpolation\u001b[0m\u001b[1;33m)\u001b[0m\u001b[1;33m\u001b[0m\u001b[1;33m\u001b[0m\u001b[0m\n\u001b[0m\u001b[0;32m    859\u001b[0m \u001b[1;33m\u001b[0m\u001b[0m\n\u001b[0;32m    860\u001b[0m     \u001b[1;32mdef\u001b[0m \u001b[0mapply_to_bbox\u001b[0m\u001b[1;33m(\u001b[0m\u001b[0mself\u001b[0m\u001b[1;33m,\u001b[0m \u001b[0mbbox\u001b[0m\u001b[1;33m,\u001b[0m \u001b[0mcrop_height\u001b[0m\u001b[1;33m=\u001b[0m\u001b[1;36m0\u001b[0m\u001b[1;33m,\u001b[0m \u001b[0mcrop_width\u001b[0m\u001b[1;33m=\u001b[0m\u001b[1;36m0\u001b[0m\u001b[1;33m,\u001b[0m \u001b[0mh_start\u001b[0m\u001b[1;33m=\u001b[0m\u001b[1;36m0\u001b[0m\u001b[1;33m,\u001b[0m \u001b[0mw_start\u001b[0m\u001b[1;33m=\u001b[0m\u001b[1;36m0\u001b[0m\u001b[1;33m,\u001b[0m \u001b[0mrows\u001b[0m\u001b[1;33m=\u001b[0m\u001b[1;36m0\u001b[0m\u001b[1;33m,\u001b[0m \u001b[0mcols\u001b[0m\u001b[1;33m=\u001b[0m\u001b[1;36m0\u001b[0m\u001b[1;33m,\u001b[0m \u001b[1;33m**\u001b[0m\u001b[0mparams\u001b[0m\u001b[1;33m)\u001b[0m\u001b[1;33m:\u001b[0m\u001b[1;33m\u001b[0m\u001b[1;33m\u001b[0m\u001b[0m\n",
      "\u001b[1;32m~\\AppData\\Roaming\\Python\\Python37\\site-packages\\albumentations\\augmentations\\functional.py\u001b[0m in \u001b[0;36mwrapped_function\u001b[1;34m(img, *args, **kwargs)\u001b[0m\n\u001b[0;32m     68\u001b[0m     \u001b[1;32mdef\u001b[0m \u001b[0mwrapped_function\u001b[0m\u001b[1;33m(\u001b[0m\u001b[0mimg\u001b[0m\u001b[1;33m,\u001b[0m \u001b[1;33m*\u001b[0m\u001b[0margs\u001b[0m\u001b[1;33m,\u001b[0m \u001b[1;33m**\u001b[0m\u001b[0mkwargs\u001b[0m\u001b[1;33m)\u001b[0m\u001b[1;33m:\u001b[0m\u001b[1;33m\u001b[0m\u001b[1;33m\u001b[0m\u001b[0m\n\u001b[0;32m     69\u001b[0m         \u001b[0mshape\u001b[0m \u001b[1;33m=\u001b[0m \u001b[0mimg\u001b[0m\u001b[1;33m.\u001b[0m\u001b[0mshape\u001b[0m\u001b[1;33m\u001b[0m\u001b[1;33m\u001b[0m\u001b[0m\n\u001b[1;32m---> 70\u001b[1;33m         \u001b[0mresult\u001b[0m \u001b[1;33m=\u001b[0m \u001b[0mfunc\u001b[0m\u001b[1;33m(\u001b[0m\u001b[0mimg\u001b[0m\u001b[1;33m,\u001b[0m \u001b[1;33m*\u001b[0m\u001b[0margs\u001b[0m\u001b[1;33m,\u001b[0m \u001b[1;33m**\u001b[0m\u001b[0mkwargs\u001b[0m\u001b[1;33m)\u001b[0m\u001b[1;33m\u001b[0m\u001b[1;33m\u001b[0m\u001b[0m\n\u001b[0m\u001b[0;32m     71\u001b[0m         \u001b[1;32mif\u001b[0m \u001b[0mlen\u001b[0m\u001b[1;33m(\u001b[0m\u001b[0mshape\u001b[0m\u001b[1;33m)\u001b[0m \u001b[1;33m==\u001b[0m \u001b[1;36m3\u001b[0m \u001b[1;32mand\u001b[0m \u001b[0mshape\u001b[0m\u001b[1;33m[\u001b[0m\u001b[1;33m-\u001b[0m\u001b[1;36m1\u001b[0m\u001b[1;33m]\u001b[0m \u001b[1;33m==\u001b[0m \u001b[1;36m1\u001b[0m \u001b[1;32mand\u001b[0m \u001b[0mlen\u001b[0m\u001b[1;33m(\u001b[0m\u001b[0mresult\u001b[0m\u001b[1;33m.\u001b[0m\u001b[0mshape\u001b[0m\u001b[1;33m)\u001b[0m \u001b[1;33m==\u001b[0m \u001b[1;36m2\u001b[0m\u001b[1;33m:\u001b[0m\u001b[1;33m\u001b[0m\u001b[1;33m\u001b[0m\u001b[0m\n\u001b[0;32m     72\u001b[0m             \u001b[0mresult\u001b[0m \u001b[1;33m=\u001b[0m \u001b[0mnp\u001b[0m\u001b[1;33m.\u001b[0m\u001b[0mexpand_dims\u001b[0m\u001b[1;33m(\u001b[0m\u001b[0mresult\u001b[0m\u001b[1;33m,\u001b[0m \u001b[0maxis\u001b[0m\u001b[1;33m=\u001b[0m\u001b[1;33m-\u001b[0m\u001b[1;36m1\u001b[0m\u001b[1;33m)\u001b[0m\u001b[1;33m\u001b[0m\u001b[1;33m\u001b[0m\u001b[0m\n",
      "\u001b[1;32m~\\AppData\\Roaming\\Python\\Python37\\site-packages\\albumentations\\augmentations\\functional.py\u001b[0m in \u001b[0;36mresize\u001b[1;34m(img, height, width, interpolation)\u001b[0m\n\u001b[0;32m    209\u001b[0m         \u001b[1;32mreturn\u001b[0m \u001b[0mimg\u001b[0m\u001b[1;33m\u001b[0m\u001b[1;33m\u001b[0m\u001b[0m\n\u001b[0;32m    210\u001b[0m     \u001b[0mresize_fn\u001b[0m \u001b[1;33m=\u001b[0m \u001b[0m_maybe_process_in_chunks\u001b[0m\u001b[1;33m(\u001b[0m\u001b[0mcv2\u001b[0m\u001b[1;33m.\u001b[0m\u001b[0mresize\u001b[0m\u001b[1;33m,\u001b[0m \u001b[0mdsize\u001b[0m\u001b[1;33m=\u001b[0m\u001b[1;33m(\u001b[0m\u001b[0mwidth\u001b[0m\u001b[1;33m,\u001b[0m \u001b[0mheight\u001b[0m\u001b[1;33m)\u001b[0m\u001b[1;33m,\u001b[0m \u001b[0minterpolation\u001b[0m\u001b[1;33m=\u001b[0m\u001b[0minterpolation\u001b[0m\u001b[1;33m)\u001b[0m\u001b[1;33m\u001b[0m\u001b[1;33m\u001b[0m\u001b[0m\n\u001b[1;32m--> 211\u001b[1;33m     \u001b[1;32mreturn\u001b[0m \u001b[0mresize_fn\u001b[0m\u001b[1;33m(\u001b[0m\u001b[0mimg\u001b[0m\u001b[1;33m)\u001b[0m\u001b[1;33m\u001b[0m\u001b[1;33m\u001b[0m\u001b[0m\n\u001b[0m\u001b[0;32m    212\u001b[0m \u001b[1;33m\u001b[0m\u001b[0m\n\u001b[0;32m    213\u001b[0m \u001b[1;33m\u001b[0m\u001b[0m\n",
      "\u001b[1;32m~\\AppData\\Roaming\\Python\\Python37\\site-packages\\albumentations\\augmentations\\functional.py\u001b[0m in \u001b[0;36m__process_fn\u001b[1;34m(img)\u001b[0m\n\u001b[0;32m    186\u001b[0m             \u001b[0mimg\u001b[0m \u001b[1;33m=\u001b[0m \u001b[0mnp\u001b[0m\u001b[1;33m.\u001b[0m\u001b[0mdstack\u001b[0m\u001b[1;33m(\u001b[0m\u001b[0mchunks\u001b[0m\u001b[1;33m)\u001b[0m\u001b[1;33m\u001b[0m\u001b[1;33m\u001b[0m\u001b[0m\n\u001b[0;32m    187\u001b[0m         \u001b[1;32melse\u001b[0m\u001b[1;33m:\u001b[0m\u001b[1;33m\u001b[0m\u001b[1;33m\u001b[0m\u001b[0m\n\u001b[1;32m--> 188\u001b[1;33m             \u001b[0mimg\u001b[0m \u001b[1;33m=\u001b[0m \u001b[0mprocess_fn\u001b[0m\u001b[1;33m(\u001b[0m\u001b[0mimg\u001b[0m\u001b[1;33m,\u001b[0m \u001b[1;33m**\u001b[0m\u001b[0mkwargs\u001b[0m\u001b[1;33m)\u001b[0m\u001b[1;33m\u001b[0m\u001b[1;33m\u001b[0m\u001b[0m\n\u001b[0m\u001b[0;32m    189\u001b[0m         \u001b[1;32mreturn\u001b[0m \u001b[0mimg\u001b[0m\u001b[1;33m\u001b[0m\u001b[1;33m\u001b[0m\u001b[0m\n\u001b[0;32m    190\u001b[0m \u001b[1;33m\u001b[0m\u001b[0m\n",
      "\u001b[1;31mKeyboardInterrupt\u001b[0m: "
     ]
    }
   ],
   "source": [
    "dl = torch.utils.data.DataLoader(ds, batch_size=2048, shuffle=True)\n",
    "SSLmodel = SSLModel()\n",
    "optimizer = torch.optim.Adam(SSLmodel.parameters(), lr=0.002)\n",
    "epochs = 100\n",
    "scheduler = torch.optim.lr_scheduler.OneCycleLR(optimizer, pct_start=0.1, max_lr=0.2, total_steps=epochs, verbose=True)\n",
    "hist = SSLtrain(SSLmodel, dl, optimizer, scheduler, epochs=epochs)"
   ]
  },
  {
   "cell_type": "code",
   "execution_count": null,
   "id": "adjustable-minimum",
   "metadata": {
    "ExecuteTime": {
     "end_time": "2021-05-12T11:16:21.599024Z",
     "start_time": "2021-05-12T11:15:54.416Z"
    }
   },
   "outputs": [],
   "source": [
    "torch.jit.script(SSLmodel.backbone.cpu()).save('SSLbackbone.pt')"
   ]
  },
  {
   "cell_type": "code",
   "execution_count": null,
   "id": "corrected-milwaukee",
   "metadata": {
    "ExecuteTime": {
     "end_time": "2021-05-12T11:16:21.600022Z",
     "start_time": "2021-05-12T11:15:54.417Z"
    },
    "code_folding": [
     0
    ]
   },
   "outputs": [],
   "source": [
    "class FTModel(torch.nn.Module):\n",
    "\n",
    "    def __init__(self, backbone='SSLbackbone.pt', n_channels=3, n_outputs=10):\n",
    "        super().__init__()\n",
    "        self.backbone = torch.jit.load(backbone)\n",
    "        for param in self.backbone.parameters():\n",
    "            param.requires_grad = False\n",
    "        self.fc = torch.nn.Linear(256*4*4, n_outputs)\n",
    "\n",
    "    def forward(self, x):\n",
    "        with torch.no_grad():\n",
    "            x = self.backbone(x)\n",
    "        x = x.view(x.shape[0], -1)\n",
    "        x = self.fc(x)\n",
    "        return x"
   ]
  },
  {
   "cell_type": "code",
   "execution_count": null,
   "id": "bibliographic-trading",
   "metadata": {
    "ExecuteTime": {
     "end_time": "2021-05-12T11:16:21.601024Z",
     "start_time": "2021-05-12T11:15:54.418Z"
    }
   },
   "outputs": [],
   "source": [
    "FTmodel = FTModel()\n",
    "output = FTmodel(torch.randn(32, 3, 32, 32))\n",
    "\n",
    "output.shape"
   ]
  },
  {
   "cell_type": "code",
   "execution_count": null,
   "id": "progressive-maine",
   "metadata": {
    "ExecuteTime": {
     "end_time": "2021-05-12T11:16:21.601024Z",
     "start_time": "2021-05-12T11:15:54.421Z"
    },
    "code_folding": [
     0,
     6
    ]
   },
   "outputs": [],
   "source": [
    "ds = {\n",
    "    'train': Dataset(),\n",
    "    'test': Dataset(train=False)\n",
    "}\n",
    "\n",
    "batch_size = 32\n",
    "dl = {\n",
    "    'train': torch.utils.data.DataLoader(ds['train'], batch_size=batch_size, shuffle=True),\n",
    "    'test': torch.utils.data.DataLoader(ds['test'], batch_size=batch_size, shuffle=False)\n",
    "} \n",
    "\n",
    "FTmodel = FTModel()\n",
    "optimizer = torch.optim.Adam(FTmodel.parameters(), lr=3e-4)\n",
    "\n",
    "hist = train(model, dl, optimizer, epochs=3)"
   ]
  },
  {
   "cell_type": "code",
   "execution_count": null,
   "id": "placed-apple",
   "metadata": {
    "code_folding": [
     5
    ]
   },
   "outputs": [],
   "source": [
    "pctgs = [0.01, 0.1, 1.]\n",
    "batch_size = 32\n",
    "epochs=3\n",
    "lr=3e-4\n",
    "ssl_hists = []\n",
    "for pctg in pctgs:\n",
    "    ds = {\n",
    "        'train': Dataset(pctg=pctg),\n",
    "        'test': Dataset(train=False)\n",
    "    }\n",
    "    dl = {\n",
    "        'train': torch.utils.data.DataLoader(ds['train'], batch_size=batch_size, shuffle=True),\n",
    "        'test': torch.utils.data.DataLoader(ds['test'], batch_size=batch_size, shuffle=False)\n",
    "    } \n",
    "    FTmodel = FTModel()\n",
    "    optimizer = torch.optim.Adam(FTmodel.parameters(), lr=lr)\n",
    "    hist = train(FTmodel, dl, optimizer, epochs=epochs)\n",
    "    ssl_hists.append(hist)"
   ]
  },
  {
   "cell_type": "code",
   "execution_count": null,
   "id": "sunset-gasoline",
   "metadata": {
    "code_folding": [
     2,
     9
    ]
   },
   "outputs": [],
   "source": [
    "fig = plt.figure(figsize=(8, 3), dpi=100)\n",
    "ax = plt.subplot(1, 2, 1)\n",
    "for i, pctg in enumerate(pctgs):\n",
    "    ax.plot(hists[i]['test_loss'])\n",
    "    ax.plot(ssl_hists[i]['ssl_test_loss'])\n",
    "ax.grid(True)\n",
    "ax.legend(pctgs)\n",
    "ax.set_title('loss')\n",
    "ax = plt.subplot(1, 2, 2)\n",
    "for i, pctg in enumerate(pctgs):\n",
    "    ax.plot(hists[i]['test_acc'])\n",
    "    ax.plot(ssl_hists[i]['ssl_test_acc'])\n",
    "ax.grid(True)\n",
    "ax.set_title('acc')\n",
    "plt.tight_layout()\n",
    "plt.show()"
   ]
  }
 ],
 "metadata": {
  "kernelspec": {
   "display_name": "Python 3",
   "language": "python",
   "name": "python3"
  },
  "language_info": {
   "codemirror_mode": {
    "name": "ipython",
    "version": 3
   },
   "file_extension": ".py",
   "mimetype": "text/x-python",
   "name": "python",
   "nbconvert_exporter": "python",
   "pygments_lexer": "ipython3",
   "version": "3.7.6"
  },
  "toc": {
   "base_numbering": 1,
   "nav_menu": {},
   "number_sections": true,
   "sideBar": true,
   "skip_h1_title": false,
   "title_cell": "Table of Contents",
   "title_sidebar": "Contents",
   "toc_cell": false,
   "toc_position": {},
   "toc_section_display": true,
   "toc_window_display": false
  }
 },
 "nbformat": 4,
 "nbformat_minor": 5
}
