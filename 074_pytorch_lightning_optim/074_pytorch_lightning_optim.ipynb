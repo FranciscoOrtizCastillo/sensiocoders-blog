{
 "cells": [
  {
   "cell_type": "markdown",
   "id": "eff2464c",
   "metadata": {},
   "source": [
    "[![Open In Colab](https://colab.research.google.com/assets/colab-badge.svg)](https://colab.research.google.com/github/juansensio/blog/blob/master/072_pytorch_ngc/072_pytorch_ngc.ipynb)"
   ]
  },
  {
   "cell_type": "markdown",
   "id": "e829199e",
   "metadata": {},
   "source": [
    "# Pytorch Lightning - Optimización"
   ]
  },
  {
   "cell_type": "markdown",
   "id": "ea38e64b",
   "metadata": {},
   "source": [
    "Por suerte, todo lo que hemos visto hasta ahora está implementado en `Pytorch Lightning`, por lo que no tenemos que comernos mucho la cabeza."
   ]
  },
  {
   "cell_type": "markdown",
   "id": "e08b8cb0",
   "metadata": {},
   "source": [
    "docker-compose build"
   ]
  },
  {
   "cell_type": "code",
   "execution_count": 1,
   "id": "20817bce",
   "metadata": {
    "ExecuteTime": {
     "end_time": "2021-06-29T15:39:28.967102Z",
     "start_time": "2021-06-29T15:39:28.956406Z"
    }
   },
   "outputs": [
    {
     "name": "stderr",
     "output_type": "stream",
     "text": [
      "/opt/conda/lib/python3.8/site-packages/pytorch_lightning/metrics/__init__.py:43: LightningDeprecationWarning: `pytorch_lightning.metrics.*` module has been renamed to `torchmetrics.*` and split off to its own package (https://github.com/PyTorchLightning/metrics) since v1.3 and will be removed in v1.5\n",
      "  rank_zero_deprecation(\n"
     ]
    }
   ],
   "source": [
    "import os\n",
    "from sklearn.model_selection import train_test_split\n",
    "import pytorch_lightning as pl\n",
    "import torch\n",
    "from skimage import io \n",
    "from torch.utils.data import DataLoader\n",
    "\n",
    "class Dataset(torch.utils.data.Dataset):\n",
    "    def __init__(self, images, labels):\n",
    "        self.images = images\n",
    "        self.labels = labels\n",
    "\n",
    "    def __len__(self):\n",
    "        return len(self.images)\n",
    "\n",
    "    def __getitem__(self, ix):\n",
    "        img = io.imread(self.images[ix])[...,(3,2,1)]\n",
    "        img = torch.tensor(img / 4000, dtype=torch.float).clip(0,1).permute(2,0,1)  \n",
    "        label = torch.tensor(self.labels[ix], dtype=torch.long)        \n",
    "        return img, label\n",
    "    \n",
    "class DataModule(pl.LightningDataModule):\n",
    "\n",
    "    def __init__(self, path='./data', batch_size=1024, num_workers=20, test_size=0.2, random_state=42):\n",
    "        super().__init__()\n",
    "        self.path = path\n",
    "        self.batch_size = batch_size\n",
    "        self.num_workers = num_workers\n",
    "        self.test_size = test_size \n",
    "        self.random_state = random_state\n",
    "        \n",
    "        \n",
    "    def setup(self, stage=None):\n",
    "\n",
    "        self.classes = sorted(os.listdir(self.path))\n",
    "\n",
    "        print(\"Generating images and labels ...\")\n",
    "        images, encoded = [], []\n",
    "        for ix, label in enumerate(self.classes):\n",
    "            _images = os.listdir(f'{self.path}/{label}')\n",
    "            images += [f'{self.path}/{label}/{img}' for img in _images]\n",
    "            encoded += [ix]*len(_images)\n",
    "        print(f'Number of images: {len(images)}')\n",
    "\n",
    "         # train / val split\n",
    "        print(\"Generating train / val splits ...\")\n",
    "        train_images, val_images, train_labels, val_labels = train_test_split(\n",
    "            images,\n",
    "            encoded,\n",
    "            stratify=encoded,\n",
    "            test_size=self.test_size,\n",
    "            random_state=self.random_state\n",
    "        )\n",
    "\n",
    "        print(\"Training samples: \", len(train_labels))\n",
    "        print(\"Validation samples: \", len(val_labels))\n",
    "        \n",
    "        self.train_ds = Dataset(train_images, train_labels)\n",
    "        self.val_ds = Dataset(val_images, val_labels)\n",
    "\n",
    "    def train_dataloader(self):\n",
    "        return DataLoader(\n",
    "            self.train_ds,\n",
    "            batch_size=self.batch_size,\n",
    "            num_workers=self.num_workers,\n",
    "            shuffle=True,\n",
    "            pin_memory=True\n",
    "        )\n",
    "\n",
    "    def val_dataloader(self):\n",
    "        return DataLoader(\n",
    "            self.val_ds,\n",
    "            batch_size=self.batch_size,\n",
    "            num_workers=self.num_workers,\n",
    "            shuffle=False,\n",
    "            pin_memory=True\n",
    "        )"
   ]
  },
  {
   "cell_type": "code",
   "execution_count": 2,
   "id": "94311af4",
   "metadata": {
    "ExecuteTime": {
     "end_time": "2021-06-29T15:39:33.352970Z",
     "start_time": "2021-06-29T15:39:29.215925Z"
    }
   },
   "outputs": [
    {
     "name": "stdout",
     "output_type": "stream",
     "text": [
      "Generating images and labels ...\n",
      "Number of images: 27000\n",
      "Generating train / val splits ...\n",
      "Training samples:  21600\n",
      "Validation samples:  5400\n"
     ]
    },
    {
     "data": {
      "text/plain": [
       "(torch.Size([1024, 3, 64, 64]), torch.Size([1024]))"
      ]
     },
     "execution_count": 2,
     "metadata": {},
     "output_type": "execute_result"
    }
   ],
   "source": [
    "dm = DataModule()\n",
    "dm.setup()\n",
    "\n",
    "imgs, labels = next(iter(dm.train_dataloader()))\n",
    "imgs.shape, labels.shape"
   ]
  },
  {
   "cell_type": "code",
   "execution_count": 7,
   "id": "da9a3e19",
   "metadata": {},
   "outputs": [],
   "source": [
    "import torch.nn.functional as F\n",
    "import torchvision\n",
    "\n",
    "class Model(pl.LightningModule):\n",
    "\n",
    "    def __init__(self, n_outputs=10):\n",
    "        super().__init__()\n",
    "        self.model = torchvision.models.resnet50(pretrained=True, progress=None)\n",
    "        self.model.fc = torch.nn.Linear(2048, n_outputs)\n",
    "\n",
    "    def forward(self, x):\n",
    "        return self.model(x)\n",
    "    \n",
    "    def training_step(self, batch, batch_idx):\n",
    "        loss, acc = self.shared_step(batch)\n",
    "        self.log('loss', loss)\n",
    "        self.log('acc', acc, prog_bar=True)\n",
    "        return loss\n",
    "\n",
    "    def validation_step(self, batch, batch_idx):\n",
    "        loss, acc = self.shared_step(batch)\n",
    "        self.log('val_loss', loss, prog_bar=True)\n",
    "        self.log('val_acc', acc, prog_bar=True)\n",
    "\n",
    "    def shared_step(self, batch):\n",
    "        x, y = batch\n",
    "        y_hat = self(x)\n",
    "        loss = F.cross_entropy(y_hat, y)\n",
    "        acc = (torch.argmax(y_hat, axis=1) == y).sum().item() / y.size(0)\n",
    "        return loss, acc\n",
    "\n",
    "    def configure_optimizers(self):\n",
    "        return torch.optim.Adam(self.parameters())"
   ]
  },
  {
   "cell_type": "code",
   "execution_count": 9,
   "id": "eb3a0699",
   "metadata": {},
   "outputs": [
    {
     "name": "stderr",
     "output_type": "stream",
     "text": [
      "GPU available: True, used: True\n",
      "TPU available: False, using: 0 TPU cores\n",
      "Using native 16bit precision.\n",
      "LOCAL_RANK: 0 - CUDA_VISIBLE_DEVICES: [0,1]\n",
      "\n",
      "  | Name  | Type   | Params\n",
      "---------------------------------\n",
      "0 | model | ResNet | 23.5 M\n",
      "---------------------------------\n",
      "23.5 M    Trainable params\n",
      "0         Non-trainable params\n",
      "23.5 M    Total params\n",
      "94.114    Total estimated model params size (MB)\n"
     ]
    },
    {
     "name": "stdout",
     "output_type": "stream",
     "text": [
      "Generating images and labels ...\n",
      "Number of images: 27000\n",
      "Generating train / val splits ...\n",
      "Training samples:  21600\n",
      "Validation samples:  5400\n",
      "Epoch 0:  79%|███████▊  | 22/28 [00:04<00:01,  4.46it/s, loss=0.266, v_num=1, val_loss=2.340, val_acc=0.0918, acc=0.963]\n",
      "Validating: 0it [00:00, ?it/s]\u001b[A\n",
      "Validating:   0%|          | 0/6 [00:00<?, ?it/s]\u001b[A\n",
      "Epoch 0:  86%|████████▌ | 24/28 [00:06<00:01,  3.73it/s, loss=0.266, v_num=1, val_loss=2.340, val_acc=0.0918, acc=0.963]\n",
      "Epoch 0:  93%|█████████▎| 26/28 [00:06<00:00,  3.97it/s, loss=0.266, v_num=1, val_loss=2.340, val_acc=0.0918, acc=0.963]\n",
      "Epoch 0: 100%|██████████| 28/28 [00:06<00:00,  4.14it/s, loss=0.266, v_num=1, val_loss=1.290, val_acc=0.742, acc=0.938] \n",
      "Epoch 1:  79%|███████▊  | 22/28 [00:04<00:01,  4.44it/s, loss=0.0984, v_num=1, val_loss=1.290, val_acc=0.742, acc=0.968]\n",
      "Validating: 0it [00:00, ?it/s]\u001b[A\n",
      "Validating:   0%|          | 0/6 [00:00<?, ?it/s]\u001b[A\n",
      "Epoch 1:  86%|████████▌ | 24/28 [00:06<00:01,  3.71it/s, loss=0.0984, v_num=1, val_loss=1.290, val_acc=0.742, acc=0.968]\n",
      "Epoch 1:  93%|█████████▎| 26/28 [00:06<00:00,  3.95it/s, loss=0.0984, v_num=1, val_loss=1.290, val_acc=0.742, acc=0.968]\n",
      "Epoch 1: 100%|██████████| 28/28 [00:06<00:00,  4.12it/s, loss=0.0984, v_num=1, val_loss=0.264, val_acc=0.915, acc=0.969]\n",
      "Epoch 2:  79%|███████▊  | 22/28 [00:04<00:01,  4.52it/s, loss=0.0644, v_num=1, val_loss=0.264, val_acc=0.915, acc=0.981]\n",
      "Validating: 0it [00:00, ?it/s]\u001b[A\n",
      "Validating:   0%|          | 0/6 [00:00<?, ?it/s]\u001b[A\n",
      "Epoch 2:  86%|████████▌ | 24/28 [00:06<00:01,  3.76it/s, loss=0.0644, v_num=1, val_loss=0.264, val_acc=0.915, acc=0.981]\n",
      "Epoch 2:  93%|█████████▎| 26/28 [00:06<00:00,  4.01it/s, loss=0.0644, v_num=1, val_loss=0.264, val_acc=0.915, acc=0.981]\n",
      "Epoch 2: 100%|██████████| 28/28 [00:06<00:00,  4.17it/s, loss=0.0644, v_num=1, val_loss=0.194, val_acc=0.944, acc=0.938]\n",
      "Epoch 2: 100%|██████████| 28/28 [00:07<00:00,  3.89it/s, loss=0.0644, v_num=1, val_loss=0.194, val_acc=0.944, acc=0.938]\n"
     ]
    }
   ],
   "source": [
    "model = Model()\n",
    "dm = DataModule()\n",
    "trainer = pl.Trainer(gpus=1, precision=16, max_epochs=3)\n",
    "trainer.fit(model, dm)"
   ]
  },
  {
   "cell_type": "code",
   "execution_count": 11,
   "id": "a1a6c1f4",
   "metadata": {},
   "outputs": [
    {
     "name": "stderr",
     "output_type": "stream",
     "text": [
      "GPU available: True, used: True\n",
      "TPU available: False, using: 0 TPU cores\n",
      "Using native 16bit precision.\n",
      "LOCAL_RANK: 0 - CUDA_VISIBLE_DEVICES: [0,1]\n",
      "\n",
      "  | Name  | Type   | Params\n",
      "---------------------------------\n",
      "0 | model | ResNet | 23.5 M\n",
      "---------------------------------\n",
      "23.5 M    Trainable params\n",
      "0         Non-trainable params\n",
      "23.5 M    Total params\n",
      "94.114    Total estimated model params size (MB)\n"
     ]
    },
    {
     "name": "stdout",
     "output_type": "stream",
     "text": [
      "Generating images and labels ...\n",
      "Number of images: 27000\n",
      "Generating train / val splits ...\n",
      "Training samples:  21600\n",
      "Validation samples:  5400\n",
      "Epoch 0:  79%|███████▊  | 11/14 [00:04<00:01,  2.45it/s, loss=0.636, v_num=3, val_loss=2.380, val_acc=0.146, acc=0.943]\n",
      "Validating: 0it [00:00, ?it/s]\u001b[A\n",
      "Validating:   0%|          | 0/3 [00:00<?, ?it/s]\u001b[A\n",
      "Epoch 0:  93%|█████████▎| 13/14 [00:06<00:00,  1.89it/s, loss=0.636, v_num=3, val_loss=2.380, val_acc=0.146, acc=0.943]\n",
      "Epoch 0: 100%|██████████| 14/14 [00:07<00:00,  1.97it/s, loss=0.636, v_num=3, val_loss=42.20, val_acc=0.202, acc=0.930]\n",
      "Epoch 1:  86%|████████▌ | 12/14 [00:04<00:00,  2.73it/s, loss=0.202, v_num=3, val_loss=42.20, val_acc=0.202, acc=0.975]\n",
      "Validating: 0it [00:00, ?it/s]\u001b[A\n",
      "Epoch 1:  11%|█         | 3/28 [00:21<02:55,  7.02s/it, loss=0.193, v_num=2, val_loss=4.240, val_acc=0.568, acc=0.969]\n",
      "Epoch 1:  11%|█         | 3/28 [00:21<02:55,  7.04s/it, loss=0.193, v_num=2, val_loss=4.240, val_acc=0.568, acc=0.969]\n",
      "\n",
      "Epoch 1: 100%|██████████| 14/14 [00:06<00:00,  2.01it/s, loss=0.202, v_num=3, val_loss=42.20, val_acc=0.202, acc=0.975]\n",
      "Epoch 1: 100%|██████████| 14/14 [00:07<00:00,  1.96it/s, loss=0.202, v_num=3, val_loss=17.30, val_acc=0.479, acc=0.966]\n",
      "Epoch 1:  11%|█         | 3/28 [00:23<03:19,  7.98s/it, loss=0.193, v_num=2, val_loss=4.240, val_acc=0.568, acc=0.969] \n",
      "Epoch 1:  11%|█         | 3/28 [00:23<03:19,  7.98s/it, loss=0.193, v_num=2, val_loss=4.240, val_acc=0.568, acc=0.969]\n",
      "Epoch 1:  11%|█         | 3/28 [00:23<03:19,  7.99s/it, loss=0.193, v_num=2, val_loss=4.240, val_acc=0.568, acc=0.969]\n",
      "Epoch 1:  11%|█         | 3/28 [00:23<03:19,  7.99s/it, loss=0.193, v_num=2, val_loss=4.240, val_acc=0.568, acc=0.969]\n",
      "Epoch 1:  11%|█         | 3/28 [00:23<03:19,  7.99s/it, loss=0.193, v_num=2, val_loss=4.240, val_acc=0.568, acc=0.969]\n",
      "Epoch 1:  11%|█         | 3/28 [00:23<03:19,  7.99s/it, loss=0.193, v_num=2, val_loss=4.240, val_acc=0.568, acc=0.969]\n",
      "Epoch 1:  11%|█         | 3/28 [00:24<03:20,  8.04s/it, loss=0.193, v_num=2, val_loss=4.240, val_acc=0.568, acc=0.969]\n",
      "Epoch 1:  11%|█         | 3/28 [00:24<03:21,  8.05s/it, loss=0.193, v_num=2, val_loss=4.240, val_acc=0.568, acc=0.969]\n",
      "Epoch 1:  11%|█         | 3/28 [00:24<03:22,  8.08s/it, loss=0.193, v_num=2, val_loss=4.240, val_acc=0.568, acc=0.969]\n",
      "Epoch 1:  11%|█         | 3/28 [00:24<03:23,  8.14s/it, loss=0.193, v_num=2, val_loss=4.240, val_acc=0.568, acc=0.969]\n",
      "Epoch 1:  11%|█         | 3/28 [00:25<03:36,  8.65s/it, loss=0.193, v_num=2, val_loss=4.240, val_acc=0.568, acc=0.969]]\n",
      "Epoch 2:  86%|████████▌ | 12/14 [00:04<00:00,  2.59it/s, loss=0.0686, v_num=3, val_loss=17.30, val_acc=0.479, acc=0.985]\n",
      "Validating: 0it [00:00, ?it/s]\u001b[A\n",
      "Validating:   0%|          | 0/3 [00:00<?, ?it/s]\u001b[A\n",
      "Epoch 2: 100%|██████████| 14/14 [00:07<00:00,  1.97it/s, loss=0.0686, v_num=3, val_loss=17.30, val_acc=0.479, acc=0.985]\n",
      "Epoch 2: 100%|██████████| 14/14 [00:07<00:00,  1.92it/s, loss=0.0686, v_num=3, val_loss=1.030, val_acc=0.790, acc=0.988]\n",
      "Epoch 2: 100%|██████████| 14/14 [00:07<00:00,  1.80it/s, loss=0.0686, v_num=3, val_loss=1.030, val_acc=0.790, acc=0.988]\n"
     ]
    }
   ],
   "source": [
    "model = Model()\n",
    "dm = DataModule(batch_size=2048)\n",
    "trainer = pl.Trainer(gpus=2, accelerator='dp', precision=16, max_epochs=3)\n",
    "trainer.fit(model, dm)"
   ]
  },
  {
   "cell_type": "markdown",
   "id": "408530a5",
   "metadata": {},
   "source": [
    "## Profiling"
   ]
  },
  {
   "cell_type": "code",
   "execution_count": 15,
   "id": "0dca342d",
   "metadata": {},
   "outputs": [
    {
     "name": "stderr",
     "output_type": "stream",
     "text": [
      "GPU available: True, used: True\n",
      "TPU available: False, using: 0 TPU cores\n",
      "Using native 16bit precision.\n",
      "LOCAL_RANK: 0 - CUDA_VISIBLE_DEVICES: [0,1]\n",
      "\n",
      "  | Name  | Type   | Params\n",
      "---------------------------------\n",
      "0 | model | ResNet | 23.5 M\n",
      "---------------------------------\n",
      "23.5 M    Trainable params\n",
      "0         Non-trainable params\n",
      "23.5 M    Total params\n",
      "94.114    Total estimated model params size (MB)\n"
     ]
    },
    {
     "name": "stdout",
     "output_type": "stream",
     "text": [
      "Epoch 0:  79%|███████▊  | 11/14 [00:05<00:01,  2.07it/s, loss=0.374, v_num=5, val_loss=0.436, val_acc=0.904, acc=0.958]\n",
      "Validating: 0it [00:00, ?it/s]\u001b[A\n",
      "Epoch 2:  86%|████████▌ | 12/14 [00:22<00:03,  1.89s/it, loss=0.072, v_num=4, val_loss=0.428, val_acc=0.904, acc=0.986]\n",
      "Epoch 0:  93%|█████████▎| 13/14 [00:07<00:00,  1.68it/s, loss=0.374, v_num=5, val_loss=0.436, val_acc=0.904, acc=0.958]\n",
      "Epoch 0: 100%|██████████| 14/14 [00:08<00:00,  1.75it/s, loss=0.374, v_num=5, val_loss=18.20, val_acc=0.307, acc=0.959]\n",
      "Epoch 0: 100%|██████████| 14/14 [00:08<00:00,  1.65it/s, loss=0.374, v_num=5, val_loss=18.20, val_acc=0.307, acc=0.959]"
     ]
    },
    {
     "name": "stderr",
     "output_type": "stream",
     "text": [
      "FIT Profiler Report\n",
      "\n",
      "Action                             \t|  Mean duration (s)\t|Num calls      \t|  Total time (s) \t|  Percentage %   \t|\n",
      "--------------------------------------------------------------------------------------------------------------------------------------\n",
      "Total                              \t|  -              \t|_              \t|  11.197         \t|  100 %          \t|\n",
      "--------------------------------------------------------------------------------------------------------------------------------------\n",
      "run_training_epoch                 \t|  8.4694         \t|1              \t|  8.4694         \t|  75.639         \t|\n",
      "run_training_batch                 \t|  0.24904        \t|11             \t|  2.7394         \t|  24.465         \t|\n",
      "optimizer_step_and_closure_0       \t|  0.24848        \t|11             \t|  2.7333         \t|  24.411         \t|\n",
      "get_train_batch                    \t|  0.23089        \t|11             \t|  2.5398         \t|  22.682         \t|\n",
      "training_step_and_backward         \t|  0.09955        \t|11             \t|  1.095          \t|  9.7797         \t|\n",
      "model_forward                      \t|  0.08196        \t|11             \t|  0.90156        \t|  8.0517         \t|\n",
      "training_step                      \t|  0.081749       \t|11             \t|  0.89924        \t|  8.0309         \t|\n",
      "evaluation_step_and_end            \t|  0.10137        \t|5              \t|  0.50683        \t|  4.5264         \t|\n",
      "validation_step                    \t|  0.10116        \t|5              \t|  0.50579        \t|  4.5171         \t|\n",
      "on_validation_end                  \t|  0.23164        \t|2              \t|  0.46329        \t|  4.1375         \t|\n",
      "backward                           \t|  0.016144       \t|11             \t|  0.17758        \t|  1.586          \t|\n",
      "on_train_batch_end                 \t|  0.0019681      \t|11             \t|  0.021649       \t|  0.19334        \t|\n",
      "on_train_start                     \t|  0.015926       \t|1              \t|  0.015926       \t|  0.14223        \t|\n",
      "on_validation_batch_end            \t|  0.0017015      \t|5              \t|  0.0085074      \t|  0.075978       \t|\n",
      "on_validation_start                \t|  0.0012191      \t|2              \t|  0.0024382      \t|  0.021775       \t|\n",
      "cache_result                       \t|  1.6535e-05     \t|82             \t|  0.0013559      \t|  0.012109       \t|\n",
      "on_train_end                       \t|  0.0013387      \t|1              \t|  0.0013387      \t|  0.011956       \t|\n",
      "on_train_epoch_start               \t|  0.00078462     \t|1              \t|  0.00078462     \t|  0.0070073      \t|\n",
      "on_train_epoch_end                 \t|  0.00043255     \t|1              \t|  0.00043255     \t|  0.003863       \t|\n",
      "on_validation_batch_start          \t|  7.2177e-05     \t|5              \t|  0.00036089     \t|  0.003223       \t|\n",
      "on_batch_start                     \t|  2.3034e-05     \t|11             \t|  0.00025337     \t|  0.0022628      \t|\n",
      "on_after_backward                  \t|  1.4974e-05     \t|11             \t|  0.00016471     \t|  0.001471       \t|\n",
      "on_batch_end                       \t|  1.3253e-05     \t|11             \t|  0.00014578     \t|  0.0013019      \t|\n",
      "on_before_zero_grad                \t|  1.2836e-05     \t|11             \t|  0.0001412      \t|  0.001261       \t|\n",
      "on_train_batch_start               \t|  1.2613e-05     \t|11             \t|  0.00013875     \t|  0.0012391      \t|\n",
      "training_step_end                  \t|  8.0348e-06     \t|11             \t|  8.8383e-05     \t|  0.00078933     \t|\n",
      "validation_step_end                \t|  1.146e-05      \t|5              \t|  5.7299e-05     \t|  0.00051173     \t|\n",
      "on_epoch_end                       \t|  1.882e-05      \t|3              \t|  5.6461e-05     \t|  0.00050424     \t|\n",
      "on_validation_epoch_end            \t|  1.6164e-05     \t|2              \t|  3.2328e-05     \t|  0.00028872     \t|\n",
      "on_epoch_start                     \t|  9.9593e-06     \t|3              \t|  2.9878e-05     \t|  0.00026684     \t|\n",
      "on_before_accelerator_backend_setup\t|  2.5799e-05     \t|1              \t|  2.5799e-05     \t|  0.00023041     \t|\n",
      "on_validation_epoch_start          \t|  8.733e-06      \t|2              \t|  1.7466e-05     \t|  0.00015599     \t|\n",
      "on_fit_start                       \t|  1.5184e-05     \t|1              \t|  1.5184e-05     \t|  0.00013561     \t|\n",
      "on_train_dataloader                \t|  1.0759e-05     \t|1              \t|  1.0759e-05     \t|  9.6087e-05     \t|\n",
      "on_val_dataloader                  \t|  7.727e-06      \t|1              \t|  7.727e-06      \t|  6.9009e-05     \t|\n",
      "\n"
     ]
    },
    {
     "name": "stdout",
     "output_type": "stream",
     "text": [
      "\n"
     ]
    }
   ],
   "source": [
    "trainer = pl.Trainer(gpus=1, precision=16, max_epochs=1, profiler='simple')\n",
    "trainer.fit(model, dm)"
   ]
  },
  {
   "cell_type": "markdown",
   "id": "183900a6",
   "metadata": {},
   "source": [
    "```\n",
    "docker run --gpus all --ipc=host --rm -v $PWD/073_pytorch_lightning_optim:/workspace -v $PWD/073_pytorch_lightning_optim/data:/workspace/data  pytorch-ngc python train.py\n",
    "```"
   ]
  },
  {
   "cell_type": "code",
   "execution_count": 16,
   "id": "4048b163",
   "metadata": {},
   "outputs": [
    {
     "name": "stderr",
     "output_type": "stream",
     "text": [
      "GPU available: True, used: True\n",
      "TPU available: False, using: 0 TPU cores\n",
      "Using native 16bit precision.\n",
      "LOCAL_RANK: 0 - CUDA_VISIBLE_DEVICES: [0,1]\n",
      "\n",
      "  | Name  | Type   | Params\n",
      "---------------------------------\n",
      "0 | model | ResNet | 23.5 M\n",
      "---------------------------------\n",
      "23.5 M    Trainable params\n",
      "0         Non-trainable params\n",
      "23.5 M    Total params\n",
      "94.114    Total estimated model params size (MB)\n"
     ]
    },
    {
     "name": "stdout",
     "output_type": "stream",
     "text": [
      "Epoch 2:  86%|████████▌ | 12/14 [05:24<00:54, 27.01s/it, loss=0.072, v_num=4, val_loss=0.428, val_acc=0.904, acc=0.986]\n",
      "\n",
      "Epoch 0:  79%|███████▊  | 11/14 [00:08<00:02,  1.28it/s, loss=0.241, v_num=7, val_loss=18.00, val_acc=0.305, acc=0.956]\n",
      "Validating: 0it [00:00, ?it/s]\u001b[A\n",
      "Validating:   0%|          | 0/3 [00:00<?, ?it/s]\u001b[A\n",
      "Epoch 0:  93%|█████████▎| 13/14 [00:11<00:00,  1.15it/s, loss=0.241, v_num=7, val_loss=18.00, val_acc=0.305, acc=0.956]\n",
      "Epoch 0: 100%|██████████| 14/14 [00:11<00:00,  1.20it/s, loss=0.241, v_num=7, val_loss=0.798, val_acc=0.816, acc=0.965]\n",
      "Epoch 0: 100%|██████████| 14/14 [00:12<00:00,  1.15it/s, loss=0.241, v_num=7, val_loss=0.798, val_acc=0.816, acc=0.965]\n"
     ]
    },
    {
     "name": "stderr",
     "output_type": "stream",
     "text": [
      "FIT Profiler Report\n",
      "Profile stats for: records\n",
      "-------------------------------------------------------  ------------  ------------  ------------  ------------  ------------  ------------  ------------  ------------  ------------  ------------  \n",
      "                                                   Name    Self CPU %      Self CPU   CPU total %     CPU total  CPU time avg     Self CUDA   Self CUDA %    CUDA total  CUDA time avg    # of Calls  \n",
      "-------------------------------------------------------  ------------  ------------  ------------  ------------  ------------  ------------  ------------  ------------  ------------  ------------  \n",
      "                                          ProfilerStep*        60.05%     407.160ms        99.99%     677.973ms     338.986ms      22.919ms        25.80%      88.819ms      44.410ms             2  \n",
      "enumerate(DataLoader)#_MultiProcessingDataLoaderIter...        23.49%     159.271ms        23.49%     159.275ms      79.638ms       0.000us         0.00%       0.000us       0.000us             2  \n",
      "                                        cudaMemcpyAsync        13.12%      88.974ms        13.12%      88.974ms     135.425us       0.000us         0.00%       0.000us       0.000us           657  \n",
      "                                        validation_step         0.49%       3.342ms         9.82%      66.569ms      66.569ms       0.000us         0.00%      65.880ms      65.880ms             1  \n",
      "                                             aten::item         0.01%      40.000us         7.34%      49.788ms       5.532ms       0.000us         0.00%       5.000us       0.556us             9  \n",
      "                              aten::_local_scalar_dense         0.01%      50.000us         7.34%      49.748ms       5.528ms       5.000us         0.01%       5.000us       0.556us             9  \n",
      "                                           aten::conv2d         0.10%     701.000us         2.38%      16.122ms     152.094us       0.000us         0.00%      53.451ms     504.255us           106  \n",
      "                                      aten::convolution         0.03%     185.000us         1.01%       6.828ms     128.830us       0.000us         0.00%      26.489ms     499.792us            53  \n",
      "                                     aten::_convolution         0.05%     367.000us         0.98%       6.643ms     125.340us       0.000us         0.00%      26.489ms     499.792us            53  \n",
      "                                aten::cudnn_convolution         0.73%       4.976ms         0.93%       6.276ms     118.415us      26.489ms        29.82%      26.489ms     499.792us            53  \n",
      "                                             aten::set_         0.41%       2.752ms         0.41%       2.752ms       2.123us       0.000us         0.00%       0.000us       0.000us          1296  \n",
      "                                       aten::batch_norm         0.02%     166.000us         0.38%       2.587ms      48.811us       0.000us         0.00%      23.931ms     451.528us            53  \n",
      "                           aten::_batch_norm_impl_index         0.03%     216.000us         0.36%       2.421ms      45.679us       0.000us         0.00%      23.931ms     451.528us            53  \n",
      "                                 aten::cudnn_batch_norm         0.15%       1.031ms         0.33%       2.205ms      41.604us      23.931ms        26.94%      23.931ms     451.528us            53  \n",
      "                                       cudaLaunchKernel         0.31%       2.069ms         0.31%       2.069ms       5.731us       0.000us         0.00%       0.000us       0.000us           361  \n",
      "                                               aten::to         0.06%     386.000us         0.30%       2.061ms      26.423us       0.000us         0.00%       5.671ms      72.705us            78  \n",
      "                                           aten::detach         0.08%     574.000us         0.18%       1.203ms       3.724us       0.000us         0.00%       0.000us       0.000us           323  \n",
      "                                            aten::copy_         0.09%     639.000us         0.16%       1.116ms      16.412us       5.671ms         6.38%       5.671ms      83.397us            68  \n",
      "                                            aten::relu_         0.04%     265.000us         0.16%       1.106ms      22.571us       0.000us         0.00%       4.963ms     101.286us            49  \n",
      "                                       aten::clamp_min_         0.02%     150.000us         0.12%     841.000us      17.163us       0.000us         0.00%       4.963ms     101.286us            49  \n",
      "-------------------------------------------------------  ------------  ------------  ------------  ------------  ------------  ------------  ------------  ------------  ------------  ------------  \n",
      "Self CPU time total: 678.024ms\n",
      "Self CUDA time total: 88.819ms\n",
      "\n"
     ]
    }
   ],
   "source": [
    "trainer = pl.Trainer(gpus=1, precision=16, max_epochs=1, profiler='pytorch')\n",
    "trainer.fit(model, dm)"
   ]
  },
  {
   "cell_type": "code",
   "execution_count": 24,
   "id": "290701fb",
   "metadata": {},
   "outputs": [
    {
     "name": "stderr",
     "output_type": "stream",
     "text": [
      "GPU available: True, used: True\n",
      "TPU available: False, using: 0 TPU cores\n",
      "Using native 16bit precision.\n",
      "LOCAL_RANK: 0 - CUDA_VISIBLE_DEVICES: [0,1]\n",
      "\n",
      "  | Name  | Type   | Params\n",
      "---------------------------------\n",
      "0 | model | ResNet | 23.5 M\n",
      "---------------------------------\n",
      "23.5 M    Trainable params\n",
      "0         Non-trainable params\n",
      "23.5 M    Total params\n",
      "94.114    Total estimated model params size (MB)\n"
     ]
    },
    {
     "name": "stdout",
     "output_type": "stream",
     "text": [
      "Epoch 0: 100%|██████████| 10/10 [00:13<00:00,  1.32s/it, loss=0.0997, v_num=13, acc=0.977]\n"
     ]
    }
   ],
   "source": [
    "from torch.profiler import profile\n",
    "from pytorch_lightning.callbacks import Callback\n",
    "\n",
    "class ProfilerCallback(Callback):\n",
    "    \n",
    "    def __init__(self, prof):\n",
    "        super().__init__()\n",
    "        self.prof = prof\n",
    "\n",
    "    def on_train_batch_end(self, trainer, pl_module, outputs, batch, batch_idx, dataloader_idx):\n",
    "        self.prof.step()\n",
    "\n",
    "\n",
    "with torch.profiler.profile(\n",
    "        schedule=torch.profiler.schedule(wait=1, warmup=1, active=3, repeat=2),\n",
    "        on_trace_ready=torch.profiler.tensorboard_trace_handler('./log/lightning_profile2'),\n",
    "        record_shapes=True,\n",
    "        with_stack=True\n",
    ") as prof:\n",
    "    trainer = pl.Trainer(\n",
    "        gpus=1, \n",
    "        precision=16, \n",
    "        max_epochs=1, \n",
    "        limit_train_batches=(1+1+3)*2, \n",
    "        limit_val_batches=0,\n",
    "        callbacks=[ProfilerCallback(prof)]\n",
    "    )\n",
    "    trainer.fit(model, dm)"
   ]
  }
 ],
 "metadata": {
  "kernelspec": {
   "display_name": "Python 3",
   "language": "python",
   "name": "python3"
  },
  "language_info": {
   "codemirror_mode": {
    "name": "ipython",
    "version": 3
   },
   "file_extension": ".py",
   "mimetype": "text/x-python",
   "name": "python",
   "nbconvert_exporter": "python",
   "pygments_lexer": "ipython3",
   "version": "3.8.10"
  },
  "toc": {
   "base_numbering": 1,
   "nav_menu": {},
   "number_sections": true,
   "sideBar": true,
   "skip_h1_title": false,
   "title_cell": "Table of Contents",
   "title_sidebar": "Contents",
   "toc_cell": false,
   "toc_position": {},
   "toc_section_display": true,
   "toc_window_display": false
  }
 },
 "nbformat": 4,
 "nbformat_minor": 5
}
