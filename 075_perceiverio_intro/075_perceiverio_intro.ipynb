{
 "cells": [
  {
   "cell_type": "markdown",
   "metadata": {},
   "source": [
    "[![Open In Colab](https://colab.research.google.com/assets/colab-badge.svg)](https://colab.research.google.com/github/juansensio/blog/blob/master/074_preceiver_intro/074_preceiver_intro.ipynb)"
   ]
  },
  {
   "cell_type": "markdown",
   "metadata": {},
   "source": [
    "# PerceiverIO\n",
    "\n",
    "En el post anterior vimos la arquitectura *Perceiver*, base del modelo más avanzado *PerceiverIO*, el cual aprenderemos a implementar en este post.\n",
    "\n",
    "![](https://lh3.googleusercontent.com/355TNHvZGNS2yaYFD1yhlZt_JsyAQGCc8XMWf0bX0FhFK-O7HjJsBrnuOvazj3OfzBkTSZYGJ1wMHPJlYW21Fhhi-5bxYOgk9TqHMIEA0yEGmD9H5A=w1440-rw-v1)\n",
    "\n",
    "A grandes rasgos, *PerceiverIO* es muy similar a *Perceiver*. Utiliza exactamente la misma arquitectura para la codificación y procesado de datos. La única diferencia es en la salida, ya que introduce un *decoder* que es capaz de generar *outputs* para diferentes tareas. Gracias a este desacople entre entradas/salidas y el procesado de características, la red neuronal es capaz de llevar a cabo multitud de tareas en vez de tener que recurrir a modelos específicos (CNNs, RNNs, ...) en función del tipo de datos y tarea que queramos llevar a cabo."
   ]
  },
  {
   "cell_type": "code",
   "execution_count": 1,
   "metadata": {},
   "outputs": [],
   "source": [
    "# https://github.com/karpathy/minGPT/blob/master/mingpt/model.py\n",
    "# https://github.com/esceptico/perceiver-io/blob/master/src/perceiver/attention.py\n",
    "\n",
    "import math\n",
    "import torch\n",
    "\n",
    "class MultiHeadAttention(torch.nn.Module):\n",
    "\n",
    "    def __init__(self, kv_dim, q_dim, n_heads=1, attn_pdrop=0., resid_pdrop=0.):\n",
    "        super().__init__()\n",
    "        self.n_embd = q_dim\n",
    "        self.n_heads = n_heads\n",
    "        assert self.n_embd % self.n_heads == 0\n",
    "        # key, query, value projections\n",
    "        self.key = torch.nn.Linear(kv_dim, self.n_embd)\n",
    "        self.query = torch.nn.Linear(q_dim, self.n_embd)\n",
    "        self.value = torch.nn.Linear(kv_dim, self.n_embd)\n",
    "        # regularization\n",
    "        self.attn_drop = torch.nn.Dropout(attn_pdrop)\n",
    "        self.resid_drop = torch.nn.Dropout(resid_pdrop)\n",
    "        # output projection\n",
    "        self.proj = torch.nn.Linear(self.n_embd, q_dim)\n",
    "\n",
    "    def forward(self, kv, q, mask = None): \n",
    "        B, M, C = kv.size()\n",
    "        B, N, D = q.size()\n",
    "        # calculate query, key, values for all heads in batch and move head forward to be the batch dim\n",
    "        k = self.key(kv).view(B, M, self.n_heads, D // self.n_heads).transpose(1, 2) # (B, nh, M, hs)\n",
    "        q = self.query(q).view(B, N, self.n_heads, D // self.n_heads).transpose(1, 2) # (B, nh, N, hs)\n",
    "        v = self.value(kv).view(B, M, self.n_heads, D // self.n_heads).transpose(1, 2) # (B, nh, M, hs)\n",
    "        # attention (B, nh, N, hs) x (B, nh, hs, M) -> (B, nh, N, M)\n",
    "        att = (q @ k.transpose(-2, -1)) * (1.0 / math.sqrt(k.size(-1)))\n",
    "        if mask is not None:\n",
    "            att = att.masked_fill(self.mask[:,:,:N,:M] == 0, float('-inf')) \n",
    "        att = torch.nn.functional.softmax(att, dim=-1)\n",
    "        att = self.attn_drop(att)\n",
    "        y = att @ v # (B, nh, N, M) x (B, nh, M, hs) -> (B, nh, N, hs)\n",
    "        y = y.transpose(1, 2).contiguous().view(B, N, D) # re-assemble all head outputs side by side\n",
    "        return self.resid_drop(self.proj(y)) # B, N, D\n",
    "\n",
    "class Block(torch.nn.Module):\n",
    "    def __init__(self, kv_dim, q_dim, n_heads=1, attn_pdrop=0., resid_pdrop=0.):\n",
    "        super().__init__()\n",
    "        self.ln1_kv = torch.nn.LayerNorm(kv_dim)\n",
    "        self.ln1_q = torch.nn.LayerNorm(q_dim)\n",
    "        self.ln2 = torch.nn.LayerNorm(q_dim)\n",
    "        self.attn = MultiHeadAttention(kv_dim, q_dim, n_heads, attn_pdrop, resid_pdrop)\n",
    "        self.mlp = torch.nn.Sequential(\n",
    "            torch.nn.Linear(q_dim, 4 * q_dim),\n",
    "            torch.nn.GELU(),\n",
    "            torch.nn.Linear(4 * q_dim, q_dim),\n",
    "            torch.nn.Dropout(resid_pdrop),\n",
    "        )\n",
    "\n",
    "    def forward(self, kv, q, mask=None):\n",
    "        x = q + self.attn(self.ln1_kv(kv), self.ln1_q(q), mask)\n",
    "        x = x + self.mlp(self.ln2(x))\n",
    "        return x\n",
    "\n",
    "class PerceiverEncoder(torch.nn.Module):\n",
    "    # ejemplo sin recurrencia para clasificación\n",
    "    def __init__(self, num_latents, latent_dim, input_dim, num_blocks, n_heads=1, attn_pdrop=0., resid_pdrop=0.):\n",
    "        # se podrían separar los params en función de si es cross o self ...\n",
    "        super().__init__()\n",
    "        self.num_blocks = num_blocks\n",
    "        self.latents = torch.nn.Parameter(torch.randn(num_latents, latent_dim))\n",
    "        # encode\n",
    "        self.cross_attn = Block(\n",
    "            kv_dim=input_dim, \n",
    "            q_dim=latent_dim, \n",
    "            n_heads=n_heads, \n",
    "            attn_pdrop=attn_pdrop, \n",
    "            resid_pdrop=resid_pdrop\n",
    "        )\n",
    "        # process\n",
    "        self.self_attention_blocks = torch.nn.ModuleList([\n",
    "            Block( # se podrían hacer bloques diferenciados para en el forward pasar solo x\n",
    "                kv_dim=latent_dim,\n",
    "                q_dim=latent_dim,\n",
    "                n_heads=n_heads, \n",
    "                attn_pdrop=attn_pdrop, \n",
    "                resid_pdrop=resid_pdrop\n",
    "            ) for _ in range(num_blocks)\n",
    "        ])\n",
    "\n",
    "    def forward(self, x, mask = None):\n",
    "        B = x.size(0)\n",
    "        if mask is not None:\n",
    "            mask = mask[None, None, :, :] # esto no se si está bien :S\n",
    "        x = self.cross_attn(\n",
    "            kv=x,\n",
    "            q=self.latents.repeat(B, 1, 1),\n",
    "            mask=mask\n",
    "        )\n",
    "        for _ in range(self.num_blocks):\n",
    "            for self_attn_layer in self.self_attention_blocks:\n",
    "                x = self_attn_layer(x, x)\n",
    "        return x"
   ]
  },
  {
   "cell_type": "markdown",
   "metadata": {},
   "source": [
    "Para este primer ejemplo vamos a implementar un *decoder* para clasificación de imágenes. Este *decoder* recibirá la salida del *encoder*, que ya implementamos en el post anterior, y que usaremos como *keys* y *values*. En cuanto a las *query*, usaremos un tensor con las dimensiones a las que queramos proyectar las salidas del *encoder*, en nuestro caso al número de clases a las cuales queramos hacer la clasificación. De la misma manera que el modelo aprenderá la mejor representación para las *query* a la entrada, lo mismo hacemos a la salida."
   ]
  },
  {
   "cell_type": "code",
   "execution_count": 2,
   "metadata": {},
   "outputs": [],
   "source": [
    "# https://github.com/esceptico/perceiver-io/blob/master/src/perceiver/decoders.py\n",
    "\n",
    "class ClassificationDecoder(torch.nn.Module):\n",
    "    def __init__(self, num_classes, latent_dim, n_heads=1, attn_pdrop=0., resid_pdrop=0.):\n",
    "        super().__init__()\n",
    "        self.task_ids = torch.nn.Parameter(torch.randn(1, num_classes))\n",
    "        self.decoder = Block( \n",
    "            kv_dim=latent_dim,\n",
    "            q_dim=num_classes,\n",
    "            n_heads=n_heads, \n",
    "            attn_pdrop=attn_pdrop, \n",
    "            resid_pdrop=resid_pdrop\n",
    "        )\n",
    "\n",
    "    def forward(self, latents):\n",
    "        b = latents.size(0)\n",
    "        logits = self.decoder(\n",
    "            kv=latents,\n",
    "            q=self.task_ids.repeat(b, 1, 1)\n",
    "        )\n",
    "        return logits.squeeze(1)"
   ]
  },
  {
   "cell_type": "code",
   "execution_count": 3,
   "metadata": {},
   "outputs": [
    {
     "data": {
      "text/plain": [
       "ClassificationDecoder(\n",
       "  (decoder): Block(\n",
       "    (ln1_kv): LayerNorm((512,), eps=1e-05, elementwise_affine=True)\n",
       "    (ln1_q): LayerNorm((10,), eps=1e-05, elementwise_affine=True)\n",
       "    (ln2): LayerNorm((10,), eps=1e-05, elementwise_affine=True)\n",
       "    (attn): MultiHeadAttention(\n",
       "      (key): Linear(in_features=512, out_features=10, bias=True)\n",
       "      (query): Linear(in_features=10, out_features=10, bias=True)\n",
       "      (value): Linear(in_features=512, out_features=10, bias=True)\n",
       "      (attn_drop): Dropout(p=0.0, inplace=False)\n",
       "      (resid_drop): Dropout(p=0.0, inplace=False)\n",
       "      (proj): Linear(in_features=10, out_features=10, bias=True)\n",
       "    )\n",
       "    (mlp): Sequential(\n",
       "      (0): Linear(in_features=10, out_features=40, bias=True)\n",
       "      (1): GELU()\n",
       "      (2): Linear(in_features=40, out_features=10, bias=True)\n",
       "      (3): Dropout(p=0.0, inplace=False)\n",
       "    )\n",
       "  )\n",
       ")"
      ]
     },
     "execution_count": 3,
     "metadata": {},
     "output_type": "execute_result"
    }
   ],
   "source": [
    "decoder = ClassificationDecoder(10, 512)\n",
    "\n",
    "decoder"
   ]
  },
  {
   "cell_type": "code",
   "execution_count": 4,
   "metadata": {},
   "outputs": [
    {
     "data": {
      "text/plain": [
       "torch.Size([32, 10])"
      ]
     },
     "execution_count": 4,
     "metadata": {},
     "output_type": "execute_result"
    }
   ],
   "source": [
    "output = decoder(torch.randn(32, 128, 512))\n",
    "\n",
    "output.shape"
   ]
  },
  {
   "cell_type": "markdown",
   "metadata": {},
   "source": [
    "Como puedes ver, podemos adaptar el *decoder* de manera muy sencilla para generar *outputs* de la dimensión que queramos, haciendo del *PerceiverIO* una arquitectura muy flexible. Podríamos tener diversos *decoders* para generar múltiples outputs o incluso entrenar un solo modelo con un solo *decoder* pero diferentes *query* para diferentes tareas (*multi-tasking*). Este hecho, junto a la flexibilidad a la hora de aceptar diferentes tipos de inputs que ya hereda del *Perciever* convierte a este modelo en uno de los más flexibles a día de hoy."
   ]
  },
  {
   "cell_type": "markdown",
   "metadata": {},
   "source": [
    "## Clasificación de imágenes\n",
    "\n",
    "Vamos a ver el mismo ejemplo que vimos en el post anterior: clasificación de imágenes con el dataset CIFAR10. Esta vez, con el nuevo modelo."
   ]
  },
  {
   "cell_type": "code",
   "execution_count": 5,
   "metadata": {},
   "outputs": [],
   "source": [
    "from einops import rearrange, repeat\n",
    "from math import pi, log\n",
    "\n",
    "class FourierEncoder(torch.nn.Module):\n",
    "    def __init__(self, max_freq, num_freq_bands, freq_base=2):\n",
    "        super().__init__()\n",
    "        self.max_freq = max_freq\n",
    "        self.num_freq_bands = num_freq_bands\n",
    "        self.freq_base = freq_base\n",
    "\n",
    "    def fourier_encode(self, x):\n",
    "        x = x.unsqueeze(-1)\n",
    "        device, dtype, orig_x = x.device, x.dtype, x\n",
    "        scales = torch.logspace(0., log(self.max_freq / 2) / log(self.freq_base), self.num_freq_bands, base = self.freq_base, device = device, dtype = dtype)\n",
    "        scales = scales[(*((None,) * (len(x.shape) - 1)), ...)]\n",
    "        x = x * scales * pi\n",
    "        x = torch.cat([x.sin(), x.cos()], dim=-1)\n",
    "        x = torch.cat((x, orig_x), dim = -1)\n",
    "        return x\n",
    "\n",
    "    def forward(self, x):\n",
    "         # fourier encoding\n",
    "        b, *axis, _, device = *x.shape, x.device\n",
    "        axis_pos = list(map(lambda size: torch.linspace(-1., 1., steps = size, device = device), axis))\n",
    "        pos = torch.stack(torch.meshgrid(*axis_pos), dim = -1)\n",
    "        enc_pos = self.fourier_encode(pos)\n",
    "        enc_pos = rearrange(enc_pos, '... n d -> ... (n d)')\n",
    "        enc_pos = repeat(enc_pos, '... -> b ...', b = b)\n",
    "        x = torch.cat((x, enc_pos), dim = -1)\n",
    "        x = rearrange(x, 'b ... d -> b (...) d')\n",
    "        return x"
   ]
  },
  {
   "cell_type": "code",
   "execution_count": 6,
   "metadata": {},
   "outputs": [],
   "source": [
    "class PerceiverIO(torch.nn.Module):\n",
    "    def __init__(self, num_classes, max_freq ,num_freq_bands, num_latents, latent_dim, input_dim, num_blocks, freq_base = 2, n_heads=1, attn_pdrop=0., resid_pdrop=0.):\n",
    "        super().__init__()\n",
    "        fourier_channels = (2 * ((num_freq_bands * 2) + 1))\n",
    "        input_dim += fourier_channels\n",
    "        self.fourier_encoder = FourierEncoder(\n",
    "            max_freq=max_freq,\n",
    "            num_freq_bands=num_freq_bands,\n",
    "            freq_base=freq_base\n",
    "        )\n",
    "        self.encoder = PerceiverEncoder(\n",
    "            num_latents=num_latents, \n",
    "            latent_dim=latent_dim, \n",
    "            input_dim=input_dim,\n",
    "            num_blocks=num_blocks,\n",
    "            n_heads=n_heads, \n",
    "            attn_pdrop=attn_pdrop, \n",
    "            resid_pdrop=resid_pdrop\n",
    "        )\n",
    "        self.decoder = ClassificationDecoder(\n",
    "            num_classes=num_classes,\n",
    "            latent_dim=latent_dim,\n",
    "            n_heads=n_heads,\n",
    "            attn_pdrop=attn_pdrop,\n",
    "            resid_pdrop=resid_pdrop\n",
    "        )\n",
    "\n",
    "    def forward(self, x, mask = None):\n",
    "        x = self.fourier_encoder(x)\n",
    "        if mask is not None:\n",
    "            mask = mask[None, None, :, :] # esto no se si está bien :S\n",
    "        x = self.encoder(x, mask)\n",
    "        return self.decoder(x)"
   ]
  },
  {
   "cell_type": "code",
   "execution_count": 7,
   "metadata": {},
   "outputs": [
    {
     "data": {
      "text/plain": [
       "torch.Size([32, 10])"
      ]
     },
     "execution_count": 7,
     "metadata": {},
     "output_type": "execute_result"
    }
   ],
   "source": [
    "perceiver = PerceiverIO(num_classes=10, max_freq=10, num_freq_bands=6, num_latents=256, latent_dim=512, input_dim=3, num_blocks=2)\n",
    "\n",
    "output = perceiver(torch.randn(32, 32, 32, 3))\n",
    "\n",
    "output.shape"
   ]
  },
  {
   "cell_type": "code",
   "execution_count": 8,
   "metadata": {},
   "outputs": [],
   "source": [
    "import torchvision\n",
    "import numpy as np\n",
    "\n",
    "class Dataset(torch.utils.data.Dataset):\n",
    "    def __init__(self, train=True):\n",
    "        trainset = torchvision.datasets.CIFAR10(root='./data', train=train, download=True)\n",
    "        self.classes = ('plane', 'car', 'bird', 'cat', 'deer', 'dog', 'frog', 'horse', 'ship', 'truck')\n",
    "        self.imgs, self.labels = np.array([np.array(i[0]) for i in trainset]), np.array([i[1] for i in trainset])\n",
    "    def __len__(self):\n",
    "        return len(self.imgs)\n",
    "    def __getitem__(self, ix):\n",
    "        img = self.imgs[ix]\n",
    "        return torch.from_numpy(img / 255.).float(), torch.tensor(self.labels[ix]).long()"
   ]
  },
  {
   "cell_type": "code",
   "execution_count": 9,
   "metadata": {},
   "outputs": [
    {
     "name": "stdout",
     "output_type": "stream",
     "text": [
      "Files already downloaded and verified\n",
      "Files already downloaded and verified\n"
     ]
    },
    {
     "data": {
      "text/plain": [
       "(torch.Size([64, 32, 32, 3]), torch.Size([64]))"
      ]
     },
     "execution_count": 9,
     "metadata": {},
     "output_type": "execute_result"
    }
   ],
   "source": [
    "ds = {\n",
    "    'train': Dataset(),\n",
    "    'test': Dataset(train=False)\n",
    "}\n",
    "\n",
    "batch_size = 64\n",
    "num_workers = 0\n",
    "\n",
    "dl = {\n",
    "    'train': torch.utils.data.DataLoader(ds['train'], batch_size=batch_size, shuffle=True, num_workers=num_workers),\n",
    "    'test': torch.utils.data.DataLoader(ds['test'], batch_size=batch_size, shuffle=False, num_workers=num_workers)\n",
    "}\n",
    "\n",
    "imgs, labels = next(iter(dl['train']))\n",
    "imgs.shape, labels.shape"
   ]
  },
  {
   "cell_type": "code",
   "execution_count": 10,
   "metadata": {},
   "outputs": [
    {
     "data": {
      "image/png": "[encoded data removed]",
      "text/plain": [
       "<Figure size 1200x800 with 24 Axes>"
      ]
     },
     "metadata": {
      "needs_background": "light"
     },
     "output_type": "display_data"
    }
   ],
   "source": [
    "import matplotlib.pyplot as plt\n",
    "\n",
    "fig = plt.figure(dpi=200)\n",
    "c, r = 6, 4\n",
    "for j in range(r):\n",
    "    for i in range(c):\n",
    "        ix = j*c + i\n",
    "        ax = plt.subplot(r, c, ix + 1)\n",
    "        img, label = imgs[ix], labels[ix]\n",
    "        ax.imshow(img)\n",
    "        ax.set_title(ds['train'].classes[labels[ix].item()], fontsize=6)\n",
    "        ax.axis('off')\n",
    "plt.tight_layout()\n",
    "plt.show()"
   ]
  },
  {
   "cell_type": "code",
   "execution_count": 11,
   "metadata": {},
   "outputs": [],
   "source": [
    "from tqdm import tqdm\n",
    "import torch.nn.functional as F\n",
    "\n",
    "def step(model, batch, device):\n",
    "    x, y = batch\n",
    "    x, y = x.to(device), y.to(device)\n",
    "    y_hat = model(x)\n",
    "    loss = F.cross_entropy(y_hat, y)\n",
    "    acc = (torch.argmax(y_hat, axis=1) == y).sum().item() / y.size(0)\n",
    "    return loss, acc\n",
    "\n",
    "def train(model, dl, optimizer, epochs=10, device=\"cuda\", use_amp=True, overfit=False):\n",
    "    model.to(device)\n",
    "    hist = {'loss': [], 'acc': [], 'test_loss': [], 'test_acc': []}\n",
    "    scaler = torch.cuda.amp.GradScaler(enabled=use_amp)\n",
    "    for e in range(1, epochs+1):\n",
    "        # train\n",
    "        model.train()\n",
    "        l, a = [], []\n",
    "        bar = tqdm(dl['train'])\n",
    "        # como cambiar el shuffle a False si overfit ?\n",
    "        for batch in bar:\n",
    "            optimizer.zero_grad()            \n",
    "            with torch.cuda.amp.autocast(enabled=use_amp):\n",
    "                loss, acc = step(model, batch, device)\n",
    "            scaler.scale(loss).backward()\n",
    "            # gradient clipping\n",
    "            #torch.nn.utils.clip_grad_norm_(model.parameters(), max_norm=0.1)\n",
    "            scaler.step(optimizer)\n",
    "            scaler.update()\n",
    "            l.append(loss.item())\n",
    "            a.append(acc)\n",
    "            if overfit: \n",
    "                break\n",
    "            bar.set_description(f\"training... loss {np.mean(l):.4f} acc {np.mean(a):.4f}\")\n",
    "        hist['loss'].append(np.mean(l))\n",
    "        hist['acc'].append(np.mean(a))\n",
    "        # eval\n",
    "        model.eval()\n",
    "        l, a = [], []\n",
    "        if overfit:\n",
    "            bar = tqdm(dl['train'])\n",
    "        else:\n",
    "            bar = tqdm(dl['test'])\n",
    "        with torch.inference_mode():\n",
    "            for batch in bar:\n",
    "                loss, acc = step(model, batch, device)\n",
    "                l.append(loss.item())\n",
    "                a.append(acc)\n",
    "                if overfit: \n",
    "                    break\n",
    "                bar.set_description(f\"testing... loss {np.mean(l):.4f} acc {np.mean(a):.4f}\")\n",
    "        hist['test_loss'].append(np.mean(l))\n",
    "        hist['test_acc'].append(np.mean(a))\n",
    "        if not overfit:\n",
    "            # log\n",
    "            log = f'Epoch {e}/{epochs}'\n",
    "            for k, v in hist.items():\n",
    "                log += f' {k} {v[-1]:.4f}'\n",
    "            print(log)\n",
    "    return hist"
   ]
  },
  {
   "cell_type": "code",
   "execution_count": 12,
   "metadata": {},
   "outputs": [],
   "source": [
    "import pandas as pd\n",
    "\n",
    "def plot_hist(hist):\n",
    "    fig = plt.figure(figsize=(10, 3), dpi=100)\n",
    "    df = pd.DataFrame(hist)\n",
    "    ax = plt.subplot(1, 2, 1)\n",
    "    df[['loss', 'test_loss']].plot(ax=ax)\n",
    "    ax.grid(True)\n",
    "    ax = plt.subplot(1, 2, 2)\n",
    "    df[['acc', 'test_acc']].plot(ax=ax)\n",
    "    ax.grid(True)\n",
    "    plt.show()"
   ]
  },
  {
   "cell_type": "code",
   "execution_count": 13,
   "metadata": {},
   "outputs": [],
   "source": [
    "model = PerceiverIO(num_classes=10, max_freq=5, num_freq_bands=3, num_latents=32, latent_dim=32, input_dim=3, num_blocks=3)\n",
    "\n",
    "\n",
    "optimizer = torch.optim.Adam(model.parameters(), lr=1e-3)\n",
    "\n",
    "dl = {\n",
    "    'train': torch.utils.data.DataLoader(ds['train'], batch_size=512, shuffle=True, num_workers=0),\n",
    "    'test': torch.utils.data.DataLoader(ds['test'], batch_size=512, shuffle=False, num_workers=0)\n",
    "}"
   ]
  },
  {
   "cell_type": "code",
   "execution_count": 14,
   "metadata": {},
   "outputs": [
    {
     "name": "stderr",
     "output_type": "stream",
     "text": [
      "training... loss 2.3811 acc 0.1098: 100%|██████████| 98/98 [00:09<00:00, 10.25it/s]\n",
      "testing... loss 2.2934 acc 0.1033: 100%|██████████| 20/20 [00:00<00:00, 28.41it/s]\n"
     ]
    },
    {
     "name": "stdout",
     "output_type": "stream",
     "text": [
      "Epoch 1/100 loss 2.3811 acc 0.1098 test_loss 2.2934 test_acc 0.1033\n"
     ]
    },
    {
     "name": "stderr",
     "output_type": "stream",
     "text": [
      "training... loss 2.1549 acc 0.1736: 100%|██████████| 98/98 [00:08<00:00, 12.23it/s]\n",
      "testing... loss 2.0771 acc 0.2023: 100%|██████████| 20/20 [00:00<00:00, 27.82it/s]\n"
     ]
    },
    {
     "name": "stdout",
     "output_type": "stream",
     "text": [
      "Epoch 2/100 loss 2.1549 acc 0.1736 test_loss 2.0771 test_acc 0.2023\n"
     ]
    },
    {
     "name": "stderr",
     "output_type": "stream",
     "text": [
      "training... loss 2.0760 acc 0.1995: 100%|██████████| 98/98 [00:08<00:00, 11.74it/s]\n",
      "testing... loss 2.0497 acc 0.2122: 100%|██████████| 20/20 [00:00<00:00, 27.66it/s]\n"
     ]
    },
    {
     "name": "stdout",
     "output_type": "stream",
     "text": [
      "Epoch 3/100 loss 2.0760 acc 0.1995 test_loss 2.0497 test_acc 0.2122\n"
     ]
    },
    {
     "name": "stderr",
     "output_type": "stream",
     "text": [
      "training... loss 2.0565 acc 0.2119: 100%|██████████| 98/98 [00:08<00:00, 11.93it/s]\n",
      "testing... loss 2.0228 acc 0.2292: 100%|██████████| 20/20 [00:00<00:00, 27.83it/s]\n"
     ]
    },
    {
     "name": "stdout",
     "output_type": "stream",
     "text": [
      "Epoch 4/100 loss 2.0565 acc 0.2119 test_loss 2.0228 test_acc 0.2292\n"
     ]
    },
    {
     "name": "stderr",
     "output_type": "stream",
     "text": [
      "training... loss 1.9831 acc 0.2552: 100%|██████████| 98/98 [00:08<00:00, 11.81it/s]\n",
      "testing... loss 1.9282 acc 0.2889: 100%|██████████| 20/20 [00:00<00:00, 28.44it/s]\n"
     ]
    },
    {
     "name": "stdout",
     "output_type": "stream",
     "text": [
      "Epoch 5/100 loss 1.9831 acc 0.2552 test_loss 1.9282 test_acc 0.2889\n"
     ]
    },
    {
     "name": "stderr",
     "output_type": "stream",
     "text": [
      "training... loss 1.8985 acc 0.2953: 100%|██████████| 98/98 [00:08<00:00, 11.85it/s]\n",
      "testing... loss 1.8484 acc 0.3219: 100%|██████████| 20/20 [00:00<00:00, 27.84it/s]\n"
     ]
    },
    {
     "name": "stdout",
     "output_type": "stream",
     "text": [
      "Epoch 6/100 loss 1.8985 acc 0.2953 test_loss 1.8484 test_acc 0.3219\n"
     ]
    },
    {
     "name": "stderr",
     "output_type": "stream",
     "text": [
      "training... loss 1.8108 acc 0.3353: 100%|██████████| 98/98 [00:08<00:00, 11.61it/s]\n",
      "testing... loss 1.7425 acc 0.3582: 100%|██████████| 20/20 [00:00<00:00, 28.16it/s]\n"
     ]
    },
    {
     "name": "stdout",
     "output_type": "stream",
     "text": [
      "Epoch 7/100 loss 1.8108 acc 0.3353 test_loss 1.7425 test_acc 0.3582\n"
     ]
    },
    {
     "name": "stderr",
     "output_type": "stream",
     "text": [
      "training... loss 1.7339 acc 0.3666: 100%|██████████| 98/98 [00:08<00:00, 11.89it/s]\n",
      "testing... loss 1.6939 acc 0.3838: 100%|██████████| 20/20 [00:00<00:00, 28.05it/s]\n"
     ]
    },
    {
     "name": "stdout",
     "output_type": "stream",
     "text": [
      "Epoch 8/100 loss 1.7339 acc 0.3666 test_loss 1.6939 test_acc 0.3838\n"
     ]
    },
    {
     "name": "stderr",
     "output_type": "stream",
     "text": [
      "training... loss 1.6952 acc 0.3814: 100%|██████████| 98/98 [00:08<00:00, 11.59it/s]\n",
      "testing... loss 1.6884 acc 0.3777: 100%|██████████| 20/20 [00:00<00:00, 27.89it/s]\n"
     ]
    },
    {
     "name": "stdout",
     "output_type": "stream",
     "text": [
      "Epoch 9/100 loss 1.6952 acc 0.3814 test_loss 1.6884 test_acc 0.3777\n"
     ]
    },
    {
     "name": "stderr",
     "output_type": "stream",
     "text": [
      "training... loss 1.6638 acc 0.3961: 100%|██████████| 98/98 [00:08<00:00, 11.98it/s]\n",
      "testing... loss 1.6208 acc 0.4090: 100%|██████████| 20/20 [00:00<00:00, 27.38it/s]\n"
     ]
    },
    {
     "name": "stdout",
     "output_type": "stream",
     "text": [
      "Epoch 10/100 loss 1.6638 acc 0.3961 test_loss 1.6208 test_acc 0.4090\n"
     ]
    },
    {
     "name": "stderr",
     "output_type": "stream",
     "text": [
      "training... loss 1.6367 acc 0.4061: 100%|██████████| 98/98 [00:08<00:00, 11.56it/s]\n",
      "testing... loss 1.5948 acc 0.4238: 100%|██████████| 20/20 [00:00<00:00, 27.68it/s]\n"
     ]
    },
    {
     "name": "stdout",
     "output_type": "stream",
     "text": [
      "Epoch 11/100 loss 1.6367 acc 0.4061 test_loss 1.5948 test_acc 0.4238\n"
     ]
    },
    {
     "name": "stderr",
     "output_type": "stream",
     "text": [
      "training... loss 1.6089 acc 0.4159: 100%|██████████| 98/98 [00:08<00:00, 11.57it/s]\n",
      "testing... loss 1.5819 acc 0.4251: 100%|██████████| 20/20 [00:00<00:00, 28.28it/s]\n"
     ]
    },
    {
     "name": "stdout",
     "output_type": "stream",
     "text": [
      "Epoch 12/100 loss 1.6089 acc 0.4159 test_loss 1.5819 test_acc 0.4251\n"
     ]
    },
    {
     "name": "stderr",
     "output_type": "stream",
     "text": [
      "training... loss 1.5846 acc 0.4255: 100%|██████████| 98/98 [00:08<00:00, 11.88it/s]\n",
      "testing... loss 1.5637 acc 0.4369: 100%|██████████| 20/20 [00:00<00:00, 27.06it/s]\n"
     ]
    },
    {
     "name": "stdout",
     "output_type": "stream",
     "text": [
      "Epoch 13/100 loss 1.5846 acc 0.4255 test_loss 1.5637 test_acc 0.4369\n"
     ]
    },
    {
     "name": "stderr",
     "output_type": "stream",
     "text": [
      "training... loss 1.5804 acc 0.4268: 100%|██████████| 98/98 [00:08<00:00, 11.72it/s]\n",
      "testing... loss 1.5686 acc 0.4363: 100%|██████████| 20/20 [00:00<00:00, 21.76it/s]\n"
     ]
    },
    {
     "name": "stdout",
     "output_type": "stream",
     "text": [
      "Epoch 14/100 loss 1.5804 acc 0.4268 test_loss 1.5686 test_acc 0.4363\n"
     ]
    },
    {
     "name": "stderr",
     "output_type": "stream",
     "text": [
      "training... loss 1.5546 acc 0.4352: 100%|██████████| 98/98 [00:08<00:00, 11.86it/s]\n",
      "testing... loss 1.5497 acc 0.4373: 100%|██████████| 20/20 [00:00<00:00, 27.93it/s]\n"
     ]
    },
    {
     "name": "stdout",
     "output_type": "stream",
     "text": [
      "Epoch 15/100 loss 1.5546 acc 0.4352 test_loss 1.5497 test_acc 0.4373\n"
     ]
    },
    {
     "name": "stderr",
     "output_type": "stream",
     "text": [
      "training... loss 1.5392 acc 0.4435: 100%|██████████| 98/98 [00:07<00:00, 12.54it/s]\n",
      "testing... loss 1.5105 acc 0.4556: 100%|██████████| 20/20 [00:00<00:00, 49.02it/s]\n"
     ]
    },
    {
     "name": "stdout",
     "output_type": "stream",
     "text": [
      "Epoch 16/100 loss 1.5392 acc 0.4435 test_loss 1.5105 test_acc 0.4556\n"
     ]
    },
    {
     "name": "stderr",
     "output_type": "stream",
     "text": [
      "training... loss 1.5258 acc 0.4483: 100%|██████████| 98/98 [00:05<00:00, 16.43it/s]\n",
      "testing... loss 1.5199 acc 0.4486: 100%|██████████| 20/20 [00:00<00:00, 48.83it/s]\n"
     ]
    },
    {
     "name": "stdout",
     "output_type": "stream",
     "text": [
      "Epoch 17/100 loss 1.5258 acc 0.4483 test_loss 1.5199 test_acc 0.4486\n"
     ]
    },
    {
     "name": "stderr",
     "output_type": "stream",
     "text": [
      "training... loss 1.5041 acc 0.4557: 100%|██████████| 98/98 [00:06<00:00, 15.59it/s]\n",
      "testing... loss 1.5123 acc 0.4554: 100%|██████████| 20/20 [00:00<00:00, 29.02it/s]\n"
     ]
    },
    {
     "name": "stdout",
     "output_type": "stream",
     "text": [
      "Epoch 18/100 loss 1.5041 acc 0.4557 test_loss 1.5123 test_acc 0.4554\n"
     ]
    },
    {
     "name": "stderr",
     "output_type": "stream",
     "text": [
      "training... loss 1.4977 acc 0.4575: 100%|██████████| 98/98 [00:06<00:00, 15.21it/s]\n",
      "testing... loss 1.4797 acc 0.4690: 100%|██████████| 20/20 [00:00<00:00, 48.90it/s]\n"
     ]
    },
    {
     "name": "stdout",
     "output_type": "stream",
     "text": [
      "Epoch 19/100 loss 1.4977 acc 0.4575 test_loss 1.4797 test_acc 0.4690\n"
     ]
    },
    {
     "name": "stderr",
     "output_type": "stream",
     "text": [
      "training... loss 1.4832 acc 0.4642: 100%|██████████| 98/98 [00:06<00:00, 16.30it/s]\n",
      "testing... loss 1.4653 acc 0.4736: 100%|██████████| 20/20 [00:00<00:00, 49.14it/s]\n"
     ]
    },
    {
     "name": "stdout",
     "output_type": "stream",
     "text": [
      "Epoch 20/100 loss 1.4832 acc 0.4642 test_loss 1.4653 test_acc 0.4736\n"
     ]
    },
    {
     "name": "stderr",
     "output_type": "stream",
     "text": [
      "training... loss 1.4663 acc 0.4728: 100%|██████████| 98/98 [00:06<00:00, 16.09it/s]\n",
      "testing... loss 1.4632 acc 0.4715: 100%|██████████| 20/20 [00:00<00:00, 47.73it/s]\n"
     ]
    },
    {
     "name": "stdout",
     "output_type": "stream",
     "text": [
      "Epoch 21/100 loss 1.4663 acc 0.4728 test_loss 1.4632 test_acc 0.4715\n"
     ]
    },
    {
     "name": "stderr",
     "output_type": "stream",
     "text": [
      "training... loss 1.4546 acc 0.4767: 100%|██████████| 98/98 [00:06<00:00, 15.89it/s]\n",
      "testing... loss 1.4941 acc 0.4616: 100%|██████████| 20/20 [00:00<00:00, 47.17it/s]\n"
     ]
    },
    {
     "name": "stdout",
     "output_type": "stream",
     "text": [
      "Epoch 22/100 loss 1.4546 acc 0.4767 test_loss 1.4941 test_acc 0.4616\n"
     ]
    },
    {
     "name": "stderr",
     "output_type": "stream",
     "text": [
      "training... loss 1.4402 acc 0.4794: 100%|██████████| 98/98 [00:07<00:00, 12.58it/s]\n",
      "testing... loss 1.4661 acc 0.4732: 100%|██████████| 20/20 [00:00<00:00, 27.58it/s]\n"
     ]
    },
    {
     "name": "stdout",
     "output_type": "stream",
     "text": [
      "Epoch 23/100 loss 1.4402 acc 0.4794 test_loss 1.4661 test_acc 0.4732\n"
     ]
    },
    {
     "name": "stderr",
     "output_type": "stream",
     "text": [
      "training... loss 1.4262 acc 0.4856: 100%|██████████| 98/98 [00:08<00:00, 11.65it/s]\n",
      "testing... loss 1.4415 acc 0.4808: 100%|██████████| 20/20 [00:00<00:00, 26.70it/s]\n"
     ]
    },
    {
     "name": "stdout",
     "output_type": "stream",
     "text": [
      "Epoch 24/100 loss 1.4262 acc 0.4856 test_loss 1.4415 test_acc 0.4808\n"
     ]
    },
    {
     "name": "stderr",
     "output_type": "stream",
     "text": [
      "training... loss 1.4143 acc 0.4902: 100%|██████████| 98/98 [00:08<00:00, 11.65it/s]\n",
      "testing... loss 1.4238 acc 0.4894: 100%|██████████| 20/20 [00:00<00:00, 21.64it/s]\n"
     ]
    },
    {
     "name": "stdout",
     "output_type": "stream",
     "text": [
      "Epoch 25/100 loss 1.4143 acc 0.4902 test_loss 1.4238 test_acc 0.4894\n"
     ]
    },
    {
     "name": "stderr",
     "output_type": "stream",
     "text": [
      "training... loss 1.4003 acc 0.4948: 100%|██████████| 98/98 [00:08<00:00, 11.65it/s]\n",
      "testing... loss 1.4064 acc 0.4957: 100%|██████████| 20/20 [00:00<00:00, 26.49it/s]\n"
     ]
    },
    {
     "name": "stdout",
     "output_type": "stream",
     "text": [
      "Epoch 26/100 loss 1.4003 acc 0.4948 test_loss 1.4064 test_acc 0.4957\n"
     ]
    },
    {
     "name": "stderr",
     "output_type": "stream",
     "text": [
      "training... loss 1.4040 acc 0.4928: 100%|██████████| 98/98 [00:08<00:00, 11.24it/s]\n",
      "testing... loss 1.3969 acc 0.4983: 100%|██████████| 20/20 [00:00<00:00, 27.15it/s]\n"
     ]
    },
    {
     "name": "stdout",
     "output_type": "stream",
     "text": [
      "Epoch 27/100 loss 1.4040 acc 0.4928 test_loss 1.3969 test_acc 0.4983\n"
     ]
    },
    {
     "name": "stderr",
     "output_type": "stream",
     "text": [
      "training... loss 1.3828 acc 0.5019: 100%|██████████| 98/98 [00:08<00:00, 11.60it/s]\n",
      "testing... loss 1.4191 acc 0.4874: 100%|██████████| 20/20 [00:00<00:00, 27.13it/s]\n"
     ]
    },
    {
     "name": "stdout",
     "output_type": "stream",
     "text": [
      "Epoch 28/100 loss 1.3828 acc 0.5019 test_loss 1.4191 test_acc 0.4874\n"
     ]
    },
    {
     "name": "stderr",
     "output_type": "stream",
     "text": [
      "training... loss 1.3719 acc 0.5053: 100%|██████████| 98/98 [00:08<00:00, 11.28it/s]\n",
      "testing... loss 1.3913 acc 0.4961: 100%|██████████| 20/20 [00:00<00:00, 27.32it/s]\n"
     ]
    },
    {
     "name": "stdout",
     "output_type": "stream",
     "text": [
      "Epoch 29/100 loss 1.3719 acc 0.5053 test_loss 1.3913 test_acc 0.4961\n"
     ]
    },
    {
     "name": "stderr",
     "output_type": "stream",
     "text": [
      "training... loss 1.3585 acc 0.5102: 100%|██████████| 98/98 [00:08<00:00, 11.45it/s]\n",
      "testing... loss 1.3983 acc 0.4983: 100%|██████████| 20/20 [00:00<00:00, 27.51it/s]\n"
     ]
    },
    {
     "name": "stdout",
     "output_type": "stream",
     "text": [
      "Epoch 30/100 loss 1.3585 acc 0.5102 test_loss 1.3983 test_acc 0.4983\n"
     ]
    },
    {
     "name": "stderr",
     "output_type": "stream",
     "text": [
      "training... loss 1.3511 acc 0.5136: 100%|██████████| 98/98 [00:08<00:00, 11.35it/s]\n",
      "testing... loss 1.3798 acc 0.5019: 100%|██████████| 20/20 [00:00<00:00, 27.03it/s]\n"
     ]
    },
    {
     "name": "stdout",
     "output_type": "stream",
     "text": [
      "Epoch 31/100 loss 1.3511 acc 0.5136 test_loss 1.3798 test_acc 0.5019\n"
     ]
    },
    {
     "name": "stderr",
     "output_type": "stream",
     "text": [
      "training... loss 1.3487 acc 0.5164: 100%|██████████| 98/98 [00:08<00:00, 11.63it/s]\n",
      "testing... loss 1.3807 acc 0.5007: 100%|██████████| 20/20 [00:00<00:00, 27.43it/s]\n"
     ]
    },
    {
     "name": "stdout",
     "output_type": "stream",
     "text": [
      "Epoch 32/100 loss 1.3487 acc 0.5164 test_loss 1.3807 test_acc 0.5007\n"
     ]
    },
    {
     "name": "stderr",
     "output_type": "stream",
     "text": [
      "training... loss 1.3375 acc 0.5169: 100%|██████████| 98/98 [00:08<00:00, 11.31it/s]\n",
      "testing... loss 1.3620 acc 0.5118: 100%|██████████| 20/20 [00:00<00:00, 26.49it/s]\n"
     ]
    },
    {
     "name": "stdout",
     "output_type": "stream",
     "text": [
      "Epoch 33/100 loss 1.3375 acc 0.5169 test_loss 1.3620 test_acc 0.5118\n"
     ]
    },
    {
     "name": "stderr",
     "output_type": "stream",
     "text": [
      "training... loss 1.3291 acc 0.5211: 100%|██████████| 98/98 [00:08<00:00, 11.37it/s]\n",
      "testing... loss 1.3572 acc 0.5152: 100%|██████████| 20/20 [00:00<00:00, 27.32it/s]\n"
     ]
    },
    {
     "name": "stdout",
     "output_type": "stream",
     "text": [
      "Epoch 34/100 loss 1.3291 acc 0.5211 test_loss 1.3572 test_acc 0.5152\n"
     ]
    },
    {
     "name": "stderr",
     "output_type": "stream",
     "text": [
      "training... loss 1.3181 acc 0.5249: 100%|██████████| 98/98 [00:08<00:00, 11.61it/s]\n",
      "testing... loss 1.3868 acc 0.5014: 100%|██████████| 20/20 [00:00<00:00, 27.06it/s]\n"
     ]
    },
    {
     "name": "stdout",
     "output_type": "stream",
     "text": [
      "Epoch 35/100 loss 1.3181 acc 0.5249 test_loss 1.3868 test_acc 0.5014\n"
     ]
    },
    {
     "name": "stderr",
     "output_type": "stream",
     "text": [
      "training... loss 1.3129 acc 0.5274: 100%|██████████| 98/98 [00:08<00:00, 11.57it/s]\n",
      "testing... loss 1.3479 acc 0.5183: 100%|██████████| 20/20 [00:00<00:00, 21.57it/s]\n"
     ]
    },
    {
     "name": "stdout",
     "output_type": "stream",
     "text": [
      "Epoch 36/100 loss 1.3129 acc 0.5274 test_loss 1.3479 test_acc 0.5183\n"
     ]
    },
    {
     "name": "stderr",
     "output_type": "stream",
     "text": [
      "training... loss 1.3018 acc 0.5316: 100%|██████████| 98/98 [00:08<00:00, 11.50it/s]\n",
      "testing... loss 1.3514 acc 0.5137: 100%|██████████| 20/20 [00:00<00:00, 27.56it/s]\n"
     ]
    },
    {
     "name": "stdout",
     "output_type": "stream",
     "text": [
      "Epoch 37/100 loss 1.3018 acc 0.5316 test_loss 1.3514 test_acc 0.5137\n"
     ]
    },
    {
     "name": "stderr",
     "output_type": "stream",
     "text": [
      "training... loss 1.2942 acc 0.5358: 100%|██████████| 98/98 [00:08<00:00, 11.44it/s]\n",
      "testing... loss 1.3564 acc 0.5182: 100%|██████████| 20/20 [00:00<00:00, 26.95it/s]\n"
     ]
    },
    {
     "name": "stdout",
     "output_type": "stream",
     "text": [
      "Epoch 38/100 loss 1.2942 acc 0.5358 test_loss 1.3564 test_acc 0.5182\n"
     ]
    },
    {
     "name": "stderr",
     "output_type": "stream",
     "text": [
      "training... loss 1.2867 acc 0.5367: 100%|██████████| 98/98 [00:08<00:00, 11.62it/s]\n",
      "testing... loss 1.3581 acc 0.5121: 100%|██████████| 20/20 [00:00<00:00, 27.25it/s]\n"
     ]
    },
    {
     "name": "stdout",
     "output_type": "stream",
     "text": [
      "Epoch 39/100 loss 1.2867 acc 0.5367 test_loss 1.3581 test_acc 0.5121\n"
     ]
    },
    {
     "name": "stderr",
     "output_type": "stream",
     "text": [
      "training... loss 1.2768 acc 0.5437: 100%|██████████| 98/98 [00:08<00:00, 11.07it/s]\n",
      "testing... loss 1.3386 acc 0.5207: 100%|██████████| 20/20 [00:00<00:00, 26.88it/s]\n"
     ]
    },
    {
     "name": "stdout",
     "output_type": "stream",
     "text": [
      "Epoch 40/100 loss 1.2768 acc 0.5437 test_loss 1.3386 test_acc 0.5207\n"
     ]
    },
    {
     "name": "stderr",
     "output_type": "stream",
     "text": [
      "training... loss 1.2806 acc 0.5404: 100%|██████████| 98/98 [00:08<00:00, 11.60it/s]\n",
      "testing... loss 1.3366 acc 0.5237: 100%|██████████| 20/20 [00:00<00:00, 27.36it/s]\n"
     ]
    },
    {
     "name": "stdout",
     "output_type": "stream",
     "text": [
      "Epoch 41/100 loss 1.2806 acc 0.5404 test_loss 1.3366 test_acc 0.5237\n"
     ]
    },
    {
     "name": "stderr",
     "output_type": "stream",
     "text": [
      "training... loss 1.2720 acc 0.5437: 100%|██████████| 98/98 [00:08<00:00, 11.42it/s]\n",
      "testing... loss 1.3217 acc 0.5274: 100%|██████████| 20/20 [00:00<00:00, 27.40it/s]\n"
     ]
    },
    {
     "name": "stdout",
     "output_type": "stream",
     "text": [
      "Epoch 42/100 loss 1.2720 acc 0.5437 test_loss 1.3217 test_acc 0.5274\n"
     ]
    },
    {
     "name": "stderr",
     "output_type": "stream",
     "text": [
      "training... loss 1.2579 acc 0.5506: 100%|██████████| 98/98 [00:08<00:00, 11.48it/s]\n",
      "testing... loss 1.3133 acc 0.5289: 100%|██████████| 20/20 [00:00<00:00, 26.84it/s]\n"
     ]
    },
    {
     "name": "stdout",
     "output_type": "stream",
     "text": [
      "Epoch 43/100 loss 1.2579 acc 0.5506 test_loss 1.3133 test_acc 0.5289\n"
     ]
    },
    {
     "name": "stderr",
     "output_type": "stream",
     "text": [
      "training... loss 1.2551 acc 0.5496: 100%|██████████| 98/98 [00:08<00:00, 11.33it/s]\n",
      "testing... loss 1.3132 acc 0.5326: 100%|██████████| 20/20 [00:00<00:00, 27.25it/s]\n"
     ]
    },
    {
     "name": "stdout",
     "output_type": "stream",
     "text": [
      "Epoch 44/100 loss 1.2551 acc 0.5496 test_loss 1.3132 test_acc 0.5326\n"
     ]
    },
    {
     "name": "stderr",
     "output_type": "stream",
     "text": [
      "training... loss 1.2487 acc 0.5510: 100%|██████████| 98/98 [00:08<00:00, 11.40it/s]\n",
      "testing... loss 1.3066 acc 0.5414: 100%|██████████| 20/20 [00:00<00:00, 27.03it/s]\n"
     ]
    },
    {
     "name": "stdout",
     "output_type": "stream",
     "text": [
      "Epoch 45/100 loss 1.2487 acc 0.5510 test_loss 1.3066 test_acc 0.5414\n"
     ]
    },
    {
     "name": "stderr",
     "output_type": "stream",
     "text": [
      "training... loss 1.2312 acc 0.5579: 100%|██████████| 98/98 [00:08<00:00, 11.51it/s]\n",
      "testing... loss 1.3054 acc 0.5371: 100%|██████████| 20/20 [00:00<00:00, 27.14it/s]\n"
     ]
    },
    {
     "name": "stdout",
     "output_type": "stream",
     "text": [
      "Epoch 46/100 loss 1.2312 acc 0.5579 test_loss 1.3054 test_acc 0.5371\n"
     ]
    },
    {
     "name": "stderr",
     "output_type": "stream",
     "text": [
      "training... loss 1.2329 acc 0.5573: 100%|██████████| 98/98 [00:08<00:00, 11.57it/s]\n",
      "testing... loss 1.3089 acc 0.5368: 100%|██████████| 20/20 [00:00<00:00, 21.97it/s]\n"
     ]
    },
    {
     "name": "stdout",
     "output_type": "stream",
     "text": [
      "Epoch 47/100 loss 1.2329 acc 0.5573 test_loss 1.3089 test_acc 0.5368\n"
     ]
    },
    {
     "name": "stderr",
     "output_type": "stream",
     "text": [
      "training... loss 1.2341 acc 0.5570: 100%|██████████| 98/98 [00:08<00:00, 11.63it/s]\n",
      "testing... loss 1.3138 acc 0.5314: 100%|██████████| 20/20 [00:00<00:00, 27.36it/s]\n"
     ]
    },
    {
     "name": "stdout",
     "output_type": "stream",
     "text": [
      "Epoch 48/100 loss 1.2341 acc 0.5570 test_loss 1.3138 test_acc 0.5314\n"
     ]
    },
    {
     "name": "stderr",
     "output_type": "stream",
     "text": [
      "training... loss 1.2207 acc 0.5621: 100%|██████████| 98/98 [00:08<00:00, 11.33it/s]\n",
      "testing... loss 1.3217 acc 0.5302: 100%|██████████| 20/20 [00:00<00:00, 26.70it/s]\n"
     ]
    },
    {
     "name": "stdout",
     "output_type": "stream",
     "text": [
      "Epoch 49/100 loss 1.2207 acc 0.5621 test_loss 1.3217 test_acc 0.5302\n"
     ]
    },
    {
     "name": "stderr",
     "output_type": "stream",
     "text": [
      "training... loss 1.2147 acc 0.5645: 100%|██████████| 98/98 [00:08<00:00, 11.50it/s]\n",
      "testing... loss 1.2936 acc 0.5425: 100%|██████████| 20/20 [00:00<00:00, 27.27it/s]\n"
     ]
    },
    {
     "name": "stdout",
     "output_type": "stream",
     "text": [
      "Epoch 50/100 loss 1.2147 acc 0.5645 test_loss 1.2936 test_acc 0.5425\n"
     ]
    },
    {
     "name": "stderr",
     "output_type": "stream",
     "text": [
      "training... loss 1.2139 acc 0.5635: 100%|██████████| 98/98 [00:08<00:00, 11.34it/s]\n",
      "testing... loss 1.3508 acc 0.5247: 100%|██████████| 20/20 [00:00<00:00, 26.77it/s]\n"
     ]
    },
    {
     "name": "stdout",
     "output_type": "stream",
     "text": [
      "Epoch 51/100 loss 1.2139 acc 0.5635 test_loss 1.3508 test_acc 0.5247\n"
     ]
    },
    {
     "name": "stderr",
     "output_type": "stream",
     "text": [
      "training... loss 1.1993 acc 0.5706: 100%|██████████| 98/98 [00:08<00:00, 11.69it/s]\n",
      "testing... loss 1.2985 acc 0.5388: 100%|██████████| 20/20 [00:00<00:00, 27.23it/s]\n"
     ]
    },
    {
     "name": "stdout",
     "output_type": "stream",
     "text": [
      "Epoch 52/100 loss 1.1993 acc 0.5706 test_loss 1.2985 test_acc 0.5388\n"
     ]
    },
    {
     "name": "stderr",
     "output_type": "stream",
     "text": [
      "training... loss 1.1939 acc 0.5718: 100%|██████████| 98/98 [00:08<00:00, 11.37it/s]\n",
      "testing... loss 1.2966 acc 0.5421: 100%|██████████| 20/20 [00:00<00:00, 27.03it/s]\n"
     ]
    },
    {
     "name": "stdout",
     "output_type": "stream",
     "text": [
      "Epoch 53/100 loss 1.1939 acc 0.5718 test_loss 1.2966 test_acc 0.5421\n"
     ]
    },
    {
     "name": "stderr",
     "output_type": "stream",
     "text": [
      "training... loss 1.1905 acc 0.5756: 100%|██████████| 98/98 [00:08<00:00, 11.66it/s]\n",
      "testing... loss 1.2901 acc 0.5441: 100%|██████████| 20/20 [00:00<00:00, 26.63it/s]\n"
     ]
    },
    {
     "name": "stdout",
     "output_type": "stream",
     "text": [
      "Epoch 54/100 loss 1.1905 acc 0.5756 test_loss 1.2901 test_acc 0.5441\n"
     ]
    },
    {
     "name": "stderr",
     "output_type": "stream",
     "text": [
      "training... loss 1.1812 acc 0.5776: 100%|██████████| 98/98 [00:08<00:00, 11.39it/s]\n",
      "testing... loss 1.2890 acc 0.5414: 100%|██████████| 20/20 [00:00<00:00, 27.03it/s]\n"
     ]
    },
    {
     "name": "stdout",
     "output_type": "stream",
     "text": [
      "Epoch 55/100 loss 1.1812 acc 0.5776 test_loss 1.2890 test_acc 0.5414\n"
     ]
    },
    {
     "name": "stderr",
     "output_type": "stream",
     "text": [
      "training... loss 1.1738 acc 0.5789: 100%|██████████| 98/98 [00:08<00:00, 11.41it/s]\n",
      "testing... loss 1.2939 acc 0.5419: 100%|██████████| 20/20 [00:00<00:00, 27.06it/s]\n"
     ]
    },
    {
     "name": "stdout",
     "output_type": "stream",
     "text": [
      "Epoch 56/100 loss 1.1738 acc 0.5789 test_loss 1.2939 test_acc 0.5419\n"
     ]
    },
    {
     "name": "stderr",
     "output_type": "stream",
     "text": [
      "training... loss 1.1721 acc 0.5807: 100%|██████████| 98/98 [00:08<00:00, 11.57it/s]\n",
      "testing... loss 1.3074 acc 0.5404: 100%|██████████| 20/20 [00:00<00:00, 27.29it/s]\n"
     ]
    },
    {
     "name": "stdout",
     "output_type": "stream",
     "text": [
      "Epoch 57/100 loss 1.1721 acc 0.5807 test_loss 1.3074 test_acc 0.5404\n"
     ]
    },
    {
     "name": "stderr",
     "output_type": "stream",
     "text": [
      "training... loss 1.1667 acc 0.5827: 100%|██████████| 98/98 [00:08<00:00, 11.68it/s]\n",
      "testing... loss 1.2926 acc 0.5383: 100%|██████████| 20/20 [00:00<00:00, 21.39it/s]\n"
     ]
    },
    {
     "name": "stdout",
     "output_type": "stream",
     "text": [
      "Epoch 58/100 loss 1.1667 acc 0.5827 test_loss 1.2926 test_acc 0.5383\n"
     ]
    },
    {
     "name": "stderr",
     "output_type": "stream",
     "text": [
      "training... loss 1.1564 acc 0.5873: 100%|██████████| 98/98 [00:08<00:00, 11.61it/s]\n",
      "testing... loss 1.2905 acc 0.5472: 100%|██████████| 20/20 [00:00<00:00, 27.51it/s]\n"
     ]
    },
    {
     "name": "stdout",
     "output_type": "stream",
     "text": [
      "Epoch 59/100 loss 1.1564 acc 0.5873 test_loss 1.2905 test_acc 0.5472\n"
     ]
    },
    {
     "name": "stderr",
     "output_type": "stream",
     "text": [
      "training... loss 1.1577 acc 0.5850: 100%|██████████| 98/98 [00:08<00:00, 11.36it/s]\n",
      "testing... loss 1.2844 acc 0.5470: 100%|██████████| 20/20 [00:00<00:00, 27.40it/s]\n"
     ]
    },
    {
     "name": "stdout",
     "output_type": "stream",
     "text": [
      "Epoch 60/100 loss 1.1577 acc 0.5850 test_loss 1.2844 test_acc 0.5470\n"
     ]
    },
    {
     "name": "stderr",
     "output_type": "stream",
     "text": [
      "training... loss 1.1446 acc 0.5929: 100%|██████████| 98/98 [00:08<00:00, 11.72it/s]\n",
      "testing... loss 1.2923 acc 0.5463: 100%|██████████| 20/20 [00:00<00:00, 27.51it/s]\n"
     ]
    },
    {
     "name": "stdout",
     "output_type": "stream",
     "text": [
      "Epoch 61/100 loss 1.1446 acc 0.5929 test_loss 1.2923 test_acc 0.5463\n"
     ]
    },
    {
     "name": "stderr",
     "output_type": "stream",
     "text": [
      "training... loss 1.1379 acc 0.5932: 100%|██████████| 98/98 [00:08<00:00, 11.36it/s]\n",
      "testing... loss 1.2844 acc 0.5483: 100%|██████████| 20/20 [00:00<00:00, 27.38it/s]\n"
     ]
    },
    {
     "name": "stdout",
     "output_type": "stream",
     "text": [
      "Epoch 62/100 loss 1.1379 acc 0.5932 test_loss 1.2844 test_acc 0.5483\n"
     ]
    },
    {
     "name": "stderr",
     "output_type": "stream",
     "text": [
      "training... loss 1.1335 acc 0.5937: 100%|██████████| 98/98 [00:08<00:00, 11.72it/s]\n",
      "testing... loss 1.3125 acc 0.5340: 100%|██████████| 20/20 [00:00<00:00, 28.07it/s]\n"
     ]
    },
    {
     "name": "stdout",
     "output_type": "stream",
     "text": [
      "Epoch 63/100 loss 1.1335 acc 0.5937 test_loss 1.3125 test_acc 0.5340\n"
     ]
    },
    {
     "name": "stderr",
     "output_type": "stream",
     "text": [
      "training... loss 1.1259 acc 0.5966: 100%|██████████| 98/98 [00:08<00:00, 11.47it/s]\n",
      "testing... loss 1.2735 acc 0.5502: 100%|██████████| 20/20 [00:00<00:00, 27.86it/s]\n"
     ]
    },
    {
     "name": "stdout",
     "output_type": "stream",
     "text": [
      "Epoch 64/100 loss 1.1259 acc 0.5966 test_loss 1.2735 test_acc 0.5502\n"
     ]
    },
    {
     "name": "stderr",
     "output_type": "stream",
     "text": [
      "training... loss 1.1239 acc 0.5968: 100%|██████████| 98/98 [00:08<00:00, 11.63it/s]\n",
      "testing... loss 1.2663 acc 0.5540: 100%|██████████| 20/20 [00:00<00:00, 27.17it/s]\n"
     ]
    },
    {
     "name": "stdout",
     "output_type": "stream",
     "text": [
      "Epoch 65/100 loss 1.1239 acc 0.5968 test_loss 1.2663 test_acc 0.5540\n"
     ]
    },
    {
     "name": "stderr",
     "output_type": "stream",
     "text": [
      "training... loss 1.1187 acc 0.5990: 100%|██████████| 98/98 [00:08<00:00, 11.30it/s]\n",
      "testing... loss 1.2773 acc 0.5526: 100%|██████████| 20/20 [00:00<00:00, 27.21it/s]\n"
     ]
    },
    {
     "name": "stdout",
     "output_type": "stream",
     "text": [
      "Epoch 66/100 loss 1.1187 acc 0.5990 test_loss 1.2773 test_acc 0.5526\n"
     ]
    },
    {
     "name": "stderr",
     "output_type": "stream",
     "text": [
      "training... loss 1.1053 acc 0.6047: 100%|██████████| 98/98 [00:08<00:00, 11.55it/s]\n",
      "testing... loss 1.2869 acc 0.5465: 100%|██████████| 20/20 [00:00<00:00, 27.01it/s]\n"
     ]
    },
    {
     "name": "stdout",
     "output_type": "stream",
     "text": [
      "Epoch 67/100 loss 1.1053 acc 0.6047 test_loss 1.2869 test_acc 0.5465\n"
     ]
    },
    {
     "name": "stderr",
     "output_type": "stream",
     "text": [
      "training... loss 1.1002 acc 0.6061: 100%|██████████| 98/98 [00:08<00:00, 11.58it/s]\n",
      "testing... loss 1.2920 acc 0.5519: 100%|██████████| 20/20 [00:00<00:00, 26.83it/s]\n"
     ]
    },
    {
     "name": "stdout",
     "output_type": "stream",
     "text": [
      "Epoch 68/100 loss 1.1002 acc 0.6061 test_loss 1.2920 test_acc 0.5519\n"
     ]
    },
    {
     "name": "stderr",
     "output_type": "stream",
     "text": [
      "training... loss 1.1010 acc 0.6073: 100%|██████████| 98/98 [00:08<00:00, 11.45it/s]\n",
      "testing... loss 1.2981 acc 0.5455: 100%|██████████| 20/20 [00:00<00:00, 21.66it/s]\n"
     ]
    },
    {
     "name": "stdout",
     "output_type": "stream",
     "text": [
      "Epoch 69/100 loss 1.1010 acc 0.6073 test_loss 1.2981 test_acc 0.5455\n"
     ]
    },
    {
     "name": "stderr",
     "output_type": "stream",
     "text": [
      "training... loss 1.0912 acc 0.6102: 100%|██████████| 98/98 [00:08<00:00, 11.87it/s]\n",
      "testing... loss 1.2799 acc 0.5518: 100%|██████████| 20/20 [00:00<00:00, 28.82it/s]\n"
     ]
    },
    {
     "name": "stdout",
     "output_type": "stream",
     "text": [
      "Epoch 70/100 loss 1.0912 acc 0.6102 test_loss 1.2799 test_acc 0.5518\n"
     ]
    },
    {
     "name": "stderr",
     "output_type": "stream",
     "text": [
      "training... loss 1.0833 acc 0.6130: 100%|██████████| 98/98 [00:08<00:00, 11.71it/s]\n",
      "testing... loss 1.2719 acc 0.5546: 100%|██████████| 20/20 [00:00<00:00, 28.21it/s]\n"
     ]
    },
    {
     "name": "stdout",
     "output_type": "stream",
     "text": [
      "Epoch 71/100 loss 1.0833 acc 0.6130 test_loss 1.2719 test_acc 0.5546\n"
     ]
    },
    {
     "name": "stderr",
     "output_type": "stream",
     "text": [
      "training... loss 1.0823 acc 0.6157: 100%|██████████| 98/98 [00:08<00:00, 12.00it/s]\n",
      "testing... loss 1.3165 acc 0.5436: 100%|██████████| 20/20 [00:00<00:00, 28.29it/s]\n"
     ]
    },
    {
     "name": "stdout",
     "output_type": "stream",
     "text": [
      "Epoch 72/100 loss 1.0823 acc 0.6157 test_loss 1.3165 test_acc 0.5436\n"
     ]
    },
    {
     "name": "stderr",
     "output_type": "stream",
     "text": [
      "training... loss 1.0824 acc 0.6128: 100%|██████████| 98/98 [00:08<00:00, 11.65it/s]\n",
      "testing... loss 1.2951 acc 0.5464: 100%|██████████| 20/20 [00:00<00:00, 28.05it/s]\n"
     ]
    },
    {
     "name": "stdout",
     "output_type": "stream",
     "text": [
      "Epoch 73/100 loss 1.0824 acc 0.6128 test_loss 1.2951 test_acc 0.5464\n"
     ]
    },
    {
     "name": "stderr",
     "output_type": "stream",
     "text": [
      "training... loss 1.0667 acc 0.6210: 100%|██████████| 98/98 [00:08<00:00, 11.92it/s]\n",
      "testing... loss 1.3068 acc 0.5453: 100%|██████████| 20/20 [00:00<00:00, 27.74it/s]\n"
     ]
    },
    {
     "name": "stdout",
     "output_type": "stream",
     "text": [
      "Epoch 74/100 loss 1.0667 acc 0.6210 test_loss 1.3068 test_acc 0.5453\n"
     ]
    },
    {
     "name": "stderr",
     "output_type": "stream",
     "text": [
      "training... loss 1.0641 acc 0.6188: 100%|██████████| 98/98 [00:08<00:00, 11.56it/s]\n",
      "testing... loss 1.3002 acc 0.5484: 100%|██████████| 20/20 [00:00<00:00, 27.86it/s]\n"
     ]
    },
    {
     "name": "stdout",
     "output_type": "stream",
     "text": [
      "Epoch 75/100 loss 1.0641 acc 0.6188 test_loss 1.3002 test_acc 0.5484\n"
     ]
    },
    {
     "name": "stderr",
     "output_type": "stream",
     "text": [
      "training... loss 1.0630 acc 0.6232: 100%|██████████| 98/98 [00:08<00:00, 11.77it/s]\n",
      "testing... loss 1.2935 acc 0.5546: 100%|██████████| 20/20 [00:00<00:00, 27.36it/s]\n"
     ]
    },
    {
     "name": "stdout",
     "output_type": "stream",
     "text": [
      "Epoch 76/100 loss 1.0630 acc 0.6232 test_loss 1.2935 test_acc 0.5546\n"
     ]
    },
    {
     "name": "stderr",
     "output_type": "stream",
     "text": [
      "training... loss 1.0482 acc 0.6276: 100%|██████████| 98/98 [00:08<00:00, 11.50it/s]\n",
      "testing... loss 1.2867 acc 0.5562: 100%|██████████| 20/20 [00:00<00:00, 28.43it/s]\n"
     ]
    },
    {
     "name": "stdout",
     "output_type": "stream",
     "text": [
      "Epoch 77/100 loss 1.0482 acc 0.6276 test_loss 1.2867 test_acc 0.5562\n"
     ]
    },
    {
     "name": "stderr",
     "output_type": "stream",
     "text": [
      "training... loss 1.0467 acc 0.6267: 100%|██████████| 98/98 [00:08<00:00, 11.66it/s]\n",
      "testing... loss 1.2929 acc 0.5536: 100%|██████████| 20/20 [00:00<00:00, 27.78it/s]\n"
     ]
    },
    {
     "name": "stdout",
     "output_type": "stream",
     "text": [
      "Epoch 78/100 loss 1.0467 acc 0.6267 test_loss 1.2929 test_acc 0.5536\n"
     ]
    },
    {
     "name": "stderr",
     "output_type": "stream",
     "text": [
      "training... loss 1.0374 acc 0.6313: 100%|██████████| 98/98 [00:08<00:00, 11.87it/s]\n",
      "testing... loss 1.3330 acc 0.5456: 100%|██████████| 20/20 [00:00<00:00, 28.29it/s]\n"
     ]
    },
    {
     "name": "stdout",
     "output_type": "stream",
     "text": [
      "Epoch 79/100 loss 1.0374 acc 0.6313 test_loss 1.3330 test_acc 0.5456\n"
     ]
    },
    {
     "name": "stderr",
     "output_type": "stream",
     "text": [
      "training... loss 1.0405 acc 0.6308: 100%|██████████| 98/98 [00:08<00:00, 11.86it/s]\n",
      "testing... loss 1.3046 acc 0.5464: 100%|██████████| 20/20 [00:00<00:00, 21.81it/s]\n"
     ]
    },
    {
     "name": "stdout",
     "output_type": "stream",
     "text": [
      "Epoch 80/100 loss 1.0405 acc 0.6308 test_loss 1.3046 test_acc 0.5464\n"
     ]
    },
    {
     "name": "stderr",
     "output_type": "stream",
     "text": [
      "training... loss 1.0349 acc 0.6301: 100%|██████████| 98/98 [00:08<00:00, 11.83it/s]\n",
      "testing... loss 1.3136 acc 0.5453: 100%|██████████| 20/20 [00:00<00:00, 28.13it/s]\n"
     ]
    },
    {
     "name": "stdout",
     "output_type": "stream",
     "text": [
      "Epoch 81/100 loss 1.0349 acc 0.6301 test_loss 1.3136 test_acc 0.5453\n"
     ]
    },
    {
     "name": "stderr",
     "output_type": "stream",
     "text": [
      "training... loss 1.0241 acc 0.6348: 100%|██████████| 98/98 [00:08<00:00, 11.63it/s]\n",
      "testing... loss 1.2996 acc 0.5536: 100%|██████████| 20/20 [00:00<00:00, 27.86it/s]\n"
     ]
    },
    {
     "name": "stdout",
     "output_type": "stream",
     "text": [
      "Epoch 82/100 loss 1.0241 acc 0.6348 test_loss 1.2996 test_acc 0.5536\n"
     ]
    },
    {
     "name": "stderr",
     "output_type": "stream",
     "text": [
      "training... loss 1.0228 acc 0.6339: 100%|██████████| 98/98 [00:08<00:00, 11.83it/s]\n",
      "testing... loss 1.3090 acc 0.5493: 100%|██████████| 20/20 [00:00<00:00, 27.86it/s]\n"
     ]
    },
    {
     "name": "stdout",
     "output_type": "stream",
     "text": [
      "Epoch 83/100 loss 1.0228 acc 0.6339 test_loss 1.3090 test_acc 0.5493\n"
     ]
    },
    {
     "name": "stderr",
     "output_type": "stream",
     "text": [
      "training... loss 1.0175 acc 0.6372: 100%|██████████| 98/98 [00:08<00:00, 11.58it/s]\n",
      "testing... loss 1.3071 acc 0.5472: 100%|██████████| 20/20 [00:00<00:00, 27.38it/s]\n"
     ]
    },
    {
     "name": "stdout",
     "output_type": "stream",
     "text": [
      "Epoch 84/100 loss 1.0175 acc 0.6372 test_loss 1.3071 test_acc 0.5472\n"
     ]
    },
    {
     "name": "stderr",
     "output_type": "stream",
     "text": [
      "training... loss 1.0095 acc 0.6403: 100%|██████████| 98/98 [00:08<00:00, 11.88it/s]\n",
      "testing... loss 1.3073 acc 0.5563: 100%|██████████| 20/20 [00:00<00:00, 27.62it/s]\n"
     ]
    },
    {
     "name": "stdout",
     "output_type": "stream",
     "text": [
      "Epoch 85/100 loss 1.0095 acc 0.6403 test_loss 1.3073 test_acc 0.5563\n"
     ]
    },
    {
     "name": "stderr",
     "output_type": "stream",
     "text": [
      "training... loss 1.0029 acc 0.6432: 100%|██████████| 98/98 [00:08<00:00, 11.65it/s]\n",
      "testing... loss 1.3254 acc 0.5465: 100%|██████████| 20/20 [00:00<00:00, 28.13it/s]\n"
     ]
    },
    {
     "name": "stdout",
     "output_type": "stream",
     "text": [
      "Epoch 86/100 loss 1.0029 acc 0.6432 test_loss 1.3254 test_acc 0.5465\n"
     ]
    },
    {
     "name": "stderr",
     "output_type": "stream",
     "text": [
      "training... loss 1.0009 acc 0.6427: 100%|██████████| 98/98 [00:08<00:00, 11.81it/s]\n",
      "testing... loss 1.3072 acc 0.5484: 100%|██████████| 20/20 [00:00<00:00, 26.90it/s]\n"
     ]
    },
    {
     "name": "stdout",
     "output_type": "stream",
     "text": [
      "Epoch 87/100 loss 1.0009 acc 0.6427 test_loss 1.3072 test_acc 0.5484\n"
     ]
    },
    {
     "name": "stderr",
     "output_type": "stream",
     "text": [
      "training... loss 0.9927 acc 0.6465: 100%|██████████| 98/98 [00:08<00:00, 11.55it/s]\n",
      "testing... loss 1.3334 acc 0.5446: 100%|██████████| 20/20 [00:00<00:00, 27.85it/s]\n"
     ]
    },
    {
     "name": "stdout",
     "output_type": "stream",
     "text": [
      "Epoch 88/100 loss 0.9927 acc 0.6465 test_loss 1.3334 test_acc 0.5446\n"
     ]
    },
    {
     "name": "stderr",
     "output_type": "stream",
     "text": [
      "training... loss 0.9832 acc 0.6488: 100%|██████████| 98/98 [00:08<00:00, 11.64it/s]\n",
      "testing... loss 1.3375 acc 0.5472: 100%|██████████| 20/20 [00:00<00:00, 27.55it/s]\n"
     ]
    },
    {
     "name": "stdout",
     "output_type": "stream",
     "text": [
      "Epoch 89/100 loss 0.9832 acc 0.6488 test_loss 1.3375 test_acc 0.5472\n"
     ]
    },
    {
     "name": "stderr",
     "output_type": "stream",
     "text": [
      "training... loss 0.9793 acc 0.6507: 100%|██████████| 98/98 [00:08<00:00, 11.74it/s]\n",
      "testing... loss 1.3220 acc 0.5524: 100%|██████████| 20/20 [00:00<00:00, 27.62it/s]\n"
     ]
    },
    {
     "name": "stdout",
     "output_type": "stream",
     "text": [
      "Epoch 90/100 loss 0.9793 acc 0.6507 test_loss 1.3220 test_acc 0.5524\n"
     ]
    },
    {
     "name": "stderr",
     "output_type": "stream",
     "text": [
      "training... loss 0.9758 acc 0.6513: 100%|██████████| 98/98 [00:08<00:00, 11.78it/s]\n",
      "testing... loss 1.3379 acc 0.5475: 100%|██████████| 20/20 [00:00<00:00, 22.03it/s]\n"
     ]
    },
    {
     "name": "stdout",
     "output_type": "stream",
     "text": [
      "Epoch 91/100 loss 0.9758 acc 0.6513 test_loss 1.3379 test_acc 0.5475\n"
     ]
    },
    {
     "name": "stderr",
     "output_type": "stream",
     "text": [
      "training... loss 0.9740 acc 0.6535: 100%|██████████| 98/98 [00:08<00:00, 11.74it/s]\n",
      "testing... loss 1.3106 acc 0.5526: 100%|██████████| 20/20 [00:00<00:00, 28.09it/s]\n"
     ]
    },
    {
     "name": "stdout",
     "output_type": "stream",
     "text": [
      "Epoch 92/100 loss 0.9740 acc 0.6535 test_loss 1.3106 test_acc 0.5526\n"
     ]
    },
    {
     "name": "stderr",
     "output_type": "stream",
     "text": [
      "training... loss 0.9675 acc 0.6562: 100%|██████████| 98/98 [00:08<00:00, 11.48it/s]\n",
      "testing... loss 1.3296 acc 0.5500: 100%|██████████| 20/20 [00:00<00:00, 28.11it/s]\n"
     ]
    },
    {
     "name": "stdout",
     "output_type": "stream",
     "text": [
      "Epoch 93/100 loss 0.9675 acc 0.6562 test_loss 1.3296 test_acc 0.5500\n"
     ]
    },
    {
     "name": "stderr",
     "output_type": "stream",
     "text": [
      "training... loss 0.9673 acc 0.6550: 100%|██████████| 98/98 [00:08<00:00, 11.88it/s]\n",
      "testing... loss 1.3450 acc 0.5471: 100%|██████████| 20/20 [00:00<00:00, 27.86it/s]\n"
     ]
    },
    {
     "name": "stdout",
     "output_type": "stream",
     "text": [
      "Epoch 94/100 loss 0.9673 acc 0.6550 test_loss 1.3450 test_acc 0.5471\n"
     ]
    },
    {
     "name": "stderr",
     "output_type": "stream",
     "text": [
      "training... loss 0.9593 acc 0.6560: 100%|██████████| 98/98 [00:08<00:00, 11.61it/s]\n",
      "testing... loss 1.3583 acc 0.5475: 100%|██████████| 20/20 [00:00<00:00, 28.09it/s]\n"
     ]
    },
    {
     "name": "stdout",
     "output_type": "stream",
     "text": [
      "Epoch 95/100 loss 0.9593 acc 0.6560 test_loss 1.3583 test_acc 0.5475\n"
     ]
    },
    {
     "name": "stderr",
     "output_type": "stream",
     "text": [
      "training... loss 0.9498 acc 0.6624: 100%|██████████| 98/98 [00:08<00:00, 12.15it/s]\n",
      "testing... loss 1.3435 acc 0.5424: 100%|██████████| 20/20 [00:00<00:00, 28.87it/s]\n"
     ]
    },
    {
     "name": "stdout",
     "output_type": "stream",
     "text": [
      "Epoch 96/100 loss 0.9498 acc 0.6624 test_loss 1.3435 test_acc 0.5424\n"
     ]
    },
    {
     "name": "stderr",
     "output_type": "stream",
     "text": [
      "training... loss 0.9456 acc 0.6621: 100%|██████████| 98/98 [00:08<00:00, 11.84it/s]\n",
      "testing... loss 1.3752 acc 0.5370: 100%|██████████| 20/20 [00:00<00:00, 29.13it/s]\n"
     ]
    },
    {
     "name": "stdout",
     "output_type": "stream",
     "text": [
      "Epoch 97/100 loss 0.9456 acc 0.6621 test_loss 1.3752 test_acc 0.5370\n"
     ]
    },
    {
     "name": "stderr",
     "output_type": "stream",
     "text": [
      "training... loss 0.9377 acc 0.6690: 100%|██████████| 98/98 [00:08<00:00, 11.99it/s]\n",
      "testing... loss 1.3342 acc 0.5505: 100%|██████████| 20/20 [00:00<00:00, 29.00it/s]\n"
     ]
    },
    {
     "name": "stdout",
     "output_type": "stream",
     "text": [
      "Epoch 98/100 loss 0.9377 acc 0.6690 test_loss 1.3342 test_acc 0.5505\n"
     ]
    },
    {
     "name": "stderr",
     "output_type": "stream",
     "text": [
      "training... loss 0.9311 acc 0.6694: 100%|██████████| 98/98 [00:08<00:00, 11.78it/s]\n",
      "testing... loss 1.3591 acc 0.5505: 100%|██████████| 20/20 [00:00<00:00, 28.99it/s]\n"
     ]
    },
    {
     "name": "stdout",
     "output_type": "stream",
     "text": [
      "Epoch 99/100 loss 0.9311 acc 0.6694 test_loss 1.3591 test_acc 0.5505\n"
     ]
    },
    {
     "name": "stderr",
     "output_type": "stream",
     "text": [
      "training... loss 0.9387 acc 0.6657: 100%|██████████| 98/98 [00:08<00:00, 11.84it/s]\n",
      "testing... loss 1.3593 acc 0.5402: 100%|██████████| 20/20 [00:00<00:00, 30.00it/s]"
     ]
    },
    {
     "name": "stdout",
     "output_type": "stream",
     "text": [
      "Epoch 100/100 loss 0.9387 acc 0.6657 test_loss 1.3593 test_acc 0.5402\n"
     ]
    },
    {
     "name": "stderr",
     "output_type": "stream",
     "text": [
      "\n"
     ]
    }
   ],
   "source": [
    "hist = train(model, dl, optimizer, epochs=100, overfit=False)"
   ]
  },
  {
   "cell_type": "code",
   "execution_count": 15,
   "metadata": {},
   "outputs": [
    {
     "data": {
      "image/png": "[encoded data removed]",
      "text/plain": [
       "<Figure size 1000x300 with 2 Axes>"
      ]
     },
     "metadata": {
      "needs_background": "light"
     },
     "output_type": "display_data"
    }
   ],
   "source": [
    "plot_hist(hist)"
   ]
  },
  {
   "cell_type": "markdown",
   "metadata": {},
   "source": [
    "Tras 100 epochs nuestro modelo empieza a mostras síntomas de *overffiting*, podríamos pensar en activar el *dropout* del modelo, usar *data augmentation*, y otras técnicas de regularización."
   ]
  },
  {
   "cell_type": "code",
   "execution_count": 18,
   "metadata": {},
   "outputs": [
    {
     "data": {
      "text/plain": [
       "torch.Size([512])"
      ]
     },
     "execution_count": 18,
     "metadata": {},
     "output_type": "execute_result"
    }
   ],
   "source": [
    "imgs, labels = next(iter(dl['train']))\n",
    "\n",
    "model.eval()\n",
    "with torch.inference_mode():\n",
    "    logits = model(imgs.cuda())\n",
    "    preds = torch.argmax(logits, axis=1).cpu()\n",
    "\n",
    "preds.shape"
   ]
  },
  {
   "cell_type": "code",
   "execution_count": 19,
   "metadata": {},
   "outputs": [
    {
     "data": {
      "image/png": "[encoded data removed]",
      "text/plain": [
       "<Figure size 1200x800 with 24 Axes>"
      ]
     },
     "metadata": {
      "needs_background": "light"
     },
     "output_type": "display_data"
    }
   ],
   "source": [
    "fig = plt.figure(dpi=200)\n",
    "c, r = 6, 4\n",
    "for j in range(r):\n",
    "    for i in range(c):\n",
    "        ix = j*c + i\n",
    "        ax = plt.subplot(r, c, ix + 1)\n",
    "        img, label = imgs[ix], labels[ix]\n",
    "        ax.imshow(img)\n",
    "        gt = ds['test'].classes[labels[ix].item()]\n",
    "        pr = ds['test'].classes[preds[ix].item()]\n",
    "        ax.set_title(f'{pr}/{gt}', fontsize=6, color='green' if pr == gt else 'red')\n",
    "        ax.axis('off')\n",
    "plt.tight_layout()\n",
    "plt.show()"
   ]
  },
  {
   "cell_type": "markdown",
   "metadata": {},
   "source": [
    "## Resumen\n",
    "\n",
    "En este post hemos implementado nuestro primer modelo basado en la arquitectura *PercieverIO*. Para ello, hemos reutilizado el código implementado en el post anterior para el *Perceiver* y añadido la parte del *decoder*, capaz de generar *outputs* de dimensiones determinadas que podemos controlar. De esta manera, nuestro modelo desacopla totalmente las entradas/salidas de la parte de extracción y procesado de características convirtiendo al *PerceiverIO* en una red neuronal muy flexible capaz de trabajar con imágenes, texto, audio, video e incluso combinaciones de los mismos a la vez que puede usarse para diferentes tareas como la clasificación, generación de texto, detección de objetos en imágenes, etc. En los siguientes posts exploraremos más en detalle estas características."
   ]
  },
  {
   "cell_type": "markdown",
   "metadata": {},
   "source": [
    "## Recursos\n",
    "\n",
    "- [Paper](https://arxiv.org/pdf/2107.14795.pdf)\n",
    "- [Blog](https://deepmind.com/blog/article/building-architectures-that-can-handle-the-worlds-data) DeepMind.\n",
    "- Videos:\n",
    "    1. [Gaurav Chauhan](https://www.youtube.com/watch?v=AS1Sh-KuNzs&t=163s)\n",
    "    2. [The AI Epiphany](https://www.youtube.com/watch?v=WJWBq4NZfvY&feature=youtu.be)\n",
    "- Código:\n",
    "    1. Implementación original de [DeepMind](https://github.com/deepmind/deepmind-research/tree/master/perceiver) (JAX)\n",
    "    2. Pytorch: [lucidrains](https://github.com/lucidrains/perceiver-pytorch), [esceptico](https://github.com/esceptico/perceiver-io)"
   ]
  }
 ],
 "metadata": {
  "interpreter": {
   "hash": "bb9f406c0f70fca9801e60f2cbb7cd1ccff2ae2f74c58f513340bcf6cae5ecd0"
  },
  "kernelspec": {
   "display_name": "Python 3 (ipykernel)",
   "language": "python",
   "name": "python3"
  },
  "language_info": {
   "codemirror_mode": {
    "name": "ipython",
    "version": 3
   },
   "file_extension": ".py",
   "mimetype": "text/x-python",
   "name": "python",
   "nbconvert_exporter": "python",
   "pygments_lexer": "ipython3",
   "version": "3.9.5"
  }
 },
 "nbformat": 4,
 "nbformat_minor": 2
}
